{
 "cells": [
  {
   "cell_type": "code",
   "execution_count": 3,
   "metadata": {
    "collapsed": true
   },
   "outputs": [],
   "source": [
    "%matplotlib inline\n",
    "%load_ext autoreload\n",
    "%autoreload 2\n",
    "\n",
    "import matplotlib.pyplot as plt\n",
    "import bitcoin.db as db"
   ]
  },
  {
   "cell_type": "code",
   "execution_count": 4,
   "metadata": {},
   "outputs": [
    {
     "name": "stderr",
     "output_type": "stream",
     "text": [
      "2018-03-28 14:51:11,240 root         INFO     Load data from SQL.\n"
     ]
    },
    {
     "data": {
      "text/html": [
       "<div>\n",
       "<style scoped>\n",
       "    .dataframe tbody tr th:only-of-type {\n",
       "        vertical-align: middle;\n",
       "    }\n",
       "\n",
       "    .dataframe tbody tr th {\n",
       "        vertical-align: top;\n",
       "    }\n",
       "\n",
       "    .dataframe thead th {\n",
       "        text-align: right;\n",
       "    }\n",
       "</style>\n",
       "<table border=\"1\" class=\"dataframe\">\n",
       "  <thead>\n",
       "    <tr style=\"text-align: right;\">\n",
       "      <th></th>\n",
       "      <th>open</th>\n",
       "      <th>tw_sentiment</th>\n",
       "      <th>reddit_sentiment</th>\n",
       "      <th>google_sentiment</th>\n",
       "      <th>close</th>\n",
       "      <th>time</th>\n",
       "      <th>percent</th>\n",
       "      <th>up</th>\n",
       "    </tr>\n",
       "  </thead>\n",
       "  <tbody>\n",
       "    <tr>\n",
       "      <th>count</th>\n",
       "      <td>3140.000000</td>\n",
       "      <td>3140.000000</td>\n",
       "      <td>3140.000000</td>\n",
       "      <td>3140.000000</td>\n",
       "      <td>3140.000000</td>\n",
       "      <td>3.140000e+03</td>\n",
       "      <td>3140.000000</td>\n",
       "      <td>3140.00000</td>\n",
       "    </tr>\n",
       "    <tr>\n",
       "      <th>mean</th>\n",
       "      <td>7210.856338</td>\n",
       "      <td>0.051808</td>\n",
       "      <td>0.056937</td>\n",
       "      <td>0.021694</td>\n",
       "      <td>7210.018596</td>\n",
       "      <td>1.521249e+09</td>\n",
       "      <td>-0.009640</td>\n",
       "      <td>0.50000</td>\n",
       "    </tr>\n",
       "    <tr>\n",
       "      <th>std</th>\n",
       "      <td>695.412756</td>\n",
       "      <td>0.070005</td>\n",
       "      <td>0.033839</td>\n",
       "      <td>0.057598</td>\n",
       "      <td>694.663236</td>\n",
       "      <td>5.716763e+05</td>\n",
       "      <td>0.490418</td>\n",
       "      <td>0.50008</td>\n",
       "    </tr>\n",
       "    <tr>\n",
       "      <th>min</th>\n",
       "      <td>5955.390000</td>\n",
       "      <td>-0.164520</td>\n",
       "      <td>-0.027392</td>\n",
       "      <td>-0.108224</td>\n",
       "      <td>5974.960000</td>\n",
       "      <td>1.520272e+09</td>\n",
       "      <td>-3.718436</td>\n",
       "      <td>0.00000</td>\n",
       "    </tr>\n",
       "    <tr>\n",
       "      <th>25%</th>\n",
       "      <td>6735.042500</td>\n",
       "      <td>0.012189</td>\n",
       "      <td>0.031726</td>\n",
       "      <td>-0.015715</td>\n",
       "      <td>6735.007500</td>\n",
       "      <td>1.520744e+09</td>\n",
       "      <td>-0.229216</td>\n",
       "      <td>0.00000</td>\n",
       "    </tr>\n",
       "    <tr>\n",
       "      <th>50%</th>\n",
       "      <td>7084.600000</td>\n",
       "      <td>0.039983</td>\n",
       "      <td>0.056439</td>\n",
       "      <td>0.017888</td>\n",
       "      <td>7083.945000</td>\n",
       "      <td>1.521271e+09</td>\n",
       "      <td>0.000053</td>\n",
       "      <td>0.50000</td>\n",
       "    </tr>\n",
       "    <tr>\n",
       "      <th>75%</th>\n",
       "      <td>7476.912500</td>\n",
       "      <td>0.077455</td>\n",
       "      <td>0.081315</td>\n",
       "      <td>0.054079</td>\n",
       "      <td>7476.750000</td>\n",
       "      <td>1.521749e+09</td>\n",
       "      <td>0.219137</td>\n",
       "      <td>1.00000</td>\n",
       "    </tr>\n",
       "    <tr>\n",
       "      <th>max</th>\n",
       "      <td>9398.990000</td>\n",
       "      <td>0.595975</td>\n",
       "      <td>0.168269</td>\n",
       "      <td>0.211511</td>\n",
       "      <td>9399.000000</td>\n",
       "      <td>1.522223e+09</td>\n",
       "      <td>3.584791</td>\n",
       "      <td>1.00000</td>\n",
       "    </tr>\n",
       "  </tbody>\n",
       "</table>\n",
       "</div>"
      ],
      "text/plain": [
       "              open  tw_sentiment  reddit_sentiment  google_sentiment  \\\n",
       "count  3140.000000   3140.000000       3140.000000       3140.000000   \n",
       "mean   7210.856338      0.051808          0.056937          0.021694   \n",
       "std     695.412756      0.070005          0.033839          0.057598   \n",
       "min    5955.390000     -0.164520         -0.027392         -0.108224   \n",
       "25%    6735.042500      0.012189          0.031726         -0.015715   \n",
       "50%    7084.600000      0.039983          0.056439          0.017888   \n",
       "75%    7476.912500      0.077455          0.081315          0.054079   \n",
       "max    9398.990000      0.595975          0.168269          0.211511   \n",
       "\n",
       "             close          time      percent          up  \n",
       "count  3140.000000  3.140000e+03  3140.000000  3140.00000  \n",
       "mean   7210.018596  1.521249e+09    -0.009640     0.50000  \n",
       "std     694.663236  5.716763e+05     0.490418     0.50008  \n",
       "min    5974.960000  1.520272e+09    -3.718436     0.00000  \n",
       "25%    6735.007500  1.520744e+09    -0.229216     0.00000  \n",
       "50%    7083.945000  1.521271e+09     0.000053     0.50000  \n",
       "75%    7476.750000  1.521749e+09     0.219137     1.00000  \n",
       "max    9399.000000  1.522223e+09     3.584791     1.00000  "
      ]
     },
     "execution_count": 4,
     "metadata": {},
     "output_type": "execute_result"
    }
   ],
   "source": [
    "df_30 = db.get_all_data_from_pas(pas=10)\n",
    "df_30.describe()"
   ]
  },
  {
   "cell_type": "markdown",
   "metadata": {
    "collapsed": true
   },
   "source": [
    "# Covariance"
   ]
  },
  {
   "cell_type": "code",
   "execution_count": 5,
   "metadata": {
    "scrolled": false
   },
   "outputs": [
    {
     "data": {
      "text/plain": [
       "<matplotlib.image.AxesImage at 0x10f6a98d0>"
      ]
     },
     "execution_count": 5,
     "metadata": {},
     "output_type": "execute_result"
    },
    {
     "data": {
      "image/png": "[encoded data removed]",
      "text/plain": [
       "<matplotlib.figure.Figure at 0x10f339ef0>"
      ]
     },
     "metadata": {},
     "output_type": "display_data"
    }
   ],
   "source": [
    "cov = df_30.cov()\n",
    "plt.matshow(cov)"
   ]
  },
  {
   "cell_type": "markdown",
   "metadata": {},
   "source": [
    "# Correlation"
   ]
  },
  {
   "cell_type": "code",
   "execution_count": 6,
   "metadata": {},
   "outputs": [
    {
     "data": {
      "text/plain": [
       "<matplotlib.image.AxesImage at 0x112f66ac8>"
      ]
     },
     "execution_count": 6,
     "metadata": {},
     "output_type": "execute_result"
    },
    {
     "data": {
      "image/png": "[encoded data removed]",
      "text/plain": [
       "<matplotlib.figure.Figure at 0x10ee8da20>"
      ]
     },
     "metadata": {},
     "output_type": "display_data"
    }
   ],
   "source": [
    "corr = df_30.corr()\n",
    "plt.matshow(corr)"
   ]
  },
  {
   "cell_type": "markdown",
   "metadata": {},
   "source": [
    "# PCA"
   ]
  },
  {
   "cell_type": "code",
   "execution_count": 9,
   "metadata": {},
   "outputs": [
    {
     "data": {
      "text/html": [
       "<div>\n",
       "<style scoped>\n",
       "    .dataframe tbody tr th:only-of-type {\n",
       "        vertical-align: middle;\n",
       "    }\n",
       "\n",
       "    .dataframe tbody tr th {\n",
       "        vertical-align: top;\n",
       "    }\n",
       "\n",
       "    .dataframe thead th {\n",
       "        text-align: right;\n",
       "    }\n",
       "</style>\n",
       "<table border=\"1\" class=\"dataframe\">\n",
       "  <thead>\n",
       "    <tr style=\"text-align: right;\">\n",
       "      <th></th>\n",
       "      <th>open</th>\n",
       "      <th>google_sentiment</th>\n",
       "    </tr>\n",
       "  </thead>\n",
       "  <tbody>\n",
       "    <tr>\n",
       "      <th>count</th>\n",
       "      <td>3140.000000</td>\n",
       "      <td>3140.000000</td>\n",
       "    </tr>\n",
       "    <tr>\n",
       "      <th>mean</th>\n",
       "      <td>7210.856338</td>\n",
       "      <td>0.021694</td>\n",
       "    </tr>\n",
       "    <tr>\n",
       "      <th>std</th>\n",
       "      <td>695.412756</td>\n",
       "      <td>0.057598</td>\n",
       "    </tr>\n",
       "    <tr>\n",
       "      <th>min</th>\n",
       "      <td>5955.390000</td>\n",
       "      <td>-0.108224</td>\n",
       "    </tr>\n",
       "    <tr>\n",
       "      <th>25%</th>\n",
       "      <td>6735.042500</td>\n",
       "      <td>-0.015715</td>\n",
       "    </tr>\n",
       "    <tr>\n",
       "      <th>50%</th>\n",
       "      <td>7084.600000</td>\n",
       "      <td>0.017888</td>\n",
       "    </tr>\n",
       "    <tr>\n",
       "      <th>75%</th>\n",
       "      <td>7476.912500</td>\n",
       "      <td>0.054079</td>\n",
       "    </tr>\n",
       "    <tr>\n",
       "      <th>max</th>\n",
       "      <td>9398.990000</td>\n",
       "      <td>0.211511</td>\n",
       "    </tr>\n",
       "  </tbody>\n",
       "</table>\n",
       "</div>"
      ],
      "text/plain": [
       "              open  google_sentiment\n",
       "count  3140.000000       3140.000000\n",
       "mean   7210.856338          0.021694\n",
       "std     695.412756          0.057598\n",
       "min    5955.390000         -0.108224\n",
       "25%    6735.042500         -0.015715\n",
       "50%    7084.600000          0.017888\n",
       "75%    7476.912500          0.054079\n",
       "max    9398.990000          0.211511"
      ]
     },
     "execution_count": 9,
     "metadata": {},
     "output_type": "execute_result"
    }
   ],
   "source": [
    "from sklearn.decomposition import PCA\n",
    "import pandas as pd\n",
    "\n",
    "X = df_30[['open', 'google_sentiment']]\n",
    "X.describe()"
   ]
  },
  {
   "cell_type": "code",
   "execution_count": 10,
   "metadata": {},
   "outputs": [
    {
     "data": {
      "text/plain": [
       "<matplotlib.image.AxesImage at 0x1160be3c8>"
      ]
     },
     "execution_count": 10,
     "metadata": {},
     "output_type": "execute_result"
    },
    {
     "data": {
      "image/png": "[encoded data removed]",
      "text/plain": [
       "<matplotlib.figure.Figure at 0x115fc6128>"
      ]
     },
     "metadata": {},
     "output_type": "display_data"
    }
   ],
   "source": [
    "pca = PCA(n_components=1)\n",
    "df_pca = pd.DataFrame()\n",
    "df_pca['open'] = df_30['close']\n",
    "df_pca['pca'] = pca.fit_transform(X)\n",
    "corr = df_pca.corr()\n",
    "plt.matshow(corr)"
   ]
  },
  {
   "cell_type": "code",
   "execution_count": null,
   "metadata": {
    "collapsed": true
   },
   "outputs": [],
   "source": []
  }
 ],
 "metadata": {
  "kernelspec": {
   "display_name": "Python 3",
   "language": "python",
   "name": "python3"
  },
  "language_info": {
   "codemirror_mode": {
    "name": "ipython",
    "version": 3
   },
   "file_extension": ".py",
   "mimetype": "text/x-python",
   "name": "python",
   "nbconvert_exporter": "python",
   "pygments_lexer": "ipython3",
   "version": "3.6.2"
  }
 },
 "nbformat": 4,
 "nbformat_minor": 2
}
