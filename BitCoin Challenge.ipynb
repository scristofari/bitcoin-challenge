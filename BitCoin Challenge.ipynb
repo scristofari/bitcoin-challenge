{
 "cells": [
  {
   "cell_type": "code",
   "execution_count": 1,
   "metadata": {
    "scrolled": true
   },
   "outputs": [
    {
     "data": {
      "text/html": [
       "<div>\n",
       "<style scoped>\n",
       "    .dataframe tbody tr th:only-of-type {\n",
       "        vertical-align: middle;\n",
       "    }\n",
       "\n",
       "    .dataframe tbody tr th {\n",
       "        vertical-align: top;\n",
       "    }\n",
       "\n",
       "    .dataframe thead th {\n",
       "        text-align: right;\n",
       "    }\n",
       "</style>\n",
       "<table border=\"1\" class=\"dataframe\">\n",
       "  <thead>\n",
       "    <tr style=\"text-align: right;\">\n",
       "      <th></th>\n",
       "      <th>time</th>\n",
       "      <th>low</th>\n",
       "      <th>high</th>\n",
       "      <th>open</th>\n",
       "      <th>close</th>\n",
       "      <th>volume</th>\n",
       "      <th>tw_sentiment</th>\n",
       "      <th>tw_followers</th>\n",
       "      <th>reddit_sentiment</th>\n",
       "    </tr>\n",
       "  </thead>\n",
       "  <tbody>\n",
       "    <tr>\n",
       "      <th>0</th>\n",
       "      <td>1519997640</td>\n",
       "      <td>10969.0</td>\n",
       "      <td>10969.01</td>\n",
       "      <td>10969.01</td>\n",
       "      <td>10969.00</td>\n",
       "      <td>0.111542</td>\n",
       "      <td>0.195409</td>\n",
       "      <td>607130.0</td>\n",
       "      <td>0.113258</td>\n",
       "    </tr>\n",
       "    <tr>\n",
       "      <th>1</th>\n",
       "      <td>1519997700</td>\n",
       "      <td>10969.0</td>\n",
       "      <td>10969.00</td>\n",
       "      <td>10969.00</td>\n",
       "      <td>10969.00</td>\n",
       "      <td>0.504804</td>\n",
       "      <td>0.195409</td>\n",
       "      <td>607131.0</td>\n",
       "      <td>0.113258</td>\n",
       "    </tr>\n",
       "    <tr>\n",
       "      <th>2</th>\n",
       "      <td>1519997760</td>\n",
       "      <td>10965.0</td>\n",
       "      <td>10965.01</td>\n",
       "      <td>10965.00</td>\n",
       "      <td>10965.01</td>\n",
       "      <td>0.622844</td>\n",
       "      <td>0.195409</td>\n",
       "      <td>607135.0</td>\n",
       "      <td>0.113258</td>\n",
       "    </tr>\n",
       "    <tr>\n",
       "      <th>3</th>\n",
       "      <td>1519997820</td>\n",
       "      <td>10965.0</td>\n",
       "      <td>10965.00</td>\n",
       "      <td>10965.00</td>\n",
       "      <td>10965.00</td>\n",
       "      <td>0.036500</td>\n",
       "      <td>0.195408</td>\n",
       "      <td>607140.0</td>\n",
       "      <td>0.113258</td>\n",
       "    </tr>\n",
       "    <tr>\n",
       "      <th>4</th>\n",
       "      <td>1519997880</td>\n",
       "      <td>10964.8</td>\n",
       "      <td>10964.81</td>\n",
       "      <td>10964.81</td>\n",
       "      <td>10964.80</td>\n",
       "      <td>0.762078</td>\n",
       "      <td>0.195451</td>\n",
       "      <td>607349.0</td>\n",
       "      <td>0.113258</td>\n",
       "    </tr>\n",
       "  </tbody>\n",
       "</table>\n",
       "</div>"
      ],
      "text/plain": [
       "         time      low      high      open     close    volume  tw_sentiment  \\\n",
       "0  1519997640  10969.0  10969.01  10969.01  10969.00  0.111542      0.195409   \n",
       "1  1519997700  10969.0  10969.00  10969.00  10969.00  0.504804      0.195409   \n",
       "2  1519997760  10965.0  10965.01  10965.00  10965.01  0.622844      0.195409   \n",
       "3  1519997820  10965.0  10965.00  10965.00  10965.00  0.036500      0.195408   \n",
       "4  1519997880  10964.8  10964.81  10964.81  10964.80  0.762078      0.195451   \n",
       "\n",
       "   tw_followers  reddit_sentiment  \n",
       "0      607130.0          0.113258  \n",
       "1      607131.0          0.113258  \n",
       "2      607135.0          0.113258  \n",
       "3      607140.0          0.113258  \n",
       "4      607349.0          0.113258  "
      ]
     },
     "execution_count": 1,
     "metadata": {},
     "output_type": "execute_result"
    }
   ],
   "source": [
    "import pandas as pd\n",
    "df = pd.read_csv('data.csv', \n",
    "                 names=['time', 'low', 'high', 'open', 'close', 'volume', 'tw_sentiment', 'tw_followers', 'reddit_sentiment']\n",
    "                )\n",
    "df.head()"
   ]
  },
  {
   "cell_type": "code",
   "execution_count": 2,
   "metadata": {},
   "outputs": [
    {
     "data": {
      "text/html": [
       "<div>\n",
       "<style scoped>\n",
       "    .dataframe tbody tr th:only-of-type {\n",
       "        vertical-align: middle;\n",
       "    }\n",
       "\n",
       "    .dataframe tbody tr th {\n",
       "        vertical-align: top;\n",
       "    }\n",
       "\n",
       "    .dataframe thead th {\n",
       "        text-align: right;\n",
       "    }\n",
       "</style>\n",
       "<table border=\"1\" class=\"dataframe\">\n",
       "  <thead>\n",
       "    <tr style=\"text-align: right;\">\n",
       "      <th></th>\n",
       "      <th>time</th>\n",
       "      <th>low</th>\n",
       "      <th>high</th>\n",
       "      <th>open</th>\n",
       "      <th>close</th>\n",
       "      <th>volume</th>\n",
       "      <th>tw_sentiment</th>\n",
       "      <th>tw_followers</th>\n",
       "      <th>reddit_sentiment</th>\n",
       "    </tr>\n",
       "  </thead>\n",
       "  <tbody>\n",
       "    <tr>\n",
       "      <th>count</th>\n",
       "      <td>2.916000e+03</td>\n",
       "      <td>2916.000000</td>\n",
       "      <td>2916.000000</td>\n",
       "      <td>2916.000000</td>\n",
       "      <td>2916.000000</td>\n",
       "      <td>2916.000000</td>\n",
       "      <td>2916.000000</td>\n",
       "      <td>2.916000e+03</td>\n",
       "      <td>2916.000000</td>\n",
       "    </tr>\n",
       "    <tr>\n",
       "      <th>mean</th>\n",
       "      <td>1.520085e+09</td>\n",
       "      <td>11208.211187</td>\n",
       "      <td>11210.622082</td>\n",
       "      <td>11209.395103</td>\n",
       "      <td>11209.469516</td>\n",
       "      <td>1.465436</td>\n",
       "      <td>0.054805</td>\n",
       "      <td>1.029932e+06</td>\n",
       "      <td>0.138590</td>\n",
       "    </tr>\n",
       "    <tr>\n",
       "      <th>std</th>\n",
       "      <td>5.051409e+04</td>\n",
       "      <td>184.535842</td>\n",
       "      <td>184.280898</td>\n",
       "      <td>184.414286</td>\n",
       "      <td>184.417351</td>\n",
       "      <td>1.933775</td>\n",
       "      <td>0.040701</td>\n",
       "      <td>2.495668e+05</td>\n",
       "      <td>0.022375</td>\n",
       "    </tr>\n",
       "    <tr>\n",
       "      <th>min</th>\n",
       "      <td>1.519998e+09</td>\n",
       "      <td>10765.000000</td>\n",
       "      <td>10786.810000</td>\n",
       "      <td>10785.010000</td>\n",
       "      <td>10782.000000</td>\n",
       "      <td>0.000111</td>\n",
       "      <td>-0.004737</td>\n",
       "      <td>4.487650e+05</td>\n",
       "      <td>0.059554</td>\n",
       "    </tr>\n",
       "    <tr>\n",
       "      <th>25%</th>\n",
       "      <td>1.520041e+09</td>\n",
       "      <td>11102.110000</td>\n",
       "      <td>11108.187500</td>\n",
       "      <td>11102.120000</td>\n",
       "      <td>11102.120000</td>\n",
       "      <td>0.301699</td>\n",
       "      <td>0.024063</td>\n",
       "      <td>8.856165e+05</td>\n",
       "      <td>0.123677</td>\n",
       "    </tr>\n",
       "    <tr>\n",
       "      <th>50%</th>\n",
       "      <td>1.520085e+09</td>\n",
       "      <td>11247.995000</td>\n",
       "      <td>11250.000000</td>\n",
       "      <td>11249.990000</td>\n",
       "      <td>11249.895000</td>\n",
       "      <td>0.871491</td>\n",
       "      <td>0.051242</td>\n",
       "      <td>1.025358e+06</td>\n",
       "      <td>0.138813</td>\n",
       "    </tr>\n",
       "    <tr>\n",
       "      <th>75%</th>\n",
       "      <td>1.520129e+09</td>\n",
       "      <td>11343.022500</td>\n",
       "      <td>11345.000000</td>\n",
       "      <td>11343.870000</td>\n",
       "      <td>11343.862500</td>\n",
       "      <td>1.887434</td>\n",
       "      <td>0.082558</td>\n",
       "      <td>1.179284e+06</td>\n",
       "      <td>0.157332</td>\n",
       "    </tr>\n",
       "    <tr>\n",
       "      <th>max</th>\n",
       "      <td>1.520173e+09</td>\n",
       "      <td>11492.370000</td>\n",
       "      <td>11493.750000</td>\n",
       "      <td>11493.750000</td>\n",
       "      <td>11493.740000</td>\n",
       "      <td>23.988752</td>\n",
       "      <td>0.195451</td>\n",
       "      <td>1.707796e+06</td>\n",
       "      <td>0.176271</td>\n",
       "    </tr>\n",
       "  </tbody>\n",
       "</table>\n",
       "</div>"
      ],
      "text/plain": [
       "               time           low          high          open         close  \\\n",
       "count  2.916000e+03   2916.000000   2916.000000   2916.000000   2916.000000   \n",
       "mean   1.520085e+09  11208.211187  11210.622082  11209.395103  11209.469516   \n",
       "std    5.051409e+04    184.535842    184.280898    184.414286    184.417351   \n",
       "min    1.519998e+09  10765.000000  10786.810000  10785.010000  10782.000000   \n",
       "25%    1.520041e+09  11102.110000  11108.187500  11102.120000  11102.120000   \n",
       "50%    1.520085e+09  11247.995000  11250.000000  11249.990000  11249.895000   \n",
       "75%    1.520129e+09  11343.022500  11345.000000  11343.870000  11343.862500   \n",
       "max    1.520173e+09  11492.370000  11493.750000  11493.750000  11493.740000   \n",
       "\n",
       "            volume  tw_sentiment  tw_followers  reddit_sentiment  \n",
       "count  2916.000000   2916.000000  2.916000e+03       2916.000000  \n",
       "mean      1.465436      0.054805  1.029932e+06          0.138590  \n",
       "std       1.933775      0.040701  2.495668e+05          0.022375  \n",
       "min       0.000111     -0.004737  4.487650e+05          0.059554  \n",
       "25%       0.301699      0.024063  8.856165e+05          0.123677  \n",
       "50%       0.871491      0.051242  1.025358e+06          0.138813  \n",
       "75%       1.887434      0.082558  1.179284e+06          0.157332  \n",
       "max      23.988752      0.195451  1.707796e+06          0.176271  "
      ]
     },
     "execution_count": 2,
     "metadata": {},
     "output_type": "execute_result"
    }
   ],
   "source": [
    "df.describe()"
   ]
  },
  {
   "cell_type": "code",
   "execution_count": 3,
   "metadata": {
    "scrolled": false
   },
   "outputs": [
    {
     "data": {
      "text/html": [
       "<div>\n",
       "<style scoped>\n",
       "    .dataframe tbody tr th:only-of-type {\n",
       "        vertical-align: middle;\n",
       "    }\n",
       "\n",
       "    .dataframe tbody tr th {\n",
       "        vertical-align: top;\n",
       "    }\n",
       "\n",
       "    .dataframe thead th {\n",
       "        text-align: right;\n",
       "    }\n",
       "</style>\n",
       "<table border=\"1\" class=\"dataframe\">\n",
       "  <thead>\n",
       "    <tr style=\"text-align: right;\">\n",
       "      <th></th>\n",
       "      <th>time</th>\n",
       "      <th>low</th>\n",
       "      <th>high</th>\n",
       "      <th>open</th>\n",
       "      <th>close</th>\n",
       "      <th>volume</th>\n",
       "      <th>tw_sentiment</th>\n",
       "      <th>tw_followers</th>\n",
       "      <th>reddit_sentiment</th>\n",
       "    </tr>\n",
       "  </thead>\n",
       "  <tbody>\n",
       "    <tr>\n",
       "      <th>time</th>\n",
       "      <td>1.000000</td>\n",
       "      <td>0.499446</td>\n",
       "      <td>0.500118</td>\n",
       "      <td>0.499677</td>\n",
       "      <td>0.499724</td>\n",
       "      <td>-0.137953</td>\n",
       "      <td>-0.561647</td>\n",
       "      <td>-0.072501</td>\n",
       "      <td>0.077858</td>\n",
       "    </tr>\n",
       "    <tr>\n",
       "      <th>low</th>\n",
       "      <td>0.499446</td>\n",
       "      <td>1.000000</td>\n",
       "      <td>0.999496</td>\n",
       "      <td>0.999698</td>\n",
       "      <td>0.999786</td>\n",
       "      <td>-0.023734</td>\n",
       "      <td>0.124308</td>\n",
       "      <td>-0.113395</td>\n",
       "      <td>0.407335</td>\n",
       "    </tr>\n",
       "    <tr>\n",
       "      <th>high</th>\n",
       "      <td>0.500118</td>\n",
       "      <td>0.999496</td>\n",
       "      <td>1.000000</td>\n",
       "      <td>0.999763</td>\n",
       "      <td>0.999745</td>\n",
       "      <td>-0.011507</td>\n",
       "      <td>0.124091</td>\n",
       "      <td>-0.113692</td>\n",
       "      <td>0.407504</td>\n",
       "    </tr>\n",
       "    <tr>\n",
       "      <th>open</th>\n",
       "      <td>0.499677</td>\n",
       "      <td>0.999698</td>\n",
       "      <td>0.999763</td>\n",
       "      <td>1.000000</td>\n",
       "      <td>0.999539</td>\n",
       "      <td>-0.017966</td>\n",
       "      <td>0.124464</td>\n",
       "      <td>-0.114060</td>\n",
       "      <td>0.407544</td>\n",
       "    </tr>\n",
       "    <tr>\n",
       "      <th>close</th>\n",
       "      <td>0.499724</td>\n",
       "      <td>0.999786</td>\n",
       "      <td>0.999745</td>\n",
       "      <td>0.999539</td>\n",
       "      <td>1.000000</td>\n",
       "      <td>-0.016847</td>\n",
       "      <td>0.124246</td>\n",
       "      <td>-0.113091</td>\n",
       "      <td>0.407347</td>\n",
       "    </tr>\n",
       "    <tr>\n",
       "      <th>volume</th>\n",
       "      <td>-0.137953</td>\n",
       "      <td>-0.023734</td>\n",
       "      <td>-0.011507</td>\n",
       "      <td>-0.017966</td>\n",
       "      <td>-0.016847</td>\n",
       "      <td>1.000000</td>\n",
       "      <td>0.075835</td>\n",
       "      <td>0.092125</td>\n",
       "      <td>-0.055702</td>\n",
       "    </tr>\n",
       "    <tr>\n",
       "      <th>tw_sentiment</th>\n",
       "      <td>-0.561647</td>\n",
       "      <td>0.124308</td>\n",
       "      <td>0.124091</td>\n",
       "      <td>0.124464</td>\n",
       "      <td>0.124246</td>\n",
       "      <td>0.075835</td>\n",
       "      <td>1.000000</td>\n",
       "      <td>-0.182525</td>\n",
       "      <td>0.295501</td>\n",
       "    </tr>\n",
       "    <tr>\n",
       "      <th>tw_followers</th>\n",
       "      <td>-0.072501</td>\n",
       "      <td>-0.113395</td>\n",
       "      <td>-0.113692</td>\n",
       "      <td>-0.114060</td>\n",
       "      <td>-0.113091</td>\n",
       "      <td>0.092125</td>\n",
       "      <td>-0.182525</td>\n",
       "      <td>1.000000</td>\n",
       "      <td>-0.045426</td>\n",
       "    </tr>\n",
       "    <tr>\n",
       "      <th>reddit_sentiment</th>\n",
       "      <td>0.077858</td>\n",
       "      <td>0.407335</td>\n",
       "      <td>0.407504</td>\n",
       "      <td>0.407544</td>\n",
       "      <td>0.407347</td>\n",
       "      <td>-0.055702</td>\n",
       "      <td>0.295501</td>\n",
       "      <td>-0.045426</td>\n",
       "      <td>1.000000</td>\n",
       "    </tr>\n",
       "  </tbody>\n",
       "</table>\n",
       "</div>"
      ],
      "text/plain": [
       "                      time       low      high      open     close    volume  \\\n",
       "time              1.000000  0.499446  0.500118  0.499677  0.499724 -0.137953   \n",
       "low               0.499446  1.000000  0.999496  0.999698  0.999786 -0.023734   \n",
       "high              0.500118  0.999496  1.000000  0.999763  0.999745 -0.011507   \n",
       "open              0.499677  0.999698  0.999763  1.000000  0.999539 -0.017966   \n",
       "close             0.499724  0.999786  0.999745  0.999539  1.000000 -0.016847   \n",
       "volume           -0.137953 -0.023734 -0.011507 -0.017966 -0.016847  1.000000   \n",
       "tw_sentiment     -0.561647  0.124308  0.124091  0.124464  0.124246  0.075835   \n",
       "tw_followers     -0.072501 -0.113395 -0.113692 -0.114060 -0.113091  0.092125   \n",
       "reddit_sentiment  0.077858  0.407335  0.407504  0.407544  0.407347 -0.055702   \n",
       "\n",
       "                  tw_sentiment  tw_followers  reddit_sentiment  \n",
       "time                 -0.561647     -0.072501          0.077858  \n",
       "low                   0.124308     -0.113395          0.407335  \n",
       "high                  0.124091     -0.113692          0.407504  \n",
       "open                  0.124464     -0.114060          0.407544  \n",
       "close                 0.124246     -0.113091          0.407347  \n",
       "volume                0.075835      0.092125         -0.055702  \n",
       "tw_sentiment          1.000000     -0.182525          0.295501  \n",
       "tw_followers         -0.182525      1.000000         -0.045426  \n",
       "reddit_sentiment      0.295501     -0.045426          1.000000  "
      ]
     },
     "execution_count": 3,
     "metadata": {},
     "output_type": "execute_result"
    }
   ],
   "source": [
    "df.corr()"
   ]
  },
  {
   "cell_type": "code",
   "execution_count": 4,
   "metadata": {},
   "outputs": [
    {
     "data": {
      "text/plain": [
       "[<matplotlib.lines.Line2D at 0x10ef7fd30>]"
      ]
     },
     "execution_count": 4,
     "metadata": {},
     "output_type": "execute_result"
    },
    {
     "data": {
      "image/png": "[encoded data removed]",
      "text/plain": [
       "<matplotlib.figure.Figure at 0x108f1f470>"
      ]
     },
     "metadata": {},
     "output_type": "display_data"
    }
   ],
   "source": [
    "import matplotlib.pyplot as plt\n",
    "%matplotlib inline\n",
    "plt.plot(df['close'], 'b')"
   ]
  },
  {
   "cell_type": "markdown",
   "metadata": {},
   "source": [
    "### OPEN / Polynomial"
   ]
  },
  {
   "cell_type": "code",
   "execution_count": 5,
   "metadata": {},
   "outputs": [
    {
     "data": {
      "image/png": "[encoded data removed]",
      "text/plain": [
       "<matplotlib.figure.Figure at 0x10ef38f60>"
      ]
     },
     "metadata": {},
     "output_type": "display_data"
    }
   ],
   "source": [
    "import numpy as np\n",
    "import matplotlib.pyplot as plt\n",
    "from sklearn.linear_model import Ridge\n",
    "from sklearn.preprocessing import PolynomialFeatures\n",
    "from sklearn.pipeline import make_pipeline\n",
    "from sklearn.model_selection import train_test_split\n",
    "\n",
    "## 20 min\n",
    "data_poly = df[-5:].reset_index()\n",
    "X_poly = np.arange(len(data_poly)).reshape(-1, 1)\n",
    "y_poly = data_poly['open'].values.reshape(-1, 1)\n",
    "X_train, X_test, y_train, y_test = train_test_split(X_poly, y_poly, test_size=0.3, shuffle=False)\n",
    "\n",
    "model_poly_open = make_pipeline(PolynomialFeatures(1), Ridge())\n",
    "model_poly_open.fit(X_train, y_train)\n",
    "\n",
    "y_poly_predict = model_poly_open.predict(X_poly)\n",
    "\n",
    "plt.title(\"BitCoin : OPEN poly\")\n",
    "plt.xlabel(\"timestamp\")\n",
    "plt.ylabel(\"Score (points)\")\n",
    "plt.plot(y_poly_predict, 'r')\n",
    "plt.plot(data_poly[\"open\"], 'g')\n",
    "plt.show()"
   ]
  },
  {
   "cell_type": "code",
   "execution_count": 6,
   "metadata": {},
   "outputs": [
    {
     "name": "stderr",
     "output_type": "stream",
     "text": [
      "/anaconda3/lib/python3.6/site-packages/h5py/__init__.py:34: FutureWarning: Conversion of the second argument of issubdtype from `float` to `np.floating` is deprecated. In future, it will be treated as `np.float64 == np.dtype(float).type`.\n",
      "  from ._conv import register_converters as _register_converters\n",
      "Using TensorFlow backend.\n"
     ]
    }
   ],
   "source": [
    "import numpy as np\n",
    "import matplotlib.pyplot as plt\n",
    "import pandas\n",
    "import math\n",
    "from keras.models import Sequential\n",
    "from keras.layers import Dense\n",
    "from keras.layers import LSTM\n",
    "from sklearn.preprocessing import MinMaxScaler\n",
    "from sklearn.metrics import mean_squared_error"
   ]
  },
  {
   "cell_type": "code",
   "execution_count": 7,
   "metadata": {},
   "outputs": [],
   "source": [
    "X = df[['open', 'reddit_sentiment', 'tw_sentiment', 'tw_followers']]\n",
    "y = df['close'].values.reshape(-1, 1)"
   ]
  },
  {
   "cell_type": "code",
   "execution_count": 8,
   "metadata": {
    "collapsed": true
   },
   "outputs": [],
   "source": [
    "scalerX = MinMaxScaler(feature_range=(0, 1))\n",
    "scalerY = MinMaxScaler(feature_range=(0, 1))\n",
    "X_scale = scalerX.fit_transform(X)\n",
    "y_scale = scalerY.fit_transform(y)"
   ]
  },
  {
   "cell_type": "code",
   "execution_count": 9,
   "metadata": {
    "collapsed": true
   },
   "outputs": [],
   "source": [
    "from sklearn.model_selection import train_test_split\n",
    "X_train, X_test, y_train, y_test = train_test_split(X_scale, y_scale, test_size=0.1, shuffle=False)"
   ]
  },
  {
   "cell_type": "code",
   "execution_count": 10,
   "metadata": {},
   "outputs": [
    {
     "data": {
      "text/plain": [
       "(2624, 1, 4)"
      ]
     },
     "execution_count": 10,
     "metadata": {},
     "output_type": "execute_result"
    }
   ],
   "source": [
    "from keras.models import Sequential\n",
    "from keras.layers import Dense\n",
    "from keras.layers import LSTM\n",
    "from keras.layers import Activation\n",
    "from keras.layers import Dropout\n",
    "\n",
    "X_train = np.reshape(X_train, (X_train.shape[0], 1, X_train.shape[1]))\n",
    "X_test = np.reshape(X_test, (X_test.shape[0], 1, X_test.shape[1]))\n",
    "X_train.shape"
   ]
  },
  {
   "cell_type": "code",
   "execution_count": 11,
   "metadata": {},
   "outputs": [
    {
     "name": "stdout",
     "output_type": "stream",
     "text": [
      "_________________________________________________________________\n",
      "Layer (type)                 Output Shape              Param #   \n",
      "=================================================================\n",
      "lstm_1 (LSTM)                (None, 1, 100)            42000     \n",
      "_________________________________________________________________\n",
      "dropout_1 (Dropout)          (None, 1, 100)            0         \n",
      "_________________________________________________________________\n",
      "lstm_2 (LSTM)                (None, 100)               80400     \n",
      "_________________________________________________________________\n",
      "dropout_2 (Dropout)          (None, 100)               0         \n",
      "_________________________________________________________________\n",
      "dense_1 (Dense)              (None, 1)                 101       \n",
      "_________________________________________________________________\n",
      "activation_1 (Activation)    (None, 1)                 0         \n",
      "=================================================================\n",
      "Total params: 122,501\n",
      "Trainable params: 122,501\n",
      "Non-trainable params: 0\n",
      "_________________________________________________________________\n"
     ]
    },
    {
     "data": {
      "text/plain": [
       "<keras.callbacks.History at 0x10e7fe4e0>"
      ]
     },
     "execution_count": 11,
     "metadata": {},
     "output_type": "execute_result"
    }
   ],
   "source": [
    "np.random.seed(42)\n",
    "\n",
    "model = Sequential()\n",
    "\n",
    "model.add(LSTM(100, input_shape=(X_train.shape[1], X_train.shape[2]), return_sequences=True))\n",
    "model.add(Dropout(0.2))\n",
    "model.add(LSTM(100, return_sequences=False))\n",
    "model.add(Dropout(0.2))\n",
    "model.add(Dense(1))\n",
    "model.add(Activation('linear'))\n",
    "model.summary()\n",
    "\n",
    "model.compile(loss='mae', optimizer='adam')\n",
    "model.fit(X_train, y_train, batch_size=X_train.shape[0], \n",
    "          epochs=300, validation_data=(X_test, y_test), shuffle=False, verbose=False)"
   ]
  },
  {
   "cell_type": "code",
   "execution_count": 12,
   "metadata": {},
   "outputs": [
    {
     "data": {
      "image/png": "[encoded data removed]",
      "text/plain": [
       "<matplotlib.figure.Figure at 0x11e0f3b38>"
      ]
     },
     "metadata": {},
     "output_type": "display_data"
    }
   ],
   "source": [
    "y_predict_train = model.predict(X_train)\n",
    "y_predict_train = scalerY.inverse_transform(y_predict_train)\n",
    "\n",
    "y_predict_test = model.predict(X_test)\n",
    "y_predict_test = scalerY.inverse_transform(y_predict_test)\n",
    "\n",
    "X = np.concatenate((X_train, X_test), axis=0)\n",
    "y = np.concatenate((y_predict_train, y_predict_test), axis=0)\n",
    "\n",
    "plt.title(\"Bitcoin\")\n",
    "plt.xlabel(\"days\")\n",
    "plt.ylabel(\"Score (points)\")\n",
    "plt.plot(df['close'], 'b')\n",
    "plt.plot(y, 'r')\n",
    "plt.plot(y_predict_train, 'g')\n",
    "plt.show()"
   ]
  },
  {
   "cell_type": "code",
   "execution_count": 13,
   "metadata": {},
   "outputs": [
    {
     "name": "stdout",
     "output_type": "stream",
     "text": [
      "Error percentage: 9.40%\n"
     ]
    }
   ],
   "source": [
    "import time\n",
    "from enum import Enum\n",
    "\n",
    "class Order(Enum):\n",
    "    STAY = 1\n",
    "    DOWN = 2\n",
    "    UP = 3\n",
    "\n",
    "n_error = 0\n",
    "y_predict_last = y_last = None\n",
    "for index, row in df.iterrows():\n",
    "    if y_predict_last is None:\n",
    "        y_predict_last = y_last = row['open']\n",
    "        \n",
    "    x_predict = np.array([row['open'], row['reddit_sentiment'], row['tw_sentiment'], row['tw_followers']]).reshape(1, -1)\n",
    "    x_predict = scalerX.transform(x_predict)\n",
    "    x_predict_reshaped = np.reshape(x_predict, (1, 1, 4))\n",
    "    y_predict_r = model.predict(x_predict_reshaped)\n",
    "    y_predict_r_rescaled = scalerY.inverse_transform(y_predict_r)\n",
    "\n",
    "    predict_order = real_order = Order.DOWN\n",
    "    if y_predict_last < y_predict_r_rescaled:\n",
    "        predict_order = Order.UP\n",
    "    elif y_predict_last == y_predict_r_rescaled:\n",
    "        predict_order = Order.STAY\n",
    "\n",
    "    if y_last < row['open']:\n",
    "        real_order = Order.UP\n",
    "    elif y_last == row['open']:\n",
    "        real_order = Order.STAY\n",
    "    \n",
    "    y_predict_last = y_predict_r_rescaled\n",
    "    y_last = row['open']\n",
    "    \n",
    "    if real_order != predict_order:\n",
    "        #print('predicted %s, real %s'% (predict_order, real_order))\n",
    "        n_error = n_error + 1\n",
    "        \n",
    "count = df['open'].count()\n",
    "percent = (n_error / count) * 100\n",
    "print(\"Error Order percentage: %0.2f%%\" % percent)"
   ]
  }
 ],
 "metadata": {
  "kernelspec": {
   "display_name": "Python 3",
   "language": "python",
   "name": "python3"
  },
  "language_info": {
   "codemirror_mode": {
    "name": "ipython",
    "version": 3
   },
   "file_extension": ".py",
   "mimetype": "text/x-python",
   "name": "python",
   "nbconvert_exporter": "python",
   "pygments_lexer": "ipython3",
   "version": "3.6.2"
  }
 },
 "nbformat": 4,
 "nbformat_minor": 2
}
