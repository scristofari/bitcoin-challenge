{
 "cells": [
  {
   "cell_type": "code",
   "execution_count": 1,
   "metadata": {
    "scrolled": true
   },
   "outputs": [
    {
     "data": {
      "text/html": [
       "<div>\n",
       "<style scoped>\n",
       "    .dataframe tbody tr th:only-of-type {\n",
       "        vertical-align: middle;\n",
       "    }\n",
       "\n",
       "    .dataframe tbody tr th {\n",
       "        vertical-align: top;\n",
       "    }\n",
       "\n",
       "    .dataframe thead th {\n",
       "        text-align: right;\n",
       "    }\n",
       "</style>\n",
       "<table border=\"1\" class=\"dataframe\">\n",
       "  <thead>\n",
       "    <tr style=\"text-align: right;\">\n",
       "      <th></th>\n",
       "      <th>time</th>\n",
       "      <th>low</th>\n",
       "      <th>high</th>\n",
       "      <th>open</th>\n",
       "      <th>close</th>\n",
       "      <th>volume</th>\n",
       "      <th>tw_sentiment</th>\n",
       "      <th>tw_followers</th>\n",
       "      <th>reddit_sentiment</th>\n",
       "      <th>google_sentiment</th>\n",
       "    </tr>\n",
       "  </thead>\n",
       "  <tbody>\n",
       "    <tr>\n",
       "      <th>0</th>\n",
       "      <td>1520272320</td>\n",
       "      <td>9322.00</td>\n",
       "      <td>9322.01</td>\n",
       "      <td>9322.01</td>\n",
       "      <td>9322.00</td>\n",
       "      <td>0.273876</td>\n",
       "      <td>0.104927</td>\n",
       "      <td>1063075.0</td>\n",
       "      <td>0.034975</td>\n",
       "      <td>0.170432</td>\n",
       "    </tr>\n",
       "    <tr>\n",
       "      <th>1</th>\n",
       "      <td>1520272380</td>\n",
       "      <td>9322.00</td>\n",
       "      <td>9322.01</td>\n",
       "      <td>9322.01</td>\n",
       "      <td>9322.00</td>\n",
       "      <td>0.145773</td>\n",
       "      <td>0.104928</td>\n",
       "      <td>1063083.0</td>\n",
       "      <td>0.034975</td>\n",
       "      <td>0.170432</td>\n",
       "    </tr>\n",
       "    <tr>\n",
       "      <th>2</th>\n",
       "      <td>1520272440</td>\n",
       "      <td>9320.00</td>\n",
       "      <td>9320.01</td>\n",
       "      <td>9320.00</td>\n",
       "      <td>9320.00</td>\n",
       "      <td>0.066710</td>\n",
       "      <td>0.104928</td>\n",
       "      <td>1063089.0</td>\n",
       "      <td>0.034975</td>\n",
       "      <td>0.170432</td>\n",
       "    </tr>\n",
       "    <tr>\n",
       "      <th>3</th>\n",
       "      <td>1520272500</td>\n",
       "      <td>9320.01</td>\n",
       "      <td>9320.01</td>\n",
       "      <td>9320.01</td>\n",
       "      <td>9320.01</td>\n",
       "      <td>0.013989</td>\n",
       "      <td>0.104928</td>\n",
       "      <td>1063091.0</td>\n",
       "      <td>0.034975</td>\n",
       "      <td>0.170432</td>\n",
       "    </tr>\n",
       "    <tr>\n",
       "      <th>4</th>\n",
       "      <td>1520272560</td>\n",
       "      <td>9320.01</td>\n",
       "      <td>9320.01</td>\n",
       "      <td>9320.01</td>\n",
       "      <td>9320.01</td>\n",
       "      <td>0.706339</td>\n",
       "      <td>0.104928</td>\n",
       "      <td>1063095.0</td>\n",
       "      <td>0.038833</td>\n",
       "      <td>0.170432</td>\n",
       "    </tr>\n",
       "  </tbody>\n",
       "</table>\n",
       "</div>"
      ],
      "text/plain": [
       "         time      low     high     open    close    volume  tw_sentiment  \\\n",
       "0  1520272320  9322.00  9322.01  9322.01  9322.00  0.273876      0.104927   \n",
       "1  1520272380  9322.00  9322.01  9322.01  9322.00  0.145773      0.104928   \n",
       "2  1520272440  9320.00  9320.01  9320.00  9320.00  0.066710      0.104928   \n",
       "3  1520272500  9320.01  9320.01  9320.01  9320.01  0.013989      0.104928   \n",
       "4  1520272560  9320.01  9320.01  9320.01  9320.01  0.706339      0.104928   \n",
       "\n",
       "   tw_followers  reddit_sentiment  google_sentiment  \n",
       "0     1063075.0          0.034975          0.170432  \n",
       "1     1063083.0          0.034975          0.170432  \n",
       "2     1063089.0          0.034975          0.170432  \n",
       "3     1063091.0          0.034975          0.170432  \n",
       "4     1063095.0          0.038833          0.170432  "
      ]
     },
     "execution_count": 1,
     "metadata": {},
     "output_type": "execute_result"
    }
   ],
   "source": [
    "%matplotlib inline\n",
    "import matplotlib.pyplot as plt\n",
    "\n",
    "from bitcoin import engine\n",
    "df = engine.load_data('BTC-EUR')\n",
    "df.head()"
   ]
  },
  {
   "cell_type": "code",
   "execution_count": 2,
   "metadata": {},
   "outputs": [
    {
     "data": {
      "text/html": [
       "<div>\n",
       "<style scoped>\n",
       "    .dataframe tbody tr th:only-of-type {\n",
       "        vertical-align: middle;\n",
       "    }\n",
       "\n",
       "    .dataframe tbody tr th {\n",
       "        vertical-align: top;\n",
       "    }\n",
       "\n",
       "    .dataframe thead th {\n",
       "        text-align: right;\n",
       "    }\n",
       "</style>\n",
       "<table border=\"1\" class=\"dataframe\">\n",
       "  <thead>\n",
       "    <tr style=\"text-align: right;\">\n",
       "      <th></th>\n",
       "      <th>time</th>\n",
       "      <th>low</th>\n",
       "      <th>high</th>\n",
       "      <th>open</th>\n",
       "      <th>close</th>\n",
       "      <th>volume</th>\n",
       "      <th>tw_sentiment</th>\n",
       "      <th>tw_followers</th>\n",
       "      <th>reddit_sentiment</th>\n",
       "      <th>google_sentiment</th>\n",
       "    </tr>\n",
       "  </thead>\n",
       "  <tbody>\n",
       "    <tr>\n",
       "      <th>count</th>\n",
       "      <td>1.559000e+03</td>\n",
       "      <td>1559.000000</td>\n",
       "      <td>1559.000000</td>\n",
       "      <td>1559.000000</td>\n",
       "      <td>1559.000000</td>\n",
       "      <td>1559.000000</td>\n",
       "      <td>1559.000000</td>\n",
       "      <td>1.559000e+03</td>\n",
       "      <td>1559.000000</td>\n",
       "      <td>1559.000000</td>\n",
       "    </tr>\n",
       "    <tr>\n",
       "      <th>mean</th>\n",
       "      <td>1.520319e+09</td>\n",
       "      <td>9073.678210</td>\n",
       "      <td>9077.202656</td>\n",
       "      <td>9075.663502</td>\n",
       "      <td>9075.469230</td>\n",
       "      <td>1.302238</td>\n",
       "      <td>0.060218</td>\n",
       "      <td>8.751013e+05</td>\n",
       "      <td>0.057852</td>\n",
       "      <td>0.106244</td>\n",
       "    </tr>\n",
       "    <tr>\n",
       "      <th>std</th>\n",
       "      <td>2.715673e+04</td>\n",
       "      <td>235.435586</td>\n",
       "      <td>233.176584</td>\n",
       "      <td>234.192841</td>\n",
       "      <td>234.152742</td>\n",
       "      <td>3.632145</td>\n",
       "      <td>0.028853</td>\n",
       "      <td>2.724078e+05</td>\n",
       "      <td>0.031221</td>\n",
       "      <td>0.040649</td>\n",
       "    </tr>\n",
       "    <tr>\n",
       "      <th>min</th>\n",
       "      <td>1.520272e+09</td>\n",
       "      <td>8545.000000</td>\n",
       "      <td>8552.010000</td>\n",
       "      <td>8552.010000</td>\n",
       "      <td>8549.510000</td>\n",
       "      <td>0.001000</td>\n",
       "      <td>-0.015150</td>\n",
       "      <td>3.329640e+05</td>\n",
       "      <td>-0.002483</td>\n",
       "      <td>0.025257</td>\n",
       "    </tr>\n",
       "    <tr>\n",
       "      <th>25%</th>\n",
       "      <td>1.520296e+09</td>\n",
       "      <td>8838.585000</td>\n",
       "      <td>8849.970000</td>\n",
       "      <td>8841.885000</td>\n",
       "      <td>8844.890000</td>\n",
       "      <td>0.119833</td>\n",
       "      <td>0.045485</td>\n",
       "      <td>6.394830e+05</td>\n",
       "      <td>0.032393</td>\n",
       "      <td>0.075896</td>\n",
       "    </tr>\n",
       "    <tr>\n",
       "      <th>50%</th>\n",
       "      <td>1.520319e+09</td>\n",
       "      <td>9136.400000</td>\n",
       "      <td>9139.330000</td>\n",
       "      <td>9139.320000</td>\n",
       "      <td>9137.500000</td>\n",
       "      <td>0.370873</td>\n",
       "      <td>0.063590</td>\n",
       "      <td>8.381300e+05</td>\n",
       "      <td>0.061548</td>\n",
       "      <td>0.113540</td>\n",
       "    </tr>\n",
       "    <tr>\n",
       "      <th>75%</th>\n",
       "      <td>1.520343e+09</td>\n",
       "      <td>9215.755000</td>\n",
       "      <td>9217.660000</td>\n",
       "      <td>9217.500000</td>\n",
       "      <td>9217.500000</td>\n",
       "      <td>1.204968</td>\n",
       "      <td>0.082695</td>\n",
       "      <td>1.121288e+06</td>\n",
       "      <td>0.086548</td>\n",
       "      <td>0.134075</td>\n",
       "    </tr>\n",
       "    <tr>\n",
       "      <th>max</th>\n",
       "      <td>1.520366e+09</td>\n",
       "      <td>9399.000000</td>\n",
       "      <td>9399.000000</td>\n",
       "      <td>9399.000000</td>\n",
       "      <td>9399.000000</td>\n",
       "      <td>90.488639</td>\n",
       "      <td>0.118355</td>\n",
       "      <td>1.365095e+06</td>\n",
       "      <td>0.102910</td>\n",
       "      <td>0.174146</td>\n",
       "    </tr>\n",
       "  </tbody>\n",
       "</table>\n",
       "</div>"
      ],
      "text/plain": [
       "               time          low         high         open        close  \\\n",
       "count  1.559000e+03  1559.000000  1559.000000  1559.000000  1559.000000   \n",
       "mean   1.520319e+09  9073.678210  9077.202656  9075.663502  9075.469230   \n",
       "std    2.715673e+04   235.435586   233.176584   234.192841   234.152742   \n",
       "min    1.520272e+09  8545.000000  8552.010000  8552.010000  8549.510000   \n",
       "25%    1.520296e+09  8838.585000  8849.970000  8841.885000  8844.890000   \n",
       "50%    1.520319e+09  9136.400000  9139.330000  9139.320000  9137.500000   \n",
       "75%    1.520343e+09  9215.755000  9217.660000  9217.500000  9217.500000   \n",
       "max    1.520366e+09  9399.000000  9399.000000  9399.000000  9399.000000   \n",
       "\n",
       "            volume  tw_sentiment  tw_followers  reddit_sentiment  \\\n",
       "count  1559.000000   1559.000000  1.559000e+03       1559.000000   \n",
       "mean      1.302238      0.060218  8.751013e+05          0.057852   \n",
       "std       3.632145      0.028853  2.724078e+05          0.031221   \n",
       "min       0.001000     -0.015150  3.329640e+05         -0.002483   \n",
       "25%       0.119833      0.045485  6.394830e+05          0.032393   \n",
       "50%       0.370873      0.063590  8.381300e+05          0.061548   \n",
       "75%       1.204968      0.082695  1.121288e+06          0.086548   \n",
       "max      90.488639      0.118355  1.365095e+06          0.102910   \n",
       "\n",
       "       google_sentiment  \n",
       "count       1559.000000  \n",
       "mean           0.106244  \n",
       "std            0.040649  \n",
       "min            0.025257  \n",
       "25%            0.075896  \n",
       "50%            0.113540  \n",
       "75%            0.134075  \n",
       "max            0.174146  "
      ]
     },
     "execution_count": 2,
     "metadata": {},
     "output_type": "execute_result"
    }
   ],
   "source": [
    "df.describe()"
   ]
  },
  {
   "cell_type": "code",
   "execution_count": 3,
   "metadata": {
    "scrolled": false
   },
   "outputs": [
    {
     "data": {
      "text/html": [
       "<div>\n",
       "<style scoped>\n",
       "    .dataframe tbody tr th:only-of-type {\n",
       "        vertical-align: middle;\n",
       "    }\n",
       "\n",
       "    .dataframe tbody tr th {\n",
       "        vertical-align: top;\n",
       "    }\n",
       "\n",
       "    .dataframe thead th {\n",
       "        text-align: right;\n",
       "    }\n",
       "</style>\n",
       "<table border=\"1\" class=\"dataframe\">\n",
       "  <thead>\n",
       "    <tr style=\"text-align: right;\">\n",
       "      <th></th>\n",
       "      <th>time</th>\n",
       "      <th>low</th>\n",
       "      <th>high</th>\n",
       "      <th>open</th>\n",
       "      <th>close</th>\n",
       "      <th>volume</th>\n",
       "      <th>tw_sentiment</th>\n",
       "      <th>tw_followers</th>\n",
       "      <th>reddit_sentiment</th>\n",
       "      <th>google_sentiment</th>\n",
       "    </tr>\n",
       "  </thead>\n",
       "  <tbody>\n",
       "    <tr>\n",
       "      <th>time</th>\n",
       "      <td>1.000000</td>\n",
       "      <td>-0.927545</td>\n",
       "      <td>-0.928162</td>\n",
       "      <td>-0.928006</td>\n",
       "      <td>-0.927947</td>\n",
       "      <td>0.187279</td>\n",
       "      <td>-0.446803</td>\n",
       "      <td>-0.864768</td>\n",
       "      <td>-0.606953</td>\n",
       "      <td>-0.222733</td>\n",
       "    </tr>\n",
       "    <tr>\n",
       "      <th>low</th>\n",
       "      <td>-0.927545</td>\n",
       "      <td>1.000000</td>\n",
       "      <td>0.999309</td>\n",
       "      <td>0.999501</td>\n",
       "      <td>0.999715</td>\n",
       "      <td>-0.218283</td>\n",
       "      <td>0.383487</td>\n",
       "      <td>0.759783</td>\n",
       "      <td>0.640378</td>\n",
       "      <td>0.110590</td>\n",
       "    </tr>\n",
       "    <tr>\n",
       "      <th>high</th>\n",
       "      <td>-0.928162</td>\n",
       "      <td>0.999309</td>\n",
       "      <td>1.000000</td>\n",
       "      <td>0.999766</td>\n",
       "      <td>0.999683</td>\n",
       "      <td>-0.193822</td>\n",
       "      <td>0.383583</td>\n",
       "      <td>0.762262</td>\n",
       "      <td>0.641769</td>\n",
       "      <td>0.112556</td>\n",
       "    </tr>\n",
       "    <tr>\n",
       "      <th>open</th>\n",
       "      <td>-0.928006</td>\n",
       "      <td>0.999501</td>\n",
       "      <td>0.999766</td>\n",
       "      <td>1.000000</td>\n",
       "      <td>0.999489</td>\n",
       "      <td>-0.197788</td>\n",
       "      <td>0.383007</td>\n",
       "      <td>0.761356</td>\n",
       "      <td>0.641535</td>\n",
       "      <td>0.111763</td>\n",
       "    </tr>\n",
       "    <tr>\n",
       "      <th>close</th>\n",
       "      <td>-0.927947</td>\n",
       "      <td>0.999715</td>\n",
       "      <td>0.999683</td>\n",
       "      <td>0.999489</td>\n",
       "      <td>1.000000</td>\n",
       "      <td>-0.206001</td>\n",
       "      <td>0.384173</td>\n",
       "      <td>0.761138</td>\n",
       "      <td>0.641183</td>\n",
       "      <td>0.111849</td>\n",
       "    </tr>\n",
       "    <tr>\n",
       "      <th>volume</th>\n",
       "      <td>0.187279</td>\n",
       "      <td>-0.218283</td>\n",
       "      <td>-0.193822</td>\n",
       "      <td>-0.197788</td>\n",
       "      <td>-0.206001</td>\n",
       "      <td>1.000000</td>\n",
       "      <td>-0.000898</td>\n",
       "      <td>-0.163896</td>\n",
       "      <td>-0.089847</td>\n",
       "      <td>-0.009048</td>\n",
       "    </tr>\n",
       "    <tr>\n",
       "      <th>tw_sentiment</th>\n",
       "      <td>-0.446803</td>\n",
       "      <td>0.383487</td>\n",
       "      <td>0.383583</td>\n",
       "      <td>0.383007</td>\n",
       "      <td>0.384173</td>\n",
       "      <td>-0.000898</td>\n",
       "      <td>1.000000</td>\n",
       "      <td>0.216781</td>\n",
       "      <td>0.229172</td>\n",
       "      <td>0.249610</td>\n",
       "    </tr>\n",
       "    <tr>\n",
       "      <th>tw_followers</th>\n",
       "      <td>-0.864768</td>\n",
       "      <td>0.759783</td>\n",
       "      <td>0.762262</td>\n",
       "      <td>0.761356</td>\n",
       "      <td>0.761138</td>\n",
       "      <td>-0.163896</td>\n",
       "      <td>0.216781</td>\n",
       "      <td>1.000000</td>\n",
       "      <td>0.686439</td>\n",
       "      <td>0.080279</td>\n",
       "    </tr>\n",
       "    <tr>\n",
       "      <th>reddit_sentiment</th>\n",
       "      <td>-0.606953</td>\n",
       "      <td>0.640378</td>\n",
       "      <td>0.641769</td>\n",
       "      <td>0.641535</td>\n",
       "      <td>0.641183</td>\n",
       "      <td>-0.089847</td>\n",
       "      <td>0.229172</td>\n",
       "      <td>0.686439</td>\n",
       "      <td>1.000000</td>\n",
       "      <td>-0.418165</td>\n",
       "    </tr>\n",
       "    <tr>\n",
       "      <th>google_sentiment</th>\n",
       "      <td>-0.222733</td>\n",
       "      <td>0.110590</td>\n",
       "      <td>0.112556</td>\n",
       "      <td>0.111763</td>\n",
       "      <td>0.111849</td>\n",
       "      <td>-0.009048</td>\n",
       "      <td>0.249610</td>\n",
       "      <td>0.080279</td>\n",
       "      <td>-0.418165</td>\n",
       "      <td>1.000000</td>\n",
       "    </tr>\n",
       "  </tbody>\n",
       "</table>\n",
       "</div>"
      ],
      "text/plain": [
       "                      time       low      high      open     close    volume  \\\n",
       "time              1.000000 -0.927545 -0.928162 -0.928006 -0.927947  0.187279   \n",
       "low              -0.927545  1.000000  0.999309  0.999501  0.999715 -0.218283   \n",
       "high             -0.928162  0.999309  1.000000  0.999766  0.999683 -0.193822   \n",
       "open             -0.928006  0.999501  0.999766  1.000000  0.999489 -0.197788   \n",
       "close            -0.927947  0.999715  0.999683  0.999489  1.000000 -0.206001   \n",
       "volume            0.187279 -0.218283 -0.193822 -0.197788 -0.206001  1.000000   \n",
       "tw_sentiment     -0.446803  0.383487  0.383583  0.383007  0.384173 -0.000898   \n",
       "tw_followers     -0.864768  0.759783  0.762262  0.761356  0.761138 -0.163896   \n",
       "reddit_sentiment -0.606953  0.640378  0.641769  0.641535  0.641183 -0.089847   \n",
       "google_sentiment -0.222733  0.110590  0.112556  0.111763  0.111849 -0.009048   \n",
       "\n",
       "                  tw_sentiment  tw_followers  reddit_sentiment  \\\n",
       "time                 -0.446803     -0.864768         -0.606953   \n",
       "low                   0.383487      0.759783          0.640378   \n",
       "high                  0.383583      0.762262          0.641769   \n",
       "open                  0.383007      0.761356          0.641535   \n",
       "close                 0.384173      0.761138          0.641183   \n",
       "volume               -0.000898     -0.163896         -0.089847   \n",
       "tw_sentiment          1.000000      0.216781          0.229172   \n",
       "tw_followers          0.216781      1.000000          0.686439   \n",
       "reddit_sentiment      0.229172      0.686439          1.000000   \n",
       "google_sentiment      0.249610      0.080279         -0.418165   \n",
       "\n",
       "                  google_sentiment  \n",
       "time                     -0.222733  \n",
       "low                       0.110590  \n",
       "high                      0.112556  \n",
       "open                      0.111763  \n",
       "close                     0.111849  \n",
       "volume                   -0.009048  \n",
       "tw_sentiment              0.249610  \n",
       "tw_followers              0.080279  \n",
       "reddit_sentiment         -0.418165  \n",
       "google_sentiment          1.000000  "
      ]
     },
     "execution_count": 3,
     "metadata": {},
     "output_type": "execute_result"
    }
   ],
   "source": [
    "df.corr()"
   ]
  },
  {
   "cell_type": "code",
   "execution_count": 4,
   "metadata": {},
   "outputs": [
    {
     "data": {
      "text/plain": [
       "[<matplotlib.lines.Line2D at 0x106388048>]"
      ]
     },
     "execution_count": 4,
     "metadata": {},
     "output_type": "execute_result"
    },
    {
     "data": {
      "image/png": "[encoded data removed]",
      "text/plain": [
       "<matplotlib.figure.Figure at 0x108d2c400>"
      ]
     },
     "metadata": {},
     "output_type": "display_data"
    }
   ],
   "source": [
    "plt.plot(df['close'], 'b')"
   ]
  },
  {
   "cell_type": "code",
   "execution_count": 5,
   "metadata": {},
   "outputs": [
    {
     "data": {
      "text/plain": [
       "array([[<matplotlib.axes._subplots.AxesSubplot object at 0x106345a20>]],\n",
       "      dtype=object)"
      ]
     },
     "execution_count": 5,
     "metadata": {},
     "output_type": "execute_result"
    },
    {
     "data": {
      "image/png": "[encoded data removed]",
      "text/plain": [
       "<matplotlib.figure.Figure at 0x106363f60>"
      ]
     },
     "metadata": {},
     "output_type": "display_data"
    }
   ],
   "source": [
    "df.hist(column='volume')"
   ]
  },
  {
   "cell_type": "code",
   "execution_count": 6,
   "metadata": {
    "collapsed": true
   },
   "outputs": [],
   "source": [
    "X_train, X_test, y_train, y_test, scaler_x, scaler_y = engine.prepare(df)"
   ]
  },
  {
   "cell_type": "code",
   "execution_count": 7,
   "metadata": {},
   "outputs": [
    {
     "name": "stderr",
     "output_type": "stream",
     "text": [
      "/anaconda3/lib/python3.6/site-packages/h5py/__init__.py:34: FutureWarning: Conversion of the second argument of issubdtype from `float` to `np.floating` is deprecated. In future, it will be treated as `np.float64 == np.dtype(float).type`.\n",
      "  from ._conv import register_converters as _register_converters\n",
      "Using TensorFlow backend.\n"
     ]
    },
    {
     "name": "stdout",
     "output_type": "stream",
     "text": [
      "_________________________________________________________________\n",
      "Layer (type)                 Output Shape              Param #   \n",
      "=================================================================\n",
      "lstm_1 (LSTM)                (None, 1, 200)            164800    \n",
      "_________________________________________________________________\n",
      "dropout_1 (Dropout)          (None, 1, 200)            0         \n",
      "_________________________________________________________________\n",
      "lstm_2 (LSTM)                (None, 1, 200)            320800    \n",
      "_________________________________________________________________\n",
      "dropout_2 (Dropout)          (None, 1, 200)            0         \n",
      "_________________________________________________________________\n",
      "lstm_3 (LSTM)                (None, 200)               320800    \n",
      "_________________________________________________________________\n",
      "dropout_3 (Dropout)          (None, 200)               0         \n",
      "_________________________________________________________________\n",
      "dense_1 (Dense)              (None, 1)                 201       \n",
      "_________________________________________________________________\n",
      "activation_1 (Activation)    (None, 1)                 0         \n",
      "=================================================================\n",
      "Total params: 806,601\n",
      "Trainable params: 806,601\n",
      "Non-trainable params: 0\n",
      "_________________________________________________________________\n"
     ]
    }
   ],
   "source": [
    "model, history = engine.train(X_train, X_test, y_train, y_test)"
   ]
  },
  {
   "cell_type": "code",
   "execution_count": 8,
   "metadata": {},
   "outputs": [
    {
     "data": {
      "text/plain": [
       "([<matplotlib.lines.Line2D at 0x11f0efac8>], 'g')"
      ]
     },
     "execution_count": 8,
     "metadata": {},
     "output_type": "execute_result"
    },
    {
     "data": {
      "image/png": "[encoded data removed]",
      "text/plain": [
       "<matplotlib.figure.Figure at 0x11f0efb00>"
      ]
     },
     "metadata": {},
     "output_type": "display_data"
    }
   ],
   "source": [
    "plt.plot(history.history['mean_absolute_error'], 'r')\n",
    "plt.plot(history.history['mean_squared_error']), 'g'"
   ]
  },
  {
   "cell_type": "code",
   "execution_count": 9,
   "metadata": {},
   "outputs": [
    {
     "data": {
      "text/plain": [
       "[<matplotlib.lines.Line2D at 0x1203a4940>]"
      ]
     },
     "execution_count": 9,
     "metadata": {},
     "output_type": "execute_result"
    },
    {
     "data": {
      "image/png": "[encoded data removed]",
      "text/plain": [
       "<matplotlib.figure.Figure at 0x1203a49e8>"
      ]
     },
     "metadata": {},
     "output_type": "display_data"
    }
   ],
   "source": [
    "import numpy as np\n",
    "\n",
    "X_train = np.reshape(X_train, (X_train.shape[0], 1, X_train.shape[1]))\n",
    "X_test = np.reshape(X_test, (X_test.shape[0], 1, X_test.shape[1]))\n",
    "\n",
    "y_predict_train = model.predict(X_train)\n",
    "y_predict_train = scaler_y.inverse_transform(y_predict_train)\n",
    "\n",
    "y_predict_test = model.predict(X_test)\n",
    "y_predict_test = scaler_y.inverse_transform(y_predict_test)\n",
    "\n",
    "X = np.concatenate((X_train, X_test), axis=0)\n",
    "y = np.concatenate((y_predict_train, y_predict_test), axis=0)\n",
    "\n",
    "plt.plot(y, 'r')\n",
    "plt.plot(y_predict_train, 'g')"
   ]
  },
  {
   "cell_type": "code",
   "execution_count": 10,
   "metadata": {},
   "outputs": [
    {
     "name": "stdout",
     "output_type": "stream",
     "text": [
      "Error Order percentage: 21.54%\n"
     ]
    }
   ],
   "source": [
    "engine.test_order_percent(df, model, scaler_x, scaler_y)"
   ]
  },
  {
   "cell_type": "code",
   "execution_count": 11,
   "metadata": {},
   "outputs": [
    {
     "data": {
      "text/plain": [
       "0.9567554008940089"
      ]
     },
     "execution_count": 11,
     "metadata": {},
     "output_type": "execute_result"
    },
    {
     "data": {
      "image/png": "[encoded data removed]",
      "text/plain": [
       "<matplotlib.figure.Figure at 0x11f0ef630>"
      ]
     },
     "metadata": {},
     "output_type": "display_data"
    }
   ],
   "source": [
    "from sklearn.neighbors import KernelDensity\n",
    "import numpy as np\n",
    "\n",
    "X = df['volume'].values.reshape(-1, 1)\n",
    "\n",
    "kde = KernelDensity(kernel='gaussian', bandwidth=0.01).fit(X)\n",
    "log_dens = kde.score_samples(X)\n",
    "plt.fill(X, np.exp(log_dens), alpha=0.7)\n",
    "\n",
    "kde.score(0.01)"
   ]
  },
  {
   "cell_type": "code",
   "execution_count": null,
   "metadata": {
    "collapsed": true
   },
   "outputs": [],
   "source": []
  }
 ],
 "metadata": {
  "kernelspec": {
   "display_name": "Python 3",
   "language": "python",
   "name": "python3"
  },
  "language_info": {
   "codemirror_mode": {
    "name": "ipython",
    "version": 3
   },
   "file_extension": ".py",
   "mimetype": "text/x-python",
   "name": "python",
   "nbconvert_exporter": "python",
   "pygments_lexer": "ipython3",
   "version": "3.6.2"
  }
 },
 "nbformat": 4,
 "nbformat_minor": 2
}
