{
 "cells": [
  {
   "cell_type": "code",
   "execution_count": 1,
   "metadata": {
    "scrolled": true
   },
   "outputs": [
    {
     "name": "stderr",
     "output_type": "stream",
     "text": [
      "2018-03-19 09:31:08,077 root         INFO     Load data from SQL.\n"
     ]
    }
   ],
   "source": [
    "%matplotlib inline\n",
    "import matplotlib.pyplot as plt\n",
    "from bitcoin.db import get_all_data\n",
    "import numpy as np\n",
    "\n",
    "df = get_all_data()\n"
   ]
  },
  {
   "cell_type": "code",
   "execution_count": 2,
   "metadata": {},
   "outputs": [
    {
     "data": {
      "text/html": [
       "<div>\n",
       "<style scoped>\n",
       "    .dataframe tbody tr th:only-of-type {\n",
       "        vertical-align: middle;\n",
       "    }\n",
       "\n",
       "    .dataframe tbody tr th {\n",
       "        vertical-align: top;\n",
       "    }\n",
       "\n",
       "    .dataframe thead th {\n",
       "        text-align: right;\n",
       "    }\n",
       "</style>\n",
       "<table border=\"1\" class=\"dataframe\">\n",
       "  <thead>\n",
       "    <tr style=\"text-align: right;\">\n",
       "      <th></th>\n",
       "      <th>time</th>\n",
       "      <th>low</th>\n",
       "      <th>high</th>\n",
       "      <th>open</th>\n",
       "      <th>close</th>\n",
       "      <th>volume</th>\n",
       "      <th>tw_sentiment</th>\n",
       "      <th>tw_followers</th>\n",
       "      <th>reddit_sentiment</th>\n",
       "      <th>google_sentiment</th>\n",
       "      <th>predicted_price</th>\n",
       "    </tr>\n",
       "  </thead>\n",
       "  <tbody>\n",
       "  </tbody>\n",
       "</table>\n",
       "</div>"
      ],
      "text/plain": [
       "Empty DataFrame\n",
       "Columns: [time, low, high, open, close, volume, tw_sentiment, tw_followers, reddit_sentiment, google_sentiment, predicted_price]\n",
       "Index: []"
      ]
     },
     "execution_count": 2,
     "metadata": {},
     "output_type": "execute_result"
    }
   ],
   "source": [
    "df[df.isnull().any(axis=1)]"
   ]
  },
  {
   "cell_type": "code",
   "execution_count": 3,
   "metadata": {},
   "outputs": [
    {
     "data": {
      "text/html": [
       "<div>\n",
       "<style scoped>\n",
       "    .dataframe tbody tr th:only-of-type {\n",
       "        vertical-align: middle;\n",
       "    }\n",
       "\n",
       "    .dataframe tbody tr th {\n",
       "        vertical-align: top;\n",
       "    }\n",
       "\n",
       "    .dataframe thead th {\n",
       "        text-align: right;\n",
       "    }\n",
       "</style>\n",
       "<table border=\"1\" class=\"dataframe\">\n",
       "  <thead>\n",
       "    <tr style=\"text-align: right;\">\n",
       "      <th></th>\n",
       "      <th>time</th>\n",
       "      <th>low</th>\n",
       "      <th>high</th>\n",
       "      <th>open</th>\n",
       "      <th>close</th>\n",
       "      <th>volume</th>\n",
       "      <th>tw_sentiment</th>\n",
       "      <th>tw_followers</th>\n",
       "      <th>reddit_sentiment</th>\n",
       "      <th>predicted_price</th>\n",
       "    </tr>\n",
       "  </thead>\n",
       "  <tbody>\n",
       "    <tr>\n",
       "      <th>count</th>\n",
       "      <td>1.855600e+04</td>\n",
       "      <td>18556.000000</td>\n",
       "      <td>18556.000000</td>\n",
       "      <td>18556.000000</td>\n",
       "      <td>18556.000000</td>\n",
       "      <td>18556.000000</td>\n",
       "      <td>18556.000000</td>\n",
       "      <td>1.855600e+04</td>\n",
       "      <td>18556.000000</td>\n",
       "      <td>18556.000000</td>\n",
       "    </tr>\n",
       "    <tr>\n",
       "      <th>mean</th>\n",
       "      <td>1.520843e+09</td>\n",
       "      <td>7409.231327</td>\n",
       "      <td>7415.647719</td>\n",
       "      <td>7412.685900</td>\n",
       "      <td>7412.535073</td>\n",
       "      <td>1.772158</td>\n",
       "      <td>0.060104</td>\n",
       "      <td>4.776422e+05</td>\n",
       "      <td>0.059753</td>\n",
       "      <td>1128.036521</td>\n",
       "    </tr>\n",
       "    <tr>\n",
       "      <th>std</th>\n",
       "      <td>3.382187e+05</td>\n",
       "      <td>808.000371</td>\n",
       "      <td>807.424456</td>\n",
       "      <td>807.653768</td>\n",
       "      <td>807.662758</td>\n",
       "      <td>3.787908</td>\n",
       "      <td>0.078486</td>\n",
       "      <td>3.266031e+05</td>\n",
       "      <td>0.035580</td>\n",
       "      <td>2467.048400</td>\n",
       "    </tr>\n",
       "    <tr>\n",
       "      <th>min</th>\n",
       "      <td>1.520272e+09</td>\n",
       "      <td>5930.000000</td>\n",
       "      <td>5970.960000</td>\n",
       "      <td>5955.390000</td>\n",
       "      <td>5955.390000</td>\n",
       "      <td>0.000673</td>\n",
       "      <td>-0.084993</td>\n",
       "      <td>2.743700e+04</td>\n",
       "      <td>-0.028105</td>\n",
       "      <td>0.000000</td>\n",
       "    </tr>\n",
       "    <tr>\n",
       "      <th>25%</th>\n",
       "      <td>1.520551e+09</td>\n",
       "      <td>6712.317500</td>\n",
       "      <td>6719.007500</td>\n",
       "      <td>6716.015000</td>\n",
       "      <td>6716.047500</td>\n",
       "      <td>0.150000</td>\n",
       "      <td>0.014489</td>\n",
       "      <td>2.268020e+05</td>\n",
       "      <td>0.031806</td>\n",
       "      <td>0.000000</td>\n",
       "    </tr>\n",
       "    <tr>\n",
       "      <th>50%</th>\n",
       "      <td>1.520830e+09</td>\n",
       "      <td>7379.960000</td>\n",
       "      <td>7382.765000</td>\n",
       "      <td>7380.020000</td>\n",
       "      <td>7380.010000</td>\n",
       "      <td>0.554976</td>\n",
       "      <td>0.043843</td>\n",
       "      <td>3.867440e+05</td>\n",
       "      <td>0.060676</td>\n",
       "      <td>0.000000</td>\n",
       "    </tr>\n",
       "    <tr>\n",
       "      <th>75%</th>\n",
       "      <td>1.521120e+09</td>\n",
       "      <td>7809.115000</td>\n",
       "      <td>7814.532500</td>\n",
       "      <td>7810.542500</td>\n",
       "      <td>7810.495000</td>\n",
       "      <td>1.783462</td>\n",
       "      <td>0.079846</td>\n",
       "      <td>6.385630e+05</td>\n",
       "      <td>0.082017</td>\n",
       "      <td>0.000000</td>\n",
       "    </tr>\n",
       "    <tr>\n",
       "      <th>max</th>\n",
       "      <td>1.521447e+09</td>\n",
       "      <td>9399.000000</td>\n",
       "      <td>9399.000000</td>\n",
       "      <td>9399.000000</td>\n",
       "      <td>9399.000000</td>\n",
       "      <td>90.488639</td>\n",
       "      <td>0.612404</td>\n",
       "      <td>1.987974e+06</td>\n",
       "      <td>0.173389</td>\n",
       "      <td>7242.210000</td>\n",
       "    </tr>\n",
       "  </tbody>\n",
       "</table>\n",
       "</div>"
      ],
      "text/plain": [
       "               time           low          high          open         close  \\\n",
       "count  1.855600e+04  18556.000000  18556.000000  18556.000000  18556.000000   \n",
       "mean   1.520843e+09   7409.231327   7415.647719   7412.685900   7412.535073   \n",
       "std    3.382187e+05    808.000371    807.424456    807.653768    807.662758   \n",
       "min    1.520272e+09   5930.000000   5970.960000   5955.390000   5955.390000   \n",
       "25%    1.520551e+09   6712.317500   6719.007500   6716.015000   6716.047500   \n",
       "50%    1.520830e+09   7379.960000   7382.765000   7380.020000   7380.010000   \n",
       "75%    1.521120e+09   7809.115000   7814.532500   7810.542500   7810.495000   \n",
       "max    1.521447e+09   9399.000000   9399.000000   9399.000000   9399.000000   \n",
       "\n",
       "             volume  tw_sentiment  tw_followers  reddit_sentiment  \\\n",
       "count  18556.000000  18556.000000  1.855600e+04      18556.000000   \n",
       "mean       1.772158      0.060104  4.776422e+05          0.059753   \n",
       "std        3.787908      0.078486  3.266031e+05          0.035580   \n",
       "min        0.000673     -0.084993  2.743700e+04         -0.028105   \n",
       "25%        0.150000      0.014489  2.268020e+05          0.031806   \n",
       "50%        0.554976      0.043843  3.867440e+05          0.060676   \n",
       "75%        1.783462      0.079846  6.385630e+05          0.082017   \n",
       "max       90.488639      0.612404  1.987974e+06          0.173389   \n",
       "\n",
       "       predicted_price  \n",
       "count     18556.000000  \n",
       "mean       1128.036521  \n",
       "std        2467.048400  \n",
       "min           0.000000  \n",
       "25%           0.000000  \n",
       "50%           0.000000  \n",
       "75%           0.000000  \n",
       "max        7242.210000  "
      ]
     },
     "execution_count": 3,
     "metadata": {},
     "output_type": "execute_result"
    }
   ],
   "source": [
    "df.describe()"
   ]
  },
  {
   "cell_type": "code",
   "execution_count": 4,
   "metadata": {
    "scrolled": false
   },
   "outputs": [
    {
     "data": {
      "text/html": [
       "<div>\n",
       "<style scoped>\n",
       "    .dataframe tbody tr th:only-of-type {\n",
       "        vertical-align: middle;\n",
       "    }\n",
       "\n",
       "    .dataframe tbody tr th {\n",
       "        vertical-align: top;\n",
       "    }\n",
       "\n",
       "    .dataframe thead th {\n",
       "        text-align: right;\n",
       "    }\n",
       "</style>\n",
       "<table border=\"1\" class=\"dataframe\">\n",
       "  <thead>\n",
       "    <tr style=\"text-align: right;\">\n",
       "      <th></th>\n",
       "      <th>time</th>\n",
       "      <th>low</th>\n",
       "      <th>high</th>\n",
       "      <th>open</th>\n",
       "      <th>close</th>\n",
       "      <th>volume</th>\n",
       "      <th>tw_sentiment</th>\n",
       "      <th>tw_followers</th>\n",
       "      <th>reddit_sentiment</th>\n",
       "      <th>predicted_price</th>\n",
       "    </tr>\n",
       "  </thead>\n",
       "  <tbody>\n",
       "    <tr>\n",
       "      <th>time</th>\n",
       "      <td>1.000000</td>\n",
       "      <td>-0.885324</td>\n",
       "      <td>-0.886408</td>\n",
       "      <td>-0.885937</td>\n",
       "      <td>-0.885905</td>\n",
       "      <td>-0.035351</td>\n",
       "      <td>-0.061351</td>\n",
       "      <td>-0.012044</td>\n",
       "      <td>-0.232507</td>\n",
       "      <td>0.681592</td>\n",
       "    </tr>\n",
       "    <tr>\n",
       "      <th>low</th>\n",
       "      <td>-0.885324</td>\n",
       "      <td>1.000000</td>\n",
       "      <td>0.999897</td>\n",
       "      <td>0.999936</td>\n",
       "      <td>0.999952</td>\n",
       "      <td>-0.032901</td>\n",
       "      <td>0.045761</td>\n",
       "      <td>0.165962</td>\n",
       "      <td>0.141051</td>\n",
       "      <td>-0.531856</td>\n",
       "    </tr>\n",
       "    <tr>\n",
       "      <th>high</th>\n",
       "      <td>-0.886408</td>\n",
       "      <td>0.999897</td>\n",
       "      <td>1.000000</td>\n",
       "      <td>0.999952</td>\n",
       "      <td>0.999952</td>\n",
       "      <td>-0.022943</td>\n",
       "      <td>0.046817</td>\n",
       "      <td>0.165010</td>\n",
       "      <td>0.141435</td>\n",
       "      <td>-0.532882</td>\n",
       "    </tr>\n",
       "    <tr>\n",
       "      <th>open</th>\n",
       "      <td>-0.885937</td>\n",
       "      <td>0.999936</td>\n",
       "      <td>0.999952</td>\n",
       "      <td>1.000000</td>\n",
       "      <td>0.999912</td>\n",
       "      <td>-0.026901</td>\n",
       "      <td>0.046330</td>\n",
       "      <td>0.165389</td>\n",
       "      <td>0.141116</td>\n",
       "      <td>-0.532434</td>\n",
       "    </tr>\n",
       "    <tr>\n",
       "      <th>close</th>\n",
       "      <td>-0.885905</td>\n",
       "      <td>0.999952</td>\n",
       "      <td>0.999952</td>\n",
       "      <td>0.999912</td>\n",
       "      <td>1.000000</td>\n",
       "      <td>-0.027955</td>\n",
       "      <td>0.046232</td>\n",
       "      <td>0.165547</td>\n",
       "      <td>0.141331</td>\n",
       "      <td>-0.532373</td>\n",
       "    </tr>\n",
       "    <tr>\n",
       "      <th>volume</th>\n",
       "      <td>-0.035351</td>\n",
       "      <td>-0.032901</td>\n",
       "      <td>-0.022943</td>\n",
       "      <td>-0.026901</td>\n",
       "      <td>-0.027955</td>\n",
       "      <td>1.000000</td>\n",
       "      <td>0.061352</td>\n",
       "      <td>-0.062315</td>\n",
       "      <td>-0.011663</td>\n",
       "      <td>-0.029106</td>\n",
       "    </tr>\n",
       "    <tr>\n",
       "      <th>tw_sentiment</th>\n",
       "      <td>-0.061351</td>\n",
       "      <td>0.045761</td>\n",
       "      <td>0.046817</td>\n",
       "      <td>0.046330</td>\n",
       "      <td>0.046232</td>\n",
       "      <td>0.061352</td>\n",
       "      <td>1.000000</td>\n",
       "      <td>-0.138192</td>\n",
       "      <td>-0.101691</td>\n",
       "      <td>-0.151783</td>\n",
       "    </tr>\n",
       "    <tr>\n",
       "      <th>tw_followers</th>\n",
       "      <td>-0.012044</td>\n",
       "      <td>0.165962</td>\n",
       "      <td>0.165010</td>\n",
       "      <td>0.165389</td>\n",
       "      <td>0.165547</td>\n",
       "      <td>-0.062315</td>\n",
       "      <td>-0.138192</td>\n",
       "      <td>1.000000</td>\n",
       "      <td>-0.158024</td>\n",
       "      <td>0.222156</td>\n",
       "    </tr>\n",
       "    <tr>\n",
       "      <th>reddit_sentiment</th>\n",
       "      <td>-0.232507</td>\n",
       "      <td>0.141051</td>\n",
       "      <td>0.141435</td>\n",
       "      <td>0.141116</td>\n",
       "      <td>0.141331</td>\n",
       "      <td>-0.011663</td>\n",
       "      <td>-0.101691</td>\n",
       "      <td>-0.158024</td>\n",
       "      <td>1.000000</td>\n",
       "      <td>-0.389075</td>\n",
       "    </tr>\n",
       "    <tr>\n",
       "      <th>predicted_price</th>\n",
       "      <td>0.681592</td>\n",
       "      <td>-0.531856</td>\n",
       "      <td>-0.532882</td>\n",
       "      <td>-0.532434</td>\n",
       "      <td>-0.532373</td>\n",
       "      <td>-0.029106</td>\n",
       "      <td>-0.151783</td>\n",
       "      <td>0.222156</td>\n",
       "      <td>-0.389075</td>\n",
       "      <td>1.000000</td>\n",
       "    </tr>\n",
       "  </tbody>\n",
       "</table>\n",
       "</div>"
      ],
      "text/plain": [
       "                      time       low      high      open     close    volume  \\\n",
       "time              1.000000 -0.885324 -0.886408 -0.885937 -0.885905 -0.035351   \n",
       "low              -0.885324  1.000000  0.999897  0.999936  0.999952 -0.032901   \n",
       "high             -0.886408  0.999897  1.000000  0.999952  0.999952 -0.022943   \n",
       "open             -0.885937  0.999936  0.999952  1.000000  0.999912 -0.026901   \n",
       "close            -0.885905  0.999952  0.999952  0.999912  1.000000 -0.027955   \n",
       "volume           -0.035351 -0.032901 -0.022943 -0.026901 -0.027955  1.000000   \n",
       "tw_sentiment     -0.061351  0.045761  0.046817  0.046330  0.046232  0.061352   \n",
       "tw_followers     -0.012044  0.165962  0.165010  0.165389  0.165547 -0.062315   \n",
       "reddit_sentiment -0.232507  0.141051  0.141435  0.141116  0.141331 -0.011663   \n",
       "predicted_price   0.681592 -0.531856 -0.532882 -0.532434 -0.532373 -0.029106   \n",
       "\n",
       "                  tw_sentiment  tw_followers  reddit_sentiment  \\\n",
       "time                 -0.061351     -0.012044         -0.232507   \n",
       "low                   0.045761      0.165962          0.141051   \n",
       "high                  0.046817      0.165010          0.141435   \n",
       "open                  0.046330      0.165389          0.141116   \n",
       "close                 0.046232      0.165547          0.141331   \n",
       "volume                0.061352     -0.062315         -0.011663   \n",
       "tw_sentiment          1.000000     -0.138192         -0.101691   \n",
       "tw_followers         -0.138192      1.000000         -0.158024   \n",
       "reddit_sentiment     -0.101691     -0.158024          1.000000   \n",
       "predicted_price      -0.151783      0.222156         -0.389075   \n",
       "\n",
       "                  predicted_price  \n",
       "time                     0.681592  \n",
       "low                     -0.531856  \n",
       "high                    -0.532882  \n",
       "open                    -0.532434  \n",
       "close                   -0.532373  \n",
       "volume                  -0.029106  \n",
       "tw_sentiment            -0.151783  \n",
       "tw_followers             0.222156  \n",
       "reddit_sentiment        -0.389075  \n",
       "predicted_price          1.000000  "
      ]
     },
     "execution_count": 4,
     "metadata": {},
     "output_type": "execute_result"
    }
   ],
   "source": [
    "df.corr()"
   ]
  },
  {
   "cell_type": "code",
   "execution_count": 5,
   "metadata": {},
   "outputs": [
    {
     "data": {
      "text/plain": [
       "[<matplotlib.lines.Line2D at 0x10a070550>]"
      ]
     },
     "execution_count": 5,
     "metadata": {},
     "output_type": "execute_result"
    },
    {
     "data": {
      "image/png": "[encoded data removed]",
      "text/plain": [
       "<matplotlib.figure.Figure at 0x106766c88>"
      ]
     },
     "metadata": {},
     "output_type": "display_data"
    }
   ],
   "source": [
    "plt.plot(df['close'], 'b')"
   ]
  },
  {
   "cell_type": "code",
   "execution_count": 6,
   "metadata": {},
   "outputs": [
    {
     "data": {
      "text/plain": [
       "[<matplotlib.lines.Line2D at 0x109cb92b0>]"
      ]
     },
     "execution_count": 6,
     "metadata": {},
     "output_type": "execute_result"
    },
    {
     "data": {
      "image/png": "[encoded data removed]",
      "text/plain": [
       "<matplotlib.figure.Figure at 0x109f047f0>"
      ]
     },
     "metadata": {},
     "output_type": "display_data"
    }
   ],
   "source": [
    "max = df['close'].count()\n",
    "limit = int(0.3 * max)\n",
    "plt.plot(df['close'][0:max - limit], 'g')\n",
    "plt.plot(df['close'][-limit:], 'r')"
   ]
  },
  {
   "cell_type": "code",
   "execution_count": 7,
   "metadata": {},
   "outputs": [
    {
     "data": {
      "text/plain": [
       "array([[<matplotlib.axes._subplots.AxesSubplot object at 0x109cd36d8>,\n",
       "        <matplotlib.axes._subplots.AxesSubplot object at 0x109e2f828>,\n",
       "        <matplotlib.axes._subplots.AxesSubplot object at 0x109f3f588>],\n",
       "       [<matplotlib.axes._subplots.AxesSubplot object at 0x109f7a4a8>,\n",
       "        <matplotlib.axes._subplots.AxesSubplot object at 0x10a0c8cc0>,\n",
       "        <matplotlib.axes._subplots.AxesSubplot object at 0x10a0c8cf8>],\n",
       "       [<matplotlib.axes._subplots.AxesSubplot object at 0x10a87be80>,\n",
       "        <matplotlib.axes._subplots.AxesSubplot object at 0x10a7fea20>,\n",
       "        <matplotlib.axes._subplots.AxesSubplot object at 0x10a9c3550>],\n",
       "       [<matplotlib.axes._subplots.AxesSubplot object at 0x10a9d9630>,\n",
       "        <matplotlib.axes._subplots.AxesSubplot object at 0x10aa2c5f8>,\n",
       "        <matplotlib.axes._subplots.AxesSubplot object at 0x10aa675f8>]],\n",
       "      dtype=object)"
      ]
     },
     "execution_count": 7,
     "metadata": {},
     "output_type": "execute_result"
    },
    {
     "data": {
      "image/png": "[encoded data removed]",
      "text/plain": [
       "<matplotlib.figure.Figure at 0x10a136898>"
      ]
     },
     "metadata": {},
     "output_type": "display_data"
    }
   ],
   "source": [
    "df.hist(figsize=(10,10))"
   ]
  },
  {
   "cell_type": "code",
   "execution_count": 8,
   "metadata": {},
   "outputs": [
    {
     "name": "stderr",
     "output_type": "stream",
     "text": [
      "2018-03-19 09:31:11,184 root         INFO     ENV => test\n",
      "2018-03-19 09:31:11,185 root         INFO     Train Model\n",
      "/anaconda3/lib/python3.6/site-packages/h5py/__init__.py:34: FutureWarning: Conversion of the second argument of issubdtype from `float` to `np.floating` is deprecated. In future, it will be treated as `np.float64 == np.dtype(float).type`.\n",
      "  from ._conv import register_converters as _register_converters\n",
      "Using TensorFlow backend.\n",
      "2018-03-19 09:31:13,113 root         INFO     Load data from SQL.\n"
     ]
    },
    {
     "ename": "ValueError",
     "evalue": "could not convert string to float: b'\\x01'",
     "output_type": "error",
     "traceback": [
      "\u001b[0;31m---------------------------------------------------------------------------\u001b[0m",
      "\u001b[0;31mValueError\u001b[0m                                Traceback (most recent call last)",
      "\u001b[0;32m<ipython-input-8-9b7b9ae9be9b>\u001b[0m in \u001b[0;36m<module>\u001b[0;34m()\u001b[0m\n\u001b[1;32m      1\u001b[0m \u001b[0;32mfrom\u001b[0m \u001b[0mbitcoin\u001b[0m\u001b[0;34m.\u001b[0m\u001b[0mcore\u001b[0m \u001b[0;32mimport\u001b[0m \u001b[0mCore\u001b[0m\u001b[0;34m\u001b[0m\u001b[0m\n\u001b[1;32m      2\u001b[0m \u001b[0mcore\u001b[0m \u001b[0;34m=\u001b[0m \u001b[0mCore\u001b[0m\u001b[0;34m(\u001b[0m\u001b[0;34m)\u001b[0m\u001b[0;34m\u001b[0m\u001b[0m\n\u001b[0;32m----> 3\u001b[0;31m \u001b[0mhistory\u001b[0m \u001b[0;34m=\u001b[0m \u001b[0mcore\u001b[0m\u001b[0;34m.\u001b[0m\u001b[0mtrain\u001b[0m\u001b[0;34m(\u001b[0m\u001b[0;34m)\u001b[0m\u001b[0;34m\u001b[0m\u001b[0m\n\u001b[0m",
      "\u001b[0;32m~/python/bitcoin-challenge/bitcoin/core.py\u001b[0m in \u001b[0;36mtrain\u001b[0;34m(self)\u001b[0m\n\u001b[1;32m     91\u001b[0m         \u001b[0mscaler_x\u001b[0m \u001b[0;34m=\u001b[0m \u001b[0mjoblib\u001b[0m\u001b[0;34m.\u001b[0m\u001b[0mload\u001b[0m\u001b[0;34m(\u001b[0m\u001b[0;34m'model-scaler-x-%s.pkl'\u001b[0m \u001b[0;34m%\u001b[0m \u001b[0mself\u001b[0m\u001b[0;34m.\u001b[0m\u001b[0mproduct_id\u001b[0m\u001b[0;34m)\u001b[0m\u001b[0;34m\u001b[0m\u001b[0m\n\u001b[1;32m     92\u001b[0m         \u001b[0mscaler_y\u001b[0m \u001b[0;34m=\u001b[0m \u001b[0mjoblib\u001b[0m\u001b[0;34m.\u001b[0m\u001b[0mload\u001b[0m\u001b[0;34m(\u001b[0m\u001b[0;34m'model-scaler-y-%s.pkl'\u001b[0m \u001b[0;34m%\u001b[0m \u001b[0mself\u001b[0m\u001b[0;34m.\u001b[0m\u001b[0mproduct_id\u001b[0m\u001b[0;34m)\u001b[0m\u001b[0;34m\u001b[0m\u001b[0m\n\u001b[0;32m---> 93\u001b[0;31m         \u001b[0mX_scale\u001b[0m \u001b[0;34m=\u001b[0m \u001b[0mscaler_x\u001b[0m\u001b[0;34m.\u001b[0m\u001b[0mfit_transform\u001b[0m\u001b[0;34m(\u001b[0m\u001b[0mX\u001b[0m\u001b[0;34m)\u001b[0m\u001b[0;34m\u001b[0m\u001b[0m\n\u001b[0m\u001b[1;32m     94\u001b[0m         \u001b[0my_scale\u001b[0m \u001b[0;34m=\u001b[0m \u001b[0mscaler_y\u001b[0m\u001b[0;34m.\u001b[0m\u001b[0mfit_transform\u001b[0m\u001b[0;34m(\u001b[0m\u001b[0my\u001b[0m\u001b[0;34m)\u001b[0m\u001b[0;34m\u001b[0m\u001b[0m\n\u001b[1;32m     95\u001b[0m \u001b[0;34m\u001b[0m\u001b[0m\n",
      "\u001b[0;32m/anaconda3/lib/python3.6/site-packages/sklearn/base.py\u001b[0m in \u001b[0;36mfit_transform\u001b[0;34m(self, X, y, **fit_params)\u001b[0m\n\u001b[1;32m    515\u001b[0m         \u001b[0;32mif\u001b[0m \u001b[0my\u001b[0m \u001b[0;32mis\u001b[0m \u001b[0;32mNone\u001b[0m\u001b[0;34m:\u001b[0m\u001b[0;34m\u001b[0m\u001b[0m\n\u001b[1;32m    516\u001b[0m             \u001b[0;31m# fit method of arity 1 (unsupervised transformation)\u001b[0m\u001b[0;34m\u001b[0m\u001b[0;34m\u001b[0m\u001b[0m\n\u001b[0;32m--> 517\u001b[0;31m             \u001b[0;32mreturn\u001b[0m \u001b[0mself\u001b[0m\u001b[0;34m.\u001b[0m\u001b[0mfit\u001b[0m\u001b[0;34m(\u001b[0m\u001b[0mX\u001b[0m\u001b[0;34m,\u001b[0m \u001b[0;34m**\u001b[0m\u001b[0mfit_params\u001b[0m\u001b[0;34m)\u001b[0m\u001b[0;34m.\u001b[0m\u001b[0mtransform\u001b[0m\u001b[0;34m(\u001b[0m\u001b[0mX\u001b[0m\u001b[0;34m)\u001b[0m\u001b[0;34m\u001b[0m\u001b[0m\n\u001b[0m\u001b[1;32m    518\u001b[0m         \u001b[0;32melse\u001b[0m\u001b[0;34m:\u001b[0m\u001b[0;34m\u001b[0m\u001b[0m\n\u001b[1;32m    519\u001b[0m             \u001b[0;31m# fit method of arity 2 (supervised transformation)\u001b[0m\u001b[0;34m\u001b[0m\u001b[0;34m\u001b[0m\u001b[0m\n",
      "\u001b[0;32m/anaconda3/lib/python3.6/site-packages/sklearn/preprocessing/data.py\u001b[0m in \u001b[0;36mfit\u001b[0;34m(self, X, y)\u001b[0m\n\u001b[1;32m    306\u001b[0m         \u001b[0;31m# Reset internal state before fitting\u001b[0m\u001b[0;34m\u001b[0m\u001b[0;34m\u001b[0m\u001b[0m\n\u001b[1;32m    307\u001b[0m         \u001b[0mself\u001b[0m\u001b[0;34m.\u001b[0m\u001b[0m_reset\u001b[0m\u001b[0;34m(\u001b[0m\u001b[0;34m)\u001b[0m\u001b[0;34m\u001b[0m\u001b[0m\n\u001b[0;32m--> 308\u001b[0;31m         \u001b[0;32mreturn\u001b[0m \u001b[0mself\u001b[0m\u001b[0;34m.\u001b[0m\u001b[0mpartial_fit\u001b[0m\u001b[0;34m(\u001b[0m\u001b[0mX\u001b[0m\u001b[0;34m,\u001b[0m \u001b[0my\u001b[0m\u001b[0;34m)\u001b[0m\u001b[0;34m\u001b[0m\u001b[0m\n\u001b[0m\u001b[1;32m    309\u001b[0m \u001b[0;34m\u001b[0m\u001b[0m\n\u001b[1;32m    310\u001b[0m     \u001b[0;32mdef\u001b[0m \u001b[0mpartial_fit\u001b[0m\u001b[0;34m(\u001b[0m\u001b[0mself\u001b[0m\u001b[0;34m,\u001b[0m \u001b[0mX\u001b[0m\u001b[0;34m,\u001b[0m \u001b[0my\u001b[0m\u001b[0;34m=\u001b[0m\u001b[0;32mNone\u001b[0m\u001b[0;34m)\u001b[0m\u001b[0;34m:\u001b[0m\u001b[0;34m\u001b[0m\u001b[0m\n",
      "\u001b[0;32m/anaconda3/lib/python3.6/site-packages/sklearn/preprocessing/data.py\u001b[0m in \u001b[0;36mpartial_fit\u001b[0;34m(self, X, y)\u001b[0m\n\u001b[1;32m    332\u001b[0m \u001b[0;34m\u001b[0m\u001b[0m\n\u001b[1;32m    333\u001b[0m         X = check_array(X, copy=self.copy, warn_on_dtype=True,\n\u001b[0;32m--> 334\u001b[0;31m                         estimator=self, dtype=FLOAT_DTYPES)\n\u001b[0m\u001b[1;32m    335\u001b[0m \u001b[0;34m\u001b[0m\u001b[0m\n\u001b[1;32m    336\u001b[0m         \u001b[0mdata_min\u001b[0m \u001b[0;34m=\u001b[0m \u001b[0mnp\u001b[0m\u001b[0;34m.\u001b[0m\u001b[0mmin\u001b[0m\u001b[0;34m(\u001b[0m\u001b[0mX\u001b[0m\u001b[0;34m,\u001b[0m \u001b[0maxis\u001b[0m\u001b[0;34m=\u001b[0m\u001b[0;36m0\u001b[0m\u001b[0;34m)\u001b[0m\u001b[0;34m\u001b[0m\u001b[0m\n",
      "\u001b[0;32m/anaconda3/lib/python3.6/site-packages/sklearn/utils/validation.py\u001b[0m in \u001b[0;36mcheck_array\u001b[0;34m(array, accept_sparse, dtype, order, copy, force_all_finite, ensure_2d, allow_nd, ensure_min_samples, ensure_min_features, warn_on_dtype, estimator)\u001b[0m\n\u001b[1;32m    431\u001b[0m                                       force_all_finite)\n\u001b[1;32m    432\u001b[0m     \u001b[0;32melse\u001b[0m\u001b[0;34m:\u001b[0m\u001b[0;34m\u001b[0m\u001b[0m\n\u001b[0;32m--> 433\u001b[0;31m         \u001b[0marray\u001b[0m \u001b[0;34m=\u001b[0m \u001b[0mnp\u001b[0m\u001b[0;34m.\u001b[0m\u001b[0marray\u001b[0m\u001b[0;34m(\u001b[0m\u001b[0marray\u001b[0m\u001b[0;34m,\u001b[0m \u001b[0mdtype\u001b[0m\u001b[0;34m=\u001b[0m\u001b[0mdtype\u001b[0m\u001b[0;34m,\u001b[0m \u001b[0morder\u001b[0m\u001b[0;34m=\u001b[0m\u001b[0morder\u001b[0m\u001b[0;34m,\u001b[0m \u001b[0mcopy\u001b[0m\u001b[0;34m=\u001b[0m\u001b[0mcopy\u001b[0m\u001b[0;34m)\u001b[0m\u001b[0;34m\u001b[0m\u001b[0m\n\u001b[0m\u001b[1;32m    434\u001b[0m \u001b[0;34m\u001b[0m\u001b[0m\n\u001b[1;32m    435\u001b[0m         \u001b[0;32mif\u001b[0m \u001b[0mensure_2d\u001b[0m\u001b[0;34m:\u001b[0m\u001b[0;34m\u001b[0m\u001b[0m\n",
      "\u001b[0;31mValueError\u001b[0m: could not convert string to float: b'\\x01'"
     ]
    }
   ],
   "source": [
    "from bitcoin.core import Core\n",
    "core = Core()\n",
    "history = core.train()"
   ]
  },
  {
   "cell_type": "code",
   "execution_count": null,
   "metadata": {},
   "outputs": [],
   "source": [
    "plt.plot(history.history['mean_absolute_error'], 'r')\n",
    "plt.plot(history.history['mean_squared_error'], 'g')"
   ]
  },
  {
   "cell_type": "code",
   "execution_count": null,
   "metadata": {},
   "outputs": [],
   "source": [
    "core.train_anomaly()"
   ]
  },
  {
   "cell_type": "code",
   "execution_count": null,
   "metadata": {},
   "outputs": [],
   "source": [
    "core.test_order_percent()"
   ]
  }
 ],
 "metadata": {
  "kernelspec": {
   "display_name": "Python 3",
   "language": "python",
   "name": "python3"
  },
  "language_info": {
   "codemirror_mode": {
    "name": "ipython",
    "version": 3
   },
   "file_extension": ".py",
   "mimetype": "text/x-python",
   "name": "python",
   "nbconvert_exporter": "python",
   "pygments_lexer": "ipython3",
   "version": "3.6.2"
  }
 },
 "nbformat": 4,
 "nbformat_minor": 2
}
