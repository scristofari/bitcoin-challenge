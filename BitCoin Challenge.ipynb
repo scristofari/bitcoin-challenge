{
 "cells": [
  {
   "cell_type": "code",
   "execution_count": 1,
   "metadata": {
    "scrolled": true
   },
   "outputs": [
    {
     "data": {
      "text/html": [
       "<div>\n",
       "<style scoped>\n",
       "    .dataframe tbody tr th:only-of-type {\n",
       "        vertical-align: middle;\n",
       "    }\n",
       "\n",
       "    .dataframe tbody tr th {\n",
       "        vertical-align: top;\n",
       "    }\n",
       "\n",
       "    .dataframe thead th {\n",
       "        text-align: right;\n",
       "    }\n",
       "</style>\n",
       "<table border=\"1\" class=\"dataframe\">\n",
       "  <thead>\n",
       "    <tr style=\"text-align: right;\">\n",
       "      <th></th>\n",
       "      <th>time</th>\n",
       "      <th>low</th>\n",
       "      <th>high</th>\n",
       "      <th>open</th>\n",
       "      <th>close</th>\n",
       "      <th>volume</th>\n",
       "      <th>tw_sentiment</th>\n",
       "      <th>tw_followers</th>\n",
       "      <th>reddit_sentiment</th>\n",
       "      <th>google_sentiment</th>\n",
       "    </tr>\n",
       "  </thead>\n",
       "  <tbody>\n",
       "    <tr>\n",
       "      <th>0</th>\n",
       "      <td>1520272320</td>\n",
       "      <td>9322.00</td>\n",
       "      <td>9322.01</td>\n",
       "      <td>9322.01</td>\n",
       "      <td>9322.00</td>\n",
       "      <td>0.273876</td>\n",
       "      <td>0.104927</td>\n",
       "      <td>1063075.0</td>\n",
       "      <td>0.034975</td>\n",
       "      <td>0.170432</td>\n",
       "    </tr>\n",
       "    <tr>\n",
       "      <th>1</th>\n",
       "      <td>1520272380</td>\n",
       "      <td>9322.00</td>\n",
       "      <td>9322.01</td>\n",
       "      <td>9322.01</td>\n",
       "      <td>9322.00</td>\n",
       "      <td>0.145773</td>\n",
       "      <td>0.104928</td>\n",
       "      <td>1063083.0</td>\n",
       "      <td>0.034975</td>\n",
       "      <td>0.170432</td>\n",
       "    </tr>\n",
       "    <tr>\n",
       "      <th>2</th>\n",
       "      <td>1520272440</td>\n",
       "      <td>9320.00</td>\n",
       "      <td>9320.01</td>\n",
       "      <td>9320.00</td>\n",
       "      <td>9320.00</td>\n",
       "      <td>0.066710</td>\n",
       "      <td>0.104928</td>\n",
       "      <td>1063089.0</td>\n",
       "      <td>0.034975</td>\n",
       "      <td>0.170432</td>\n",
       "    </tr>\n",
       "    <tr>\n",
       "      <th>3</th>\n",
       "      <td>1520272500</td>\n",
       "      <td>9320.01</td>\n",
       "      <td>9320.01</td>\n",
       "      <td>9320.01</td>\n",
       "      <td>9320.01</td>\n",
       "      <td>0.013989</td>\n",
       "      <td>0.104928</td>\n",
       "      <td>1063091.0</td>\n",
       "      <td>0.034975</td>\n",
       "      <td>0.170432</td>\n",
       "    </tr>\n",
       "    <tr>\n",
       "      <th>4</th>\n",
       "      <td>1520272560</td>\n",
       "      <td>9320.01</td>\n",
       "      <td>9320.01</td>\n",
       "      <td>9320.01</td>\n",
       "      <td>9320.01</td>\n",
       "      <td>0.706339</td>\n",
       "      <td>0.104928</td>\n",
       "      <td>1063095.0</td>\n",
       "      <td>0.038833</td>\n",
       "      <td>0.170432</td>\n",
       "    </tr>\n",
       "  </tbody>\n",
       "</table>\n",
       "</div>"
      ],
      "text/plain": [
       "         time      low     high     open    close    volume  tw_sentiment  \\\n",
       "0  1520272320  9322.00  9322.01  9322.01  9322.00  0.273876      0.104927   \n",
       "1  1520272380  9322.00  9322.01  9322.01  9322.00  0.145773      0.104928   \n",
       "2  1520272440  9320.00  9320.01  9320.00  9320.00  0.066710      0.104928   \n",
       "3  1520272500  9320.01  9320.01  9320.01  9320.01  0.013989      0.104928   \n",
       "4  1520272560  9320.01  9320.01  9320.01  9320.01  0.706339      0.104928   \n",
       "\n",
       "   tw_followers  reddit_sentiment  google_sentiment  \n",
       "0     1063075.0          0.034975          0.170432  \n",
       "1     1063083.0          0.034975          0.170432  \n",
       "2     1063089.0          0.034975          0.170432  \n",
       "3     1063091.0          0.034975          0.170432  \n",
       "4     1063095.0          0.038833          0.170432  "
      ]
     },
     "execution_count": 1,
     "metadata": {},
     "output_type": "execute_result"
    }
   ],
   "source": [
    "%matplotlib inline\n",
    "import matplotlib.pyplot as plt\n",
    "\n",
    "from bitcoin import engine\n",
    "df = engine.load_data('BTC-EUR')\n",
    "df.head()"
   ]
  },
  {
   "cell_type": "code",
   "execution_count": 2,
   "metadata": {},
   "outputs": [
    {
     "data": {
      "text/html": [
       "<div>\n",
       "<style scoped>\n",
       "    .dataframe tbody tr th:only-of-type {\n",
       "        vertical-align: middle;\n",
       "    }\n",
       "\n",
       "    .dataframe tbody tr th {\n",
       "        vertical-align: top;\n",
       "    }\n",
       "\n",
       "    .dataframe thead th {\n",
       "        text-align: right;\n",
       "    }\n",
       "</style>\n",
       "<table border=\"1\" class=\"dataframe\">\n",
       "  <thead>\n",
       "    <tr style=\"text-align: right;\">\n",
       "      <th></th>\n",
       "      <th>time</th>\n",
       "      <th>low</th>\n",
       "      <th>high</th>\n",
       "      <th>open</th>\n",
       "      <th>close</th>\n",
       "      <th>volume</th>\n",
       "      <th>tw_sentiment</th>\n",
       "      <th>tw_followers</th>\n",
       "      <th>reddit_sentiment</th>\n",
       "      <th>google_sentiment</th>\n",
       "    </tr>\n",
       "  </thead>\n",
       "  <tbody>\n",
       "    <tr>\n",
       "      <th>1657</th>\n",
       "      <td>1520372160</td>\n",
       "      <td>NaN</td>\n",
       "      <td>NaN</td>\n",
       "      <td>NaN</td>\n",
       "      <td>NaN</td>\n",
       "      <td>0.654339</td>\n",
       "      <td>0.025497</td>\n",
       "      <td>865323.0</td>\n",
       "      <td>-0.010816</td>\n",
       "      <td>0.081297</td>\n",
       "    </tr>\n",
       "    <tr>\n",
       "      <th>1709</th>\n",
       "      <td>1520375280</td>\n",
       "      <td>NaN</td>\n",
       "      <td>8680.46</td>\n",
       "      <td>8680.46</td>\n",
       "      <td>8680.46</td>\n",
       "      <td>0.371350</td>\n",
       "      <td>0.024812</td>\n",
       "      <td>872689.0</td>\n",
       "      <td>0.006467</td>\n",
       "      <td>0.094706</td>\n",
       "    </tr>\n",
       "    <tr>\n",
       "      <th>2861</th>\n",
       "      <td>1520444460</td>\n",
       "      <td>NaN</td>\n",
       "      <td>NaN</td>\n",
       "      <td>7907.19</td>\n",
       "      <td>7911.75</td>\n",
       "      <td>0.357159</td>\n",
       "      <td>0.569371</td>\n",
       "      <td>195556.0</td>\n",
       "      <td>0.022494</td>\n",
       "      <td>0.145950</td>\n",
       "    </tr>\n",
       "    <tr>\n",
       "      <th>3358</th>\n",
       "      <td>1520474220</td>\n",
       "      <td>NaN</td>\n",
       "      <td>NaN</td>\n",
       "      <td>NaN</td>\n",
       "      <td>7979.99</td>\n",
       "      <td>0.010000</td>\n",
       "      <td>0.257240</td>\n",
       "      <td>43314.0</td>\n",
       "      <td>0.066666</td>\n",
       "      <td>0.031460</td>\n",
       "    </tr>\n",
       "    <tr>\n",
       "      <th>4706</th>\n",
       "      <td>1520555100</td>\n",
       "      <td>NaN</td>\n",
       "      <td>NaN</td>\n",
       "      <td>NaN</td>\n",
       "      <td>7618.31</td>\n",
       "      <td>0.763639</td>\n",
       "      <td>0.056127</td>\n",
       "      <td>164697.0</td>\n",
       "      <td>0.048031</td>\n",
       "      <td>0.040363</td>\n",
       "    </tr>\n",
       "  </tbody>\n",
       "</table>\n",
       "</div>"
      ],
      "text/plain": [
       "            time  low     high     open    close    volume  tw_sentiment  \\\n",
       "1657  1520372160  NaN      NaN      NaN      NaN  0.654339      0.025497   \n",
       "1709  1520375280  NaN  8680.46  8680.46  8680.46  0.371350      0.024812   \n",
       "2861  1520444460  NaN      NaN  7907.19  7911.75  0.357159      0.569371   \n",
       "3358  1520474220  NaN      NaN      NaN  7979.99  0.010000      0.257240   \n",
       "4706  1520555100  NaN      NaN      NaN  7618.31  0.763639      0.056127   \n",
       "\n",
       "      tw_followers  reddit_sentiment  google_sentiment  \n",
       "1657      865323.0         -0.010816          0.081297  \n",
       "1709      872689.0          0.006467          0.094706  \n",
       "2861      195556.0          0.022494          0.145950  \n",
       "3358       43314.0          0.066666          0.031460  \n",
       "4706      164697.0          0.048031          0.040363  "
      ]
     },
     "execution_count": 2,
     "metadata": {},
     "output_type": "execute_result"
    }
   ],
   "source": [
    "df[df.isnull().any(axis=1)]"
   ]
  },
  {
   "cell_type": "code",
   "execution_count": 3,
   "metadata": {},
   "outputs": [
    {
     "data": {
      "text/html": [
       "<div>\n",
       "<style scoped>\n",
       "    .dataframe tbody tr th:only-of-type {\n",
       "        vertical-align: middle;\n",
       "    }\n",
       "\n",
       "    .dataframe tbody tr th {\n",
       "        vertical-align: top;\n",
       "    }\n",
       "\n",
       "    .dataframe thead th {\n",
       "        text-align: right;\n",
       "    }\n",
       "</style>\n",
       "<table border=\"1\" class=\"dataframe\">\n",
       "  <thead>\n",
       "    <tr style=\"text-align: right;\">\n",
       "      <th></th>\n",
       "      <th>time</th>\n",
       "      <th>low</th>\n",
       "      <th>high</th>\n",
       "      <th>open</th>\n",
       "      <th>close</th>\n",
       "      <th>volume</th>\n",
       "      <th>tw_sentiment</th>\n",
       "      <th>tw_followers</th>\n",
       "      <th>reddit_sentiment</th>\n",
       "      <th>google_sentiment</th>\n",
       "    </tr>\n",
       "  </thead>\n",
       "  <tbody>\n",
       "    <tr>\n",
       "      <th>count</th>\n",
       "      <td>5.372000e+03</td>\n",
       "      <td>5367.000000</td>\n",
       "      <td>5368.000000</td>\n",
       "      <td>5369.000000</td>\n",
       "      <td>5371.000000</td>\n",
       "      <td>5372.000000</td>\n",
       "      <td>5372.000000</td>\n",
       "      <td>5.372000e+03</td>\n",
       "      <td>5372.000000</td>\n",
       "      <td>5372.000000</td>\n",
       "    </tr>\n",
       "    <tr>\n",
       "      <th>mean</th>\n",
       "      <td>1.520434e+09</td>\n",
       "      <td>8316.042337</td>\n",
       "      <td>8323.248746</td>\n",
       "      <td>8319.979719</td>\n",
       "      <td>8319.486235</td>\n",
       "      <td>2.096503</td>\n",
       "      <td>0.072803</td>\n",
       "      <td>5.986477e+05</td>\n",
       "      <td>0.053146</td>\n",
       "      <td>0.086094</td>\n",
       "    </tr>\n",
       "    <tr>\n",
       "      <th>std</th>\n",
       "      <td>9.315791e+04</td>\n",
       "      <td>668.882893</td>\n",
       "      <td>665.027690</td>\n",
       "      <td>666.591683</td>\n",
       "      <td>666.729296</td>\n",
       "      <td>4.867847</td>\n",
       "      <td>0.073671</td>\n",
       "      <td>3.214932e+05</td>\n",
       "      <td>0.033828</td>\n",
       "      <td>0.061750</td>\n",
       "    </tr>\n",
       "    <tr>\n",
       "      <th>min</th>\n",
       "      <td>1.520272e+09</td>\n",
       "      <td>6770.000000</td>\n",
       "      <td>6783.000000</td>\n",
       "      <td>6782.790000</td>\n",
       "      <td>6783.000000</td>\n",
       "      <td>0.000673</td>\n",
       "      <td>-0.084993</td>\n",
       "      <td>3.705000e+04</td>\n",
       "      <td>-0.017144</td>\n",
       "      <td>-0.048717</td>\n",
       "    </tr>\n",
       "    <tr>\n",
       "      <th>25%</th>\n",
       "      <td>1.520353e+09</td>\n",
       "      <td>7866.510000</td>\n",
       "      <td>7879.007500</td>\n",
       "      <td>7875.130000</td>\n",
       "      <td>7875.120000</td>\n",
       "      <td>0.160000</td>\n",
       "      <td>0.038015</td>\n",
       "      <td>3.443255e+05</td>\n",
       "      <td>0.024163</td>\n",
       "      <td>0.043947</td>\n",
       "    </tr>\n",
       "    <tr>\n",
       "      <th>50%</th>\n",
       "      <td>1.520434e+09</td>\n",
       "      <td>8509.990000</td>\n",
       "      <td>8512.390000</td>\n",
       "      <td>8510.380000</td>\n",
       "      <td>8510.090000</td>\n",
       "      <td>0.613243</td>\n",
       "      <td>0.063040</td>\n",
       "      <td>5.750170e+05</td>\n",
       "      <td>0.057937</td>\n",
       "      <td>0.077183</td>\n",
       "    </tr>\n",
       "    <tr>\n",
       "      <th>75%</th>\n",
       "      <td>1.520514e+09</td>\n",
       "      <td>8798.380000</td>\n",
       "      <td>8800.010000</td>\n",
       "      <td>8800.000000</td>\n",
       "      <td>8799.960000</td>\n",
       "      <td>2.026700</td>\n",
       "      <td>0.087593</td>\n",
       "      <td>8.383238e+05</td>\n",
       "      <td>0.080052</td>\n",
       "      <td>0.134075</td>\n",
       "    </tr>\n",
       "    <tr>\n",
       "      <th>max</th>\n",
       "      <td>1.520595e+09</td>\n",
       "      <td>9399.000000</td>\n",
       "      <td>9399.000000</td>\n",
       "      <td>9399.000000</td>\n",
       "      <td>9399.000000</td>\n",
       "      <td>90.488639</td>\n",
       "      <td>0.612404</td>\n",
       "      <td>1.365095e+06</td>\n",
       "      <td>0.121474</td>\n",
       "      <td>0.211511</td>\n",
       "    </tr>\n",
       "  </tbody>\n",
       "</table>\n",
       "</div>"
      ],
      "text/plain": [
       "               time          low         high         open        close  \\\n",
       "count  5.372000e+03  5367.000000  5368.000000  5369.000000  5371.000000   \n",
       "mean   1.520434e+09  8316.042337  8323.248746  8319.979719  8319.486235   \n",
       "std    9.315791e+04   668.882893   665.027690   666.591683   666.729296   \n",
       "min    1.520272e+09  6770.000000  6783.000000  6782.790000  6783.000000   \n",
       "25%    1.520353e+09  7866.510000  7879.007500  7875.130000  7875.120000   \n",
       "50%    1.520434e+09  8509.990000  8512.390000  8510.380000  8510.090000   \n",
       "75%    1.520514e+09  8798.380000  8800.010000  8800.000000  8799.960000   \n",
       "max    1.520595e+09  9399.000000  9399.000000  9399.000000  9399.000000   \n",
       "\n",
       "            volume  tw_sentiment  tw_followers  reddit_sentiment  \\\n",
       "count  5372.000000   5372.000000  5.372000e+03       5372.000000   \n",
       "mean      2.096503      0.072803  5.986477e+05          0.053146   \n",
       "std       4.867847      0.073671  3.214932e+05          0.033828   \n",
       "min       0.000673     -0.084993  3.705000e+04         -0.017144   \n",
       "25%       0.160000      0.038015  3.443255e+05          0.024163   \n",
       "50%       0.613243      0.063040  5.750170e+05          0.057937   \n",
       "75%       2.026700      0.087593  8.383238e+05          0.080052   \n",
       "max      90.488639      0.612404  1.365095e+06          0.121474   \n",
       "\n",
       "       google_sentiment  \n",
       "count       5372.000000  \n",
       "mean           0.086094  \n",
       "std            0.061750  \n",
       "min           -0.048717  \n",
       "25%            0.043947  \n",
       "50%            0.077183  \n",
       "75%            0.134075  \n",
       "max            0.211511  "
      ]
     },
     "execution_count": 3,
     "metadata": {},
     "output_type": "execute_result"
    }
   ],
   "source": [
    "df.describe()"
   ]
  },
  {
   "cell_type": "code",
   "execution_count": 4,
   "metadata": {
    "scrolled": false
   },
   "outputs": [
    {
     "data": {
      "text/html": [
       "<div>\n",
       "<style scoped>\n",
       "    .dataframe tbody tr th:only-of-type {\n",
       "        vertical-align: middle;\n",
       "    }\n",
       "\n",
       "    .dataframe tbody tr th {\n",
       "        vertical-align: top;\n",
       "    }\n",
       "\n",
       "    .dataframe thead th {\n",
       "        text-align: right;\n",
       "    }\n",
       "</style>\n",
       "<table border=\"1\" class=\"dataframe\">\n",
       "  <thead>\n",
       "    <tr style=\"text-align: right;\">\n",
       "      <th></th>\n",
       "      <th>time</th>\n",
       "      <th>low</th>\n",
       "      <th>high</th>\n",
       "      <th>open</th>\n",
       "      <th>close</th>\n",
       "      <th>volume</th>\n",
       "      <th>tw_sentiment</th>\n",
       "      <th>tw_followers</th>\n",
       "      <th>reddit_sentiment</th>\n",
       "      <th>google_sentiment</th>\n",
       "    </tr>\n",
       "  </thead>\n",
       "  <tbody>\n",
       "    <tr>\n",
       "      <th>time</th>\n",
       "      <td>1.000000</td>\n",
       "      <td>-0.966638</td>\n",
       "      <td>-0.967701</td>\n",
       "      <td>-0.967215</td>\n",
       "      <td>-0.967186</td>\n",
       "      <td>0.129300</td>\n",
       "      <td>0.088867</td>\n",
       "      <td>-0.706778</td>\n",
       "      <td>0.232162</td>\n",
       "      <td>-0.596215</td>\n",
       "    </tr>\n",
       "    <tr>\n",
       "      <th>low</th>\n",
       "      <td>-0.966638</td>\n",
       "      <td>1.000000</td>\n",
       "      <td>0.999807</td>\n",
       "      <td>0.999873</td>\n",
       "      <td>0.999915</td>\n",
       "      <td>-0.184691</td>\n",
       "      <td>-0.132099</td>\n",
       "      <td>0.657787</td>\n",
       "      <td>-0.184248</td>\n",
       "      <td>0.627270</td>\n",
       "    </tr>\n",
       "    <tr>\n",
       "      <th>high</th>\n",
       "      <td>-0.967701</td>\n",
       "      <td>0.999807</td>\n",
       "      <td>1.000000</td>\n",
       "      <td>0.999916</td>\n",
       "      <td>0.999905</td>\n",
       "      <td>-0.170713</td>\n",
       "      <td>-0.127302</td>\n",
       "      <td>0.658265</td>\n",
       "      <td>-0.185306</td>\n",
       "      <td>0.627940</td>\n",
       "    </tr>\n",
       "    <tr>\n",
       "      <th>open</th>\n",
       "      <td>-0.967215</td>\n",
       "      <td>0.999873</td>\n",
       "      <td>0.999916</td>\n",
       "      <td>1.000000</td>\n",
       "      <td>0.999840</td>\n",
       "      <td>-0.175363</td>\n",
       "      <td>-0.129664</td>\n",
       "      <td>0.658037</td>\n",
       "      <td>-0.184696</td>\n",
       "      <td>0.627377</td>\n",
       "    </tr>\n",
       "    <tr>\n",
       "      <th>close</th>\n",
       "      <td>-0.967186</td>\n",
       "      <td>0.999915</td>\n",
       "      <td>0.999905</td>\n",
       "      <td>0.999840</td>\n",
       "      <td>1.000000</td>\n",
       "      <td>-0.178310</td>\n",
       "      <td>-0.130442</td>\n",
       "      <td>0.658352</td>\n",
       "      <td>-0.184596</td>\n",
       "      <td>0.627458</td>\n",
       "    </tr>\n",
       "    <tr>\n",
       "      <th>volume</th>\n",
       "      <td>0.129300</td>\n",
       "      <td>-0.184691</td>\n",
       "      <td>-0.170713</td>\n",
       "      <td>-0.175363</td>\n",
       "      <td>-0.178310</td>\n",
       "      <td>1.000000</td>\n",
       "      <td>0.263461</td>\n",
       "      <td>-0.122102</td>\n",
       "      <td>-0.013791</td>\n",
       "      <td>-0.075555</td>\n",
       "    </tr>\n",
       "    <tr>\n",
       "      <th>tw_sentiment</th>\n",
       "      <td>0.088867</td>\n",
       "      <td>-0.132099</td>\n",
       "      <td>-0.127302</td>\n",
       "      <td>-0.129664</td>\n",
       "      <td>-0.130442</td>\n",
       "      <td>0.263461</td>\n",
       "      <td>1.000000</td>\n",
       "      <td>-0.221543</td>\n",
       "      <td>-0.038178</td>\n",
       "      <td>-0.027885</td>\n",
       "    </tr>\n",
       "    <tr>\n",
       "      <th>tw_followers</th>\n",
       "      <td>-0.706778</td>\n",
       "      <td>0.657787</td>\n",
       "      <td>0.658265</td>\n",
       "      <td>0.658037</td>\n",
       "      <td>0.658352</td>\n",
       "      <td>-0.122102</td>\n",
       "      <td>-0.221543</td>\n",
       "      <td>1.000000</td>\n",
       "      <td>-0.120856</td>\n",
       "      <td>0.391354</td>\n",
       "    </tr>\n",
       "    <tr>\n",
       "      <th>reddit_sentiment</th>\n",
       "      <td>0.232162</td>\n",
       "      <td>-0.184248</td>\n",
       "      <td>-0.185306</td>\n",
       "      <td>-0.184696</td>\n",
       "      <td>-0.184596</td>\n",
       "      <td>-0.013791</td>\n",
       "      <td>-0.038178</td>\n",
       "      <td>-0.120856</td>\n",
       "      <td>1.000000</td>\n",
       "      <td>-0.458762</td>\n",
       "    </tr>\n",
       "    <tr>\n",
       "      <th>google_sentiment</th>\n",
       "      <td>-0.596215</td>\n",
       "      <td>0.627270</td>\n",
       "      <td>0.627940</td>\n",
       "      <td>0.627377</td>\n",
       "      <td>0.627458</td>\n",
       "      <td>-0.075555</td>\n",
       "      <td>-0.027885</td>\n",
       "      <td>0.391354</td>\n",
       "      <td>-0.458762</td>\n",
       "      <td>1.000000</td>\n",
       "    </tr>\n",
       "  </tbody>\n",
       "</table>\n",
       "</div>"
      ],
      "text/plain": [
       "                      time       low      high      open     close    volume  \\\n",
       "time              1.000000 -0.966638 -0.967701 -0.967215 -0.967186  0.129300   \n",
       "low              -0.966638  1.000000  0.999807  0.999873  0.999915 -0.184691   \n",
       "high             -0.967701  0.999807  1.000000  0.999916  0.999905 -0.170713   \n",
       "open             -0.967215  0.999873  0.999916  1.000000  0.999840 -0.175363   \n",
       "close            -0.967186  0.999915  0.999905  0.999840  1.000000 -0.178310   \n",
       "volume            0.129300 -0.184691 -0.170713 -0.175363 -0.178310  1.000000   \n",
       "tw_sentiment      0.088867 -0.132099 -0.127302 -0.129664 -0.130442  0.263461   \n",
       "tw_followers     -0.706778  0.657787  0.658265  0.658037  0.658352 -0.122102   \n",
       "reddit_sentiment  0.232162 -0.184248 -0.185306 -0.184696 -0.184596 -0.013791   \n",
       "google_sentiment -0.596215  0.627270  0.627940  0.627377  0.627458 -0.075555   \n",
       "\n",
       "                  tw_sentiment  tw_followers  reddit_sentiment  \\\n",
       "time                  0.088867     -0.706778          0.232162   \n",
       "low                  -0.132099      0.657787         -0.184248   \n",
       "high                 -0.127302      0.658265         -0.185306   \n",
       "open                 -0.129664      0.658037         -0.184696   \n",
       "close                -0.130442      0.658352         -0.184596   \n",
       "volume                0.263461     -0.122102         -0.013791   \n",
       "tw_sentiment          1.000000     -0.221543         -0.038178   \n",
       "tw_followers         -0.221543      1.000000         -0.120856   \n",
       "reddit_sentiment     -0.038178     -0.120856          1.000000   \n",
       "google_sentiment     -0.027885      0.391354         -0.458762   \n",
       "\n",
       "                  google_sentiment  \n",
       "time                     -0.596215  \n",
       "low                       0.627270  \n",
       "high                      0.627940  \n",
       "open                      0.627377  \n",
       "close                     0.627458  \n",
       "volume                   -0.075555  \n",
       "tw_sentiment             -0.027885  \n",
       "tw_followers              0.391354  \n",
       "reddit_sentiment         -0.458762  \n",
       "google_sentiment          1.000000  "
      ]
     },
     "execution_count": 4,
     "metadata": {},
     "output_type": "execute_result"
    }
   ],
   "source": [
    "df.corr()"
   ]
  },
  {
   "cell_type": "code",
   "execution_count": 5,
   "metadata": {},
   "outputs": [
    {
     "data": {
      "text/plain": [
       "[<matplotlib.lines.Line2D at 0x10361d160>]"
      ]
     },
     "execution_count": 5,
     "metadata": {},
     "output_type": "execute_result"
    },
    {
     "data": {
      "image/png": "[encoded data removed]",
      "text/plain": [
       "<matplotlib.figure.Figure at 0x105533240>"
      ]
     },
     "metadata": {},
     "output_type": "display_data"
    }
   ],
   "source": [
    "plt.plot(df['close'], 'b')"
   ]
  },
  {
   "cell_type": "code",
   "execution_count": 6,
   "metadata": {},
   "outputs": [
    {
     "data": {
      "text/plain": [
       "array([[<matplotlib.axes._subplots.AxesSubplot object at 0x108aa3048>,\n",
       "        <matplotlib.axes._subplots.AxesSubplot object at 0x108b7c9e8>,\n",
       "        <matplotlib.axes._subplots.AxesSubplot object at 0x108bba668>],\n",
       "       [<matplotlib.axes._subplots.AxesSubplot object at 0x108bf52e8>,\n",
       "        <matplotlib.axes._subplots.AxesSubplot object at 0x108c27e48>,\n",
       "        <matplotlib.axes._subplots.AxesSubplot object at 0x108c27e80>],\n",
       "       [<matplotlib.axes._subplots.AxesSubplot object at 0x108c8f7f0>,\n",
       "        <matplotlib.axes._subplots.AxesSubplot object at 0x108cc77f0>,\n",
       "        <matplotlib.axes._subplots.AxesSubplot object at 0x108d02c50>],\n",
       "       [<matplotlib.axes._subplots.AxesSubplot object at 0x108d29ac8>,\n",
       "        <matplotlib.axes._subplots.AxesSubplot object at 0x109088e80>,\n",
       "        <matplotlib.axes._subplots.AxesSubplot object at 0x1090ca240>]],\n",
       "      dtype=object)"
      ]
     },
     "execution_count": 6,
     "metadata": {},
     "output_type": "execute_result"
    },
    {
     "data": {
      "image/png": "[encoded data removed]",
      "text/plain": [
       "<matplotlib.figure.Figure at 0x105533748>"
      ]
     },
     "metadata": {},
     "output_type": "display_data"
    }
   ],
   "source": [
    "df.hist(figsize=(10,10))"
   ]
  },
  {
   "cell_type": "code",
   "execution_count": 7,
   "metadata": {
    "collapsed": true
   },
   "outputs": [],
   "source": [
    "X_train, X_test, y_train, y_test, scaler_x, scaler_y = engine.prepare(df)"
   ]
  },
  {
   "cell_type": "code",
   "execution_count": 8,
   "metadata": {},
   "outputs": [
    {
     "name": "stderr",
     "output_type": "stream",
     "text": [
      "/anaconda3/lib/python3.6/site-packages/h5py/__init__.py:34: FutureWarning: Conversion of the second argument of issubdtype from `float` to `np.floating` is deprecated. In future, it will be treated as `np.float64 == np.dtype(float).type`.\n",
      "  from ._conv import register_converters as _register_converters\n",
      "Using TensorFlow backend.\n"
     ]
    },
    {
     "name": "stdout",
     "output_type": "stream",
     "text": [
      "_________________________________________________________________\n",
      "Layer (type)                 Output Shape              Param #   \n",
      "=================================================================\n",
      "lstm_1 (LSTM)                (None, 1, 200)            164800    \n",
      "_________________________________________________________________\n",
      "dropout_1 (Dropout)          (None, 1, 200)            0         \n",
      "_________________________________________________________________\n",
      "lstm_2 (LSTM)                (None, 1, 200)            320800    \n",
      "_________________________________________________________________\n",
      "dropout_2 (Dropout)          (None, 1, 200)            0         \n",
      "_________________________________________________________________\n",
      "lstm_3 (LSTM)                (None, 200)               320800    \n",
      "_________________________________________________________________\n",
      "dropout_3 (Dropout)          (None, 200)               0         \n",
      "_________________________________________________________________\n",
      "dense_1 (Dense)              (None, 1)                 201       \n",
      "_________________________________________________________________\n",
      "activation_1 (Activation)    (None, 1)                 0         \n",
      "=================================================================\n",
      "Total params: 806,601\n",
      "Trainable params: 806,601\n",
      "Non-trainable params: 0\n",
      "_________________________________________________________________\n"
     ]
    }
   ],
   "source": [
    "model, history = engine.train('BTC-EUR', X_train, X_test, y_train, y_test)"
   ]
  },
  {
   "cell_type": "code",
   "execution_count": 9,
   "metadata": {},
   "outputs": [
    {
     "data": {
      "text/plain": [
       "[<matplotlib.lines.Line2D at 0x11d08cbe0>]"
      ]
     },
     "execution_count": 9,
     "metadata": {},
     "output_type": "execute_result"
    },
    {
     "data": {
      "image/png": "[encoded data removed]",
      "text/plain": [
       "<matplotlib.figure.Figure at 0x11d08cba8>"
      ]
     },
     "metadata": {},
     "output_type": "display_data"
    }
   ],
   "source": [
    "plt.plot(history.history['mean_absolute_error'], 'r')\n",
    "plt.plot(history.history['mean_squared_error'], 'g')"
   ]
  },
  {
   "cell_type": "code",
   "execution_count": 10,
   "metadata": {},
   "outputs": [
    {
     "data": {
      "text/plain": [
       "[<matplotlib.lines.Line2D at 0x11be205f8>]"
      ]
     },
     "execution_count": 10,
     "metadata": {},
     "output_type": "execute_result"
    },
    {
     "data": {
      "image/png": "[encoded data removed]",
      "text/plain": [
       "<matplotlib.figure.Figure at 0x10ba2eb70>"
      ]
     },
     "metadata": {},
     "output_type": "display_data"
    }
   ],
   "source": [
    "import numpy as np\n",
    "\n",
    "X_train = np.reshape(X_train, (X_train.shape[0], 1, X_train.shape[1]))\n",
    "X_test = np.reshape(X_test, (X_test.shape[0], 1, X_test.shape[1]))\n",
    "\n",
    "y_predict_train = model.predict(X_train)\n",
    "y_predict_train = scaler_y.inverse_transform(y_predict_train)\n",
    "\n",
    "y_predict_test = model.predict(X_test)\n",
    "y_predict_test = scaler_y.inverse_transform(y_predict_test)\n",
    "\n",
    "X = np.concatenate((X_train, X_test), axis=0)\n",
    "y = np.concatenate((y_predict_train, y_predict_test), axis=0)\n",
    "\n",
    "plt.plot(y, 'r')\n",
    "plt.plot(y_predict_train, 'g')"
   ]
  },
  {
   "cell_type": "code",
   "execution_count": 11,
   "metadata": {},
   "outputs": [
    {
     "name": "stdout",
     "output_type": "stream",
     "text": [
      "buy at 7605.010000\n",
      "sell at 7653.350000\n",
      "buy at 7653.250000\n",
      "sell at 7655.370000\n",
      "buy at 7655.380000\n",
      "sell at 7688.990000\n",
      "buy at 7688.990000\n",
      "Error Order percentage: 13.70%\n",
      "Cash 935.969014\n"
     ]
    }
   ],
   "source": [
    "engine.test_order_percent(df, model, scaler_x, scaler_y)"
   ]
  },
  {
   "cell_type": "code",
   "execution_count": 13,
   "metadata": {
    "scrolled": true
   },
   "outputs": [
    {
     "ename": "SyntaxError",
     "evalue": "invalid syntax (<ipython-input-13-8346bfb7ce00>, line 11)",
     "output_type": "error",
     "traceback": [
      "\u001b[0;36m  File \u001b[0;32m\"<ipython-input-13-8346bfb7ce00>\"\u001b[0;36m, line \u001b[0;32m11\u001b[0m\n\u001b[0;31m    log_dens = grid.best_estimator_.score_samples(x.reshape(-1, 1))\u001b[0m\n\u001b[0m           ^\u001b[0m\n\u001b[0;31mSyntaxError\u001b[0m\u001b[0;31m:\u001b[0m invalid syntax\n"
     ]
    }
   ],
   "source": [
    "from sklearn.neighbors import KernelDensity\n",
    "from sklearn.model_selection import GridSearchCV\n",
    "import numpy as np\n",
    "\n",
    "X = df['volume'].values.reshape(-1, 1)\n",
    "params = {'bandwidth': np.logspace(0, df['volume'].max())}\n",
    "#grid = GridSearchCV(KernelDensity(), params)\n",
    "#grid.fit(X)\n",
    "\n",
    "x = np.linspace(0, np.percentile(X, 95)\n",
    "log_dens = grid.best_estimator_.score_samples(x.reshape(-1, 1))\n",
    "\n",
    "plt.plot(x, np.exp(log_dens), 'r')\n",
    "df.hist(column='volume')\n",
    "                \n",
    "grid.best_estimator_.score(np.exp(9))            "
   ]
  },
  {
   "cell_type": "code",
   "execution_count": 19,
   "metadata": {},
   "outputs": [
    {
     "data": {
      "text/plain": [
       "0.0008472764216755602"
      ]
     },
     "execution_count": 19,
     "metadata": {},
     "output_type": "execute_result"
    }
   ],
   "source": [
    "np.exp(grid.best_estimator_.score(20))"
   ]
  }
 ],
 "metadata": {
  "kernelspec": {
   "display_name": "Python 3",
   "language": "python",
   "name": "python3"
  },
  "language_info": {
   "codemirror_mode": {
    "name": "ipython",
    "version": 3
   },
   "file_extension": ".py",
   "mimetype": "text/x-python",
   "name": "python",
   "nbconvert_exporter": "python",
   "pygments_lexer": "ipython3",
   "version": "3.6.2"
  }
 },
 "nbformat": 4,
 "nbformat_minor": 2
}
