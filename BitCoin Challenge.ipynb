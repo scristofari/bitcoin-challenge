{
 "cells": [
  {
   "cell_type": "code",
   "execution_count": 9,
   "metadata": {
    "scrolled": true
   },
   "outputs": [
    {
     "name": "stderr",
     "output_type": "stream",
     "text": [
      "2018-03-24 19:19:01,140 root         INFO     Load data from SQL.\n",
      "2018-03-24 19:19:01,334 root         INFO     Train Scaler Model\n"
     ]
    },
    {
     "name": "stdout",
     "output_type": "stream",
     "text": [
      "The autoreload extension is already loaded. To reload it, use:\n",
      "  %reload_ext autoreload\n"
     ]
    },
    {
     "name": "stderr",
     "output_type": "stream",
     "text": [
      "2018-03-24 19:19:01,347 root         INFO     Train Model\n"
     ]
    },
    {
     "name": "stdout",
     "output_type": "stream",
     "text": [
      "_________________________________________________________________\n",
      "Layer (type)                 Output Shape              Param #   \n",
      "=================================================================\n",
      "lstm_1 (LSTM)                (None, 1, 200)            162400    \n",
      "_________________________________________________________________\n",
      "dropout_1 (Dropout)          (None, 1, 200)            0         \n",
      "_________________________________________________________________\n",
      "lstm_2 (LSTM)                (None, 1, 200)            320800    \n",
      "_________________________________________________________________\n",
      "dropout_2 (Dropout)          (None, 1, 200)            0         \n",
      "_________________________________________________________________\n",
      "lstm_3 (LSTM)                (None, 200)               320800    \n",
      "_________________________________________________________________\n",
      "dropout_3 (Dropout)          (None, 200)               0         \n",
      "_________________________________________________________________\n",
      "dense_1 (Dense)              (None, 1)                 201       \n",
      "_________________________________________________________________\n",
      "activation_1 (Activation)    (None, 1)                 0         \n",
      "=================================================================\n",
      "Total params: 804,201\n",
      "Trainable params: 804,201\n",
      "Non-trainable params: 0\n",
      "_________________________________________________________________\n",
      "Train on 18263 samples, validate on 7828 samples\n",
      "Epoch 1/50\n",
      "18263/18263 [==============================] - 4s 241us/step - loss: 135.9164 - mean_squared_error: 0.2436 - mean_absolute_error: 0.4034 - val_loss: 131.1585 - val_mean_squared_error: 0.1290 - val_mean_absolute_error: 0.3380\n",
      "Epoch 2/50\n",
      "18263/18263 [==============================] - 2s 83us/step - loss: 131.2172 - mean_squared_error: 0.2382 - mean_absolute_error: 0.3967 - val_loss: 126.5495 - val_mean_squared_error: 0.1162 - val_mean_absolute_error: 0.3185\n",
      "Epoch 3/50\n",
      "18263/18263 [==============================] - 2s 84us/step - loss: 126.6213 - mean_squared_error: 0.2333 - mean_absolute_error: 0.3903 - val_loss: 122.4528 - val_mean_squared_error: 0.1041 - val_mean_absolute_error: 0.2989\n",
      "Epoch 4/50\n",
      "18263/18263 [==============================] - 2s 87us/step - loss: 122.5387 - mean_squared_error: 0.2290 - mean_absolute_error: 0.3849 - val_loss: 118.3390 - val_mean_squared_error: 0.0909 - val_mean_absolute_error: 0.2761\n",
      "Epoch 5/50\n",
      "18263/18263 [==============================] - 2s 83us/step - loss: 118.4424 - mean_squared_error: 0.2249 - mean_absolute_error: 0.3795 - val_loss: 114.0689 - val_mean_squared_error: 0.0761 - val_mean_absolute_error: 0.2480\n",
      "Epoch 6/50\n",
      "18263/18263 [==============================] - 2s 96us/step - loss: 114.1948 - mean_squared_error: 0.2212 - mean_absolute_error: 0.3738 - val_loss: 109.9126 - val_mean_squared_error: 0.0610 - val_mean_absolute_error: 0.2157\n",
      "Epoch 7/50\n",
      "18263/18263 [==============================] - 2s 87us/step - loss: 110.0661 - mean_squared_error: 0.2187 - mean_absolute_error: 0.3691 - val_loss: 105.8778 - val_mean_squared_error: 0.0466 - val_mean_absolute_error: 0.1832\n",
      "Epoch 8/50\n",
      "18263/18263 [==============================] - 2s 98us/step - loss: 106.0614 - mean_squared_error: 0.2179 - mean_absolute_error: 0.3669 - val_loss: 101.9615 - val_mean_squared_error: 0.0355 - val_mean_absolute_error: 0.1557\n",
      "Epoch 9/50\n",
      "18263/18263 [==============================] - 2s 95us/step - loss: 102.1739 - mean_squared_error: 0.2194 - mean_absolute_error: 0.3681 - val_loss: 98.1767 - val_mean_squared_error: 0.0292 - val_mean_absolute_error: 0.1406\n",
      "Epoch 10/50\n",
      "18263/18263 [==============================] - 2s 96us/step - loss: 98.4054 - mean_squared_error: 0.2207 - mean_absolute_error: 0.3693 - val_loss: 94.4925 - val_mean_squared_error: 0.0269 - val_mean_absolute_error: 0.1347\n",
      "Epoch 11/50\n",
      "18263/18263 [==============================] - 2s 88us/step - loss: 94.7268 - mean_squared_error: 0.2202 - mean_absolute_error: 0.3690 - val_loss: 90.9234 - val_mean_squared_error: 0.0271 - val_mean_absolute_error: 0.1353\n",
      "Epoch 12/50\n",
      "18263/18263 [==============================] - 2s 90us/step - loss: 91.1554 - mean_squared_error: 0.2184 - mean_absolute_error: 0.3674 - val_loss: 87.4533 - val_mean_squared_error: 0.0293 - val_mean_absolute_error: 0.1408\n",
      "Epoch 13/50\n",
      "18263/18263 [==============================] - 2s 91us/step - loss: 87.6772 - mean_squared_error: 0.2152 - mean_absolute_error: 0.3647 - val_loss: 84.1076 - val_mean_squared_error: 0.0331 - val_mean_absolute_error: 0.1502\n",
      "Epoch 14/50\n",
      "18263/18263 [==============================] - 2s 100us/step - loss: 84.3190 - mean_squared_error: 0.2118 - mean_absolute_error: 0.3616 - val_loss: 80.8678 - val_mean_squared_error: 0.0381 - val_mean_absolute_error: 0.1631\n",
      "Epoch 15/50\n",
      "18263/18263 [==============================] - 2s 91us/step - loss: 81.0635 - mean_squared_error: 0.2087 - mean_absolute_error: 0.3589 - val_loss: 77.7226 - val_mean_squared_error: 0.0436 - val_mean_absolute_error: 0.1770\n",
      "Epoch 16/50\n",
      "18263/18263 [==============================] - 2s 91us/step - loss: 77.9025 - mean_squared_error: 0.2065 - mean_absolute_error: 0.3570 - val_loss: 74.6797 - val_mean_squared_error: 0.0486 - val_mean_absolute_error: 0.1892\n",
      "Epoch 17/50\n",
      "18263/18263 [==============================] - 2s 91us/step - loss: 74.8462 - mean_squared_error: 0.2044 - mean_absolute_error: 0.3557 - val_loss: 71.7082 - val_mean_squared_error: 0.0522 - val_mean_absolute_error: 0.1978\n",
      "Epoch 18/50\n",
      "18263/18263 [==============================] - 2s 99us/step - loss: 71.8651 - mean_squared_error: 0.2027 - mean_absolute_error: 0.3547 - val_loss: 68.8426 - val_mean_squared_error: 0.0538 - val_mean_absolute_error: 0.2016\n",
      "Epoch 19/50\n",
      "18263/18263 [==============================] - 2s 101us/step - loss: 68.9940 - mean_squared_error: 0.2004 - mean_absolute_error: 0.3530 - val_loss: 66.0550 - val_mean_squared_error: 0.0529 - val_mean_absolute_error: 0.2000\n",
      "Epoch 20/50\n",
      "18263/18263 [==============================] - 2s 102us/step - loss: 66.2058 - mean_squared_error: 0.1979 - mean_absolute_error: 0.3508 - val_loss: 63.3504 - val_mean_squared_error: 0.0500 - val_mean_absolute_error: 0.1934\n",
      "Epoch 21/50\n",
      "18263/18263 [==============================] - 2s 99us/step - loss: 63.5042 - mean_squared_error: 0.1943 - mean_absolute_error: 0.3472 - val_loss: 60.7134 - val_mean_squared_error: 0.0452 - val_mean_absolute_error: 0.1824\n",
      "Epoch 22/50\n",
      "18263/18263 [==============================] - 2s 102us/step - loss: 60.8744 - mean_squared_error: 0.1904 - mean_absolute_error: 0.3433 - val_loss: 58.1603 - val_mean_squared_error: 0.0394 - val_mean_absolute_error: 0.1684\n",
      "Epoch 23/50\n",
      "18263/18263 [==============================] - 2s 100us/step - loss: 58.3310 - mean_squared_error: 0.1862 - mean_absolute_error: 0.3390 - val_loss: 55.7097 - val_mean_squared_error: 0.0337 - val_mean_absolute_error: 0.1537\n",
      "Epoch 24/50\n",
      "18263/18263 [==============================] - 2s 99us/step - loss: 55.8908 - mean_squared_error: 0.1818 - mean_absolute_error: 0.3348 - val_loss: 53.3356 - val_mean_squared_error: 0.0290 - val_mean_absolute_error: 0.1411\n",
      "Epoch 25/50\n",
      "18263/18263 [==============================] - 2s 106us/step - loss: 53.5246 - mean_squared_error: 0.1768 - mean_absolute_error: 0.3301 - val_loss: 51.0203 - val_mean_squared_error: 0.0259 - val_mean_absolute_error: 0.1327\n",
      "Epoch 26/50\n",
      "18263/18263 [==============================] - 2s 107us/step - loss: 51.2122 - mean_squared_error: 0.1711 - mean_absolute_error: 0.3246 - val_loss: 48.8259 - val_mean_squared_error: 0.0243 - val_mean_absolute_error: 0.1285\n",
      "Epoch 27/50\n",
      "18263/18263 [==============================] - 2s 108us/step - loss: 49.0152 - mean_squared_error: 0.1639 - mean_absolute_error: 0.3178 - val_loss: 46.7002 - val_mean_squared_error: 0.0241 - val_mean_absolute_error: 0.1283\n",
      "Epoch 28/50\n",
      "18263/18263 [==============================] - 2s 101us/step - loss: 46.8811 - mean_squared_error: 0.1554 - mean_absolute_error: 0.3092 - val_loss: 44.6443 - val_mean_squared_error: 0.0253 - val_mean_absolute_error: 0.1326\n",
      "Epoch 29/50\n",
      "18263/18263 [==============================] - 2s 95us/step - loss: 44.8108 - mean_squared_error: 0.1456 - mean_absolute_error: 0.2991 - val_loss: 42.6504 - val_mean_squared_error: 0.0277 - val_mean_absolute_error: 0.1410\n"
     ]
    },
    {
     "name": "stdout",
     "output_type": "stream",
     "text": [
      "Epoch 30/50\n",
      "18263/18263 [==============================] - 2s 96us/step - loss: 42.7972 - mean_squared_error: 0.1347 - mean_absolute_error: 0.2879 - val_loss: 40.7524 - val_mean_squared_error: 0.0296 - val_mean_absolute_error: 0.1480\n",
      "Epoch 31/50\n",
      "18263/18263 [==============================] - 2s 97us/step - loss: 40.8809 - mean_squared_error: 0.1238 - mean_absolute_error: 0.2766 - val_loss: 38.9025 - val_mean_squared_error: 0.0283 - val_mean_absolute_error: 0.1460\n",
      "Epoch 32/50\n",
      "18263/18263 [==============================] - 2s 117us/step - loss: 39.0186 - mean_squared_error: 0.1111 - mean_absolute_error: 0.2621 - val_loss: 37.1187 - val_mean_squared_error: 0.0221 - val_mean_absolute_error: 0.1276\n",
      "Epoch 33/50\n",
      "18263/18263 [==============================] - 2s 104us/step - loss: 37.2365 - mean_squared_error: 0.0980 - mean_absolute_error: 0.2454 - val_loss: 35.3852 - val_mean_squared_error: 0.0140 - val_mean_absolute_error: 0.0987\n",
      "Epoch 34/50\n",
      "18263/18263 [==============================] - 2s 97us/step - loss: 35.5125 - mean_squared_error: 0.0841 - mean_absolute_error: 0.2260 - val_loss: 33.6915 - val_mean_squared_error: 0.0076 - val_mean_absolute_error: 0.0718\n",
      "Epoch 35/50\n",
      "18263/18263 [==============================] - 2s 101us/step - loss: 33.8244 - mean_squared_error: 0.0700 - mean_absolute_error: 0.2048 - val_loss: 32.0864 - val_mean_squared_error: 0.0049 - val_mean_absolute_error: 0.0578\n",
      "Epoch 36/50\n",
      "18263/18263 [==============================] - 2s 100us/step - loss: 32.2088 - mean_squared_error: 0.0553 - mean_absolute_error: 0.1803 - val_loss: 30.5918 - val_mean_squared_error: 0.0046 - val_mean_absolute_error: 0.0561\n",
      "Epoch 37/50\n",
      "18263/18263 [==============================] - 2s 99us/step - loss: 30.6873 - mean_squared_error: 0.0396 - mean_absolute_error: 0.1515 - val_loss: 29.1410 - val_mean_squared_error: 0.0055 - val_mean_absolute_error: 0.0666\n",
      "Epoch 38/50\n",
      "18263/18263 [==============================] - 2s 103us/step - loss: 29.1975 - mean_squared_error: 0.0258 - mean_absolute_error: 0.1231 - val_loss: 27.7034 - val_mean_squared_error: 0.0014 - val_mean_absolute_error: 0.0330\n",
      "Epoch 39/50\n",
      "18263/18263 [==============================] - 2s 102us/step - loss: 27.7635 - mean_squared_error: 0.0154 - mean_absolute_error: 0.0931 - val_loss: 26.3398 - val_mean_squared_error: 1.0508e-04 - val_mean_absolute_error: 0.0089\n",
      "Epoch 40/50\n",
      "18263/18263 [==============================] - 2s 106us/step - loss: 26.4055 - mean_squared_error: 0.0093 - mean_absolute_error: 0.0747 - val_loss: 25.0965 - val_mean_squared_error: 0.0018 - val_mean_absolute_error: 0.0413\n",
      "Epoch 41/50\n",
      "18263/18263 [==============================] - 2s 110us/step - loss: 25.1300 - mean_squared_error: 0.0087 - mean_absolute_error: 0.0749 - val_loss: 23.8692 - val_mean_squared_error: 0.0019 - val_mean_absolute_error: 0.0352\n",
      "Epoch 42/50\n",
      "18263/18263 [==============================] - 2s 112us/step - loss: 23.9226 - mean_squared_error: 0.0135 - mean_absolute_error: 0.0886 - val_loss: 22.7015 - val_mean_squared_error: 0.0030 - val_mean_absolute_error: 0.0444\n",
      "Epoch 43/50\n",
      "18263/18263 [==============================] - 2s 112us/step - loss: 22.7620 - mean_squared_error: 0.0185 - mean_absolute_error: 0.1048 - val_loss: 21.5553 - val_mean_squared_error: 0.0016 - val_mean_absolute_error: 0.0349\n",
      "Epoch 44/50\n",
      "18263/18263 [==============================] - 2s 99us/step - loss: 21.6340 - mean_squared_error: 0.0200 - mean_absolute_error: 0.1136 - val_loss: 20.4668 - val_mean_squared_error: 0.0016 - val_mean_absolute_error: 0.0348\n",
      "Epoch 45/50\n",
      "18263/18263 [==============================] - 2s 103us/step - loss: 20.5425 - mean_squared_error: 0.0193 - mean_absolute_error: 0.1105 - val_loss: 19.4354 - val_mean_squared_error: 0.0026 - val_mean_absolute_error: 0.0413\n",
      "Epoch 46/50\n",
      "18263/18263 [==============================] - 2s 102us/step - loss: 19.4949 - mean_squared_error: 0.0170 - mean_absolute_error: 0.1008 - val_loss: 18.4379 - val_mean_squared_error: 0.0016 - val_mean_absolute_error: 0.0324\n",
      "Epoch 47/50\n",
      "18263/18263 [==============================] - 2s 100us/step - loss: 18.4918 - mean_squared_error: 0.0127 - mean_absolute_error: 0.0862 - val_loss: 17.4506 - val_mean_squared_error: 4.1592e-04 - val_mean_absolute_error: 0.0171\n",
      "Epoch 48/50\n",
      "18263/18263 [==============================] - 2s 94us/step - loss: 17.5066 - mean_squared_error: 0.0087 - mean_absolute_error: 0.0732 - val_loss: 16.5128 - val_mean_squared_error: 5.2928e-04 - val_mean_absolute_error: 0.0204\n",
      "Epoch 49/50\n",
      "18263/18263 [==============================] - 2s 103us/step - loss: 16.5573 - mean_squared_error: 0.0067 - mean_absolute_error: 0.0649 - val_loss: 15.6276 - val_mean_squared_error: 1.6017e-04 - val_mean_absolute_error: 0.0116\n",
      "Epoch 50/50\n",
      "18263/18263 [==============================] - 2s 102us/step - loss: 15.6794 - mean_squared_error: 0.0066 - mean_absolute_error: 0.0634 - val_loss: 14.8343 - val_mean_squared_error: 2.4192e-04 - val_mean_absolute_error: 0.0146\n"
     ]
    },
    {
     "name": "stderr",
     "output_type": "stream",
     "text": [
      "2018-03-24 19:20:38,646 root         INFO     Load data from SQL.\n",
      "2018-03-24 19:20:38,834 root         INFO     Test set of 945 items !\n"
     ]
    }
   ],
   "source": [
    "%matplotlib inline\n",
    "%load_ext autoreload\n",
    "%autoreload 2\n",
    "\n",
    "import matplotlib.pyplot as plt\n",
    "from bitcoin.db import get_all_data\n",
    "from bitcoin.validation import test_model\n",
    "import numpy as np\n",
    "\n",
    "df = test_model()"
   ]
  },
  {
   "cell_type": "code",
   "execution_count": 16,
   "metadata": {},
   "outputs": [
    {
     "data": {
      "text/plain": [
       "[<matplotlib.lines.Line2D at 0x127a9e860>]"
      ]
     },
     "execution_count": 16,
     "metadata": {},
     "output_type": "execute_result"
    },
    {
     "data": {
      "image/png": "[encoded data removed]",
      "text/plain": [
       "<matplotlib.figure.Figure at 0x127a9ef60>"
      ]
     },
     "metadata": {},
     "output_type": "display_data"
    }
   ],
   "source": [
    "plt.plot(df['real'], 'g')\n",
    "plt.plot(df['predicted'], 'r')"
   ]
  },
  {
   "cell_type": "code",
   "execution_count": 18,
   "metadata": {},
   "outputs": [],
   "source": [
    "from sklearn.metrics import explained_variance_score, mean_absolute_error, mean_squared_error, median_absolute_error\n",
    "\n",
    "print(\"evs: %f\" % explained_variance_score(df['real'], df['predicted']))\n",
    "print(\"mae: %f\" % explained_variance_score(df['real'], df['predicted'])))\n",
    "print(\"msr: %f\" % explained_variance_score(df['real'], df['predicted'])))\n",
    "print(\"mdae: %f\" % explained_variance_score(df['real'], df['predicted'])))"
   ]
  },
  {
   "cell_type": "code",
   "execution_count": 12,
   "metadata": {},
   "outputs": [
    {
     "data": {
      "text/html": [
       "<div>\n",
       "<style scoped>\n",
       "    .dataframe tbody tr th:only-of-type {\n",
       "        vertical-align: middle;\n",
       "    }\n",
       "\n",
       "    .dataframe tbody tr th {\n",
       "        vertical-align: top;\n",
       "    }\n",
       "\n",
       "    .dataframe thead th {\n",
       "        text-align: right;\n",
       "    }\n",
       "</style>\n",
       "<table border=\"1\" class=\"dataframe\">\n",
       "  <thead>\n",
       "    <tr style=\"text-align: right;\">\n",
       "      <th></th>\n",
       "      <th>real</th>\n",
       "      <th>predicted</th>\n",
       "      <th>diff</th>\n",
       "    </tr>\n",
       "  </thead>\n",
       "  <tbody>\n",
       "  </tbody>\n",
       "</table>\n",
       "</div>"
      ],
      "text/plain": [
       "Empty DataFrame\n",
       "Columns: [real, predicted, diff]\n",
       "Index: []"
      ]
     },
     "execution_count": 12,
     "metadata": {},
     "output_type": "execute_result"
    }
   ],
   "source": [
    "df[df.isnull().any(axis=1)]"
   ]
  },
  {
   "cell_type": "code",
   "execution_count": 13,
   "metadata": {},
   "outputs": [
    {
     "data": {
      "text/html": [
       "<div>\n",
       "<style scoped>\n",
       "    .dataframe tbody tr th:only-of-type {\n",
       "        vertical-align: middle;\n",
       "    }\n",
       "\n",
       "    .dataframe tbody tr th {\n",
       "        vertical-align: top;\n",
       "    }\n",
       "\n",
       "    .dataframe thead th {\n",
       "        text-align: right;\n",
       "    }\n",
       "</style>\n",
       "<table border=\"1\" class=\"dataframe\">\n",
       "  <thead>\n",
       "    <tr style=\"text-align: right;\">\n",
       "      <th></th>\n",
       "      <th>real</th>\n",
       "      <th>predicted</th>\n",
       "      <th>diff</th>\n",
       "    </tr>\n",
       "  </thead>\n",
       "  <tbody>\n",
       "    <tr>\n",
       "      <th>count</th>\n",
       "      <td>945.000000</td>\n",
       "      <td>945.000000</td>\n",
       "      <td>945.000000</td>\n",
       "    </tr>\n",
       "    <tr>\n",
       "      <th>mean</th>\n",
       "      <td>7178.801820</td>\n",
       "      <td>7202.261079</td>\n",
       "      <td>-23.459259</td>\n",
       "    </tr>\n",
       "    <tr>\n",
       "      <th>std</th>\n",
       "      <td>50.801682</td>\n",
       "      <td>49.148368</td>\n",
       "      <td>5.781845</td>\n",
       "    </tr>\n",
       "    <tr>\n",
       "      <th>min</th>\n",
       "      <td>7043.700000</td>\n",
       "      <td>7069.980000</td>\n",
       "      <td>-56.710000</td>\n",
       "    </tr>\n",
       "    <tr>\n",
       "      <th>25%</th>\n",
       "      <td>7161.060000</td>\n",
       "      <td>7189.240000</td>\n",
       "      <td>-25.470000</td>\n",
       "    </tr>\n",
       "    <tr>\n",
       "      <th>50%</th>\n",
       "      <td>7194.370000</td>\n",
       "      <td>7217.520000</td>\n",
       "      <td>-23.150000</td>\n",
       "    </tr>\n",
       "    <tr>\n",
       "      <th>75%</th>\n",
       "      <td>7216.920000</td>\n",
       "      <td>7239.160000</td>\n",
       "      <td>-21.980000</td>\n",
       "    </tr>\n",
       "    <tr>\n",
       "      <th>max</th>\n",
       "      <td>7265.810000</td>\n",
       "      <td>7286.610000</td>\n",
       "      <td>27.400000</td>\n",
       "    </tr>\n",
       "  </tbody>\n",
       "</table>\n",
       "</div>"
      ],
      "text/plain": [
       "              real    predicted        diff\n",
       "count   945.000000   945.000000  945.000000\n",
       "mean   7178.801820  7202.261079  -23.459259\n",
       "std      50.801682    49.148368    5.781845\n",
       "min    7043.700000  7069.980000  -56.710000\n",
       "25%    7161.060000  7189.240000  -25.470000\n",
       "50%    7194.370000  7217.520000  -23.150000\n",
       "75%    7216.920000  7239.160000  -21.980000\n",
       "max    7265.810000  7286.610000   27.400000"
      ]
     },
     "execution_count": 13,
     "metadata": {},
     "output_type": "execute_result"
    }
   ],
   "source": [
    "df.describe()"
   ]
  },
  {
   "cell_type": "code",
   "execution_count": 14,
   "metadata": {
    "scrolled": false
   },
   "outputs": [
    {
     "data": {
      "text/html": [
       "<div>\n",
       "<style scoped>\n",
       "    .dataframe tbody tr th:only-of-type {\n",
       "        vertical-align: middle;\n",
       "    }\n",
       "\n",
       "    .dataframe tbody tr th {\n",
       "        vertical-align: top;\n",
       "    }\n",
       "\n",
       "    .dataframe thead th {\n",
       "        text-align: right;\n",
       "    }\n",
       "</style>\n",
       "<table border=\"1\" class=\"dataframe\">\n",
       "  <thead>\n",
       "    <tr style=\"text-align: right;\">\n",
       "      <th></th>\n",
       "      <th>real</th>\n",
       "      <th>predicted</th>\n",
       "      <th>diff</th>\n",
       "    </tr>\n",
       "  </thead>\n",
       "  <tbody>\n",
       "    <tr>\n",
       "      <th>real</th>\n",
       "      <td>1.000000</td>\n",
       "      <td>0.993853</td>\n",
       "      <td>0.338202</td>\n",
       "    </tr>\n",
       "    <tr>\n",
       "      <th>predicted</th>\n",
       "      <td>0.993853</td>\n",
       "      <td>1.000000</td>\n",
       "      <td>0.231939</td>\n",
       "    </tr>\n",
       "    <tr>\n",
       "      <th>diff</th>\n",
       "      <td>0.338202</td>\n",
       "      <td>0.231939</td>\n",
       "      <td>1.000000</td>\n",
       "    </tr>\n",
       "  </tbody>\n",
       "</table>\n",
       "</div>"
      ],
      "text/plain": [
       "               real  predicted      diff\n",
       "real       1.000000   0.993853  0.338202\n",
       "predicted  0.993853   1.000000  0.231939\n",
       "diff       0.338202   0.231939  1.000000"
      ]
     },
     "execution_count": 14,
     "metadata": {},
     "output_type": "execute_result"
    }
   ],
   "source": [
    "df.corr()"
   ]
  },
  {
   "cell_type": "code",
   "execution_count": 15,
   "metadata": {
    "scrolled": true
   },
   "outputs": [
    {
     "ename": "KeyError",
     "evalue": "'close'",
     "output_type": "error",
     "traceback": [
      "\u001b[0;31m---------------------------------------------------------------------------\u001b[0m",
      "\u001b[0;31mKeyError\u001b[0m                                  Traceback (most recent call last)",
      "\u001b[0;32m/anaconda3/lib/python3.6/site-packages/pandas/core/indexes/base.py\u001b[0m in \u001b[0;36mget_loc\u001b[0;34m(self, key, method, tolerance)\u001b[0m\n\u001b[1;32m   2524\u001b[0m             \u001b[0;32mtry\u001b[0m\u001b[0;34m:\u001b[0m\u001b[0;34m\u001b[0m\u001b[0m\n\u001b[0;32m-> 2525\u001b[0;31m                 \u001b[0;32mreturn\u001b[0m \u001b[0mself\u001b[0m\u001b[0;34m.\u001b[0m\u001b[0m_engine\u001b[0m\u001b[0;34m.\u001b[0m\u001b[0mget_loc\u001b[0m\u001b[0;34m(\u001b[0m\u001b[0mkey\u001b[0m\u001b[0;34m)\u001b[0m\u001b[0;34m\u001b[0m\u001b[0m\n\u001b[0m\u001b[1;32m   2526\u001b[0m             \u001b[0;32mexcept\u001b[0m \u001b[0mKeyError\u001b[0m\u001b[0;34m:\u001b[0m\u001b[0;34m\u001b[0m\u001b[0m\n",
      "\u001b[0;32mpandas/_libs/index.pyx\u001b[0m in \u001b[0;36mpandas._libs.index.IndexEngine.get_loc\u001b[0;34m()\u001b[0m\n",
      "\u001b[0;32mpandas/_libs/index.pyx\u001b[0m in \u001b[0;36mpandas._libs.index.IndexEngine.get_loc\u001b[0;34m()\u001b[0m\n",
      "\u001b[0;32mpandas/_libs/hashtable_class_helper.pxi\u001b[0m in \u001b[0;36mpandas._libs.hashtable.PyObjectHashTable.get_item\u001b[0;34m()\u001b[0m\n",
      "\u001b[0;32mpandas/_libs/hashtable_class_helper.pxi\u001b[0m in \u001b[0;36mpandas._libs.hashtable.PyObjectHashTable.get_item\u001b[0;34m()\u001b[0m\n",
      "\u001b[0;31mKeyError\u001b[0m: 'close'",
      "\nDuring handling of the above exception, another exception occurred:\n",
      "\u001b[0;31mKeyError\u001b[0m                                  Traceback (most recent call last)",
      "\u001b[0;32m<ipython-input-15-7a270239eb3f>\u001b[0m in \u001b[0;36m<module>\u001b[0;34m()\u001b[0m\n\u001b[0;32m----> 1\u001b[0;31m \u001b[0mplt\u001b[0m\u001b[0;34m.\u001b[0m\u001b[0mplot\u001b[0m\u001b[0;34m(\u001b[0m\u001b[0mdf\u001b[0m\u001b[0;34m[\u001b[0m\u001b[0;34m'close'\u001b[0m\u001b[0;34m]\u001b[0m\u001b[0;34m,\u001b[0m \u001b[0;34m'b'\u001b[0m\u001b[0;34m)\u001b[0m\u001b[0;34m\u001b[0m\u001b[0m\n\u001b[0m",
      "\u001b[0;32m/anaconda3/lib/python3.6/site-packages/pandas/core/frame.py\u001b[0m in \u001b[0;36m__getitem__\u001b[0;34m(self, key)\u001b[0m\n\u001b[1;32m   2137\u001b[0m             \u001b[0;32mreturn\u001b[0m \u001b[0mself\u001b[0m\u001b[0;34m.\u001b[0m\u001b[0m_getitem_multilevel\u001b[0m\u001b[0;34m(\u001b[0m\u001b[0mkey\u001b[0m\u001b[0;34m)\u001b[0m\u001b[0;34m\u001b[0m\u001b[0m\n\u001b[1;32m   2138\u001b[0m         \u001b[0;32melse\u001b[0m\u001b[0;34m:\u001b[0m\u001b[0;34m\u001b[0m\u001b[0m\n\u001b[0;32m-> 2139\u001b[0;31m             \u001b[0;32mreturn\u001b[0m \u001b[0mself\u001b[0m\u001b[0;34m.\u001b[0m\u001b[0m_getitem_column\u001b[0m\u001b[0;34m(\u001b[0m\u001b[0mkey\u001b[0m\u001b[0;34m)\u001b[0m\u001b[0;34m\u001b[0m\u001b[0m\n\u001b[0m\u001b[1;32m   2140\u001b[0m \u001b[0;34m\u001b[0m\u001b[0m\n\u001b[1;32m   2141\u001b[0m     \u001b[0;32mdef\u001b[0m \u001b[0m_getitem_column\u001b[0m\u001b[0;34m(\u001b[0m\u001b[0mself\u001b[0m\u001b[0;34m,\u001b[0m \u001b[0mkey\u001b[0m\u001b[0;34m)\u001b[0m\u001b[0;34m:\u001b[0m\u001b[0;34m\u001b[0m\u001b[0m\n",
      "\u001b[0;32m/anaconda3/lib/python3.6/site-packages/pandas/core/frame.py\u001b[0m in \u001b[0;36m_getitem_column\u001b[0;34m(self, key)\u001b[0m\n\u001b[1;32m   2144\u001b[0m         \u001b[0;31m# get column\u001b[0m\u001b[0;34m\u001b[0m\u001b[0;34m\u001b[0m\u001b[0m\n\u001b[1;32m   2145\u001b[0m         \u001b[0;32mif\u001b[0m \u001b[0mself\u001b[0m\u001b[0;34m.\u001b[0m\u001b[0mcolumns\u001b[0m\u001b[0;34m.\u001b[0m\u001b[0mis_unique\u001b[0m\u001b[0;34m:\u001b[0m\u001b[0;34m\u001b[0m\u001b[0m\n\u001b[0;32m-> 2146\u001b[0;31m             \u001b[0;32mreturn\u001b[0m \u001b[0mself\u001b[0m\u001b[0;34m.\u001b[0m\u001b[0m_get_item_cache\u001b[0m\u001b[0;34m(\u001b[0m\u001b[0mkey\u001b[0m\u001b[0;34m)\u001b[0m\u001b[0;34m\u001b[0m\u001b[0m\n\u001b[0m\u001b[1;32m   2147\u001b[0m \u001b[0;34m\u001b[0m\u001b[0m\n\u001b[1;32m   2148\u001b[0m         \u001b[0;31m# duplicate columns & possible reduce dimensionality\u001b[0m\u001b[0;34m\u001b[0m\u001b[0;34m\u001b[0m\u001b[0m\n",
      "\u001b[0;32m/anaconda3/lib/python3.6/site-packages/pandas/core/generic.py\u001b[0m in \u001b[0;36m_get_item_cache\u001b[0;34m(self, item)\u001b[0m\n\u001b[1;32m   1840\u001b[0m         \u001b[0mres\u001b[0m \u001b[0;34m=\u001b[0m \u001b[0mcache\u001b[0m\u001b[0;34m.\u001b[0m\u001b[0mget\u001b[0m\u001b[0;34m(\u001b[0m\u001b[0mitem\u001b[0m\u001b[0;34m)\u001b[0m\u001b[0;34m\u001b[0m\u001b[0m\n\u001b[1;32m   1841\u001b[0m         \u001b[0;32mif\u001b[0m \u001b[0mres\u001b[0m \u001b[0;32mis\u001b[0m \u001b[0;32mNone\u001b[0m\u001b[0;34m:\u001b[0m\u001b[0;34m\u001b[0m\u001b[0m\n\u001b[0;32m-> 1842\u001b[0;31m             \u001b[0mvalues\u001b[0m \u001b[0;34m=\u001b[0m \u001b[0mself\u001b[0m\u001b[0;34m.\u001b[0m\u001b[0m_data\u001b[0m\u001b[0;34m.\u001b[0m\u001b[0mget\u001b[0m\u001b[0;34m(\u001b[0m\u001b[0mitem\u001b[0m\u001b[0;34m)\u001b[0m\u001b[0;34m\u001b[0m\u001b[0m\n\u001b[0m\u001b[1;32m   1843\u001b[0m             \u001b[0mres\u001b[0m \u001b[0;34m=\u001b[0m \u001b[0mself\u001b[0m\u001b[0;34m.\u001b[0m\u001b[0m_box_item_values\u001b[0m\u001b[0;34m(\u001b[0m\u001b[0mitem\u001b[0m\u001b[0;34m,\u001b[0m \u001b[0mvalues\u001b[0m\u001b[0;34m)\u001b[0m\u001b[0;34m\u001b[0m\u001b[0m\n\u001b[1;32m   1844\u001b[0m             \u001b[0mcache\u001b[0m\u001b[0;34m[\u001b[0m\u001b[0mitem\u001b[0m\u001b[0;34m]\u001b[0m \u001b[0;34m=\u001b[0m \u001b[0mres\u001b[0m\u001b[0;34m\u001b[0m\u001b[0m\n",
      "\u001b[0;32m/anaconda3/lib/python3.6/site-packages/pandas/core/internals.py\u001b[0m in \u001b[0;36mget\u001b[0;34m(self, item, fastpath)\u001b[0m\n\u001b[1;32m   3841\u001b[0m \u001b[0;34m\u001b[0m\u001b[0m\n\u001b[1;32m   3842\u001b[0m             \u001b[0;32mif\u001b[0m \u001b[0;32mnot\u001b[0m \u001b[0misna\u001b[0m\u001b[0;34m(\u001b[0m\u001b[0mitem\u001b[0m\u001b[0;34m)\u001b[0m\u001b[0;34m:\u001b[0m\u001b[0;34m\u001b[0m\u001b[0m\n\u001b[0;32m-> 3843\u001b[0;31m                 \u001b[0mloc\u001b[0m \u001b[0;34m=\u001b[0m \u001b[0mself\u001b[0m\u001b[0;34m.\u001b[0m\u001b[0mitems\u001b[0m\u001b[0;34m.\u001b[0m\u001b[0mget_loc\u001b[0m\u001b[0;34m(\u001b[0m\u001b[0mitem\u001b[0m\u001b[0;34m)\u001b[0m\u001b[0;34m\u001b[0m\u001b[0m\n\u001b[0m\u001b[1;32m   3844\u001b[0m             \u001b[0;32melse\u001b[0m\u001b[0;34m:\u001b[0m\u001b[0;34m\u001b[0m\u001b[0m\n\u001b[1;32m   3845\u001b[0m                 \u001b[0mindexer\u001b[0m \u001b[0;34m=\u001b[0m \u001b[0mnp\u001b[0m\u001b[0;34m.\u001b[0m\u001b[0marange\u001b[0m\u001b[0;34m(\u001b[0m\u001b[0mlen\u001b[0m\u001b[0;34m(\u001b[0m\u001b[0mself\u001b[0m\u001b[0;34m.\u001b[0m\u001b[0mitems\u001b[0m\u001b[0;34m)\u001b[0m\u001b[0;34m)\u001b[0m\u001b[0;34m[\u001b[0m\u001b[0misna\u001b[0m\u001b[0;34m(\u001b[0m\u001b[0mself\u001b[0m\u001b[0;34m.\u001b[0m\u001b[0mitems\u001b[0m\u001b[0;34m)\u001b[0m\u001b[0;34m]\u001b[0m\u001b[0;34m\u001b[0m\u001b[0m\n",
      "\u001b[0;32m/anaconda3/lib/python3.6/site-packages/pandas/core/indexes/base.py\u001b[0m in \u001b[0;36mget_loc\u001b[0;34m(self, key, method, tolerance)\u001b[0m\n\u001b[1;32m   2525\u001b[0m                 \u001b[0;32mreturn\u001b[0m \u001b[0mself\u001b[0m\u001b[0;34m.\u001b[0m\u001b[0m_engine\u001b[0m\u001b[0;34m.\u001b[0m\u001b[0mget_loc\u001b[0m\u001b[0;34m(\u001b[0m\u001b[0mkey\u001b[0m\u001b[0;34m)\u001b[0m\u001b[0;34m\u001b[0m\u001b[0m\n\u001b[1;32m   2526\u001b[0m             \u001b[0;32mexcept\u001b[0m \u001b[0mKeyError\u001b[0m\u001b[0;34m:\u001b[0m\u001b[0;34m\u001b[0m\u001b[0m\n\u001b[0;32m-> 2527\u001b[0;31m                 \u001b[0;32mreturn\u001b[0m \u001b[0mself\u001b[0m\u001b[0;34m.\u001b[0m\u001b[0m_engine\u001b[0m\u001b[0;34m.\u001b[0m\u001b[0mget_loc\u001b[0m\u001b[0;34m(\u001b[0m\u001b[0mself\u001b[0m\u001b[0;34m.\u001b[0m\u001b[0m_maybe_cast_indexer\u001b[0m\u001b[0;34m(\u001b[0m\u001b[0mkey\u001b[0m\u001b[0;34m)\u001b[0m\u001b[0;34m)\u001b[0m\u001b[0;34m\u001b[0m\u001b[0m\n\u001b[0m\u001b[1;32m   2528\u001b[0m \u001b[0;34m\u001b[0m\u001b[0m\n\u001b[1;32m   2529\u001b[0m         \u001b[0mindexer\u001b[0m \u001b[0;34m=\u001b[0m \u001b[0mself\u001b[0m\u001b[0;34m.\u001b[0m\u001b[0mget_indexer\u001b[0m\u001b[0;34m(\u001b[0m\u001b[0;34m[\u001b[0m\u001b[0mkey\u001b[0m\u001b[0;34m]\u001b[0m\u001b[0;34m,\u001b[0m \u001b[0mmethod\u001b[0m\u001b[0;34m=\u001b[0m\u001b[0mmethod\u001b[0m\u001b[0;34m,\u001b[0m \u001b[0mtolerance\u001b[0m\u001b[0;34m=\u001b[0m\u001b[0mtolerance\u001b[0m\u001b[0;34m)\u001b[0m\u001b[0;34m\u001b[0m\u001b[0m\n",
      "\u001b[0;32mpandas/_libs/index.pyx\u001b[0m in \u001b[0;36mpandas._libs.index.IndexEngine.get_loc\u001b[0;34m()\u001b[0m\n",
      "\u001b[0;32mpandas/_libs/index.pyx\u001b[0m in \u001b[0;36mpandas._libs.index.IndexEngine.get_loc\u001b[0;34m()\u001b[0m\n",
      "\u001b[0;32mpandas/_libs/hashtable_class_helper.pxi\u001b[0m in \u001b[0;36mpandas._libs.hashtable.PyObjectHashTable.get_item\u001b[0;34m()\u001b[0m\n",
      "\u001b[0;32mpandas/_libs/hashtable_class_helper.pxi\u001b[0m in \u001b[0;36mpandas._libs.hashtable.PyObjectHashTable.get_item\u001b[0;34m()\u001b[0m\n",
      "\u001b[0;31mKeyError\u001b[0m: 'close'"
     ]
    }
   ],
   "source": [
    "plt.plot(df['close'], 'b')"
   ]
  },
  {
   "cell_type": "code",
   "execution_count": null,
   "metadata": {},
   "outputs": [],
   "source": [
    "max = df['open'].count()\n",
    "limit = int(0.3 * max)\n",
    "plt.plot(df['open'][0:max - limit], 'g')\n",
    "plt.plot(df['open'][-limit:], 'r')"
   ]
  },
  {
   "cell_type": "code",
   "execution_count": null,
   "metadata": {},
   "outputs": [],
   "source": [
    "df.hist(figsize=(10,10))"
   ]
  },
  {
   "cell_type": "code",
   "execution_count": null,
   "metadata": {},
   "outputs": [],
   "source": [
    "from bitcoin.core import Core\n",
    "core = Core()\n",
    "core.train_scaler(df=df)"
   ]
  },
  {
   "cell_type": "code",
   "execution_count": null,
   "metadata": {},
   "outputs": [],
   "source": [
    "from bitcoin.core import Core\n",
    "core = Core()\n",
    "history = core.train(df=df)"
   ]
  },
  {
   "cell_type": "code",
   "execution_count": null,
   "metadata": {},
   "outputs": [],
   "source": [
    "plt.plot(history.history['mean_absolute_error'], 'r')\n",
    "plt.plot(history.history['mean_squared_error'], 'g')"
   ]
  },
  {
   "cell_type": "code",
   "execution_count": null,
   "metadata": {},
   "outputs": [],
   "source": [
    "core.train_anomaly(df=df)"
   ]
  },
  {
   "cell_type": "code",
   "execution_count": null,
   "metadata": {},
   "outputs": [],
   "source": [
    "df_predicted = core.test_order_percent(df=df)"
   ]
  },
  {
   "cell_type": "code",
   "execution_count": null,
   "metadata": {},
   "outputs": [],
   "source": [
    "df_predicted.describe()"
   ]
  },
  {
   "cell_type": "code",
   "execution_count": null,
   "metadata": {},
   "outputs": [],
   "source": [
    "n_test = int(0.3 * df['open'].count())\n",
    "df_test = df[-n_test:].reset_index()\n",
    "plt.plot(df_test['close'], 'g')\n",
    "plt.plot(df_predicted['predicted'], 'r')"
   ]
  },
  {
   "cell_type": "code",
   "execution_count": null,
   "metadata": {
    "collapsed": true
   },
   "outputs": [],
   "source": []
  }
 ],
 "metadata": {
  "kernelspec": {
   "display_name": "Python 3",
   "language": "python",
   "name": "python3"
  },
  "language_info": {
   "codemirror_mode": {
    "name": "ipython",
    "version": 3
   },
   "file_extension": ".py",
   "mimetype": "text/x-python",
   "name": "python",
   "nbconvert_exporter": "python",
   "pygments_lexer": "ipython3",
   "version": "3.6.2"
  }
 },
 "nbformat": 4,
 "nbformat_minor": 2
}
