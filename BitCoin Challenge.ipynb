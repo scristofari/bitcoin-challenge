{
 "cells": [
  {
   "cell_type": "code",
   "execution_count": 1,
   "metadata": {
    "scrolled": true
   },
   "outputs": [
    {
     "data": {
      "text/html": [
       "<div>\n",
       "<style scoped>\n",
       "    .dataframe tbody tr th:only-of-type {\n",
       "        vertical-align: middle;\n",
       "    }\n",
       "\n",
       "    .dataframe tbody tr th {\n",
       "        vertical-align: top;\n",
       "    }\n",
       "\n",
       "    .dataframe thead th {\n",
       "        text-align: right;\n",
       "    }\n",
       "</style>\n",
       "<table border=\"1\" class=\"dataframe\">\n",
       "  <thead>\n",
       "    <tr style=\"text-align: right;\">\n",
       "      <th></th>\n",
       "      <th>time</th>\n",
       "      <th>low</th>\n",
       "      <th>high</th>\n",
       "      <th>open</th>\n",
       "      <th>close</th>\n",
       "      <th>volume</th>\n",
       "      <th>tw_sentiment</th>\n",
       "      <th>tw_followers</th>\n",
       "      <th>reddit_sentiment</th>\n",
       "      <th>google_sentiment</th>\n",
       "    </tr>\n",
       "  </thead>\n",
       "  <tbody>\n",
       "    <tr>\n",
       "      <th>1657</th>\n",
       "      <td>1520372160</td>\n",
       "      <td>NaN</td>\n",
       "      <td>NaN</td>\n",
       "      <td>NaN</td>\n",
       "      <td>NaN</td>\n",
       "      <td>0.654339</td>\n",
       "      <td>0.025497</td>\n",
       "      <td>865323.0</td>\n",
       "      <td>-0.010816</td>\n",
       "      <td>0.081297</td>\n",
       "    </tr>\n",
       "    <tr>\n",
       "      <th>1709</th>\n",
       "      <td>1520375280</td>\n",
       "      <td>NaN</td>\n",
       "      <td>8680.46</td>\n",
       "      <td>8680.46</td>\n",
       "      <td>8680.46</td>\n",
       "      <td>0.371350</td>\n",
       "      <td>0.024812</td>\n",
       "      <td>872689.0</td>\n",
       "      <td>0.006467</td>\n",
       "      <td>0.094706</td>\n",
       "    </tr>\n",
       "  </tbody>\n",
       "</table>\n",
       "</div>"
      ],
      "text/plain": [
       "            time  low     high     open    close    volume  tw_sentiment  \\\n",
       "1657  1520372160  NaN      NaN      NaN      NaN  0.654339      0.025497   \n",
       "1709  1520375280  NaN  8680.46  8680.46  8680.46  0.371350      0.024812   \n",
       "\n",
       "      tw_followers  reddit_sentiment  google_sentiment  \n",
       "1657      865323.0         -0.010816          0.081297  \n",
       "1709      872689.0          0.006467          0.094706  "
      ]
     },
     "execution_count": 1,
     "metadata": {},
     "output_type": "execute_result"
    }
   ],
   "source": [
    "%matplotlib inline\n",
    "import matplotlib.pyplot as plt\n",
    "\n",
    "from bitcoin import engine\n",
    "df = engine.load_data('BTC-EUR')\n",
    "\n",
    "df[df.isnull().any(axis=1)]"
   ]
  },
  {
   "cell_type": "code",
   "execution_count": 2,
   "metadata": {},
   "outputs": [
    {
     "data": {
      "text/html": [
       "<div>\n",
       "<style scoped>\n",
       "    .dataframe tbody tr th:only-of-type {\n",
       "        vertical-align: middle;\n",
       "    }\n",
       "\n",
       "    .dataframe tbody tr th {\n",
       "        vertical-align: top;\n",
       "    }\n",
       "\n",
       "    .dataframe thead th {\n",
       "        text-align: right;\n",
       "    }\n",
       "</style>\n",
       "<table border=\"1\" class=\"dataframe\">\n",
       "  <thead>\n",
       "    <tr style=\"text-align: right;\">\n",
       "      <th></th>\n",
       "      <th>time</th>\n",
       "      <th>low</th>\n",
       "      <th>high</th>\n",
       "      <th>open</th>\n",
       "      <th>close</th>\n",
       "      <th>volume</th>\n",
       "      <th>tw_sentiment</th>\n",
       "      <th>tw_followers</th>\n",
       "      <th>reddit_sentiment</th>\n",
       "      <th>google_sentiment</th>\n",
       "    </tr>\n",
       "  </thead>\n",
       "  <tbody>\n",
       "    <tr>\n",
       "      <th>count</th>\n",
       "      <td>2.262000e+03</td>\n",
       "      <td>2260.000000</td>\n",
       "      <td>2261.000000</td>\n",
       "      <td>2261.000000</td>\n",
       "      <td>2261.000000</td>\n",
       "      <td>2262.000000</td>\n",
       "      <td>2262.000000</td>\n",
       "      <td>2.262000e+03</td>\n",
       "      <td>2262.000000</td>\n",
       "      <td>2262.000000</td>\n",
       "    </tr>\n",
       "    <tr>\n",
       "      <th>mean</th>\n",
       "      <td>1.520340e+09</td>\n",
       "      <td>8946.692279</td>\n",
       "      <td>8950.110770</td>\n",
       "      <td>8948.462689</td>\n",
       "      <td>8948.390831</td>\n",
       "      <td>1.210724</td>\n",
       "      <td>0.052982</td>\n",
       "      <td>8.564956e+05</td>\n",
       "      <td>0.039745</td>\n",
       "      <td>0.119376</td>\n",
       "    </tr>\n",
       "    <tr>\n",
       "      <th>std</th>\n",
       "      <td>3.934646e+04</td>\n",
       "      <td>275.181231</td>\n",
       "      <td>273.778234</td>\n",
       "      <td>274.505544</td>\n",
       "      <td>274.382988</td>\n",
       "      <td>3.262533</td>\n",
       "      <td>0.027323</td>\n",
       "      <td>2.387969e+05</td>\n",
       "      <td>0.038126</td>\n",
       "      <td>0.045904</td>\n",
       "    </tr>\n",
       "    <tr>\n",
       "      <th>min</th>\n",
       "      <td>1.520272e+09</td>\n",
       "      <td>8450.000000</td>\n",
       "      <td>8461.000000</td>\n",
       "      <td>8461.000000</td>\n",
       "      <td>8450.010000</td>\n",
       "      <td>0.001000</td>\n",
       "      <td>-0.015150</td>\n",
       "      <td>3.329640e+05</td>\n",
       "      <td>-0.017144</td>\n",
       "      <td>0.025257</td>\n",
       "    </tr>\n",
       "    <tr>\n",
       "      <th>25%</th>\n",
       "      <td>1.520306e+09</td>\n",
       "      <td>8706.140000</td>\n",
       "      <td>8714.530000</td>\n",
       "      <td>8708.210000</td>\n",
       "      <td>8710.700000</td>\n",
       "      <td>0.100000</td>\n",
       "      <td>0.028504</td>\n",
       "      <td>7.158448e+05</td>\n",
       "      <td>0.005665</td>\n",
       "      <td>0.085257</td>\n",
       "    </tr>\n",
       "    <tr>\n",
       "      <th>50%</th>\n",
       "      <td>1.520340e+09</td>\n",
       "      <td>8864.140000</td>\n",
       "      <td>8865.520000</td>\n",
       "      <td>8865.000000</td>\n",
       "      <td>8865.010000</td>\n",
       "      <td>0.342639</td>\n",
       "      <td>0.055760</td>\n",
       "      <td>8.477085e+05</td>\n",
       "      <td>0.035227</td>\n",
       "      <td>0.121230</td>\n",
       "    </tr>\n",
       "    <tr>\n",
       "      <th>75%</th>\n",
       "      <td>1.520374e+09</td>\n",
       "      <td>9169.270000</td>\n",
       "      <td>9169.410000</td>\n",
       "      <td>9169.390000</td>\n",
       "      <td>9169.390000</td>\n",
       "      <td>1.131088</td>\n",
       "      <td>0.069678</td>\n",
       "      <td>1.046668e+06</td>\n",
       "      <td>0.083003</td>\n",
       "      <td>0.160463</td>\n",
       "    </tr>\n",
       "    <tr>\n",
       "      <th>max</th>\n",
       "      <td>1.520408e+09</td>\n",
       "      <td>9399.000000</td>\n",
       "      <td>9399.000000</td>\n",
       "      <td>9399.000000</td>\n",
       "      <td>9399.000000</td>\n",
       "      <td>90.488639</td>\n",
       "      <td>0.118355</td>\n",
       "      <td>1.365095e+06</td>\n",
       "      <td>0.102910</td>\n",
       "      <td>0.192206</td>\n",
       "    </tr>\n",
       "  </tbody>\n",
       "</table>\n",
       "</div>"
      ],
      "text/plain": [
       "               time          low         high         open        close  \\\n",
       "count  2.262000e+03  2260.000000  2261.000000  2261.000000  2261.000000   \n",
       "mean   1.520340e+09  8946.692279  8950.110770  8948.462689  8948.390831   \n",
       "std    3.934646e+04   275.181231   273.778234   274.505544   274.382988   \n",
       "min    1.520272e+09  8450.000000  8461.000000  8461.000000  8450.010000   \n",
       "25%    1.520306e+09  8706.140000  8714.530000  8708.210000  8710.700000   \n",
       "50%    1.520340e+09  8864.140000  8865.520000  8865.000000  8865.010000   \n",
       "75%    1.520374e+09  9169.270000  9169.410000  9169.390000  9169.390000   \n",
       "max    1.520408e+09  9399.000000  9399.000000  9399.000000  9399.000000   \n",
       "\n",
       "            volume  tw_sentiment  tw_followers  reddit_sentiment  \\\n",
       "count  2262.000000   2262.000000  2.262000e+03       2262.000000   \n",
       "mean      1.210724      0.052982  8.564956e+05          0.039745   \n",
       "std       3.262533      0.027323  2.387969e+05          0.038126   \n",
       "min       0.001000     -0.015150  3.329640e+05         -0.017144   \n",
       "25%       0.100000      0.028504  7.158448e+05          0.005665   \n",
       "50%       0.342639      0.055760  8.477085e+05          0.035227   \n",
       "75%       1.131088      0.069678  1.046668e+06          0.083003   \n",
       "max      90.488639      0.118355  1.365095e+06          0.102910   \n",
       "\n",
       "       google_sentiment  \n",
       "count       2262.000000  \n",
       "mean           0.119376  \n",
       "std            0.045904  \n",
       "min            0.025257  \n",
       "25%            0.085257  \n",
       "50%            0.121230  \n",
       "75%            0.160463  \n",
       "max            0.192206  "
      ]
     },
     "execution_count": 2,
     "metadata": {},
     "output_type": "execute_result"
    }
   ],
   "source": [
    "df.describe()"
   ]
  },
  {
   "cell_type": "code",
   "execution_count": 3,
   "metadata": {
    "scrolled": false
   },
   "outputs": [
    {
     "data": {
      "text/html": [
       "<div>\n",
       "<style scoped>\n",
       "    .dataframe tbody tr th:only-of-type {\n",
       "        vertical-align: middle;\n",
       "    }\n",
       "\n",
       "    .dataframe tbody tr th {\n",
       "        vertical-align: top;\n",
       "    }\n",
       "\n",
       "    .dataframe thead th {\n",
       "        text-align: right;\n",
       "    }\n",
       "</style>\n",
       "<table border=\"1\" class=\"dataframe\">\n",
       "  <thead>\n",
       "    <tr style=\"text-align: right;\">\n",
       "      <th></th>\n",
       "      <th>time</th>\n",
       "      <th>low</th>\n",
       "      <th>high</th>\n",
       "      <th>open</th>\n",
       "      <th>close</th>\n",
       "      <th>volume</th>\n",
       "      <th>tw_sentiment</th>\n",
       "      <th>tw_followers</th>\n",
       "      <th>reddit_sentiment</th>\n",
       "      <th>google_sentiment</th>\n",
       "    </tr>\n",
       "  </thead>\n",
       "  <tbody>\n",
       "    <tr>\n",
       "      <th>time</th>\n",
       "      <td>1.000000</td>\n",
       "      <td>-0.937098</td>\n",
       "      <td>-0.938952</td>\n",
       "      <td>-0.938128</td>\n",
       "      <td>-0.938205</td>\n",
       "      <td>0.059766</td>\n",
       "      <td>-0.502404</td>\n",
       "      <td>-0.590401</td>\n",
       "      <td>-0.788984</td>\n",
       "      <td>0.327421</td>\n",
       "    </tr>\n",
       "    <tr>\n",
       "      <th>low</th>\n",
       "      <td>-0.937098</td>\n",
       "      <td>1.000000</td>\n",
       "      <td>0.999530</td>\n",
       "      <td>0.999689</td>\n",
       "      <td>0.999790</td>\n",
       "      <td>-0.127227</td>\n",
       "      <td>0.494828</td>\n",
       "      <td>0.622517</td>\n",
       "      <td>0.781161</td>\n",
       "      <td>-0.248832</td>\n",
       "    </tr>\n",
       "    <tr>\n",
       "      <th>high</th>\n",
       "      <td>-0.938952</td>\n",
       "      <td>0.999530</td>\n",
       "      <td>1.000000</td>\n",
       "      <td>0.999813</td>\n",
       "      <td>0.999790</td>\n",
       "      <td>-0.107487</td>\n",
       "      <td>0.494706</td>\n",
       "      <td>0.622311</td>\n",
       "      <td>0.782839</td>\n",
       "      <td>-0.250633</td>\n",
       "    </tr>\n",
       "    <tr>\n",
       "      <th>open</th>\n",
       "      <td>-0.938128</td>\n",
       "      <td>0.999689</td>\n",
       "      <td>0.999813</td>\n",
       "      <td>1.000000</td>\n",
       "      <td>0.999639</td>\n",
       "      <td>-0.112052</td>\n",
       "      <td>0.494745</td>\n",
       "      <td>0.622081</td>\n",
       "      <td>0.782509</td>\n",
       "      <td>-0.249305</td>\n",
       "    </tr>\n",
       "    <tr>\n",
       "      <th>close</th>\n",
       "      <td>-0.938205</td>\n",
       "      <td>0.999790</td>\n",
       "      <td>0.999790</td>\n",
       "      <td>0.999639</td>\n",
       "      <td>1.000000</td>\n",
       "      <td>-0.116846</td>\n",
       "      <td>0.495129</td>\n",
       "      <td>0.622523</td>\n",
       "      <td>0.781995</td>\n",
       "      <td>-0.249851</td>\n",
       "    </tr>\n",
       "    <tr>\n",
       "      <th>volume</th>\n",
       "      <td>0.059766</td>\n",
       "      <td>-0.127227</td>\n",
       "      <td>-0.107487</td>\n",
       "      <td>-0.112052</td>\n",
       "      <td>-0.116846</td>\n",
       "      <td>1.000000</td>\n",
       "      <td>0.005998</td>\n",
       "      <td>-0.155021</td>\n",
       "      <td>-0.018384</td>\n",
       "      <td>-0.048828</td>\n",
       "    </tr>\n",
       "    <tr>\n",
       "      <th>tw_sentiment</th>\n",
       "      <td>-0.502404</td>\n",
       "      <td>0.494828</td>\n",
       "      <td>0.494706</td>\n",
       "      <td>0.494745</td>\n",
       "      <td>0.495129</td>\n",
       "      <td>0.005998</td>\n",
       "      <td>1.000000</td>\n",
       "      <td>0.190395</td>\n",
       "      <td>0.426702</td>\n",
       "      <td>0.100827</td>\n",
       "    </tr>\n",
       "    <tr>\n",
       "      <th>tw_followers</th>\n",
       "      <td>-0.590401</td>\n",
       "      <td>0.622517</td>\n",
       "      <td>0.622311</td>\n",
       "      <td>0.622081</td>\n",
       "      <td>0.622523</td>\n",
       "      <td>-0.155021</td>\n",
       "      <td>0.190395</td>\n",
       "      <td>1.000000</td>\n",
       "      <td>0.491016</td>\n",
       "      <td>-0.047236</td>\n",
       "    </tr>\n",
       "    <tr>\n",
       "      <th>reddit_sentiment</th>\n",
       "      <td>-0.788984</td>\n",
       "      <td>0.781161</td>\n",
       "      <td>0.782839</td>\n",
       "      <td>0.782509</td>\n",
       "      <td>0.781995</td>\n",
       "      <td>-0.018384</td>\n",
       "      <td>0.426702</td>\n",
       "      <td>0.491016</td>\n",
       "      <td>1.000000</td>\n",
       "      <td>-0.483478</td>\n",
       "    </tr>\n",
       "    <tr>\n",
       "      <th>google_sentiment</th>\n",
       "      <td>0.327421</td>\n",
       "      <td>-0.248832</td>\n",
       "      <td>-0.250633</td>\n",
       "      <td>-0.249305</td>\n",
       "      <td>-0.249851</td>\n",
       "      <td>-0.048828</td>\n",
       "      <td>0.100827</td>\n",
       "      <td>-0.047236</td>\n",
       "      <td>-0.483478</td>\n",
       "      <td>1.000000</td>\n",
       "    </tr>\n",
       "  </tbody>\n",
       "</table>\n",
       "</div>"
      ],
      "text/plain": [
       "                      time       low      high      open     close    volume  \\\n",
       "time              1.000000 -0.937098 -0.938952 -0.938128 -0.938205  0.059766   \n",
       "low              -0.937098  1.000000  0.999530  0.999689  0.999790 -0.127227   \n",
       "high             -0.938952  0.999530  1.000000  0.999813  0.999790 -0.107487   \n",
       "open             -0.938128  0.999689  0.999813  1.000000  0.999639 -0.112052   \n",
       "close            -0.938205  0.999790  0.999790  0.999639  1.000000 -0.116846   \n",
       "volume            0.059766 -0.127227 -0.107487 -0.112052 -0.116846  1.000000   \n",
       "tw_sentiment     -0.502404  0.494828  0.494706  0.494745  0.495129  0.005998   \n",
       "tw_followers     -0.590401  0.622517  0.622311  0.622081  0.622523 -0.155021   \n",
       "reddit_sentiment -0.788984  0.781161  0.782839  0.782509  0.781995 -0.018384   \n",
       "google_sentiment  0.327421 -0.248832 -0.250633 -0.249305 -0.249851 -0.048828   \n",
       "\n",
       "                  tw_sentiment  tw_followers  reddit_sentiment  \\\n",
       "time                 -0.502404     -0.590401         -0.788984   \n",
       "low                   0.494828      0.622517          0.781161   \n",
       "high                  0.494706      0.622311          0.782839   \n",
       "open                  0.494745      0.622081          0.782509   \n",
       "close                 0.495129      0.622523          0.781995   \n",
       "volume                0.005998     -0.155021         -0.018384   \n",
       "tw_sentiment          1.000000      0.190395          0.426702   \n",
       "tw_followers          0.190395      1.000000          0.491016   \n",
       "reddit_sentiment      0.426702      0.491016          1.000000   \n",
       "google_sentiment      0.100827     -0.047236         -0.483478   \n",
       "\n",
       "                  google_sentiment  \n",
       "time                      0.327421  \n",
       "low                      -0.248832  \n",
       "high                     -0.250633  \n",
       "open                     -0.249305  \n",
       "close                    -0.249851  \n",
       "volume                   -0.048828  \n",
       "tw_sentiment              0.100827  \n",
       "tw_followers             -0.047236  \n",
       "reddit_sentiment         -0.483478  \n",
       "google_sentiment          1.000000  "
      ]
     },
     "execution_count": 3,
     "metadata": {},
     "output_type": "execute_result"
    }
   ],
   "source": [
    "df.corr()"
   ]
  },
  {
   "cell_type": "code",
   "execution_count": 4,
   "metadata": {},
   "outputs": [
    {
     "data": {
      "text/plain": [
       "[<matplotlib.lines.Line2D at 0x1025caba8>]"
      ]
     },
     "execution_count": 4,
     "metadata": {},
     "output_type": "execute_result"
    },
    {
     "data": {
      "image/png": "[encoded data removed]",
      "text/plain": [
       "<matplotlib.figure.Figure at 0x10800eb38>"
      ]
     },
     "metadata": {},
     "output_type": "display_data"
    }
   ],
   "source": [
    "plt.plot(df['close'], 'b')"
   ]
  },
  {
   "cell_type": "code",
   "execution_count": 5,
   "metadata": {},
   "outputs": [
    {
     "data": {
      "text/plain": [
       "array([[<matplotlib.axes._subplots.AxesSubplot object at 0x102583dd8>,\n",
       "        <matplotlib.axes._subplots.AxesSubplot object at 0x103003b38>,\n",
       "        <matplotlib.axes._subplots.AxesSubplot object at 0x1084957b8>],\n",
       "       [<matplotlib.axes._subplots.AxesSubplot object at 0x1084b4400>,\n",
       "        <matplotlib.axes._subplots.AxesSubplot object at 0x108501f28>,\n",
       "        <matplotlib.axes._subplots.AxesSubplot object at 0x108501f60>],\n",
       "       [<matplotlib.axes._subplots.AxesSubplot object at 0x10856c940>,\n",
       "        <matplotlib.axes._subplots.AxesSubplot object at 0x1085a4860>,\n",
       "        <matplotlib.axes._subplots.AxesSubplot object at 0x1085de7f0>],\n",
       "       [<matplotlib.axes._subplots.AxesSubplot object at 0x1086197f0>,\n",
       "        <matplotlib.axes._subplots.AxesSubplot object at 0x108641fd0>,\n",
       "        <matplotlib.axes._subplots.AxesSubplot object at 0x108686470>]],\n",
       "      dtype=object)"
      ]
     },
     "execution_count": 5,
     "metadata": {},
     "output_type": "execute_result"
    },
    {
     "data": {
      "image/png": "[encoded data removed]",
      "text/plain": [
       "<matplotlib.figure.Figure at 0x1025afe80>"
      ]
     },
     "metadata": {},
     "output_type": "display_data"
    }
   ],
   "source": [
    "df.hist()"
   ]
  },
  {
   "cell_type": "code",
   "execution_count": 6,
   "metadata": {
    "collapsed": true
   },
   "outputs": [],
   "source": [
    "X_train, X_test, y_train, y_test, scaler_x, scaler_y = engine.prepare(df)"
   ]
  },
  {
   "cell_type": "code",
   "execution_count": 7,
   "metadata": {},
   "outputs": [
    {
     "name": "stderr",
     "output_type": "stream",
     "text": [
      "/anaconda3/lib/python3.6/site-packages/h5py/__init__.py:34: FutureWarning: Conversion of the second argument of issubdtype from `float` to `np.floating` is deprecated. In future, it will be treated as `np.float64 == np.dtype(float).type`.\n",
      "  from ._conv import register_converters as _register_converters\n",
      "Using TensorFlow backend.\n"
     ]
    },
    {
     "name": "stdout",
     "output_type": "stream",
     "text": [
      "_________________________________________________________________\n",
      "Layer (type)                 Output Shape              Param #   \n",
      "=================================================================\n",
      "lstm_1 (LSTM)                (None, 1, 200)            164800    \n",
      "_________________________________________________________________\n",
      "dropout_1 (Dropout)          (None, 1, 200)            0         \n",
      "_________________________________________________________________\n",
      "lstm_2 (LSTM)                (None, 1, 200)            320800    \n",
      "_________________________________________________________________\n",
      "dropout_2 (Dropout)          (None, 1, 200)            0         \n",
      "_________________________________________________________________\n",
      "lstm_3 (LSTM)                (None, 200)               320800    \n",
      "_________________________________________________________________\n",
      "dropout_3 (Dropout)          (None, 200)               0         \n",
      "_________________________________________________________________\n",
      "dense_1 (Dense)              (None, 1)                 201       \n",
      "_________________________________________________________________\n",
      "activation_1 (Activation)    (None, 1)                 0         \n",
      "=================================================================\n",
      "Total params: 806,601\n",
      "Trainable params: 806,601\n",
      "Non-trainable params: 0\n",
      "_________________________________________________________________\n"
     ]
    }
   ],
   "source": [
    "model, history = engine.train(X_train, X_test, y_train, y_test)"
   ]
  },
  {
   "cell_type": "code",
   "execution_count": 8,
   "metadata": {},
   "outputs": [
    {
     "data": {
      "text/plain": [
       "([<matplotlib.lines.Line2D at 0x11b568208>], 'g')"
      ]
     },
     "execution_count": 8,
     "metadata": {},
     "output_type": "execute_result"
    },
    {
     "data": {
      "image/png": "[encoded data removed]",
      "text/plain": [
       "<matplotlib.figure.Figure at 0x11b568240>"
      ]
     },
     "metadata": {},
     "output_type": "display_data"
    }
   ],
   "source": [
    "plt.plot(history.history['mean_absolute_error'], 'r')\n",
    "plt.plot(history.history['mean_squared_error']), 'g'"
   ]
  },
  {
   "cell_type": "code",
   "execution_count": 9,
   "metadata": {},
   "outputs": [
    {
     "data": {
      "text/plain": [
       "[<matplotlib.lines.Line2D at 0x11c7ca048>]"
      ]
     },
     "execution_count": 9,
     "metadata": {},
     "output_type": "execute_result"
    },
    {
     "data": {
      "image/png": "[encoded data removed]",
      "text/plain": [
       "<matplotlib.figure.Figure at 0x10b28d128>"
      ]
     },
     "metadata": {},
     "output_type": "display_data"
    }
   ],
   "source": [
    "import numpy as np\n",
    "\n",
    "X_train = np.reshape(X_train, (X_train.shape[0], 1, X_train.shape[1]))\n",
    "X_test = np.reshape(X_test, (X_test.shape[0], 1, X_test.shape[1]))\n",
    "\n",
    "y_predict_train = model.predict(X_train)\n",
    "y_predict_train = scaler_y.inverse_transform(y_predict_train)\n",
    "\n",
    "y_predict_test = model.predict(X_test)\n",
    "y_predict_test = scaler_y.inverse_transform(y_predict_test)\n",
    "\n",
    "X = np.concatenate((X_train, X_test), axis=0)\n",
    "y = np.concatenate((y_predict_train, y_predict_test), axis=0)\n",
    "\n",
    "plt.plot(y, 'r')\n",
    "plt.plot(y_predict_train, 'g')"
   ]
  },
  {
   "cell_type": "code",
   "execution_count": 10,
   "metadata": {},
   "outputs": [
    {
     "name": "stdout",
     "output_type": "stream",
     "text": [
      "1810 / 452 ---> predicted Order.DOWN - real Order.STAY\n",
      "1826 / 452 ---> predicted Order.UP - real Order.STAY\n",
      "1827 / 452 ---> predicted Order.DOWN - real Order.STAY\n",
      "1850 / 452 ---> predicted Order.UP - real Order.DOWN\n",
      "1863 / 452 ---> predicted Order.UP - real Order.STAY\n",
      "1866 / 452 ---> predicted Order.DOWN - real Order.STAY\n",
      "1870 / 452 ---> predicted Order.UP - real Order.STAY\n",
      "1879 / 452 ---> predicted Order.DOWN - real Order.STAY\n",
      "1880 / 452 ---> predicted Order.UP - real Order.STAY\n",
      "1884 / 452 ---> predicted Order.DOWN - real Order.STAY\n",
      "1892 / 452 ---> predicted Order.DOWN - real Order.UP\n",
      "1903 / 452 ---> predicted Order.DOWN - real Order.STAY\n",
      "1905 / 452 ---> predicted Order.DOWN - real Order.STAY\n",
      "1914 / 452 ---> predicted Order.UP - real Order.STAY\n",
      "1923 / 452 ---> predicted Order.DOWN - real Order.STAY\n",
      "1930 / 452 ---> predicted Order.DOWN - real Order.STAY\n",
      "1931 / 452 ---> predicted Order.UP - real Order.STAY\n",
      "1944 / 452 ---> predicted Order.DOWN - real Order.STAY\n",
      "1945 / 452 ---> predicted Order.UP - real Order.STAY\n",
      "1946 / 452 ---> predicted Order.UP - real Order.DOWN\n",
      "1947 / 452 ---> predicted Order.UP - real Order.STAY\n",
      "1948 / 452 ---> predicted Order.DOWN - real Order.STAY\n",
      "1963 / 452 ---> predicted Order.DOWN - real Order.STAY\n",
      "1970 / 452 ---> predicted Order.UP - real Order.STAY\n",
      "1973 / 452 ---> predicted Order.DOWN - real Order.STAY\n",
      "1977 / 452 ---> predicted Order.DOWN - real Order.STAY\n",
      "1978 / 452 ---> predicted Order.UP - real Order.STAY\n",
      "1982 / 452 ---> predicted Order.DOWN - real Order.STAY\n",
      "1984 / 452 ---> predicted Order.UP - real Order.STAY\n",
      "1994 / 452 ---> predicted Order.DOWN - real Order.STAY\n",
      "2000 / 452 ---> predicted Order.UP - real Order.STAY\n",
      "2010 / 452 ---> predicted Order.DOWN - real Order.STAY\n",
      "2011 / 452 ---> predicted Order.DOWN - real Order.UP\n",
      "2018 / 452 ---> predicted Order.DOWN - real Order.STAY\n",
      "2033 / 452 ---> predicted Order.DOWN - real Order.STAY\n",
      "2038 / 452 ---> predicted Order.DOWN - real Order.STAY\n",
      "2044 / 452 ---> predicted Order.UP - real Order.STAY\n",
      "2050 / 452 ---> predicted Order.DOWN - real Order.STAY\n",
      "2053 / 452 ---> predicted Order.UP - real Order.DOWN\n",
      "2055 / 452 ---> predicted Order.UP - real Order.STAY\n",
      "2058 / 452 ---> predicted Order.DOWN - real Order.STAY\n",
      "2076 / 452 ---> predicted Order.DOWN - real Order.UP\n",
      "2077 / 452 ---> predicted Order.DOWN - real Order.STAY\n",
      "2084 / 452 ---> predicted Order.UP - real Order.STAY\n",
      "2089 / 452 ---> predicted Order.DOWN - real Order.STAY\n",
      "2092 / 452 ---> predicted Order.DOWN - real Order.STAY\n",
      "2107 / 452 ---> predicted Order.DOWN - real Order.STAY\n",
      "2111 / 452 ---> predicted Order.DOWN - real Order.STAY\n",
      "2116 / 452 ---> predicted Order.UP - real Order.STAY\n",
      "2121 / 452 ---> predicted Order.DOWN - real Order.STAY\n",
      "2123 / 452 ---> predicted Order.DOWN - real Order.STAY\n",
      "2146 / 452 ---> predicted Order.UP - real Order.STAY\n",
      "2160 / 452 ---> predicted Order.UP - real Order.DOWN\n",
      "2164 / 452 ---> predicted Order.UP - real Order.STAY\n",
      "2179 / 452 ---> predicted Order.UP - real Order.STAY\n",
      "2181 / 452 ---> predicted Order.UP - real Order.STAY\n",
      "2198 / 452 ---> predicted Order.UP - real Order.STAY\n",
      "2207 / 452 ---> predicted Order.DOWN - real Order.STAY\n",
      "2240 / 452 ---> predicted Order.DOWN - real Order.STAY\n",
      "2243 / 452 ---> predicted Order.UP - real Order.STAY\n",
      "2251 / 452 ---> predicted Order.DOWN - real Order.STAY\n",
      "2252 / 452 ---> predicted Order.UP - real Order.STAY\n",
      "2256 / 452 ---> predicted Order.DOWN - real Order.STAY\n",
      "Error Order percentage: 13.94%\n"
     ]
    }
   ],
   "source": [
    "engine.test_order_percent(df, model, scaler_x, scaler_y)"
   ]
  },
  {
   "cell_type": "code",
   "execution_count": 11,
   "metadata": {},
   "outputs": [
    {
     "data": {
      "text/plain": [
       "1.2314732751889288"
      ]
     },
     "execution_count": 11,
     "metadata": {},
     "output_type": "execute_result"
    },
    {
     "data": {
      "image/png": "[encoded data removed]",
      "text/plain": [
       "<matplotlib.figure.Figure at 0x11c7bbbe0>"
      ]
     },
     "metadata": {},
     "output_type": "display_data"
    }
   ],
   "source": [
    "from sklearn.neighbors import KernelDensity\n",
    "import numpy as np\n",
    "\n",
    "X = df['volume'].values.reshape(-1, 1)\n",
    "\n",
    "kde = KernelDensity(kernel='gaussian', bandwidth=0.01).fit(X)\n",
    "log_dens = kde.score_samples(X)\n",
    "plt.fill(X, np.exp(log_dens), alpha=0.7)\n",
    "\n",
    "kde.score(0.01)"
   ]
  },
  {
   "cell_type": "code",
   "execution_count": null,
   "metadata": {
    "collapsed": true
   },
   "outputs": [],
   "source": []
  }
 ],
 "metadata": {
  "kernelspec": {
   "display_name": "Python 3",
   "language": "python",
   "name": "python3"
  },
  "language_info": {
   "codemirror_mode": {
    "name": "ipython",
    "version": 3
   },
   "file_extension": ".py",
   "mimetype": "text/x-python",
   "name": "python",
   "nbconvert_exporter": "python",
   "pygments_lexer": "ipython3",
   "version": "3.6.2"
  }
 },
 "nbformat": 4,
 "nbformat_minor": 2
}
