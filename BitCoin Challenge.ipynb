{
 "cells": [
  {
   "cell_type": "code",
   "execution_count": 1,
   "metadata": {
    "scrolled": true
   },
   "outputs": [
    {
     "name": "stderr",
     "output_type": "stream",
     "text": [
      "2018-03-24 20:30:53,271 root         INFO     Load data from SQL.\n",
      "2018-03-24 20:30:53,554 root         INFO     Train Scaler Model\n",
      "2018-03-24 20:30:53,836 root         INFO     Train Model\n",
      "/anaconda3/lib/python3.6/site-packages/h5py/__init__.py:34: FutureWarning: Conversion of the second argument of issubdtype from `float` to `np.floating` is deprecated. In future, it will be treated as `np.float64 == np.dtype(float).type`.\n",
      "  from ._conv import register_converters as _register_converters\n",
      "Using TensorFlow backend.\n"
     ]
    },
    {
     "name": "stdout",
     "output_type": "stream",
     "text": [
      "_________________________________________________________________\n",
      "Layer (type)                 Output Shape              Param #   \n",
      "=================================================================\n",
      "lstm_1 (LSTM)                (None, 1, 200)            161600    \n",
      "_________________________________________________________________\n",
      "dropout_1 (Dropout)          (None, 1, 200)            0         \n",
      "_________________________________________________________________\n",
      "lstm_2 (LSTM)                (None, 1, 200)            320800    \n",
      "_________________________________________________________________\n",
      "dropout_2 (Dropout)          (None, 1, 200)            0         \n",
      "_________________________________________________________________\n",
      "lstm_3 (LSTM)                (None, 200)               320800    \n",
      "_________________________________________________________________\n",
      "dropout_3 (Dropout)          (None, 200)               0         \n",
      "_________________________________________________________________\n",
      "dense_1 (Dense)              (None, 1)                 201       \n",
      "_________________________________________________________________\n",
      "activation_1 (Activation)    (None, 1)                 0         \n",
      "=================================================================\n",
      "Total params: 803,401\n",
      "Trainable params: 803,401\n",
      "Non-trainable params: 0\n",
      "_________________________________________________________________\n",
      "Train on 18263 samples, validate on 7828 samples\n",
      "Epoch 1/50\n",
      "18263/18263 [==============================] - 4s 213us/step - loss: 135.9160 - mean_squared_error: 0.2433 - mean_absolute_error: 0.4030 - val_loss: 131.1688 - val_mean_squared_error: 0.1360 - val_mean_absolute_error: 0.3483\n",
      "Epoch 2/50\n",
      "18263/18263 [==============================] - 2s 83us/step - loss: 131.2204 - mean_squared_error: 0.2404 - mean_absolute_error: 0.3999 - val_loss: 126.5723 - val_mean_squared_error: 0.1311 - val_mean_absolute_error: 0.3413\n",
      "Epoch 3/50\n",
      "18263/18263 [==============================] - 1s 82us/step - loss: 126.6277 - mean_squared_error: 0.2376 - mean_absolute_error: 0.3967 - val_loss: 122.4884 - val_mean_squared_error: 0.1265 - val_mean_absolute_error: 0.3345\n",
      "Epoch 4/50\n",
      "18263/18263 [==============================] - 2s 84us/step - loss: 122.5476 - mean_squared_error: 0.2348 - mean_absolute_error: 0.3937 - val_loss: 118.1309 - val_mean_squared_error: 0.1211 - val_mean_absolute_error: 0.3266\n",
      "Epoch 5/50\n",
      "18263/18263 [==============================] - 2s 84us/step - loss: 118.1945 - mean_squared_error: 0.2316 - mean_absolute_error: 0.3902 - val_loss: 113.8888 - val_mean_squared_error: 0.1154 - val_mean_absolute_error: 0.3178\n",
      "Epoch 6/50\n",
      "18263/18263 [==============================] - 1s 82us/step - loss: 113.9573 - mean_squared_error: 0.2280 - mean_absolute_error: 0.3863 - val_loss: 109.7618 - val_mean_squared_error: 0.1091 - val_mean_absolute_error: 0.3081\n",
      "Epoch 7/50\n",
      "18263/18263 [==============================] - 2s 87us/step - loss: 109.8358 - mean_squared_error: 0.2240 - mean_absolute_error: 0.3821 - val_loss: 105.7534 - val_mean_squared_error: 0.1024 - val_mean_absolute_error: 0.2973\n",
      "Epoch 8/50\n",
      "18263/18263 [==============================] - 2s 88us/step - loss: 105.8335 - mean_squared_error: 0.2195 - mean_absolute_error: 0.3774 - val_loss: 101.8543 - val_mean_squared_error: 0.0952 - val_mean_absolute_error: 0.2852\n",
      "Epoch 9/50\n",
      "18263/18263 [==============================] - 2s 93us/step - loss: 101.9413 - mean_squared_error: 0.2147 - mean_absolute_error: 0.3723 - val_loss: 98.1084 - val_mean_squared_error: 0.0875 - val_mean_absolute_error: 0.2719\n",
      "Epoch 10/50\n",
      "18263/18263 [==============================] - 2s 89us/step - loss: 98.2031 - mean_squared_error: 0.2093 - mean_absolute_error: 0.3666 - val_loss: 94.4195 - val_mean_squared_error: 0.0793 - val_mean_absolute_error: 0.2568\n",
      "Epoch 11/50\n",
      "18263/18263 [==============================] - 2s 90us/step - loss: 94.5229 - mean_squared_error: 0.2033 - mean_absolute_error: 0.3603 - val_loss: 90.8351 - val_mean_squared_error: 0.0706 - val_mean_absolute_error: 0.2400\n",
      "Epoch 12/50\n",
      "18263/18263 [==============================] - 2s 87us/step - loss: 90.9484 - mean_squared_error: 0.1969 - mean_absolute_error: 0.3532 - val_loss: 87.3476 - val_mean_squared_error: 0.0615 - val_mean_absolute_error: 0.2211\n",
      "Epoch 13/50\n",
      "18263/18263 [==============================] - 2s 86us/step - loss: 87.4720 - mean_squared_error: 0.1899 - mean_absolute_error: 0.3455 - val_loss: 83.9782 - val_mean_squared_error: 0.0521 - val_mean_absolute_error: 0.2001\n",
      "Epoch 14/50\n",
      "18263/18263 [==============================] - 2s 92us/step - loss: 84.1157 - mean_squared_error: 0.1828 - mean_absolute_error: 0.3376 - val_loss: 80.7082 - val_mean_squared_error: 0.0428 - val_mean_absolute_error: 0.1780\n",
      "Epoch 15/50\n",
      "18263/18263 [==============================] - 2s 90us/step - loss: 80.8595 - mean_squared_error: 0.1753 - mean_absolute_error: 0.3294 - val_loss: 77.5146 - val_mean_squared_error: 0.0338 - val_mean_absolute_error: 0.1551\n",
      "Epoch 16/50\n",
      "18263/18263 [==============================] - 2s 90us/step - loss: 77.6810 - mean_squared_error: 0.1677 - mean_absolute_error: 0.3216 - val_loss: 74.4447 - val_mean_squared_error: 0.0257 - val_mean_absolute_error: 0.1326\n",
      "Epoch 17/50\n",
      "18263/18263 [==============================] - 2s 93us/step - loss: 74.6263 - mean_squared_error: 0.1601 - mean_absolute_error: 0.3142 - val_loss: 71.4505 - val_mean_squared_error: 0.0191 - val_mean_absolute_error: 0.1137\n",
      "Epoch 18/50\n",
      "18263/18263 [==============================] - 2s 93us/step - loss: 71.6437 - mean_squared_error: 0.1527 - mean_absolute_error: 0.3069 - val_loss: 68.5704 - val_mean_squared_error: 0.0140 - val_mean_absolute_error: 0.0979\n",
      "Epoch 19/50\n",
      "18263/18263 [==============================] - 2s 95us/step - loss: 68.7710 - mean_squared_error: 0.1448 - mean_absolute_error: 0.2985 - val_loss: 65.7762 - val_mean_squared_error: 0.0103 - val_mean_absolute_error: 0.0866\n",
      "Epoch 20/50\n",
      "18263/18263 [==============================] - 2s 91us/step - loss: 65.9787 - mean_squared_error: 0.1363 - mean_absolute_error: 0.2891 - val_loss: 63.0488 - val_mean_squared_error: 0.0078 - val_mean_absolute_error: 0.0777\n",
      "Epoch 21/50\n",
      "18263/18263 [==============================] - 2s 93us/step - loss: 63.2494 - mean_squared_error: 0.1270 - mean_absolute_error: 0.2783 - val_loss: 60.4506 - val_mean_squared_error: 0.0064 - val_mean_absolute_error: 0.0699\n",
      "Epoch 22/50\n",
      "18263/18263 [==============================] - 2s 92us/step - loss: 60.6472 - mean_squared_error: 0.1169 - mean_absolute_error: 0.2664 - val_loss: 57.9117 - val_mean_squared_error: 0.0058 - val_mean_absolute_error: 0.0643\n",
      "Epoch 23/50\n",
      "18263/18263 [==============================] - 2s 92us/step - loss: 58.1006 - mean_squared_error: 0.1061 - mean_absolute_error: 0.2532 - val_loss: 55.4767 - val_mean_squared_error: 0.0058 - val_mean_absolute_error: 0.0619\n",
      "Epoch 24/50\n",
      "18263/18263 [==============================] - 2s 100us/step - loss: 55.6531 - mean_squared_error: 0.0945 - mean_absolute_error: 0.2383 - val_loss: 53.1198 - val_mean_squared_error: 0.0064 - val_mean_absolute_error: 0.0636\n",
      "Epoch 25/50\n",
      "18263/18263 [==============================] - 2s 97us/step - loss: 53.2775 - mean_squared_error: 0.0825 - mean_absolute_error: 0.2213 - val_loss: 50.8459 - val_mean_squared_error: 0.0072 - val_mean_absolute_error: 0.0700\n",
      "Epoch 26/50\n",
      "18263/18263 [==============================] - 2s 97us/step - loss: 50.9787 - mean_squared_error: 0.0701 - mean_absolute_error: 0.2029 - val_loss: 48.6653 - val_mean_squared_error: 0.0082 - val_mean_absolute_error: 0.0804\n",
      "Epoch 27/50\n",
      "18263/18263 [==============================] - 2s 113us/step - loss: 48.7691 - mean_squared_error: 0.0577 - mean_absolute_error: 0.1842 - val_loss: 46.5524 - val_mean_squared_error: 0.0088 - val_mean_absolute_error: 0.0876\n",
      "Epoch 28/50\n",
      "18263/18263 [==============================] - 2s 93us/step - loss: 46.6318 - mean_squared_error: 0.0460 - mean_absolute_error: 0.1670 - val_loss: 44.4967 - val_mean_squared_error: 0.0080 - val_mean_absolute_error: 0.0859\n",
      "Epoch 29/50\n",
      "18263/18263 [==============================] - 2s 93us/step - loss: 44.5601 - mean_squared_error: 0.0352 - mean_absolute_error: 0.1493 - val_loss: 42.4852 - val_mean_squared_error: 0.0058 - val_mean_absolute_error: 0.0733\n"
     ]
    },
    {
     "name": "stdout",
     "output_type": "stream",
     "text": [
      "Epoch 30/50\n",
      "18263/18263 [==============================] - 2s 96us/step - loss: 42.5395 - mean_squared_error: 0.0255 - mean_absolute_error: 0.1276 - val_loss: 40.5621 - val_mean_squared_error: 0.0030 - val_mean_absolute_error: 0.0521\n",
      "Epoch 31/50\n",
      "18263/18263 [==============================] - 2s 94us/step - loss: 40.6124 - mean_squared_error: 0.0173 - mean_absolute_error: 0.1023 - val_loss: 38.6910 - val_mean_squared_error: 8.6083e-04 - val_mean_absolute_error: 0.0260\n",
      "Epoch 32/50\n",
      "18263/18263 [==============================] - 2s 94us/step - loss: 38.7422 - mean_squared_error: 0.0110 - mean_absolute_error: 0.0772 - val_loss: 36.9113 - val_mean_squared_error: 1.2695e-04 - val_mean_absolute_error: 0.0097\n",
      "Epoch 33/50\n",
      "18263/18263 [==============================] - 2s 93us/step - loss: 36.9566 - mean_squared_error: 0.0066 - mean_absolute_error: 0.0549 - val_loss: 35.2265 - val_mean_squared_error: 6.2666e-04 - val_mean_absolute_error: 0.0239\n",
      "Epoch 34/50\n",
      "18263/18263 [==============================] - 2s 93us/step - loss: 35.2422 - mean_squared_error: 0.0036 - mean_absolute_error: 0.0396 - val_loss: 33.5960 - val_mean_squared_error: 0.0014 - val_mean_absolute_error: 0.0371\n",
      "Epoch 35/50\n",
      "18263/18263 [==============================] - 2s 100us/step - loss: 33.5989 - mean_squared_error: 0.0024 - mean_absolute_error: 0.0400 - val_loss: 32.0083 - val_mean_squared_error: 0.0016 - val_mean_absolute_error: 0.0389\n",
      "Epoch 36/50\n",
      "18263/18263 [==============================] - 2s 105us/step - loss: 32.0166 - mean_squared_error: 0.0029 - mean_absolute_error: 0.0472 - val_loss: 30.5106 - val_mean_squared_error: 0.0014 - val_mean_absolute_error: 0.0337\n",
      "Epoch 37/50\n",
      "18263/18263 [==============================] - 2s 94us/step - loss: 30.5373 - mean_squared_error: 0.0048 - mean_absolute_error: 0.0604 - val_loss: 29.0457 - val_mean_squared_error: 0.0013 - val_mean_absolute_error: 0.0292\n",
      "Epoch 38/50\n",
      "18263/18263 [==============================] - 2s 100us/step - loss: 29.0876 - mean_squared_error: 0.0069 - mean_absolute_error: 0.0712 - val_loss: 27.6424 - val_mean_squared_error: 0.0012 - val_mean_absolute_error: 0.0276\n",
      "Epoch 39/50\n",
      "18263/18263 [==============================] - 2s 113us/step - loss: 27.6894 - mean_squared_error: 0.0077 - mean_absolute_error: 0.0745 - val_loss: 26.2946 - val_mean_squared_error: 0.0010 - val_mean_absolute_error: 0.0262\n",
      "Epoch 40/50\n",
      "18263/18263 [==============================] - 2s 103us/step - loss: 26.3387 - mean_squared_error: 0.0068 - mean_absolute_error: 0.0703 - val_loss: 25.0239 - val_mean_squared_error: 9.2789e-04 - val_mean_absolute_error: 0.0250\n",
      "Epoch 41/50\n",
      "18263/18263 [==============================] - 2s 98us/step - loss: 25.0595 - mean_squared_error: 0.0050 - mean_absolute_error: 0.0606 - val_loss: 23.7926 - val_mean_squared_error: 8.1851e-04 - val_mean_absolute_error: 0.0247\n",
      "Epoch 42/50\n",
      "18263/18263 [==============================] - 2s 98us/step - loss: 23.8172 - mean_squared_error: 0.0033 - mean_absolute_error: 0.0493 - val_loss: 22.6104 - val_mean_squared_error: 7.0932e-04 - val_mean_absolute_error: 0.0248\n",
      "Epoch 43/50\n",
      "18263/18263 [==============================] - 2s 97us/step - loss: 22.6244 - mean_squared_error: 0.0021 - mean_absolute_error: 0.0387 - val_loss: 21.4771 - val_mean_squared_error: 5.1978e-04 - val_mean_absolute_error: 0.0221\n",
      "Epoch 44/50\n",
      "18263/18263 [==============================] - 2s 94us/step - loss: 21.4876 - mean_squared_error: 0.0017 - mean_absolute_error: 0.0326 - val_loss: 20.3843 - val_mean_squared_error: 2.3730e-04 - val_mean_absolute_error: 0.0148\n",
      "Epoch 45/50\n",
      "18263/18263 [==============================] - 2s 92us/step - loss: 20.3999 - mean_squared_error: 0.0021 - mean_absolute_error: 0.0305 - val_loss: 19.3374 - val_mean_squared_error: 3.4512e-05 - val_mean_absolute_error: 0.0044\n",
      "Epoch 46/50\n",
      "18263/18263 [==============================] - 2s 92us/step - loss: 19.3663 - mean_squared_error: 0.0027 - mean_absolute_error: 0.0333 - val_loss: 18.3590 - val_mean_squared_error: 7.8471e-05 - val_mean_absolute_error: 0.0078\n",
      "Epoch 47/50\n",
      "18263/18263 [==============================] - 2s 92us/step - loss: 18.3907 - mean_squared_error: 0.0033 - mean_absolute_error: 0.0395 - val_loss: 17.3981 - val_mean_squared_error: 2.1641e-04 - val_mean_absolute_error: 0.0139\n",
      "Epoch 48/50\n",
      "18263/18263 [==============================] - 2s 95us/step - loss: 17.4278 - mean_squared_error: 0.0037 - mean_absolute_error: 0.0436 - val_loss: 16.4631 - val_mean_squared_error: 2.6385e-04 - val_mean_absolute_error: 0.0155\n",
      "Epoch 49/50\n",
      "18263/18263 [==============================] - 2s 108us/step - loss: 16.4919 - mean_squared_error: 0.0037 - mean_absolute_error: 0.0443 - val_loss: 15.5847 - val_mean_squared_error: 1.8977e-04 - val_mean_absolute_error: 0.0128\n",
      "Epoch 50/50\n",
      "18263/18263 [==============================] - 2s 111us/step - loss: 15.6136 - mean_squared_error: 0.0033 - mean_absolute_error: 0.0417 - val_loss: 14.7803 - val_mean_squared_error: 8.1364e-05 - val_mean_absolute_error: 0.0078\n"
     ]
    },
    {
     "name": "stderr",
     "output_type": "stream",
     "text": [
      "2018-03-24 20:32:27,770 root         INFO     Load data from SQL.\n",
      "2018-03-24 20:32:27,979 root         INFO     Test set of 945 items !\n"
     ]
    }
   ],
   "source": [
    "%matplotlib inline\n",
    "%load_ext autoreload\n",
    "%autoreload 2\n",
    "\n",
    "import matplotlib.pyplot as plt\n",
    "from bitcoin.db import get_all_data\n",
    "from bitcoin.validation import test_model\n",
    "import numpy as np\n",
    "\n",
    "df = test_model()"
   ]
  },
  {
   "cell_type": "code",
   "execution_count": 21,
   "metadata": {},
   "outputs": [
    {
     "name": "stdout",
     "output_type": "stream",
     "text": [
      "evs: 0.987283\n",
      "mae: 15.143048\n",
      "msr: 252.977966\n",
      "mdae: 15.140000\n",
      "              real    predicted        diff  predicted_regul  diff_regul\n",
      "count   945.000000   945.000000  945.000000       945.000000  945.000000\n",
      "mean   7178.801820  7163.962942   14.838878      7179.092942   -0.291122\n",
      "std      50.801682    49.398890    5.728908        49.398890    5.728908\n",
      "min    7043.700000  7031.320000  -18.740000      7046.450000  -33.870000\n",
      "25%    7161.060000  7150.780000   13.000000      7165.910000   -2.130000\n",
      "50%    7194.370000  7179.240000   15.130000      7194.370000    0.000000\n",
      "75%    7216.920000  7201.070000   16.050000      7216.200000    0.920000\n",
      "max    7265.810000  7249.030000   66.090000      7264.160000   50.960000\n",
      "evs: 0.987283\n",
      "mae: 2.939270\n",
      "msr: 32.870409\n",
      "mdae: 1.050000\n"
     ]
    }
   ],
   "source": [
    "from sklearn.metrics import explained_variance_score, mean_absolute_error, mean_squared_error, median_absolute_error\n",
    "\n",
    "print(\"evs: %f\" % explained_variance_score(df['real'], df['predicted']))\n",
    "print(\"mae: %f\" % mean_absolute_error(df['real'], df['predicted']))\n",
    "print(\"msr: %f\" % mean_squared_error(df['real'], df['predicted']))\n",
    "print(\"mdae: %f\" % median_absolute_error(df['real'], df['predicted']))\n",
    "\n",
    "regul = df['diff'].median()\n",
    "df['predicted_regul'] = df['predicted'] + regul\n",
    "df['diff_regul'] = df['real'] - (df['predicted'] + regul)\n",
    "print(df.describe())\n",
    "\n",
    "\n",
    "print(\"evs: %f\" % explained_variance_score(df['real'], df['predicted_regul']))\n",
    "print(\"mae: %f\" % mean_absolute_error(df['real'], df['predicted_regul']))\n",
    "print(\"msr: %f\" % mean_squared_error(df['real'], df['predicted_regul']))\n",
    "print(\"mdae: %f\" % median_absolute_error(df['real'], df['predicted_regul']))\n",
    "\n"
   ]
  },
  {
   "cell_type": "code",
   "execution_count": 22,
   "metadata": {},
   "outputs": [
    {
     "data": {
      "text/plain": [
       "[<matplotlib.lines.Line2D at 0x1262fda58>]"
      ]
     },
     "execution_count": 22,
     "metadata": {},
     "output_type": "execute_result"
    },
    {
     "data": {
      "image/png": "[encoded data removed]",
      "text/plain": [
       "<matplotlib.figure.Figure at 0x12a073828>"
      ]
     },
     "metadata": {},
     "output_type": "display_data"
    }
   ],
   "source": [
    "plt.plot(df['real'], color='g')\n",
    "plt.plot(df['predicted'], 'r')\n",
    "plt.plot(df['predicted_regul'], 'b')"
   ]
  },
  {
   "cell_type": "code",
   "execution_count": 12,
   "metadata": {},
   "outputs": [
    {
     "data": {
      "text/html": [
       "<div>\n",
       "<style scoped>\n",
       "    .dataframe tbody tr th:only-of-type {\n",
       "        vertical-align: middle;\n",
       "    }\n",
       "\n",
       "    .dataframe tbody tr th {\n",
       "        vertical-align: top;\n",
       "    }\n",
       "\n",
       "    .dataframe thead th {\n",
       "        text-align: right;\n",
       "    }\n",
       "</style>\n",
       "<table border=\"1\" class=\"dataframe\">\n",
       "  <thead>\n",
       "    <tr style=\"text-align: right;\">\n",
       "      <th></th>\n",
       "      <th>real</th>\n",
       "      <th>predicted</th>\n",
       "      <th>diff</th>\n",
       "    </tr>\n",
       "  </thead>\n",
       "  <tbody>\n",
       "  </tbody>\n",
       "</table>\n",
       "</div>"
      ],
      "text/plain": [
       "Empty DataFrame\n",
       "Columns: [real, predicted, diff]\n",
       "Index: []"
      ]
     },
     "execution_count": 12,
     "metadata": {},
     "output_type": "execute_result"
    }
   ],
   "source": [
    "df[df.isnull().any(axis=1)]"
   ]
  },
  {
   "cell_type": "code",
   "execution_count": 13,
   "metadata": {},
   "outputs": [
    {
     "data": {
      "text/html": [
       "<div>\n",
       "<style scoped>\n",
       "    .dataframe tbody tr th:only-of-type {\n",
       "        vertical-align: middle;\n",
       "    }\n",
       "\n",
       "    .dataframe tbody tr th {\n",
       "        vertical-align: top;\n",
       "    }\n",
       "\n",
       "    .dataframe thead th {\n",
       "        text-align: right;\n",
       "    }\n",
       "</style>\n",
       "<table border=\"1\" class=\"dataframe\">\n",
       "  <thead>\n",
       "    <tr style=\"text-align: right;\">\n",
       "      <th></th>\n",
       "      <th>real</th>\n",
       "      <th>predicted</th>\n",
       "      <th>diff</th>\n",
       "    </tr>\n",
       "  </thead>\n",
       "  <tbody>\n",
       "    <tr>\n",
       "      <th>count</th>\n",
       "      <td>945.000000</td>\n",
       "      <td>945.000000</td>\n",
       "      <td>945.000000</td>\n",
       "    </tr>\n",
       "    <tr>\n",
       "      <th>mean</th>\n",
       "      <td>7178.801820</td>\n",
       "      <td>7202.261079</td>\n",
       "      <td>-23.459259</td>\n",
       "    </tr>\n",
       "    <tr>\n",
       "      <th>std</th>\n",
       "      <td>50.801682</td>\n",
       "      <td>49.148368</td>\n",
       "      <td>5.781845</td>\n",
       "    </tr>\n",
       "    <tr>\n",
       "      <th>min</th>\n",
       "      <td>7043.700000</td>\n",
       "      <td>7069.980000</td>\n",
       "      <td>-56.710000</td>\n",
       "    </tr>\n",
       "    <tr>\n",
       "      <th>25%</th>\n",
       "      <td>7161.060000</td>\n",
       "      <td>7189.240000</td>\n",
       "      <td>-25.470000</td>\n",
       "    </tr>\n",
       "    <tr>\n",
       "      <th>50%</th>\n",
       "      <td>7194.370000</td>\n",
       "      <td>7217.520000</td>\n",
       "      <td>-23.150000</td>\n",
       "    </tr>\n",
       "    <tr>\n",
       "      <th>75%</th>\n",
       "      <td>7216.920000</td>\n",
       "      <td>7239.160000</td>\n",
       "      <td>-21.980000</td>\n",
       "    </tr>\n",
       "    <tr>\n",
       "      <th>max</th>\n",
       "      <td>7265.810000</td>\n",
       "      <td>7286.610000</td>\n",
       "      <td>27.400000</td>\n",
       "    </tr>\n",
       "  </tbody>\n",
       "</table>\n",
       "</div>"
      ],
      "text/plain": [
       "              real    predicted        diff\n",
       "count   945.000000   945.000000  945.000000\n",
       "mean   7178.801820  7202.261079  -23.459259\n",
       "std      50.801682    49.148368    5.781845\n",
       "min    7043.700000  7069.980000  -56.710000\n",
       "25%    7161.060000  7189.240000  -25.470000\n",
       "50%    7194.370000  7217.520000  -23.150000\n",
       "75%    7216.920000  7239.160000  -21.980000\n",
       "max    7265.810000  7286.610000   27.400000"
      ]
     },
     "execution_count": 13,
     "metadata": {},
     "output_type": "execute_result"
    }
   ],
   "source": [
    "df.describe()"
   ]
  },
  {
   "cell_type": "code",
   "execution_count": 14,
   "metadata": {
    "scrolled": false
   },
   "outputs": [
    {
     "data": {
      "text/html": [
       "<div>\n",
       "<style scoped>\n",
       "    .dataframe tbody tr th:only-of-type {\n",
       "        vertical-align: middle;\n",
       "    }\n",
       "\n",
       "    .dataframe tbody tr th {\n",
       "        vertical-align: top;\n",
       "    }\n",
       "\n",
       "    .dataframe thead th {\n",
       "        text-align: right;\n",
       "    }\n",
       "</style>\n",
       "<table border=\"1\" class=\"dataframe\">\n",
       "  <thead>\n",
       "    <tr style=\"text-align: right;\">\n",
       "      <th></th>\n",
       "      <th>real</th>\n",
       "      <th>predicted</th>\n",
       "      <th>diff</th>\n",
       "    </tr>\n",
       "  </thead>\n",
       "  <tbody>\n",
       "    <tr>\n",
       "      <th>real</th>\n",
       "      <td>1.000000</td>\n",
       "      <td>0.993853</td>\n",
       "      <td>0.338202</td>\n",
       "    </tr>\n",
       "    <tr>\n",
       "      <th>predicted</th>\n",
       "      <td>0.993853</td>\n",
       "      <td>1.000000</td>\n",
       "      <td>0.231939</td>\n",
       "    </tr>\n",
       "    <tr>\n",
       "      <th>diff</th>\n",
       "      <td>0.338202</td>\n",
       "      <td>0.231939</td>\n",
       "      <td>1.000000</td>\n",
       "    </tr>\n",
       "  </tbody>\n",
       "</table>\n",
       "</div>"
      ],
      "text/plain": [
       "               real  predicted      diff\n",
       "real       1.000000   0.993853  0.338202\n",
       "predicted  0.993853   1.000000  0.231939\n",
       "diff       0.338202   0.231939  1.000000"
      ]
     },
     "execution_count": 14,
     "metadata": {},
     "output_type": "execute_result"
    }
   ],
   "source": [
    "df.corr()"
   ]
  },
  {
   "cell_type": "code",
   "execution_count": 15,
   "metadata": {
    "scrolled": true
   },
   "outputs": [
    {
     "ename": "KeyError",
     "evalue": "'close'",
     "output_type": "error",
     "traceback": [
      "\u001b[0;31m---------------------------------------------------------------------------\u001b[0m",
      "\u001b[0;31mKeyError\u001b[0m                                  Traceback (most recent call last)",
      "\u001b[0;32m/anaconda3/lib/python3.6/site-packages/pandas/core/indexes/base.py\u001b[0m in \u001b[0;36mget_loc\u001b[0;34m(self, key, method, tolerance)\u001b[0m\n\u001b[1;32m   2524\u001b[0m             \u001b[0;32mtry\u001b[0m\u001b[0;34m:\u001b[0m\u001b[0;34m\u001b[0m\u001b[0m\n\u001b[0;32m-> 2525\u001b[0;31m                 \u001b[0;32mreturn\u001b[0m \u001b[0mself\u001b[0m\u001b[0;34m.\u001b[0m\u001b[0m_engine\u001b[0m\u001b[0;34m.\u001b[0m\u001b[0mget_loc\u001b[0m\u001b[0;34m(\u001b[0m\u001b[0mkey\u001b[0m\u001b[0;34m)\u001b[0m\u001b[0;34m\u001b[0m\u001b[0m\n\u001b[0m\u001b[1;32m   2526\u001b[0m             \u001b[0;32mexcept\u001b[0m \u001b[0mKeyError\u001b[0m\u001b[0;34m:\u001b[0m\u001b[0;34m\u001b[0m\u001b[0m\n",
      "\u001b[0;32mpandas/_libs/index.pyx\u001b[0m in \u001b[0;36mpandas._libs.index.IndexEngine.get_loc\u001b[0;34m()\u001b[0m\n",
      "\u001b[0;32mpandas/_libs/index.pyx\u001b[0m in \u001b[0;36mpandas._libs.index.IndexEngine.get_loc\u001b[0;34m()\u001b[0m\n",
      "\u001b[0;32mpandas/_libs/hashtable_class_helper.pxi\u001b[0m in \u001b[0;36mpandas._libs.hashtable.PyObjectHashTable.get_item\u001b[0;34m()\u001b[0m\n",
      "\u001b[0;32mpandas/_libs/hashtable_class_helper.pxi\u001b[0m in \u001b[0;36mpandas._libs.hashtable.PyObjectHashTable.get_item\u001b[0;34m()\u001b[0m\n",
      "\u001b[0;31mKeyError\u001b[0m: 'close'",
      "\nDuring handling of the above exception, another exception occurred:\n",
      "\u001b[0;31mKeyError\u001b[0m                                  Traceback (most recent call last)",
      "\u001b[0;32m<ipython-input-15-7a270239eb3f>\u001b[0m in \u001b[0;36m<module>\u001b[0;34m()\u001b[0m\n\u001b[0;32m----> 1\u001b[0;31m \u001b[0mplt\u001b[0m\u001b[0;34m.\u001b[0m\u001b[0mplot\u001b[0m\u001b[0;34m(\u001b[0m\u001b[0mdf\u001b[0m\u001b[0;34m[\u001b[0m\u001b[0;34m'close'\u001b[0m\u001b[0;34m]\u001b[0m\u001b[0;34m,\u001b[0m \u001b[0;34m'b'\u001b[0m\u001b[0;34m)\u001b[0m\u001b[0;34m\u001b[0m\u001b[0m\n\u001b[0m",
      "\u001b[0;32m/anaconda3/lib/python3.6/site-packages/pandas/core/frame.py\u001b[0m in \u001b[0;36m__getitem__\u001b[0;34m(self, key)\u001b[0m\n\u001b[1;32m   2137\u001b[0m             \u001b[0;32mreturn\u001b[0m \u001b[0mself\u001b[0m\u001b[0;34m.\u001b[0m\u001b[0m_getitem_multilevel\u001b[0m\u001b[0;34m(\u001b[0m\u001b[0mkey\u001b[0m\u001b[0;34m)\u001b[0m\u001b[0;34m\u001b[0m\u001b[0m\n\u001b[1;32m   2138\u001b[0m         \u001b[0;32melse\u001b[0m\u001b[0;34m:\u001b[0m\u001b[0;34m\u001b[0m\u001b[0m\n\u001b[0;32m-> 2139\u001b[0;31m             \u001b[0;32mreturn\u001b[0m \u001b[0mself\u001b[0m\u001b[0;34m.\u001b[0m\u001b[0m_getitem_column\u001b[0m\u001b[0;34m(\u001b[0m\u001b[0mkey\u001b[0m\u001b[0;34m)\u001b[0m\u001b[0;34m\u001b[0m\u001b[0m\n\u001b[0m\u001b[1;32m   2140\u001b[0m \u001b[0;34m\u001b[0m\u001b[0m\n\u001b[1;32m   2141\u001b[0m     \u001b[0;32mdef\u001b[0m \u001b[0m_getitem_column\u001b[0m\u001b[0;34m(\u001b[0m\u001b[0mself\u001b[0m\u001b[0;34m,\u001b[0m \u001b[0mkey\u001b[0m\u001b[0;34m)\u001b[0m\u001b[0;34m:\u001b[0m\u001b[0;34m\u001b[0m\u001b[0m\n",
      "\u001b[0;32m/anaconda3/lib/python3.6/site-packages/pandas/core/frame.py\u001b[0m in \u001b[0;36m_getitem_column\u001b[0;34m(self, key)\u001b[0m\n\u001b[1;32m   2144\u001b[0m         \u001b[0;31m# get column\u001b[0m\u001b[0;34m\u001b[0m\u001b[0;34m\u001b[0m\u001b[0m\n\u001b[1;32m   2145\u001b[0m         \u001b[0;32mif\u001b[0m \u001b[0mself\u001b[0m\u001b[0;34m.\u001b[0m\u001b[0mcolumns\u001b[0m\u001b[0;34m.\u001b[0m\u001b[0mis_unique\u001b[0m\u001b[0;34m:\u001b[0m\u001b[0;34m\u001b[0m\u001b[0m\n\u001b[0;32m-> 2146\u001b[0;31m             \u001b[0;32mreturn\u001b[0m \u001b[0mself\u001b[0m\u001b[0;34m.\u001b[0m\u001b[0m_get_item_cache\u001b[0m\u001b[0;34m(\u001b[0m\u001b[0mkey\u001b[0m\u001b[0;34m)\u001b[0m\u001b[0;34m\u001b[0m\u001b[0m\n\u001b[0m\u001b[1;32m   2147\u001b[0m \u001b[0;34m\u001b[0m\u001b[0m\n\u001b[1;32m   2148\u001b[0m         \u001b[0;31m# duplicate columns & possible reduce dimensionality\u001b[0m\u001b[0;34m\u001b[0m\u001b[0;34m\u001b[0m\u001b[0m\n",
      "\u001b[0;32m/anaconda3/lib/python3.6/site-packages/pandas/core/generic.py\u001b[0m in \u001b[0;36m_get_item_cache\u001b[0;34m(self, item)\u001b[0m\n\u001b[1;32m   1840\u001b[0m         \u001b[0mres\u001b[0m \u001b[0;34m=\u001b[0m \u001b[0mcache\u001b[0m\u001b[0;34m.\u001b[0m\u001b[0mget\u001b[0m\u001b[0;34m(\u001b[0m\u001b[0mitem\u001b[0m\u001b[0;34m)\u001b[0m\u001b[0;34m\u001b[0m\u001b[0m\n\u001b[1;32m   1841\u001b[0m         \u001b[0;32mif\u001b[0m \u001b[0mres\u001b[0m \u001b[0;32mis\u001b[0m \u001b[0;32mNone\u001b[0m\u001b[0;34m:\u001b[0m\u001b[0;34m\u001b[0m\u001b[0m\n\u001b[0;32m-> 1842\u001b[0;31m             \u001b[0mvalues\u001b[0m \u001b[0;34m=\u001b[0m \u001b[0mself\u001b[0m\u001b[0;34m.\u001b[0m\u001b[0m_data\u001b[0m\u001b[0;34m.\u001b[0m\u001b[0mget\u001b[0m\u001b[0;34m(\u001b[0m\u001b[0mitem\u001b[0m\u001b[0;34m)\u001b[0m\u001b[0;34m\u001b[0m\u001b[0m\n\u001b[0m\u001b[1;32m   1843\u001b[0m             \u001b[0mres\u001b[0m \u001b[0;34m=\u001b[0m \u001b[0mself\u001b[0m\u001b[0;34m.\u001b[0m\u001b[0m_box_item_values\u001b[0m\u001b[0;34m(\u001b[0m\u001b[0mitem\u001b[0m\u001b[0;34m,\u001b[0m \u001b[0mvalues\u001b[0m\u001b[0;34m)\u001b[0m\u001b[0;34m\u001b[0m\u001b[0m\n\u001b[1;32m   1844\u001b[0m             \u001b[0mcache\u001b[0m\u001b[0;34m[\u001b[0m\u001b[0mitem\u001b[0m\u001b[0;34m]\u001b[0m \u001b[0;34m=\u001b[0m \u001b[0mres\u001b[0m\u001b[0;34m\u001b[0m\u001b[0m\n",
      "\u001b[0;32m/anaconda3/lib/python3.6/site-packages/pandas/core/internals.py\u001b[0m in \u001b[0;36mget\u001b[0;34m(self, item, fastpath)\u001b[0m\n\u001b[1;32m   3841\u001b[0m \u001b[0;34m\u001b[0m\u001b[0m\n\u001b[1;32m   3842\u001b[0m             \u001b[0;32mif\u001b[0m \u001b[0;32mnot\u001b[0m \u001b[0misna\u001b[0m\u001b[0;34m(\u001b[0m\u001b[0mitem\u001b[0m\u001b[0;34m)\u001b[0m\u001b[0;34m:\u001b[0m\u001b[0;34m\u001b[0m\u001b[0m\n\u001b[0;32m-> 3843\u001b[0;31m                 \u001b[0mloc\u001b[0m \u001b[0;34m=\u001b[0m \u001b[0mself\u001b[0m\u001b[0;34m.\u001b[0m\u001b[0mitems\u001b[0m\u001b[0;34m.\u001b[0m\u001b[0mget_loc\u001b[0m\u001b[0;34m(\u001b[0m\u001b[0mitem\u001b[0m\u001b[0;34m)\u001b[0m\u001b[0;34m\u001b[0m\u001b[0m\n\u001b[0m\u001b[1;32m   3844\u001b[0m             \u001b[0;32melse\u001b[0m\u001b[0;34m:\u001b[0m\u001b[0;34m\u001b[0m\u001b[0m\n\u001b[1;32m   3845\u001b[0m                 \u001b[0mindexer\u001b[0m \u001b[0;34m=\u001b[0m \u001b[0mnp\u001b[0m\u001b[0;34m.\u001b[0m\u001b[0marange\u001b[0m\u001b[0;34m(\u001b[0m\u001b[0mlen\u001b[0m\u001b[0;34m(\u001b[0m\u001b[0mself\u001b[0m\u001b[0;34m.\u001b[0m\u001b[0mitems\u001b[0m\u001b[0;34m)\u001b[0m\u001b[0;34m)\u001b[0m\u001b[0;34m[\u001b[0m\u001b[0misna\u001b[0m\u001b[0;34m(\u001b[0m\u001b[0mself\u001b[0m\u001b[0;34m.\u001b[0m\u001b[0mitems\u001b[0m\u001b[0;34m)\u001b[0m\u001b[0;34m]\u001b[0m\u001b[0;34m\u001b[0m\u001b[0m\n",
      "\u001b[0;32m/anaconda3/lib/python3.6/site-packages/pandas/core/indexes/base.py\u001b[0m in \u001b[0;36mget_loc\u001b[0;34m(self, key, method, tolerance)\u001b[0m\n\u001b[1;32m   2525\u001b[0m                 \u001b[0;32mreturn\u001b[0m \u001b[0mself\u001b[0m\u001b[0;34m.\u001b[0m\u001b[0m_engine\u001b[0m\u001b[0;34m.\u001b[0m\u001b[0mget_loc\u001b[0m\u001b[0;34m(\u001b[0m\u001b[0mkey\u001b[0m\u001b[0;34m)\u001b[0m\u001b[0;34m\u001b[0m\u001b[0m\n\u001b[1;32m   2526\u001b[0m             \u001b[0;32mexcept\u001b[0m \u001b[0mKeyError\u001b[0m\u001b[0;34m:\u001b[0m\u001b[0;34m\u001b[0m\u001b[0m\n\u001b[0;32m-> 2527\u001b[0;31m                 \u001b[0;32mreturn\u001b[0m \u001b[0mself\u001b[0m\u001b[0;34m.\u001b[0m\u001b[0m_engine\u001b[0m\u001b[0;34m.\u001b[0m\u001b[0mget_loc\u001b[0m\u001b[0;34m(\u001b[0m\u001b[0mself\u001b[0m\u001b[0;34m.\u001b[0m\u001b[0m_maybe_cast_indexer\u001b[0m\u001b[0;34m(\u001b[0m\u001b[0mkey\u001b[0m\u001b[0;34m)\u001b[0m\u001b[0;34m)\u001b[0m\u001b[0;34m\u001b[0m\u001b[0m\n\u001b[0m\u001b[1;32m   2528\u001b[0m \u001b[0;34m\u001b[0m\u001b[0m\n\u001b[1;32m   2529\u001b[0m         \u001b[0mindexer\u001b[0m \u001b[0;34m=\u001b[0m \u001b[0mself\u001b[0m\u001b[0;34m.\u001b[0m\u001b[0mget_indexer\u001b[0m\u001b[0;34m(\u001b[0m\u001b[0;34m[\u001b[0m\u001b[0mkey\u001b[0m\u001b[0;34m]\u001b[0m\u001b[0;34m,\u001b[0m \u001b[0mmethod\u001b[0m\u001b[0;34m=\u001b[0m\u001b[0mmethod\u001b[0m\u001b[0;34m,\u001b[0m \u001b[0mtolerance\u001b[0m\u001b[0;34m=\u001b[0m\u001b[0mtolerance\u001b[0m\u001b[0;34m)\u001b[0m\u001b[0;34m\u001b[0m\u001b[0m\n",
      "\u001b[0;32mpandas/_libs/index.pyx\u001b[0m in \u001b[0;36mpandas._libs.index.IndexEngine.get_loc\u001b[0;34m()\u001b[0m\n",
      "\u001b[0;32mpandas/_libs/index.pyx\u001b[0m in \u001b[0;36mpandas._libs.index.IndexEngine.get_loc\u001b[0;34m()\u001b[0m\n",
      "\u001b[0;32mpandas/_libs/hashtable_class_helper.pxi\u001b[0m in \u001b[0;36mpandas._libs.hashtable.PyObjectHashTable.get_item\u001b[0;34m()\u001b[0m\n",
      "\u001b[0;32mpandas/_libs/hashtable_class_helper.pxi\u001b[0m in \u001b[0;36mpandas._libs.hashtable.PyObjectHashTable.get_item\u001b[0;34m()\u001b[0m\n",
      "\u001b[0;31mKeyError\u001b[0m: 'close'"
     ]
    }
   ],
   "source": [
    "plt.plot(df['close'], 'b')"
   ]
  },
  {
   "cell_type": "code",
   "execution_count": null,
   "metadata": {},
   "outputs": [],
   "source": [
    "max = df['open'].count()\n",
    "limit = int(0.3 * max)\n",
    "plt.plot(df['open'][0:max - limit], 'g')\n",
    "plt.plot(df['open'][-limit:], 'r')"
   ]
  },
  {
   "cell_type": "code",
   "execution_count": null,
   "metadata": {},
   "outputs": [],
   "source": [
    "df.hist(figsize=(10,10))"
   ]
  },
  {
   "cell_type": "code",
   "execution_count": null,
   "metadata": {},
   "outputs": [],
   "source": [
    "from bitcoin.core import Core\n",
    "core = Core()\n",
    "core.train_scaler(df=df)"
   ]
  },
  {
   "cell_type": "code",
   "execution_count": null,
   "metadata": {},
   "outputs": [],
   "source": [
    "from bitcoin.core import Core\n",
    "core = Core()\n",
    "history = core.train(df=df)"
   ]
  },
  {
   "cell_type": "code",
   "execution_count": null,
   "metadata": {},
   "outputs": [],
   "source": [
    "plt.plot(history.history['mean_absolute_error'], 'r')\n",
    "plt.plot(history.history['mean_squared_error'], 'g')"
   ]
  },
  {
   "cell_type": "code",
   "execution_count": null,
   "metadata": {},
   "outputs": [],
   "source": [
    "core.train_anomaly(df=df)"
   ]
  },
  {
   "cell_type": "code",
   "execution_count": null,
   "metadata": {},
   "outputs": [],
   "source": [
    "df_predicted = core.test_order_percent(df=df)"
   ]
  },
  {
   "cell_type": "code",
   "execution_count": null,
   "metadata": {},
   "outputs": [],
   "source": [
    "df_predicted.describe()"
   ]
  },
  {
   "cell_type": "code",
   "execution_count": null,
   "metadata": {},
   "outputs": [],
   "source": [
    "n_test = int(0.3 * df['open'].count())\n",
    "df_test = df[-n_test:].reset_index()\n",
    "plt.plot(df_test['close'], 'g')\n",
    "plt.plot(df_predicted['predicted'], 'r')"
   ]
  },
  {
   "cell_type": "code",
   "execution_count": null,
   "metadata": {
    "collapsed": true
   },
   "outputs": [],
   "source": []
  }
 ],
 "metadata": {
  "kernelspec": {
   "display_name": "Python 3",
   "language": "python",
   "name": "python3"
  },
  "language_info": {
   "codemirror_mode": {
    "name": "ipython",
    "version": 3
   },
   "file_extension": ".py",
   "mimetype": "text/x-python",
   "name": "python",
   "nbconvert_exporter": "python",
   "pygments_lexer": "ipython3",
   "version": "3.6.2"
  }
 },
 "nbformat": 4,
 "nbformat_minor": 2
}
