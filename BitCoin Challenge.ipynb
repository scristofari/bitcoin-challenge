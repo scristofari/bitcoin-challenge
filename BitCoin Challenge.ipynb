{
 "cells": [
  {
   "cell_type": "code",
   "execution_count": 14,
   "metadata": {
    "scrolled": true
   },
   "outputs": [
    {
     "data": {
      "text/html": [
       "<div>\n",
       "<style scoped>\n",
       "    .dataframe tbody tr th:only-of-type {\n",
       "        vertical-align: middle;\n",
       "    }\n",
       "\n",
       "    .dataframe tbody tr th {\n",
       "        vertical-align: top;\n",
       "    }\n",
       "\n",
       "    .dataframe thead th {\n",
       "        text-align: right;\n",
       "    }\n",
       "</style>\n",
       "<table border=\"1\" class=\"dataframe\">\n",
       "  <thead>\n",
       "    <tr style=\"text-align: right;\">\n",
       "      <th></th>\n",
       "      <th>time</th>\n",
       "      <th>low</th>\n",
       "      <th>high</th>\n",
       "      <th>open</th>\n",
       "      <th>close</th>\n",
       "      <th>volume</th>\n",
       "      <th>tw_sentiment</th>\n",
       "      <th>tw_followers</th>\n",
       "      <th>reddit_sentiment</th>\n",
       "    </tr>\n",
       "  </thead>\n",
       "  <tbody>\n",
       "    <tr>\n",
       "      <th>0</th>\n",
       "      <td>1519997640</td>\n",
       "      <td>10969.0</td>\n",
       "      <td>10969.01</td>\n",
       "      <td>10969.01</td>\n",
       "      <td>10969.00</td>\n",
       "      <td>0.111542</td>\n",
       "      <td>0.195409</td>\n",
       "      <td>607130.0</td>\n",
       "      <td>0.113258</td>\n",
       "    </tr>\n",
       "    <tr>\n",
       "      <th>1</th>\n",
       "      <td>1519997700</td>\n",
       "      <td>10969.0</td>\n",
       "      <td>10969.00</td>\n",
       "      <td>10969.00</td>\n",
       "      <td>10969.00</td>\n",
       "      <td>0.504804</td>\n",
       "      <td>0.195409</td>\n",
       "      <td>607131.0</td>\n",
       "      <td>0.113258</td>\n",
       "    </tr>\n",
       "    <tr>\n",
       "      <th>2</th>\n",
       "      <td>1519997760</td>\n",
       "      <td>10965.0</td>\n",
       "      <td>10965.01</td>\n",
       "      <td>10965.00</td>\n",
       "      <td>10965.01</td>\n",
       "      <td>0.622844</td>\n",
       "      <td>0.195409</td>\n",
       "      <td>607135.0</td>\n",
       "      <td>0.113258</td>\n",
       "    </tr>\n",
       "    <tr>\n",
       "      <th>3</th>\n",
       "      <td>1519997820</td>\n",
       "      <td>10965.0</td>\n",
       "      <td>10965.00</td>\n",
       "      <td>10965.00</td>\n",
       "      <td>10965.00</td>\n",
       "      <td>0.036500</td>\n",
       "      <td>0.195408</td>\n",
       "      <td>607140.0</td>\n",
       "      <td>0.113258</td>\n",
       "    </tr>\n",
       "    <tr>\n",
       "      <th>4</th>\n",
       "      <td>1519997880</td>\n",
       "      <td>10964.8</td>\n",
       "      <td>10964.81</td>\n",
       "      <td>10964.81</td>\n",
       "      <td>10964.80</td>\n",
       "      <td>0.762078</td>\n",
       "      <td>0.195451</td>\n",
       "      <td>607349.0</td>\n",
       "      <td>0.113258</td>\n",
       "    </tr>\n",
       "  </tbody>\n",
       "</table>\n",
       "</div>"
      ],
      "text/plain": [
       "         time      low      high      open     close    volume  tw_sentiment  \\\n",
       "0  1519997640  10969.0  10969.01  10969.01  10969.00  0.111542      0.195409   \n",
       "1  1519997700  10969.0  10969.00  10969.00  10969.00  0.504804      0.195409   \n",
       "2  1519997760  10965.0  10965.01  10965.00  10965.01  0.622844      0.195409   \n",
       "3  1519997820  10965.0  10965.00  10965.00  10965.00  0.036500      0.195408   \n",
       "4  1519997880  10964.8  10964.81  10964.81  10964.80  0.762078      0.195451   \n",
       "\n",
       "   tw_followers  reddit_sentiment  \n",
       "0      607130.0          0.113258  \n",
       "1      607131.0          0.113258  \n",
       "2      607135.0          0.113258  \n",
       "3      607140.0          0.113258  \n",
       "4      607349.0          0.113258  "
      ]
     },
     "execution_count": 14,
     "metadata": {},
     "output_type": "execute_result"
    }
   ],
   "source": [
    "import pandas as pd\n",
    "df = pd.read_csv('data.csv', \n",
    "                 names=['time', 'low', 'high', 'open', 'close', 'volume', 'tw_sentiment', 'tw_followers', 'reddit_sentiment']\n",
    "                )\n",
    "df.head()"
   ]
  },
  {
   "cell_type": "code",
   "execution_count": 15,
   "metadata": {},
   "outputs": [
    {
     "data": {
      "text/html": [
       "<div>\n",
       "<style scoped>\n",
       "    .dataframe tbody tr th:only-of-type {\n",
       "        vertical-align: middle;\n",
       "    }\n",
       "\n",
       "    .dataframe tbody tr th {\n",
       "        vertical-align: top;\n",
       "    }\n",
       "\n",
       "    .dataframe thead th {\n",
       "        text-align: right;\n",
       "    }\n",
       "</style>\n",
       "<table border=\"1\" class=\"dataframe\">\n",
       "  <thead>\n",
       "    <tr style=\"text-align: right;\">\n",
       "      <th></th>\n",
       "      <th>time</th>\n",
       "      <th>low</th>\n",
       "      <th>high</th>\n",
       "      <th>open</th>\n",
       "      <th>close</th>\n",
       "      <th>volume</th>\n",
       "      <th>tw_sentiment</th>\n",
       "      <th>tw_followers</th>\n",
       "      <th>reddit_sentiment</th>\n",
       "    </tr>\n",
       "  </thead>\n",
       "  <tbody>\n",
       "    <tr>\n",
       "      <th>count</th>\n",
       "      <td>4.538000e+03</td>\n",
       "      <td>4538.000000</td>\n",
       "      <td>4538.000000</td>\n",
       "      <td>4538.000000</td>\n",
       "      <td>4538.000000</td>\n",
       "      <td>4538.000000</td>\n",
       "      <td>4538.000000</td>\n",
       "      <td>4.538000e+03</td>\n",
       "      <td>4538.000000</td>\n",
       "    </tr>\n",
       "    <tr>\n",
       "      <th>mean</th>\n",
       "      <td>1.520134e+09</td>\n",
       "      <td>11279.686723</td>\n",
       "      <td>11281.786289</td>\n",
       "      <td>11280.693986</td>\n",
       "      <td>11280.791871</td>\n",
       "      <td>1.390539</td>\n",
       "      <td>0.049176</td>\n",
       "      <td>1.127658e+06</td>\n",
       "      <td>0.120428</td>\n",
       "    </tr>\n",
       "    <tr>\n",
       "      <th>std</th>\n",
       "      <td>7.860861e+04</td>\n",
       "      <td>192.711703</td>\n",
       "      <td>192.369058</td>\n",
       "      <td>192.541707</td>\n",
       "      <td>192.536917</td>\n",
       "      <td>1.951635</td>\n",
       "      <td>0.038062</td>\n",
       "      <td>3.404051e+05</td>\n",
       "      <td>0.034918</td>\n",
       "    </tr>\n",
       "    <tr>\n",
       "      <th>min</th>\n",
       "      <td>1.519998e+09</td>\n",
       "      <td>10765.000000</td>\n",
       "      <td>10786.810000</td>\n",
       "      <td>10785.010000</td>\n",
       "      <td>10782.000000</td>\n",
       "      <td>0.000111</td>\n",
       "      <td>-0.012135</td>\n",
       "      <td>4.487650e+05</td>\n",
       "      <td>0.022938</td>\n",
       "    </tr>\n",
       "    <tr>\n",
       "      <th>25%</th>\n",
       "      <td>1.520066e+09</td>\n",
       "      <td>11150.290000</td>\n",
       "      <td>11155.002500</td>\n",
       "      <td>11151.235000</td>\n",
       "      <td>11151.920000</td>\n",
       "      <td>0.270361</td>\n",
       "      <td>0.021676</td>\n",
       "      <td>8.948908e+05</td>\n",
       "      <td>0.102270</td>\n",
       "    </tr>\n",
       "    <tr>\n",
       "      <th>50%</th>\n",
       "      <td>1.520134e+09</td>\n",
       "      <td>11310.535000</td>\n",
       "      <td>11313.505000</td>\n",
       "      <td>11311.495000</td>\n",
       "      <td>11311.650000</td>\n",
       "      <td>0.780777</td>\n",
       "      <td>0.042585</td>\n",
       "      <td>1.041822e+06</td>\n",
       "      <td>0.128306</td>\n",
       "    </tr>\n",
       "    <tr>\n",
       "      <th>75%</th>\n",
       "      <td>1.520202e+09</td>\n",
       "      <td>11441.757500</td>\n",
       "      <td>11445.000000</td>\n",
       "      <td>11443.370000</td>\n",
       "      <td>11443.437500</td>\n",
       "      <td>1.778655</td>\n",
       "      <td>0.073290</td>\n",
       "      <td>1.207219e+06</td>\n",
       "      <td>0.152811</td>\n",
       "    </tr>\n",
       "    <tr>\n",
       "      <th>max</th>\n",
       "      <td>1.520270e+09</td>\n",
       "      <td>11597.770000</td>\n",
       "      <td>11599.000000</td>\n",
       "      <td>11597.780000</td>\n",
       "      <td>11597.780000</td>\n",
       "      <td>39.877601</td>\n",
       "      <td>0.195451</td>\n",
       "      <td>2.272463e+06</td>\n",
       "      <td>0.176271</td>\n",
       "    </tr>\n",
       "  </tbody>\n",
       "</table>\n",
       "</div>"
      ],
      "text/plain": [
       "               time           low          high          open         close  \\\n",
       "count  4.538000e+03   4538.000000   4538.000000   4538.000000   4538.000000   \n",
       "mean   1.520134e+09  11279.686723  11281.786289  11280.693986  11280.791871   \n",
       "std    7.860861e+04    192.711703    192.369058    192.541707    192.536917   \n",
       "min    1.519998e+09  10765.000000  10786.810000  10785.010000  10782.000000   \n",
       "25%    1.520066e+09  11150.290000  11155.002500  11151.235000  11151.920000   \n",
       "50%    1.520134e+09  11310.535000  11313.505000  11311.495000  11311.650000   \n",
       "75%    1.520202e+09  11441.757500  11445.000000  11443.370000  11443.437500   \n",
       "max    1.520270e+09  11597.770000  11599.000000  11597.780000  11597.780000   \n",
       "\n",
       "            volume  tw_sentiment  tw_followers  reddit_sentiment  \n",
       "count  4538.000000   4538.000000  4.538000e+03       4538.000000  \n",
       "mean      1.390539      0.049176  1.127658e+06          0.120428  \n",
       "std       1.951635      0.038062  3.404051e+05          0.034918  \n",
       "min       0.000111     -0.012135  4.487650e+05          0.022938  \n",
       "25%       0.270361      0.021676  8.948908e+05          0.102270  \n",
       "50%       0.780777      0.042585  1.041822e+06          0.128306  \n",
       "75%       1.778655      0.073290  1.207219e+06          0.152811  \n",
       "max      39.877601      0.195451  2.272463e+06          0.176271  "
      ]
     },
     "execution_count": 15,
     "metadata": {},
     "output_type": "execute_result"
    }
   ],
   "source": [
    "df.describe()"
   ]
  },
  {
   "cell_type": "code",
   "execution_count": 16,
   "metadata": {
    "scrolled": false
   },
   "outputs": [
    {
     "data": {
      "text/html": [
       "<div>\n",
       "<style scoped>\n",
       "    .dataframe tbody tr th:only-of-type {\n",
       "        vertical-align: middle;\n",
       "    }\n",
       "\n",
       "    .dataframe tbody tr th {\n",
       "        vertical-align: top;\n",
       "    }\n",
       "\n",
       "    .dataframe thead th {\n",
       "        text-align: right;\n",
       "    }\n",
       "</style>\n",
       "<table border=\"1\" class=\"dataframe\">\n",
       "  <thead>\n",
       "    <tr style=\"text-align: right;\">\n",
       "      <th></th>\n",
       "      <th>time</th>\n",
       "      <th>low</th>\n",
       "      <th>high</th>\n",
       "      <th>open</th>\n",
       "      <th>close</th>\n",
       "      <th>volume</th>\n",
       "      <th>tw_sentiment</th>\n",
       "      <th>tw_followers</th>\n",
       "      <th>reddit_sentiment</th>\n",
       "    </tr>\n",
       "  </thead>\n",
       "  <tbody>\n",
       "    <tr>\n",
       "      <th>time</th>\n",
       "      <td>1.000000</td>\n",
       "      <td>0.677210</td>\n",
       "      <td>0.676411</td>\n",
       "      <td>0.676664</td>\n",
       "      <td>0.676792</td>\n",
       "      <td>-0.105620</td>\n",
       "      <td>-0.364386</td>\n",
       "      <td>0.330484</td>\n",
       "      <td>-0.589929</td>\n",
       "    </tr>\n",
       "    <tr>\n",
       "      <th>low</th>\n",
       "      <td>0.677210</td>\n",
       "      <td>1.000000</td>\n",
       "      <td>0.999594</td>\n",
       "      <td>0.999765</td>\n",
       "      <td>0.999823</td>\n",
       "      <td>-0.027157</td>\n",
       "      <td>0.019385</td>\n",
       "      <td>0.270065</td>\n",
       "      <td>-0.315563</td>\n",
       "    </tr>\n",
       "    <tr>\n",
       "      <th>high</th>\n",
       "      <td>0.676411</td>\n",
       "      <td>0.999594</td>\n",
       "      <td>1.000000</td>\n",
       "      <td>0.999805</td>\n",
       "      <td>0.999796</td>\n",
       "      <td>-0.016895</td>\n",
       "      <td>0.019180</td>\n",
       "      <td>0.269869</td>\n",
       "      <td>-0.314725</td>\n",
       "    </tr>\n",
       "    <tr>\n",
       "      <th>open</th>\n",
       "      <td>0.676664</td>\n",
       "      <td>0.999765</td>\n",
       "      <td>0.999805</td>\n",
       "      <td>1.000000</td>\n",
       "      <td>0.999623</td>\n",
       "      <td>-0.022782</td>\n",
       "      <td>0.019450</td>\n",
       "      <td>0.269702</td>\n",
       "      <td>-0.315048</td>\n",
       "    </tr>\n",
       "    <tr>\n",
       "      <th>close</th>\n",
       "      <td>0.676792</td>\n",
       "      <td>0.999823</td>\n",
       "      <td>0.999796</td>\n",
       "      <td>0.999623</td>\n",
       "      <td>1.000000</td>\n",
       "      <td>-0.020995</td>\n",
       "      <td>0.019319</td>\n",
       "      <td>0.270187</td>\n",
       "      <td>-0.315165</td>\n",
       "    </tr>\n",
       "    <tr>\n",
       "      <th>volume</th>\n",
       "      <td>-0.105620</td>\n",
       "      <td>-0.027157</td>\n",
       "      <td>-0.016895</td>\n",
       "      <td>-0.022782</td>\n",
       "      <td>-0.020995</td>\n",
       "      <td>1.000000</td>\n",
       "      <td>0.066934</td>\n",
       "      <td>0.041367</td>\n",
       "      <td>-0.014726</td>\n",
       "    </tr>\n",
       "    <tr>\n",
       "      <th>tw_sentiment</th>\n",
       "      <td>-0.364386</td>\n",
       "      <td>0.019385</td>\n",
       "      <td>0.019180</td>\n",
       "      <td>0.019450</td>\n",
       "      <td>0.019319</td>\n",
       "      <td>0.066934</td>\n",
       "      <td>1.000000</td>\n",
       "      <td>-0.345422</td>\n",
       "      <td>0.281330</td>\n",
       "    </tr>\n",
       "    <tr>\n",
       "      <th>tw_followers</th>\n",
       "      <td>0.330484</td>\n",
       "      <td>0.270065</td>\n",
       "      <td>0.269869</td>\n",
       "      <td>0.269702</td>\n",
       "      <td>0.270187</td>\n",
       "      <td>0.041367</td>\n",
       "      <td>-0.345422</td>\n",
       "      <td>1.000000</td>\n",
       "      <td>-0.467910</td>\n",
       "    </tr>\n",
       "    <tr>\n",
       "      <th>reddit_sentiment</th>\n",
       "      <td>-0.589929</td>\n",
       "      <td>-0.315563</td>\n",
       "      <td>-0.314725</td>\n",
       "      <td>-0.315048</td>\n",
       "      <td>-0.315165</td>\n",
       "      <td>-0.014726</td>\n",
       "      <td>0.281330</td>\n",
       "      <td>-0.467910</td>\n",
       "      <td>1.000000</td>\n",
       "    </tr>\n",
       "  </tbody>\n",
       "</table>\n",
       "</div>"
      ],
      "text/plain": [
       "                      time       low      high      open     close    volume  \\\n",
       "time              1.000000  0.677210  0.676411  0.676664  0.676792 -0.105620   \n",
       "low               0.677210  1.000000  0.999594  0.999765  0.999823 -0.027157   \n",
       "high              0.676411  0.999594  1.000000  0.999805  0.999796 -0.016895   \n",
       "open              0.676664  0.999765  0.999805  1.000000  0.999623 -0.022782   \n",
       "close             0.676792  0.999823  0.999796  0.999623  1.000000 -0.020995   \n",
       "volume           -0.105620 -0.027157 -0.016895 -0.022782 -0.020995  1.000000   \n",
       "tw_sentiment     -0.364386  0.019385  0.019180  0.019450  0.019319  0.066934   \n",
       "tw_followers      0.330484  0.270065  0.269869  0.269702  0.270187  0.041367   \n",
       "reddit_sentiment -0.589929 -0.315563 -0.314725 -0.315048 -0.315165 -0.014726   \n",
       "\n",
       "                  tw_sentiment  tw_followers  reddit_sentiment  \n",
       "time                 -0.364386      0.330484         -0.589929  \n",
       "low                   0.019385      0.270065         -0.315563  \n",
       "high                  0.019180      0.269869         -0.314725  \n",
       "open                  0.019450      0.269702         -0.315048  \n",
       "close                 0.019319      0.270187         -0.315165  \n",
       "volume                0.066934      0.041367         -0.014726  \n",
       "tw_sentiment          1.000000     -0.345422          0.281330  \n",
       "tw_followers         -0.345422      1.000000         -0.467910  \n",
       "reddit_sentiment      0.281330     -0.467910          1.000000  "
      ]
     },
     "execution_count": 16,
     "metadata": {},
     "output_type": "execute_result"
    }
   ],
   "source": [
    "df.corr()"
   ]
  },
  {
   "cell_type": "code",
   "execution_count": 17,
   "metadata": {},
   "outputs": [
    {
     "data": {
      "text/plain": [
       "[<matplotlib.lines.Line2D at 0x11da71908>]"
      ]
     },
     "execution_count": 17,
     "metadata": {},
     "output_type": "execute_result"
    },
    {
     "data": {
      "image/png": "[encoded data removed]",
      "text/plain": [
       "<matplotlib.figure.Figure at 0x11e35b8d0>"
      ]
     },
     "metadata": {},
     "output_type": "display_data"
    }
   ],
   "source": [
    "import matplotlib.pyplot as plt\n",
    "%matplotlib inline\n",
    "plt.plot(df['close'], 'b')"
   ]
  },
  {
   "cell_type": "code",
   "execution_count": 18,
   "metadata": {},
   "outputs": [],
   "source": [
    "import numpy as np\n",
    "import matplotlib.pyplot as plt\n",
    "import pandas\n",
    "import math\n",
    "from keras.models import Sequential\n",
    "from keras.layers import Dense\n",
    "from keras.layers import LSTM\n",
    "from keras import regularizers\n",
    "from sklearn.preprocessing import MinMaxScaler\n",
    "from sklearn.metrics import mean_squared_error"
   ]
  },
  {
   "cell_type": "code",
   "execution_count": 19,
   "metadata": {
    "collapsed": true
   },
   "outputs": [],
   "source": [
    "X = df[['open', 'reddit_sentiment', 'tw_sentiment', 'tw_followers']]\n",
    "y = df['close'].values.reshape(-1, 1)"
   ]
  },
  {
   "cell_type": "code",
   "execution_count": 20,
   "metadata": {
    "collapsed": true
   },
   "outputs": [],
   "source": [
    "scalerX = MinMaxScaler(feature_range=(0, 1))\n",
    "scalerY = MinMaxScaler(feature_range=(0, 1))\n",
    "X_scale = scalerX.fit_transform(X)\n",
    "y_scale = scalerY.fit_transform(y)"
   ]
  },
  {
   "cell_type": "code",
   "execution_count": 21,
   "metadata": {
    "collapsed": true
   },
   "outputs": [],
   "source": [
    "from sklearn.model_selection import train_test_split\n",
    "X_train, X_test, y_train, y_test = train_test_split(X_scale, y_scale, test_size=0.3, shuffle=False)"
   ]
  },
  {
   "cell_type": "code",
   "execution_count": 22,
   "metadata": {},
   "outputs": [
    {
     "data": {
      "text/plain": [
       "(3176, 1, 4)"
      ]
     },
     "execution_count": 22,
     "metadata": {},
     "output_type": "execute_result"
    }
   ],
   "source": [
    "from keras.models import Sequential\n",
    "from keras.layers import Dense\n",
    "from keras.layers import LSTM\n",
    "from keras.layers import Activation\n",
    "from keras.layers import Dropout\n",
    "\n",
    "X_train = np.reshape(X_train, (X_train.shape[0], 1, X_train.shape[1]))\n",
    "X_test = np.reshape(X_test, (X_test.shape[0], 1, X_test.shape[1]))\n",
    "X_train.shape"
   ]
  },
  {
   "cell_type": "code",
   "execution_count": 23,
   "metadata": {},
   "outputs": [
    {
     "name": "stdout",
     "output_type": "stream",
     "text": [
      "_________________________________________________________________\n",
      "Layer (type)                 Output Shape              Param #   \n",
      "=================================================================\n",
      "lstm_3 (LSTM)                (None, 1, 200)            164000    \n",
      "_________________________________________________________________\n",
      "dropout_3 (Dropout)          (None, 1, 200)            0         \n",
      "_________________________________________________________________\n",
      "lstm_4 (LSTM)                (None, 200)               320800    \n",
      "_________________________________________________________________\n",
      "dropout_4 (Dropout)          (None, 200)               0         \n",
      "_________________________________________________________________\n",
      "dense_2 (Dense)              (None, 1)                 201       \n",
      "_________________________________________________________________\n",
      "activation_2 (Activation)    (None, 1)                 0         \n",
      "=================================================================\n",
      "Total params: 485,001\n",
      "Trainable params: 485,001\n",
      "Non-trainable params: 0\n",
      "_________________________________________________________________\n"
     ]
    }
   ],
   "source": [
    "np.random.seed(42)\n",
    "\n",
    "model = Sequential()\n",
    "\n",
    "model.add(LSTM(200, input_shape=(X_train.shape[1], X_train.shape[2]), return_sequences=True, kernel_regularizer=regularizers.l2(0.01)))\n",
    "model.add(Dropout(0.3))\n",
    "model.add(LSTM(200, return_sequences=False))\n",
    "model.add(Dropout(0.3))\n",
    "model.add(Dense(1))\n",
    "model.add(Activation('linear'))\n",
    "model.summary()\n",
    "\n",
    "model.compile(loss='mae', optimizer='adam', metrics=['mse', 'mae'])\n",
    "history = model.fit(X_train, y_train, batch_size=X_train.shape[0], \n",
    "          epochs=150, validation_data=(X_test, y_test), shuffle=False, verbose=False)"
   ]
  },
  {
   "cell_type": "code",
   "execution_count": 24,
   "metadata": {},
   "outputs": [
    {
     "data": {
      "text/plain": [
       "([<matplotlib.lines.Line2D at 0x11da4c9e8>], 'g')"
      ]
     },
     "execution_count": 24,
     "metadata": {},
     "output_type": "execute_result"
    },
    {
     "data": {
      "image/png": "[encoded data removed]",
      "text/plain": [
       "<matplotlib.figure.Figure at 0x11da4ccc0>"
      ]
     },
     "metadata": {},
     "output_type": "display_data"
    }
   ],
   "source": [
    "plt.plot(history.history['mean_absolute_error'], 'r')\n",
    "plt.plot(history.history['mean_squared_error']), 'g'"
   ]
  },
  {
   "cell_type": "code",
   "execution_count": 25,
   "metadata": {},
   "outputs": [
    {
     "data": {
      "text/plain": [
       "[<matplotlib.lines.Line2D at 0x11da59048>]"
      ]
     },
     "execution_count": 25,
     "metadata": {},
     "output_type": "execute_result"
    },
    {
     "data": {
      "image/png": "[encoded data removed]",
      "text/plain": [
       "<matplotlib.figure.Figure at 0x121fd0748>"
      ]
     },
     "metadata": {},
     "output_type": "display_data"
    }
   ],
   "source": [
    "y_predict_train = model.predict(X_train)\n",
    "y_predict_train = scalerY.inverse_transform(y_predict_train)\n",
    "\n",
    "y_predict_test = model.predict(X_test)\n",
    "y_predict_test = scalerY.inverse_transform(y_predict_test)\n",
    "\n",
    "X = np.concatenate((X_train, X_test), axis=0)\n",
    "y = np.concatenate((y_predict_train, y_predict_test), axis=0)\n",
    "\n",
    "plt.plot(y, 'r')\n",
    "plt.plot(y_predict_train, 'g')"
   ]
  },
  {
   "cell_type": "code",
   "execution_count": 26,
   "metadata": {},
   "outputs": [
    {
     "name": "stdout",
     "output_type": "stream",
     "text": [
      "Error Order percentage: 7.84%\n"
     ]
    }
   ],
   "source": [
    "import time\n",
    "from enum import Enum\n",
    "\n",
    "class Order(Enum):\n",
    "    STAY = 1\n",
    "    DOWN = 2\n",
    "    UP = 3\n",
    "\n",
    "n_error = 0\n",
    "y_predict_last = y_last = None\n",
    "for index, row in df.iterrows():\n",
    "    if y_predict_last is None:\n",
    "        y_predict_last = y_last = row['open']\n",
    "        \n",
    "    x_predict = np.array([row['open'], row['reddit_sentiment'], row['tw_sentiment'], row['tw_followers']]).reshape(1, -1)\n",
    "    x_predict = scalerX.transform(x_predict)\n",
    "    x_predict_reshaped = np.reshape(x_predict, (1, 1, 4))\n",
    "    y_predict_r = model.predict(x_predict_reshaped)\n",
    "    y_predict_r_rescaled = scalerY.inverse_transform(y_predict_r)\n",
    "\n",
    "    predict_order = real_order = Order.DOWN\n",
    "    if y_predict_last < y_predict_r_rescaled:\n",
    "        predict_order = Order.UP\n",
    "    elif y_predict_last == y_predict_r_rescaled:\n",
    "        predict_order = Order.STAY\n",
    "\n",
    "    if y_last < row['open']:\n",
    "        real_order = Order.UP\n",
    "    elif y_last == row['open']:\n",
    "        real_order = Order.STAY\n",
    "    \n",
    "    y_predict_last = y_predict_r_rescaled\n",
    "    y_last = row['open']\n",
    "    \n",
    "    if real_order != predict_order:\n",
    "        #print('predicted %s, real %s'% (predict_order, real_order))\n",
    "        n_error = n_error + 1\n",
    "        \n",
    "count = df['open'].count()\n",
    "percent = (n_error / count) * 100\n",
    "print(\"Error Order percentage: %0.2f%%\" % percent)"
   ]
  }
 ],
 "metadata": {
  "kernelspec": {
   "display_name": "Python 3",
   "language": "python",
   "name": "python3"
  },
  "language_info": {
   "codemirror_mode": {
    "name": "ipython",
    "version": 3
   },
   "file_extension": ".py",
   "mimetype": "text/x-python",
   "name": "python",
   "nbconvert_exporter": "python",
   "pygments_lexer": "ipython3",
   "version": "3.6.2"
  }
 },
 "nbformat": 4,
 "nbformat_minor": 2
}
