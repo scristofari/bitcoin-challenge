{
 "cells": [
  {
   "cell_type": "code",
   "execution_count": 1,
   "metadata": {
    "scrolled": true
   },
   "outputs": [
    {
     "data": {
      "text/html": [
       "<div>\n",
       "<style scoped>\n",
       "    .dataframe tbody tr th:only-of-type {\n",
       "        vertical-align: middle;\n",
       "    }\n",
       "\n",
       "    .dataframe tbody tr th {\n",
       "        vertical-align: top;\n",
       "    }\n",
       "\n",
       "    .dataframe thead th {\n",
       "        text-align: right;\n",
       "    }\n",
       "</style>\n",
       "<table border=\"1\" class=\"dataframe\">\n",
       "  <thead>\n",
       "    <tr style=\"text-align: right;\">\n",
       "      <th></th>\n",
       "      <th>time</th>\n",
       "      <th>low</th>\n",
       "      <th>high</th>\n",
       "      <th>open</th>\n",
       "      <th>close</th>\n",
       "      <th>volume</th>\n",
       "      <th>tw_sentiment</th>\n",
       "      <th>tw_followers</th>\n",
       "      <th>reddit_sentiment</th>\n",
       "    </tr>\n",
       "  </thead>\n",
       "  <tbody>\n",
       "    <tr>\n",
       "      <th>0</th>\n",
       "      <td>1519997640</td>\n",
       "      <td>10969.0</td>\n",
       "      <td>10969.01</td>\n",
       "      <td>10969.01</td>\n",
       "      <td>10969.00</td>\n",
       "      <td>0.111542</td>\n",
       "      <td>0.195409</td>\n",
       "      <td>607130.0</td>\n",
       "      <td>0.113258</td>\n",
       "    </tr>\n",
       "    <tr>\n",
       "      <th>1</th>\n",
       "      <td>1519997700</td>\n",
       "      <td>10969.0</td>\n",
       "      <td>10969.00</td>\n",
       "      <td>10969.00</td>\n",
       "      <td>10969.00</td>\n",
       "      <td>0.504804</td>\n",
       "      <td>0.195409</td>\n",
       "      <td>607131.0</td>\n",
       "      <td>0.113258</td>\n",
       "    </tr>\n",
       "    <tr>\n",
       "      <th>2</th>\n",
       "      <td>1519997760</td>\n",
       "      <td>10965.0</td>\n",
       "      <td>10965.01</td>\n",
       "      <td>10965.00</td>\n",
       "      <td>10965.01</td>\n",
       "      <td>0.622844</td>\n",
       "      <td>0.195409</td>\n",
       "      <td>607135.0</td>\n",
       "      <td>0.113258</td>\n",
       "    </tr>\n",
       "    <tr>\n",
       "      <th>3</th>\n",
       "      <td>1519997820</td>\n",
       "      <td>10965.0</td>\n",
       "      <td>10965.00</td>\n",
       "      <td>10965.00</td>\n",
       "      <td>10965.00</td>\n",
       "      <td>0.036500</td>\n",
       "      <td>0.195408</td>\n",
       "      <td>607140.0</td>\n",
       "      <td>0.113258</td>\n",
       "    </tr>\n",
       "    <tr>\n",
       "      <th>4</th>\n",
       "      <td>1519997880</td>\n",
       "      <td>10964.8</td>\n",
       "      <td>10964.81</td>\n",
       "      <td>10964.81</td>\n",
       "      <td>10964.80</td>\n",
       "      <td>0.762078</td>\n",
       "      <td>0.195451</td>\n",
       "      <td>607349.0</td>\n",
       "      <td>0.113258</td>\n",
       "    </tr>\n",
       "  </tbody>\n",
       "</table>\n",
       "</div>"
      ],
      "text/plain": [
       "         time      low      high      open     close    volume  tw_sentiment  \\\n",
       "0  1519997640  10969.0  10969.01  10969.01  10969.00  0.111542      0.195409   \n",
       "1  1519997700  10969.0  10969.00  10969.00  10969.00  0.504804      0.195409   \n",
       "2  1519997760  10965.0  10965.01  10965.00  10965.01  0.622844      0.195409   \n",
       "3  1519997820  10965.0  10965.00  10965.00  10965.00  0.036500      0.195408   \n",
       "4  1519997880  10964.8  10964.81  10964.81  10964.80  0.762078      0.195451   \n",
       "\n",
       "   tw_followers  reddit_sentiment  \n",
       "0      607130.0          0.113258  \n",
       "1      607131.0          0.113258  \n",
       "2      607135.0          0.113258  \n",
       "3      607140.0          0.113258  \n",
       "4      607349.0          0.113258  "
      ]
     },
     "execution_count": 1,
     "metadata": {},
     "output_type": "execute_result"
    }
   ],
   "source": [
    "import pandas as pd\n",
    "df = pd.read_csv('data.csv', \n",
    "                 names=['time', 'low', 'high', 'open', 'close', 'volume', 'tw_sentiment', 'tw_followers', 'reddit_sentiment']\n",
    "                )\n",
    "df.head()"
   ]
  },
  {
   "cell_type": "code",
   "execution_count": 2,
   "metadata": {},
   "outputs": [
    {
     "data": {
      "text/html": [
       "<div>\n",
       "<style scoped>\n",
       "    .dataframe tbody tr th:only-of-type {\n",
       "        vertical-align: middle;\n",
       "    }\n",
       "\n",
       "    .dataframe tbody tr th {\n",
       "        vertical-align: top;\n",
       "    }\n",
       "\n",
       "    .dataframe thead th {\n",
       "        text-align: right;\n",
       "    }\n",
       "</style>\n",
       "<table border=\"1\" class=\"dataframe\">\n",
       "  <thead>\n",
       "    <tr style=\"text-align: right;\">\n",
       "      <th></th>\n",
       "      <th>time</th>\n",
       "      <th>low</th>\n",
       "      <th>high</th>\n",
       "      <th>open</th>\n",
       "      <th>close</th>\n",
       "      <th>volume</th>\n",
       "      <th>tw_sentiment</th>\n",
       "      <th>tw_followers</th>\n",
       "      <th>reddit_sentiment</th>\n",
       "    </tr>\n",
       "  </thead>\n",
       "  <tbody>\n",
       "    <tr>\n",
       "      <th>count</th>\n",
       "      <td>2.954000e+03</td>\n",
       "      <td>2954.000000</td>\n",
       "      <td>2954.000000</td>\n",
       "      <td>2954.000000</td>\n",
       "      <td>2954.000000</td>\n",
       "      <td>2954.000000</td>\n",
       "      <td>2954.000000</td>\n",
       "      <td>2.954000e+03</td>\n",
       "      <td>2954.000000</td>\n",
       "    </tr>\n",
       "    <tr>\n",
       "      <th>mean</th>\n",
       "      <td>1.520086e+09</td>\n",
       "      <td>11207.376862</td>\n",
       "      <td>11209.768883</td>\n",
       "      <td>11208.548646</td>\n",
       "      <td>11208.630034</td>\n",
       "      <td>1.453982</td>\n",
       "      <td>0.054124</td>\n",
       "      <td>1.029759e+06</td>\n",
       "      <td>0.138600</td>\n",
       "    </tr>\n",
       "    <tr>\n",
       "      <th>std</th>\n",
       "      <td>5.117227e+04</td>\n",
       "      <td>183.494452</td>\n",
       "      <td>183.247916</td>\n",
       "      <td>183.378074</td>\n",
       "      <td>183.378461</td>\n",
       "      <td>1.925879</td>\n",
       "      <td>0.040878</td>\n",
       "      <td>2.480080e+05</td>\n",
       "      <td>0.022233</td>\n",
       "    </tr>\n",
       "    <tr>\n",
       "      <th>min</th>\n",
       "      <td>1.519998e+09</td>\n",
       "      <td>10765.000000</td>\n",
       "      <td>10786.810000</td>\n",
       "      <td>10785.010000</td>\n",
       "      <td>10782.000000</td>\n",
       "      <td>0.000111</td>\n",
       "      <td>-0.004737</td>\n",
       "      <td>4.487650e+05</td>\n",
       "      <td>0.059554</td>\n",
       "    </tr>\n",
       "    <tr>\n",
       "      <th>25%</th>\n",
       "      <td>1.520042e+09</td>\n",
       "      <td>11109.902500</td>\n",
       "      <td>11111.000000</td>\n",
       "      <td>11110.185000</td>\n",
       "      <td>11110.992500</td>\n",
       "      <td>0.294633</td>\n",
       "      <td>0.023286</td>\n",
       "      <td>8.872070e+05</td>\n",
       "      <td>0.123677</td>\n",
       "    </tr>\n",
       "    <tr>\n",
       "      <th>50%</th>\n",
       "      <td>1.520086e+09</td>\n",
       "      <td>11231.515000</td>\n",
       "      <td>11243.125000</td>\n",
       "      <td>11239.665000</td>\n",
       "      <td>11239.510000</td>\n",
       "      <td>0.851395</td>\n",
       "      <td>0.048726</td>\n",
       "      <td>1.025320e+06</td>\n",
       "      <td>0.138813</td>\n",
       "    </tr>\n",
       "    <tr>\n",
       "      <th>75%</th>\n",
       "      <td>1.520131e+09</td>\n",
       "      <td>11340.000000</td>\n",
       "      <td>11343.690000</td>\n",
       "      <td>11340.100000</td>\n",
       "      <td>11340.020000</td>\n",
       "      <td>1.877020</td>\n",
       "      <td>0.082557</td>\n",
       "      <td>1.179228e+06</td>\n",
       "      <td>0.157332</td>\n",
       "    </tr>\n",
       "    <tr>\n",
       "      <th>max</th>\n",
       "      <td>1.520175e+09</td>\n",
       "      <td>11492.370000</td>\n",
       "      <td>11493.750000</td>\n",
       "      <td>11493.750000</td>\n",
       "      <td>11493.740000</td>\n",
       "      <td>23.988752</td>\n",
       "      <td>0.195451</td>\n",
       "      <td>1.707796e+06</td>\n",
       "      <td>0.176271</td>\n",
       "    </tr>\n",
       "  </tbody>\n",
       "</table>\n",
       "</div>"
      ],
      "text/plain": [
       "               time           low          high          open         close  \\\n",
       "count  2.954000e+03   2954.000000   2954.000000   2954.000000   2954.000000   \n",
       "mean   1.520086e+09  11207.376862  11209.768883  11208.548646  11208.630034   \n",
       "std    5.117227e+04    183.494452    183.247916    183.378074    183.378461   \n",
       "min    1.519998e+09  10765.000000  10786.810000  10785.010000  10782.000000   \n",
       "25%    1.520042e+09  11109.902500  11111.000000  11110.185000  11110.992500   \n",
       "50%    1.520086e+09  11231.515000  11243.125000  11239.665000  11239.510000   \n",
       "75%    1.520131e+09  11340.000000  11343.690000  11340.100000  11340.020000   \n",
       "max    1.520175e+09  11492.370000  11493.750000  11493.750000  11493.740000   \n",
       "\n",
       "            volume  tw_sentiment  tw_followers  reddit_sentiment  \n",
       "count  2954.000000   2954.000000  2.954000e+03       2954.000000  \n",
       "mean      1.453982      0.054124  1.029759e+06          0.138600  \n",
       "std       1.925879      0.040878  2.480080e+05          0.022233  \n",
       "min       0.000111     -0.004737  4.487650e+05          0.059554  \n",
       "25%       0.294633      0.023286  8.872070e+05          0.123677  \n",
       "50%       0.851395      0.048726  1.025320e+06          0.138813  \n",
       "75%       1.877020      0.082557  1.179228e+06          0.157332  \n",
       "max      23.988752      0.195451  1.707796e+06          0.176271  "
      ]
     },
     "execution_count": 2,
     "metadata": {},
     "output_type": "execute_result"
    }
   ],
   "source": [
    "df.describe()"
   ]
  },
  {
   "cell_type": "code",
   "execution_count": 3,
   "metadata": {
    "scrolled": false
   },
   "outputs": [
    {
     "data": {
      "text/html": [
       "<div>\n",
       "<style scoped>\n",
       "    .dataframe tbody tr th:only-of-type {\n",
       "        vertical-align: middle;\n",
       "    }\n",
       "\n",
       "    .dataframe tbody tr th {\n",
       "        vertical-align: top;\n",
       "    }\n",
       "\n",
       "    .dataframe thead th {\n",
       "        text-align: right;\n",
       "    }\n",
       "</style>\n",
       "<table border=\"1\" class=\"dataframe\">\n",
       "  <thead>\n",
       "    <tr style=\"text-align: right;\">\n",
       "      <th></th>\n",
       "      <th>time</th>\n",
       "      <th>low</th>\n",
       "      <th>high</th>\n",
       "      <th>open</th>\n",
       "      <th>close</th>\n",
       "      <th>volume</th>\n",
       "      <th>tw_sentiment</th>\n",
       "      <th>tw_followers</th>\n",
       "      <th>reddit_sentiment</th>\n",
       "    </tr>\n",
       "  </thead>\n",
       "  <tbody>\n",
       "    <tr>\n",
       "      <th>time</th>\n",
       "      <td>1.000000</td>\n",
       "      <td>0.481664</td>\n",
       "      <td>0.482117</td>\n",
       "      <td>0.481761</td>\n",
       "      <td>0.481878</td>\n",
       "      <td>-0.145172</td>\n",
       "      <td>-0.573416</td>\n",
       "      <td>-0.072285</td>\n",
       "      <td>0.077061</td>\n",
       "    </tr>\n",
       "    <tr>\n",
       "      <th>low</th>\n",
       "      <td>0.481664</td>\n",
       "      <td>1.000000</td>\n",
       "      <td>0.999496</td>\n",
       "      <td>0.999699</td>\n",
       "      <td>0.999785</td>\n",
       "      <td>-0.021527</td>\n",
       "      <td>0.128667</td>\n",
       "      <td>-0.112962</td>\n",
       "      <td>0.406838</td>\n",
       "    </tr>\n",
       "    <tr>\n",
       "      <th>high</th>\n",
       "      <td>0.482117</td>\n",
       "      <td>0.999496</td>\n",
       "      <td>1.000000</td>\n",
       "      <td>0.999763</td>\n",
       "      <td>0.999745</td>\n",
       "      <td>-0.009285</td>\n",
       "      <td>0.128588</td>\n",
       "      <td>-0.113254</td>\n",
       "      <td>0.406987</td>\n",
       "    </tr>\n",
       "    <tr>\n",
       "      <th>open</th>\n",
       "      <td>0.481761</td>\n",
       "      <td>0.999699</td>\n",
       "      <td>0.999763</td>\n",
       "      <td>1.000000</td>\n",
       "      <td>0.999539</td>\n",
       "      <td>-0.015747</td>\n",
       "      <td>0.128904</td>\n",
       "      <td>-0.113620</td>\n",
       "      <td>0.407034</td>\n",
       "    </tr>\n",
       "    <tr>\n",
       "      <th>close</th>\n",
       "      <td>0.481878</td>\n",
       "      <td>0.999785</td>\n",
       "      <td>0.999745</td>\n",
       "      <td>0.999539</td>\n",
       "      <td>1.000000</td>\n",
       "      <td>-0.014645</td>\n",
       "      <td>0.128645</td>\n",
       "      <td>-0.112660</td>\n",
       "      <td>0.406844</td>\n",
       "    </tr>\n",
       "    <tr>\n",
       "      <th>volume</th>\n",
       "      <td>-0.145172</td>\n",
       "      <td>-0.021527</td>\n",
       "      <td>-0.009285</td>\n",
       "      <td>-0.015747</td>\n",
       "      <td>-0.014645</td>\n",
       "      <td>1.000000</td>\n",
       "      <td>0.082570</td>\n",
       "      <td>0.092396</td>\n",
       "      <td>-0.055590</td>\n",
       "    </tr>\n",
       "    <tr>\n",
       "      <th>tw_sentiment</th>\n",
       "      <td>-0.573416</td>\n",
       "      <td>0.128667</td>\n",
       "      <td>0.128588</td>\n",
       "      <td>0.128904</td>\n",
       "      <td>0.128645</td>\n",
       "      <td>0.082570</td>\n",
       "      <td>1.000000</td>\n",
       "      <td>-0.179671</td>\n",
       "      <td>0.291776</td>\n",
       "    </tr>\n",
       "    <tr>\n",
       "      <th>tw_followers</th>\n",
       "      <td>-0.072285</td>\n",
       "      <td>-0.112962</td>\n",
       "      <td>-0.113254</td>\n",
       "      <td>-0.113620</td>\n",
       "      <td>-0.112660</td>\n",
       "      <td>0.092396</td>\n",
       "      <td>-0.179671</td>\n",
       "      <td>1.000000</td>\n",
       "      <td>-0.045372</td>\n",
       "    </tr>\n",
       "    <tr>\n",
       "      <th>reddit_sentiment</th>\n",
       "      <td>0.077061</td>\n",
       "      <td>0.406838</td>\n",
       "      <td>0.406987</td>\n",
       "      <td>0.407034</td>\n",
       "      <td>0.406844</td>\n",
       "      <td>-0.055590</td>\n",
       "      <td>0.291776</td>\n",
       "      <td>-0.045372</td>\n",
       "      <td>1.000000</td>\n",
       "    </tr>\n",
       "  </tbody>\n",
       "</table>\n",
       "</div>"
      ],
      "text/plain": [
       "                      time       low      high      open     close    volume  \\\n",
       "time              1.000000  0.481664  0.482117  0.481761  0.481878 -0.145172   \n",
       "low               0.481664  1.000000  0.999496  0.999699  0.999785 -0.021527   \n",
       "high              0.482117  0.999496  1.000000  0.999763  0.999745 -0.009285   \n",
       "open              0.481761  0.999699  0.999763  1.000000  0.999539 -0.015747   \n",
       "close             0.481878  0.999785  0.999745  0.999539  1.000000 -0.014645   \n",
       "volume           -0.145172 -0.021527 -0.009285 -0.015747 -0.014645  1.000000   \n",
       "tw_sentiment     -0.573416  0.128667  0.128588  0.128904  0.128645  0.082570   \n",
       "tw_followers     -0.072285 -0.112962 -0.113254 -0.113620 -0.112660  0.092396   \n",
       "reddit_sentiment  0.077061  0.406838  0.406987  0.407034  0.406844 -0.055590   \n",
       "\n",
       "                  tw_sentiment  tw_followers  reddit_sentiment  \n",
       "time                 -0.573416     -0.072285          0.077061  \n",
       "low                   0.128667     -0.112962          0.406838  \n",
       "high                  0.128588     -0.113254          0.406987  \n",
       "open                  0.128904     -0.113620          0.407034  \n",
       "close                 0.128645     -0.112660          0.406844  \n",
       "volume                0.082570      0.092396         -0.055590  \n",
       "tw_sentiment          1.000000     -0.179671          0.291776  \n",
       "tw_followers         -0.179671      1.000000         -0.045372  \n",
       "reddit_sentiment      0.291776     -0.045372          1.000000  "
      ]
     },
     "execution_count": 3,
     "metadata": {},
     "output_type": "execute_result"
    }
   ],
   "source": [
    "df.corr()"
   ]
  },
  {
   "cell_type": "code",
   "execution_count": 4,
   "metadata": {},
   "outputs": [
    {
     "data": {
      "text/plain": [
       "[<matplotlib.lines.Line2D at 0x1076ddcc0>]"
      ]
     },
     "execution_count": 4,
     "metadata": {},
     "output_type": "execute_result"
    },
    {
     "data": {
      "image/png": "[encoded data removed]",
      "text/plain": [
       "<matplotlib.figure.Figure at 0x10439d898>"
      ]
     },
     "metadata": {},
     "output_type": "display_data"
    }
   ],
   "source": [
    "import matplotlib.pyplot as plt\n",
    "%matplotlib inline\n",
    "plt.plot(df['close'], 'b')"
   ]
  },
  {
   "cell_type": "code",
   "execution_count": 5,
   "metadata": {},
   "outputs": [
    {
     "name": "stderr",
     "output_type": "stream",
     "text": [
      "/anaconda3/lib/python3.6/site-packages/h5py/__init__.py:34: FutureWarning: Conversion of the second argument of issubdtype from `float` to `np.floating` is deprecated. In future, it will be treated as `np.float64 == np.dtype(float).type`.\n",
      "  from ._conv import register_converters as _register_converters\n",
      "Using TensorFlow backend.\n"
     ]
    }
   ],
   "source": [
    "import numpy as np\n",
    "import matplotlib.pyplot as plt\n",
    "import pandas\n",
    "import math\n",
    "from keras.models import Sequential\n",
    "from keras.layers import Dense\n",
    "from keras.layers import LSTM\n",
    "from keras import regularizers\n",
    "from sklearn.preprocessing import MinMaxScaler\n",
    "from sklearn.metrics import mean_squared_error"
   ]
  },
  {
   "cell_type": "code",
   "execution_count": 6,
   "metadata": {},
   "outputs": [],
   "source": [
    "X = df[['open', 'reddit_sentiment', 'tw_sentiment', 'tw_followers']]\n",
    "y = df['close'].values.reshape(-1, 1)"
   ]
  },
  {
   "cell_type": "code",
   "execution_count": 7,
   "metadata": {
    "collapsed": true
   },
   "outputs": [],
   "source": [
    "scalerX = MinMaxScaler(feature_range=(0, 1))\n",
    "scalerY = MinMaxScaler(feature_range=(0, 1))\n",
    "X_scale = scalerX.fit_transform(X)\n",
    "y_scale = scalerY.fit_transform(y)"
   ]
  },
  {
   "cell_type": "code",
   "execution_count": 8,
   "metadata": {
    "collapsed": true
   },
   "outputs": [],
   "source": [
    "from sklearn.model_selection import train_test_split\n",
    "X_train, X_test, y_train, y_test = train_test_split(X_scale, y_scale, test_size=0.3, shuffle=False)"
   ]
  },
  {
   "cell_type": "code",
   "execution_count": 9,
   "metadata": {},
   "outputs": [
    {
     "data": {
      "text/plain": [
       "(2067, 1, 4)"
      ]
     },
     "execution_count": 9,
     "metadata": {},
     "output_type": "execute_result"
    }
   ],
   "source": [
    "from keras.models import Sequential\n",
    "from keras.layers import Dense\n",
    "from keras.layers import LSTM\n",
    "from keras.layers import Activation\n",
    "from keras.layers import Dropout\n",
    "\n",
    "X_train = np.reshape(X_train, (X_train.shape[0], 1, X_train.shape[1]))\n",
    "X_test = np.reshape(X_test, (X_test.shape[0], 1, X_test.shape[1]))\n",
    "X_train.shape"
   ]
  },
  {
   "cell_type": "code",
   "execution_count": 10,
   "metadata": {},
   "outputs": [
    {
     "name": "stdout",
     "output_type": "stream",
     "text": [
      "_________________________________________________________________\n",
      "Layer (type)                 Output Shape              Param #   \n",
      "=================================================================\n",
      "lstm_1 (LSTM)                (None, 1, 200)            164000    \n",
      "_________________________________________________________________\n",
      "dropout_1 (Dropout)          (None, 1, 200)            0         \n",
      "_________________________________________________________________\n",
      "lstm_2 (LSTM)                (None, 200)               320800    \n",
      "_________________________________________________________________\n",
      "dropout_2 (Dropout)          (None, 200)               0         \n",
      "_________________________________________________________________\n",
      "dense_1 (Dense)              (None, 1)                 201       \n",
      "_________________________________________________________________\n",
      "activation_1 (Activation)    (None, 1)                 0         \n",
      "=================================================================\n",
      "Total params: 485,001\n",
      "Trainable params: 485,001\n",
      "Non-trainable params: 0\n",
      "_________________________________________________________________\n"
     ]
    },
    {
     "data": {
      "text/plain": [
       "<keras.callbacks.History at 0x1034a5e80>"
      ]
     },
     "execution_count": 10,
     "metadata": {},
     "output_type": "execute_result"
    }
   ],
   "source": [
    "np.random.seed(42)\n",
    "\n",
    "model = Sequential()\n",
    "\n",
    "model.add(LSTM(200, input_shape=(X_train.shape[1], X_train.shape[2]), return_sequences=True, kernel_regularizer=regularizers.l2(0.01)))\n",
    "model.add(Dropout(0.3))\n",
    "model.add(LSTM(200, return_sequences=False))\n",
    "model.add(Dropout(0.3))\n",
    "model.add(Dense(1))\n",
    "model.add(Activation('linear'))\n",
    "model.summary()\n",
    "\n",
    "model.compile(loss='mae', optimizer='adam')\n",
    "model.fit(X_train, y_train, batch_size=X_train.shape[0], \n",
    "          epochs=400, validation_data=(X_test, y_test), shuffle=False, verbose=False)"
   ]
  },
  {
   "cell_type": "code",
   "execution_count": 11,
   "metadata": {},
   "outputs": [
    {
     "data": {
      "text/plain": [
       "[<matplotlib.lines.Line2D at 0x116283780>]"
      ]
     },
     "execution_count": 11,
     "metadata": {},
     "output_type": "execute_result"
    },
    {
     "data": {
      "image/png": "[encoded data removed]",
      "text/plain": [
       "<matplotlib.figure.Figure at 0x116283320>"
      ]
     },
     "metadata": {},
     "output_type": "display_data"
    }
   ],
   "source": [
    "y_predict_train = model.predict(X_train)\n",
    "y_predict_train = scalerY.inverse_transform(y_predict_train)\n",
    "\n",
    "y_predict_test = model.predict(X_test)\n",
    "y_predict_test = scalerY.inverse_transform(y_predict_test)\n",
    "\n",
    "X = np.concatenate((X_train, X_test), axis=0)\n",
    "y = np.concatenate((y_predict_train, y_predict_test), axis=0)\n",
    "\n",
    "plt.plot(y, 'r')\n",
    "plt.plot(y_predict_train, 'g')"
   ]
  },
  {
   "cell_type": "code",
   "execution_count": 12,
   "metadata": {},
   "outputs": [
    {
     "name": "stdout",
     "output_type": "stream",
     "text": [
      "Error Order percentage: 6.50%\n"
     ]
    }
   ],
   "source": [
    "import time\n",
    "from enum import Enum\n",
    "\n",
    "class Order(Enum):\n",
    "    STAY = 1\n",
    "    DOWN = 2\n",
    "    UP = 3\n",
    "\n",
    "n_error = 0\n",
    "y_predict_last = y_last = None\n",
    "for index, row in df.iterrows():\n",
    "    if y_predict_last is None:\n",
    "        y_predict_last = y_last = row['open']\n",
    "        \n",
    "    x_predict = np.array([row['open'], row['reddit_sentiment'], row['tw_sentiment'], row['tw_followers']]).reshape(1, -1)\n",
    "    x_predict = scalerX.transform(x_predict)\n",
    "    x_predict_reshaped = np.reshape(x_predict, (1, 1, 4))\n",
    "    y_predict_r = model.predict(x_predict_reshaped)\n",
    "    y_predict_r_rescaled = scalerY.inverse_transform(y_predict_r)\n",
    "\n",
    "    predict_order = real_order = Order.DOWN\n",
    "    if y_predict_last < y_predict_r_rescaled:\n",
    "        predict_order = Order.UP\n",
    "    elif y_predict_last == y_predict_r_rescaled:\n",
    "        predict_order = Order.STAY\n",
    "\n",
    "    if y_last < row['open']:\n",
    "        real_order = Order.UP\n",
    "    elif y_last == row['open']:\n",
    "        real_order = Order.STAY\n",
    "    \n",
    "    y_predict_last = y_predict_r_rescaled\n",
    "    y_last = row['open']\n",
    "    \n",
    "    if real_order != predict_order:\n",
    "        #print('predicted %s, real %s'% (predict_order, real_order))\n",
    "        n_error = n_error + 1\n",
    "        \n",
    "count = df['open'].count()\n",
    "percent = (n_error / count) * 100\n",
    "print(\"Error Order percentage: %0.2f%%\" % percent)"
   ]
  }
 ],
 "metadata": {
  "kernelspec": {
   "display_name": "Python 3",
   "language": "python",
   "name": "python3"
  },
  "language_info": {
   "codemirror_mode": {
    "name": "ipython",
    "version": 3
   },
   "file_extension": ".py",
   "mimetype": "text/x-python",
   "name": "python",
   "nbconvert_exporter": "python",
   "pygments_lexer": "ipython3",
   "version": "3.6.2"
  }
 },
 "nbformat": 4,
 "nbformat_minor": 2
}
