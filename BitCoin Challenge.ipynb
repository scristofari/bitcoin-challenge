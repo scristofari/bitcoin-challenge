{
 "cells": [
  {
   "cell_type": "code",
   "execution_count": 1,
   "metadata": {},
   "outputs": [
    {
     "data": {
      "text/html": [
       "<div>\n",
       "<style>\n",
       "    .dataframe thead tr:only-child th {\n",
       "        text-align: right;\n",
       "    }\n",
       "\n",
       "    .dataframe thead th {\n",
       "        text-align: left;\n",
       "    }\n",
       "\n",
       "    .dataframe tbody tr th {\n",
       "        vertical-align: top;\n",
       "    }\n",
       "</style>\n",
       "<table border=\"1\" class=\"dataframe\">\n",
       "  <thead>\n",
       "    <tr style=\"text-align: right;\">\n",
       "      <th></th>\n",
       "      <th>time</th>\n",
       "      <th>low</th>\n",
       "      <th>high</th>\n",
       "      <th>open</th>\n",
       "      <th>close</th>\n",
       "      <th>volume</th>\n",
       "      <th>percent</th>\n",
       "    </tr>\n",
       "  </thead>\n",
       "  <tbody>\n",
       "    <tr>\n",
       "      <th>0</th>\n",
       "      <td>1519106700</td>\n",
       "      <td>11450.00</td>\n",
       "      <td>11456.36</td>\n",
       "      <td>11450.09</td>\n",
       "      <td>11450.00</td>\n",
       "      <td>18.503075</td>\n",
       "      <td>-0.000786</td>\n",
       "    </tr>\n",
       "    <tr>\n",
       "      <th>1</th>\n",
       "      <td>1519107000</td>\n",
       "      <td>11435.45</td>\n",
       "      <td>11469.99</td>\n",
       "      <td>11450.00</td>\n",
       "      <td>11456.87</td>\n",
       "      <td>18.426547</td>\n",
       "      <td>0.060000</td>\n",
       "    </tr>\n",
       "    <tr>\n",
       "      <th>2</th>\n",
       "      <td>1519107300</td>\n",
       "      <td>11437.62</td>\n",
       "      <td>11464.15</td>\n",
       "      <td>11453.72</td>\n",
       "      <td>11458.70</td>\n",
       "      <td>13.464636</td>\n",
       "      <td>0.043479</td>\n",
       "    </tr>\n",
       "    <tr>\n",
       "      <th>3</th>\n",
       "      <td>1519107600</td>\n",
       "      <td>11446.00</td>\n",
       "      <td>11452.00</td>\n",
       "      <td>11451.00</td>\n",
       "      <td>11451.99</td>\n",
       "      <td>13.055801</td>\n",
       "      <td>0.008646</td>\n",
       "    </tr>\n",
       "    <tr>\n",
       "      <th>4</th>\n",
       "      <td>1519107900</td>\n",
       "      <td>11451.99</td>\n",
       "      <td>11458.00</td>\n",
       "      <td>11452.00</td>\n",
       "      <td>11453.46</td>\n",
       "      <td>8.543182</td>\n",
       "      <td>0.012749</td>\n",
       "    </tr>\n",
       "  </tbody>\n",
       "</table>\n",
       "</div>"
      ],
      "text/plain": [
       "         time       low      high      open     close     volume   percent\n",
       "0  1519106700  11450.00  11456.36  11450.09  11450.00  18.503075 -0.000786\n",
       "1  1519107000  11435.45  11469.99  11450.00  11456.87  18.426547  0.060000\n",
       "2  1519107300  11437.62  11464.15  11453.72  11458.70  13.464636  0.043479\n",
       "3  1519107600  11446.00  11452.00  11451.00  11451.99  13.055801  0.008646\n",
       "4  1519107900  11451.99  11458.00  11452.00  11453.46   8.543182  0.012749"
      ]
     },
     "execution_count": 1,
     "metadata": {},
     "output_type": "execute_result"
    }
   ],
   "source": [
    "import bitcoin\n",
    "prices = bitcoin.history(granularity=300)\n",
    "prices.head()"
   ]
  },
  {
   "cell_type": "code",
   "execution_count": 2,
   "metadata": {},
   "outputs": [
    {
     "data": {
      "text/html": [
       "<div>\n",
       "<style>\n",
       "    .dataframe thead tr:only-child th {\n",
       "        text-align: right;\n",
       "    }\n",
       "\n",
       "    .dataframe thead th {\n",
       "        text-align: left;\n",
       "    }\n",
       "\n",
       "    .dataframe tbody tr th {\n",
       "        vertical-align: top;\n",
       "    }\n",
       "</style>\n",
       "<table border=\"1\" class=\"dataframe\">\n",
       "  <thead>\n",
       "    <tr style=\"text-align: right;\">\n",
       "      <th></th>\n",
       "      <th>time</th>\n",
       "      <th>low</th>\n",
       "      <th>high</th>\n",
       "      <th>open</th>\n",
       "      <th>close</th>\n",
       "      <th>volume</th>\n",
       "      <th>percent</th>\n",
       "    </tr>\n",
       "  </thead>\n",
       "  <tbody>\n",
       "    <tr>\n",
       "      <th>count</th>\n",
       "      <td>3.510000e+02</td>\n",
       "      <td>351.000000</td>\n",
       "      <td>351.000000</td>\n",
       "      <td>351.000000</td>\n",
       "      <td>351.000000</td>\n",
       "      <td>351.000000</td>\n",
       "      <td>351.000000</td>\n",
       "    </tr>\n",
       "    <tr>\n",
       "      <th>mean</th>\n",
       "      <td>1.519159e+09</td>\n",
       "      <td>11294.839174</td>\n",
       "      <td>11339.302450</td>\n",
       "      <td>11318.621282</td>\n",
       "      <td>11317.129943</td>\n",
       "      <td>22.586431</td>\n",
       "      <td>-0.012522</td>\n",
       "    </tr>\n",
       "    <tr>\n",
       "      <th>std</th>\n",
       "      <td>3.044076e+04</td>\n",
       "      <td>295.629890</td>\n",
       "      <td>281.716269</td>\n",
       "      <td>288.175283</td>\n",
       "      <td>288.985314</td>\n",
       "      <td>18.929121</td>\n",
       "      <td>0.409889</td>\n",
       "    </tr>\n",
       "    <tr>\n",
       "      <th>min</th>\n",
       "      <td>1.519107e+09</td>\n",
       "      <td>10650.010000</td>\n",
       "      <td>10745.210000</td>\n",
       "      <td>10710.620000</td>\n",
       "      <td>10711.270000</td>\n",
       "      <td>0.537131</td>\n",
       "      <td>-2.127377</td>\n",
       "    </tr>\n",
       "    <tr>\n",
       "      <th>25%</th>\n",
       "      <td>1.519133e+09</td>\n",
       "      <td>11029.405000</td>\n",
       "      <td>11077.605000</td>\n",
       "      <td>11055.970000</td>\n",
       "      <td>11052.500000</td>\n",
       "      <td>10.199584</td>\n",
       "      <td>-0.184540</td>\n",
       "    </tr>\n",
       "    <tr>\n",
       "      <th>50%</th>\n",
       "      <td>1.519159e+09</td>\n",
       "      <td>11351.990000</td>\n",
       "      <td>11398.010000</td>\n",
       "      <td>11377.240000</td>\n",
       "      <td>11376.070000</td>\n",
       "      <td>16.471751</td>\n",
       "      <td>0.019591</td>\n",
       "    </tr>\n",
       "    <tr>\n",
       "      <th>75%</th>\n",
       "      <td>1.519185e+09</td>\n",
       "      <td>11538.005000</td>\n",
       "      <td>11569.285000</td>\n",
       "      <td>11555.245000</td>\n",
       "      <td>11555.245000</td>\n",
       "      <td>26.792626</td>\n",
       "      <td>0.187756</td>\n",
       "    </tr>\n",
       "    <tr>\n",
       "      <th>max</th>\n",
       "      <td>1.519212e+09</td>\n",
       "      <td>11744.990000</td>\n",
       "      <td>11775.000000</td>\n",
       "      <td>11757.950000</td>\n",
       "      <td>11770.000000</td>\n",
       "      <td>112.818154</td>\n",
       "      <td>1.474203</td>\n",
       "    </tr>\n",
       "  </tbody>\n",
       "</table>\n",
       "</div>"
      ],
      "text/plain": [
       "               time           low          high          open         close  \\\n",
       "count  3.510000e+02    351.000000    351.000000    351.000000    351.000000   \n",
       "mean   1.519159e+09  11294.839174  11339.302450  11318.621282  11317.129943   \n",
       "std    3.044076e+04    295.629890    281.716269    288.175283    288.985314   \n",
       "min    1.519107e+09  10650.010000  10745.210000  10710.620000  10711.270000   \n",
       "25%    1.519133e+09  11029.405000  11077.605000  11055.970000  11052.500000   \n",
       "50%    1.519159e+09  11351.990000  11398.010000  11377.240000  11376.070000   \n",
       "75%    1.519185e+09  11538.005000  11569.285000  11555.245000  11555.245000   \n",
       "max    1.519212e+09  11744.990000  11775.000000  11757.950000  11770.000000   \n",
       "\n",
       "           volume     percent  \n",
       "count  351.000000  351.000000  \n",
       "mean    22.586431   -0.012522  \n",
       "std     18.929121    0.409889  \n",
       "min      0.537131   -2.127377  \n",
       "25%     10.199584   -0.184540  \n",
       "50%     16.471751    0.019591  \n",
       "75%     26.792626    0.187756  \n",
       "max    112.818154    1.474203  "
      ]
     },
     "execution_count": 2,
     "metadata": {},
     "output_type": "execute_result"
    }
   ],
   "source": [
    "prices.describe()"
   ]
  },
  {
   "cell_type": "code",
   "execution_count": 3,
   "metadata": {
    "scrolled": false
   },
   "outputs": [
    {
     "data": {
      "text/html": [
       "<div>\n",
       "<style>\n",
       "    .dataframe thead tr:only-child th {\n",
       "        text-align: right;\n",
       "    }\n",
       "\n",
       "    .dataframe thead th {\n",
       "        text-align: left;\n",
       "    }\n",
       "\n",
       "    .dataframe tbody tr th {\n",
       "        vertical-align: top;\n",
       "    }\n",
       "</style>\n",
       "<table border=\"1\" class=\"dataframe\">\n",
       "  <thead>\n",
       "    <tr style=\"text-align: right;\">\n",
       "      <th></th>\n",
       "      <th>time</th>\n",
       "      <th>low</th>\n",
       "      <th>high</th>\n",
       "      <th>open</th>\n",
       "      <th>close</th>\n",
       "      <th>volume</th>\n",
       "      <th>percent</th>\n",
       "    </tr>\n",
       "  </thead>\n",
       "  <tbody>\n",
       "    <tr>\n",
       "      <th>time</th>\n",
       "      <td>1.000000</td>\n",
       "      <td>-0.667419</td>\n",
       "      <td>-0.674624</td>\n",
       "      <td>-0.668377</td>\n",
       "      <td>-0.670720</td>\n",
       "      <td>0.125270</td>\n",
       "      <td>-0.025783</td>\n",
       "    </tr>\n",
       "    <tr>\n",
       "      <th>low</th>\n",
       "      <td>-0.667419</td>\n",
       "      <td>1.000000</td>\n",
       "      <td>0.991733</td>\n",
       "      <td>0.991759</td>\n",
       "      <td>0.996683</td>\n",
       "      <td>-0.137201</td>\n",
       "      <td>0.047582</td>\n",
       "    </tr>\n",
       "    <tr>\n",
       "      <th>high</th>\n",
       "      <td>-0.674624</td>\n",
       "      <td>0.991733</td>\n",
       "      <td>1.000000</td>\n",
       "      <td>0.995437</td>\n",
       "      <td>0.993453</td>\n",
       "      <td>-0.059368</td>\n",
       "      <td>0.004890</td>\n",
       "    </tr>\n",
       "    <tr>\n",
       "      <th>open</th>\n",
       "      <td>-0.668377</td>\n",
       "      <td>0.991759</td>\n",
       "      <td>0.995437</td>\n",
       "      <td>1.000000</td>\n",
       "      <td>0.987270</td>\n",
       "      <td>-0.092696</td>\n",
       "      <td>-0.062809</td>\n",
       "    </tr>\n",
       "    <tr>\n",
       "      <th>close</th>\n",
       "      <td>-0.670720</td>\n",
       "      <td>0.996683</td>\n",
       "      <td>0.993453</td>\n",
       "      <td>0.987270</td>\n",
       "      <td>1.000000</td>\n",
       "      <td>-0.105434</td>\n",
       "      <td>0.096685</td>\n",
       "    </tr>\n",
       "    <tr>\n",
       "      <th>volume</th>\n",
       "      <td>0.125270</td>\n",
       "      <td>-0.137201</td>\n",
       "      <td>-0.059368</td>\n",
       "      <td>-0.092696</td>\n",
       "      <td>-0.105434</td>\n",
       "      <td>1.000000</td>\n",
       "      <td>-0.079866</td>\n",
       "    </tr>\n",
       "    <tr>\n",
       "      <th>percent</th>\n",
       "      <td>-0.025783</td>\n",
       "      <td>0.047582</td>\n",
       "      <td>0.004890</td>\n",
       "      <td>-0.062809</td>\n",
       "      <td>0.096685</td>\n",
       "      <td>-0.079866</td>\n",
       "      <td>1.000000</td>\n",
       "    </tr>\n",
       "  </tbody>\n",
       "</table>\n",
       "</div>"
      ],
      "text/plain": [
       "             time       low      high      open     close    volume   percent\n",
       "time     1.000000 -0.667419 -0.674624 -0.668377 -0.670720  0.125270 -0.025783\n",
       "low     -0.667419  1.000000  0.991733  0.991759  0.996683 -0.137201  0.047582\n",
       "high    -0.674624  0.991733  1.000000  0.995437  0.993453 -0.059368  0.004890\n",
       "open    -0.668377  0.991759  0.995437  1.000000  0.987270 -0.092696 -0.062809\n",
       "close   -0.670720  0.996683  0.993453  0.987270  1.000000 -0.105434  0.096685\n",
       "volume   0.125270 -0.137201 -0.059368 -0.092696 -0.105434  1.000000 -0.079866\n",
       "percent -0.025783  0.047582  0.004890 -0.062809  0.096685 -0.079866  1.000000"
      ]
     },
     "execution_count": 3,
     "metadata": {},
     "output_type": "execute_result"
    }
   ],
   "source": [
    "prices.corr()"
   ]
  },
  {
   "cell_type": "code",
   "execution_count": 4,
   "metadata": {},
   "outputs": [
    {
     "data": {
      "image/png": "[encoded data removed]",
      "text/plain": [
       "<matplotlib.figure.Figure at 0x10c9917b8>"
      ]
     },
     "metadata": {},
     "output_type": "display_data"
    }
   ],
   "source": [
    "import matplotlib.pyplot as plt\n",
    "plt.title(\"BitCoin\")\n",
    "plt.xlabel(\"timestamp\")\n",
    "plt.ylabel(\"Score (points)\")\n",
    "plt.plot(prices['close'], 'b')\n",
    "plt.show()"
   ]
  },
  {
   "cell_type": "code",
   "execution_count": 5,
   "metadata": {},
   "outputs": [
    {
     "data": {
      "image/png": "[encoded data removed]",
      "text/plain": [
       "<matplotlib.figure.Figure at 0x113210ef0>"
      ]
     },
     "metadata": {},
     "output_type": "display_data"
    }
   ],
   "source": [
    "import numpy as np\n",
    "from sklearn.tree import DecisionTreeRegressor\n",
    "from sklearn.model_selection import train_test_split\n",
    "from sklearn.metrics import mean_absolute_error, mean_squared_error, median_absolute_error\n",
    "\n",
    "X = np.arange(len(prices)).reshape(-1, 1)\n",
    "y = np.array(prices['close'])\n",
    "X_train, X_test, y_train, y_test = train_test_split(X, y, test_size=0.2, shuffle=False)\n",
    "\n",
    "tree_reg = DecisionTreeRegressor(max_depth=5)\n",
    "tree_reg.fit(X_train, y_train)\n",
    "\n",
    "y_predict_train = tree_reg.predict(X_train)\n",
    "y_predict = tree_reg.predict(X)\n",
    "plt.title(\"Bitcoin\")\n",
    "plt.xlabel(\"days\")\n",
    "plt.ylabel(\"Score (points)\")\n",
    "plt.plot(prices['close'], 'b')\n",
    "plt.plot(y_predict, 'r')\n",
    "plt.plot(y_predict_train, 'g')\n",
    "plt.show()"
   ]
  },
  {
   "cell_type": "code",
   "execution_count": 6,
   "metadata": {},
   "outputs": [
    {
     "name": "stderr",
     "output_type": "stream",
     "text": [
      "Using TensorFlow backend.\n"
     ]
    }
   ],
   "source": [
    "import numpy\n",
    "import matplotlib.pyplot as plt\n",
    "import pandas\n",
    "import math\n",
    "from keras.models import Sequential\n",
    "from keras.layers import Dense\n",
    "from keras.layers import LSTM\n",
    "from sklearn.preprocessing import MinMaxScaler\n",
    "from sklearn.metrics import mean_squared_error"
   ]
  },
  {
   "cell_type": "code",
   "execution_count": 7,
   "metadata": {
    "collapsed": true
   },
   "outputs": [],
   "source": [
    "numpy.random.seed(42)"
   ]
  },
  {
   "cell_type": "code",
   "execution_count": 8,
   "metadata": {
    "collapsed": true
   },
   "outputs": [],
   "source": [
    "dataset = prices['close'].values.reshape(-1, 1)\n",
    "dataset = dataset.astype('float32')"
   ]
  },
  {
   "cell_type": "code",
   "execution_count": 9,
   "metadata": {},
   "outputs": [],
   "source": [
    "scaler = MinMaxScaler(feature_range=(0, 1))\n",
    "dataset = scaler.fit_transform(dataset)"
   ]
  },
  {
   "cell_type": "code",
   "execution_count": 10,
   "metadata": {},
   "outputs": [],
   "source": [
    "from sklearn.model_selection import train_test_split\n",
    "X = np.arange(len(dataset)).reshape(-1, 1)\n",
    "y = np.array(dataset)\n",
    "X_train, X_test, y_train, y_test = train_test_split(X, y, test_size=0.2, shuffle=False)"
   ]
  },
  {
   "cell_type": "code",
   "execution_count": 11,
   "metadata": {},
   "outputs": [],
   "source": [
    "from keras.models import Sequential\n",
    "from keras.layers import Dense\n",
    "from keras.layers import LSTM\n",
    "from keras.layers import Activation\n",
    "from keras.layers import Dropout\n",
    "\n",
    "X_train = numpy.reshape(X_train, (X_train.shape[0], X_train.shape[1], 1))\n",
    "X_test = numpy.reshape(X_test, (X_test.shape[0], X_test.shape[1], 1))"
   ]
  },
  {
   "cell_type": "code",
   "execution_count": 27,
   "metadata": {},
   "outputs": [
    {
     "name": "stdout",
     "output_type": "stream",
     "text": [
      "Train on 280 samples, validate on 71 samples\n",
      "Epoch 1/25\n",
      "280/280 [==============================] - 1s - loss: 0.3705 - val_loss: 0.2000\n",
      "Epoch 2/25\n",
      "280/280 [==============================] - 0s - loss: 0.0959 - val_loss: 0.5894\n",
      "Epoch 3/25\n",
      "280/280 [==============================] - 0s - loss: 0.2067 - val_loss: 0.5270\n",
      "Epoch 4/25\n",
      "280/280 [==============================] - 0s - loss: 0.1922 - val_loss: 0.3013\n",
      "Epoch 5/25\n",
      "280/280 [==============================] - 0s - loss: 0.1098 - val_loss: 0.1245\n",
      "Epoch 6/25\n",
      "280/280 [==============================] - 0s - loss: 0.0717 - val_loss: 0.0397\n",
      "Epoch 7/25\n",
      "280/280 [==============================] - 0s - loss: 0.0824 - val_loss: 0.0142\n",
      "Epoch 8/25\n",
      "280/280 [==============================] - 0s - loss: 0.1068 - val_loss: 0.0102\n",
      "Epoch 9/25\n",
      "280/280 [==============================] - 0s - loss: 0.1168 - val_loss: 0.0121\n",
      "Epoch 10/25\n",
      "280/280 [==============================] - 0s - loss: 0.1035 - val_loss: 0.0216\n",
      "Epoch 11/25\n",
      "280/280 [==============================] - 0s - loss: 0.0812 - val_loss: 0.0444\n",
      "Epoch 12/25\n",
      "280/280 [==============================] - 0s - loss: 0.0614 - val_loss: 0.0788\n",
      "Epoch 13/25\n",
      "280/280 [==============================] - 0s - loss: 0.0566 - val_loss: 0.1158\n",
      "Epoch 14/25\n",
      "280/280 [==============================] - 0s - loss: 0.0652 - val_loss: 0.1422\n",
      "Epoch 15/25\n",
      "280/280 [==============================] - 0s - loss: 0.0707 - val_loss: 0.1486\n",
      "Epoch 16/25\n",
      "280/280 [==============================] - 0s - loss: 0.0734 - val_loss: 0.1345\n",
      "Epoch 17/25\n",
      "280/280 [==============================] - 0s - loss: 0.0692 - val_loss: 0.1078\n",
      "Epoch 18/25\n",
      "280/280 [==============================] - 0s - loss: 0.0558 - val_loss: 0.0790\n",
      "Epoch 19/25\n",
      "280/280 [==============================] - 0s - loss: 0.0513 - val_loss: 0.0549\n",
      "Epoch 20/25\n",
      "280/280 [==============================] - 0s - loss: 0.0472 - val_loss: 0.0385\n",
      "Epoch 21/25\n",
      "280/280 [==============================] - 0s - loss: 0.0510 - val_loss: 0.0289\n",
      "Epoch 22/25\n",
      "280/280 [==============================] - 0s - loss: 0.0514 - val_loss: 0.0245\n",
      "Epoch 23/25\n",
      "280/280 [==============================] - 0s - loss: 0.0508 - val_loss: 0.0239\n",
      "Epoch 24/25\n",
      "280/280 [==============================] - 0s - loss: 0.0520 - val_loss: 0.0264\n",
      "Epoch 25/25\n",
      "280/280 [==============================] - 0s - loss: 0.0469 - val_loss: 0.0314\n"
     ]
    },
    {
     "data": {
      "text/plain": [
       "<keras.callbacks.History at 0x1c55cd6940>"
      ]
     },
     "execution_count": 27,
     "metadata": {},
     "output_type": "execute_result"
    }
   ],
   "source": [
    "numpy.random.seed(42)\n",
    "\n",
    "model = Sequential()\n",
    "\n",
    "model.add(LSTM(400, input_shape=(None, 1), return_sequences=True))\n",
    "model.add(Dropout(0.2))\n",
    "model.add(LSTM(400, return_sequences=False))\n",
    "model.add(Dropout(0.2))\n",
    "model.add(Dense(1))\n",
    "model.add(Activation('linear'))\n",
    "\n",
    "model.compile(loss='mse', optimizer='adam')\n",
    "model.fit(X_train, y_train, batch_size=280, epochs=25, validation_data=(X_test, y_test))"
   ]
  },
  {
   "cell_type": "code",
   "execution_count": 30,
   "metadata": {},
   "outputs": [
    {
     "data": {
      "image/png": "[encoded data removed]",
      "text/plain": [
       "<matplotlib.figure.Figure at 0x1c2dd3ab00>"
      ]
     },
     "metadata": {},
     "output_type": "display_data"
    }
   ],
   "source": [
    "X = numpy.reshape(X, (X.shape[0], X.shape[1], 1))\n",
    "y_predict_train = model.predict(X_train)\n",
    "y_predict_train = scaler.inverse_transform(y_predict_train)\n",
    "y_predict = model.predict(X)\n",
    "y_predict = scaler.inverse_transform(y_predict)\n",
    "plt.title(\"Bitcoin\")\n",
    "plt.xlabel(\"days\")\n",
    "plt.ylabel(\"Score (points)\")\n",
    "plt.plot(prices['close'], 'b')\n",
    "plt.plot(y_predict, 'r')\n",
    "plt.plot(y_predict_train, 'g')\n",
    "plt.show()"
   ]
  },
  {
   "cell_type": "code",
   "execution_count": null,
   "metadata": {
    "collapsed": true
   },
   "outputs": [],
   "source": []
  }
 ],
 "metadata": {
  "kernelspec": {
   "display_name": "Python 3",
   "language": "python",
   "name": "python3"
  },
  "language_info": {
   "codemirror_mode": {
    "name": "ipython",
    "version": 3
   },
   "file_extension": ".py",
   "mimetype": "text/x-python",
   "name": "python",
   "nbconvert_exporter": "python",
   "pygments_lexer": "ipython3",
   "version": "3.6.2"
  }
 },
 "nbformat": 4,
 "nbformat_minor": 2
}
