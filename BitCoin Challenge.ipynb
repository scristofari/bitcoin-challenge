{
 "cells": [
  {
   "cell_type": "code",
   "execution_count": 6,
   "metadata": {
    "scrolled": true
   },
   "outputs": [
    {
     "name": "stderr",
     "output_type": "stream",
     "text": [
      "2018-03-24 21:16:57,318 root         INFO     Load data from SQL.\n",
      "2018-03-24 21:16:57,517 root         INFO     Train Scaler Model\n"
     ]
    },
    {
     "name": "stdout",
     "output_type": "stream",
     "text": [
      "The autoreload extension is already loaded. To reload it, use:\n",
      "  %reload_ext autoreload\n"
     ]
    },
    {
     "name": "stderr",
     "output_type": "stream",
     "text": [
      "2018-03-24 21:16:57,532 root         INFO     Train Model\n"
     ]
    },
    {
     "name": "stdout",
     "output_type": "stream",
     "text": [
      "_________________________________________________________________\n",
      "Layer (type)                 Output Shape              Param #   \n",
      "=================================================================\n",
      "lstm_4 (LSTM)                (None, 1, 200)            161600    \n",
      "_________________________________________________________________\n",
      "dropout_4 (Dropout)          (None, 1, 200)            0         \n",
      "_________________________________________________________________\n",
      "lstm_5 (LSTM)                (None, 1, 200)            320800    \n",
      "_________________________________________________________________\n",
      "dropout_5 (Dropout)          (None, 1, 200)            0         \n",
      "_________________________________________________________________\n",
      "lstm_6 (LSTM)                (None, 200)               320800    \n",
      "_________________________________________________________________\n",
      "dropout_6 (Dropout)          (None, 200)               0         \n",
      "_________________________________________________________________\n",
      "dense_2 (Dense)              (None, 1)                 201       \n",
      "_________________________________________________________________\n",
      "activation_2 (Activation)    (None, 1)                 0         \n",
      "=================================================================\n",
      "Total params: 803,401\n",
      "Trainable params: 803,401\n",
      "Non-trainable params: 0\n",
      "_________________________________________________________________\n",
      "Train on 14769 samples, validate on 6330 samples\n",
      "Epoch 1/80\n",
      "14769/14769 [==============================] - 4s 275us/step - loss: 135.9009 - mean_squared_error: 0.2114 - mean_absolute_error: 0.3879 - val_loss: 131.2006 - val_mean_squared_error: 0.2057 - val_mean_absolute_error: 0.3801\n",
      "Epoch 2/80\n",
      "14769/14769 [==============================] - 1s 85us/step - loss: 131.2041 - mean_squared_error: 0.2079 - mean_absolute_error: 0.3836 - val_loss: 126.6068 - val_mean_squared_error: 0.2022 - val_mean_absolute_error: 0.3758\n",
      "Epoch 3/80\n",
      "14769/14769 [==============================] - 1s 84us/step - loss: 126.6102 - mean_squared_error: 0.2043 - mean_absolute_error: 0.3792 - val_loss: 122.1318 - val_mean_squared_error: 0.1986 - val_mean_absolute_error: 0.3713\n",
      "Epoch 4/80\n",
      "14769/14769 [==============================] - 1s 88us/step - loss: 122.1350 - mean_squared_error: 0.2006 - mean_absolute_error: 0.3745 - val_loss: 117.7933 - val_mean_squared_error: 0.1947 - val_mean_absolute_error: 0.3664\n",
      "Epoch 5/80\n",
      "14769/14769 [==============================] - 1s 94us/step - loss: 117.7964 - mean_squared_error: 0.1966 - mean_absolute_error: 0.3695 - val_loss: 113.5615 - val_mean_squared_error: 0.1905 - val_mean_absolute_error: 0.3609\n",
      "Epoch 6/80\n",
      "14769/14769 [==============================] - 1s 90us/step - loss: 113.5645 - mean_squared_error: 0.1922 - mean_absolute_error: 0.3639 - val_loss: 109.4457 - val_mean_squared_error: 0.1858 - val_mean_absolute_error: 0.3550\n",
      "Epoch 7/80\n",
      "14769/14769 [==============================] - 1s 84us/step - loss: 109.4485 - mean_squared_error: 0.1873 - mean_absolute_error: 0.3577 - val_loss: 105.4487 - val_mean_squared_error: 0.1806 - val_mean_absolute_error: 0.3484\n",
      "Epoch 8/80\n",
      "14769/14769 [==============================] - 1s 88us/step - loss: 105.4513 - mean_squared_error: 0.1820 - mean_absolute_error: 0.3509 - val_loss: 101.5595 - val_mean_squared_error: 0.1749 - val_mean_absolute_error: 0.3410\n",
      "Epoch 9/80\n",
      "14769/14769 [==============================] - 1s 88us/step - loss: 101.5618 - mean_squared_error: 0.1761 - mean_absolute_error: 0.3433 - val_loss: 97.7908 - val_mean_squared_error: 0.1687 - val_mean_absolute_error: 0.3328\n",
      "Epoch 10/80\n",
      "14769/14769 [==============================] - 1s 96us/step - loss: 97.7928 - mean_squared_error: 0.1697 - mean_absolute_error: 0.3348 - val_loss: 94.1241 - val_mean_squared_error: 0.1621 - val_mean_absolute_error: 0.3237\n",
      "Epoch 11/80\n",
      "14769/14769 [==============================] - 1s 88us/step - loss: 94.1258 - mean_squared_error: 0.1629 - mean_absolute_error: 0.3253 - val_loss: 90.5602 - val_mean_squared_error: 0.1549 - val_mean_absolute_error: 0.3134\n",
      "Epoch 12/80\n",
      "14769/14769 [==============================] - 1s 90us/step - loss: 90.5615 - mean_squared_error: 0.1555 - mean_absolute_error: 0.3147 - val_loss: 87.0858 - val_mean_squared_error: 0.1474 - val_mean_absolute_error: 0.3021\n",
      "Epoch 13/80\n",
      "14769/14769 [==============================] - 1s 91us/step - loss: 87.0868 - mean_squared_error: 0.1476 - mean_absolute_error: 0.3031 - val_loss: 83.7340 - val_mean_squared_error: 0.1396 - val_mean_absolute_error: 0.2899\n",
      "Epoch 14/80\n",
      "14769/14769 [==============================] - 1s 88us/step - loss: 83.7346 - mean_squared_error: 0.1396 - mean_absolute_error: 0.2906 - val_loss: 80.4815 - val_mean_squared_error: 0.1317 - val_mean_absolute_error: 0.2775\n",
      "Epoch 15/80\n",
      "14769/14769 [==============================] - 1s 92us/step - loss: 80.4819 - mean_squared_error: 0.1315 - mean_absolute_error: 0.2779 - val_loss: 77.3276 - val_mean_squared_error: 0.1241 - val_mean_absolute_error: 0.2651\n",
      "Epoch 16/80\n",
      "14769/14769 [==============================] - 1s 89us/step - loss: 77.3273 - mean_squared_error: 0.1234 - mean_absolute_error: 0.2649 - val_loss: 74.2750 - val_mean_squared_error: 0.1170 - val_mean_absolute_error: 0.2537\n",
      "Epoch 17/80\n",
      "14769/14769 [==============================] - 1s 94us/step - loss: 74.2743 - mean_squared_error: 0.1162 - mean_absolute_error: 0.2530 - val_loss: 71.2929 - val_mean_squared_error: 0.1109 - val_mean_absolute_error: 0.2434\n",
      "Epoch 18/80\n",
      "14769/14769 [==============================] - 1s 91us/step - loss: 71.2917 - mean_squared_error: 0.1099 - mean_absolute_error: 0.2422 - val_loss: 68.4067 - val_mean_squared_error: 0.1063 - val_mean_absolute_error: 0.2360\n",
      "Epoch 19/80\n",
      "14769/14769 [==============================] - 1s 91us/step - loss: 68.4047 - mean_squared_error: 0.1050 - mean_absolute_error: 0.2340 - val_loss: 65.6316 - val_mean_squared_error: 0.1036 - val_mean_absolute_error: 0.2312\n",
      "Epoch 20/80\n",
      "14769/14769 [==============================] - 1s 91us/step - loss: 65.6294 - mean_squared_error: 0.1020 - mean_absolute_error: 0.2290 - val_loss: 62.9489 - val_mean_squared_error: 0.1021 - val_mean_absolute_error: 0.2292\n",
      "Epoch 21/80\n",
      "14769/14769 [==============================] - 1s 92us/step - loss: 62.9466 - mean_squared_error: 0.1003 - mean_absolute_error: 0.2269 - val_loss: 60.3672 - val_mean_squared_error: 0.1010 - val_mean_absolute_error: 0.2295\n",
      "Epoch 22/80\n",
      "14769/14769 [==============================] - 1s 92us/step - loss: 60.3648 - mean_squared_error: 0.0991 - mean_absolute_error: 0.2271 - val_loss: 57.8414 - val_mean_squared_error: 0.0992 - val_mean_absolute_error: 0.2298\n",
      "Epoch 23/80\n",
      "14769/14769 [==============================] - 1s 92us/step - loss: 57.8393 - mean_squared_error: 0.0973 - mean_absolute_error: 0.2277 - val_loss: 55.4140 - val_mean_squared_error: 0.0959 - val_mean_absolute_error: 0.2280\n",
      "Epoch 24/80\n",
      "14769/14769 [==============================] - 1s 94us/step - loss: 55.4117 - mean_squared_error: 0.0940 - mean_absolute_error: 0.2258 - val_loss: 53.0550 - val_mean_squared_error: 0.0909 - val_mean_absolute_error: 0.2229\n",
      "Epoch 25/80\n",
      "14769/14769 [==============================] - 1s 93us/step - loss: 53.0532 - mean_squared_error: 0.0893 - mean_absolute_error: 0.2211 - val_loss: 50.7715 - val_mean_squared_error: 0.0847 - val_mean_absolute_error: 0.2144\n",
      "Epoch 26/80\n",
      "14769/14769 [==============================] - 1s 93us/step - loss: 50.7702 - mean_squared_error: 0.0832 - mean_absolute_error: 0.2131 - val_loss: 48.5788 - val_mean_squared_error: 0.0779 - val_mean_absolute_error: 0.2037\n",
      "Epoch 27/80\n",
      "14769/14769 [==============================] - 1s 94us/step - loss: 48.5775 - mean_squared_error: 0.0766 - mean_absolute_error: 0.2025 - val_loss: 46.4560 - val_mean_squared_error: 0.0712 - val_mean_absolute_error: 0.1926\n",
      "Epoch 28/80\n",
      "14769/14769 [==============================] - 1s 94us/step - loss: 46.4547 - mean_squared_error: 0.0701 - mean_absolute_error: 0.1913 - val_loss: 44.3987 - val_mean_squared_error: 0.0651 - val_mean_absolute_error: 0.1823\n",
      "Epoch 29/80\n",
      "14769/14769 [==============================] - 1s 94us/step - loss: 44.3971 - mean_squared_error: 0.0640 - mean_absolute_error: 0.1807 - val_loss: 42.4182 - val_mean_squared_error: 0.0595 - val_mean_absolute_error: 0.1731\n"
     ]
    },
    {
     "name": "stdout",
     "output_type": "stream",
     "text": [
      "Epoch 30/80\n",
      "14769/14769 [==============================] - 1s 94us/step - loss: 42.4168 - mean_squared_error: 0.0586 - mean_absolute_error: 0.1717 - val_loss: 40.5103 - val_mean_squared_error: 0.0544 - val_mean_absolute_error: 0.1648\n",
      "Epoch 31/80\n",
      "14769/14769 [==============================] - 1s 94us/step - loss: 40.5089 - mean_squared_error: 0.0537 - mean_absolute_error: 0.1634 - val_loss: 38.6612 - val_mean_squared_error: 0.0495 - val_mean_absolute_error: 0.1568\n",
      "Epoch 32/80\n",
      "14769/14769 [==============================] - 1s 99us/step - loss: 38.6598 - mean_squared_error: 0.0488 - mean_absolute_error: 0.1554 - val_loss: 36.8946 - val_mean_squared_error: 0.0444 - val_mean_absolute_error: 0.1481\n",
      "Epoch 33/80\n",
      "14769/14769 [==============================] - 2s 107us/step - loss: 36.8935 - mean_squared_error: 0.0438 - mean_absolute_error: 0.1470 - val_loss: 35.1917 - val_mean_squared_error: 0.0389 - val_mean_absolute_error: 0.1381\n",
      "Epoch 34/80\n",
      "14769/14769 [==============================] - 1s 101us/step - loss: 35.1907 - mean_squared_error: 0.0385 - mean_absolute_error: 0.1371 - val_loss: 33.5448 - val_mean_squared_error: 0.0330 - val_mean_absolute_error: 0.1263\n",
      "Epoch 35/80\n",
      "14769/14769 [==============================] - 2s 111us/step - loss: 33.5442 - mean_squared_error: 0.0328 - mean_absolute_error: 0.1257 - val_loss: 31.9654 - val_mean_squared_error: 0.0268 - val_mean_absolute_error: 0.1124\n",
      "Epoch 36/80\n",
      "14769/14769 [==============================] - 2s 108us/step - loss: 31.9652 - mean_squared_error: 0.0268 - mean_absolute_error: 0.1122 - val_loss: 30.4600 - val_mean_squared_error: 0.0206 - val_mean_absolute_error: 0.0962\n",
      "Epoch 37/80\n",
      "14769/14769 [==============================] - 2s 110us/step - loss: 30.4603 - mean_squared_error: 0.0208 - mean_absolute_error: 0.0966 - val_loss: 28.9973 - val_mean_squared_error: 0.0148 - val_mean_absolute_error: 0.0780\n",
      "Epoch 38/80\n",
      "14769/14769 [==============================] - 2s 110us/step - loss: 28.9992 - mean_squared_error: 0.0150 - mean_absolute_error: 0.0800 - val_loss: 27.5757 - val_mean_squared_error: 0.0096 - val_mean_absolute_error: 0.0585\n",
      "Epoch 39/80\n",
      "14769/14769 [==============================] - 2s 114us/step - loss: 27.5815 - mean_squared_error: 0.0101 - mean_absolute_error: 0.0643 - val_loss: 26.2295 - val_mean_squared_error: 0.0057 - val_mean_absolute_error: 0.0434\n",
      "Epoch 40/80\n",
      "14769/14769 [==============================] - 1s 99us/step - loss: 26.2377 - mean_squared_error: 0.0064 - mean_absolute_error: 0.0517 - val_loss: 24.9496 - val_mean_squared_error: 0.0030 - val_mean_absolute_error: 0.0332\n",
      "Epoch 41/80\n",
      "14769/14769 [==============================] - 1s 99us/step - loss: 24.9557 - mean_squared_error: 0.0038 - mean_absolute_error: 0.0393 - val_loss: 23.7239 - val_mean_squared_error: 0.0015 - val_mean_absolute_error: 0.0230\n",
      "Epoch 42/80\n",
      "14769/14769 [==============================] - 1s 97us/step - loss: 23.7318 - mean_squared_error: 0.0024 - mean_absolute_error: 0.0309 - val_loss: 22.5613 - val_mean_squared_error: 0.0013 - val_mean_absolute_error: 0.0287\n",
      "Epoch 43/80\n",
      "14769/14769 [==============================] - 1s 96us/step - loss: 22.5688 - mean_squared_error: 0.0023 - mean_absolute_error: 0.0362 - val_loss: 21.4428 - val_mean_squared_error: 0.0020 - val_mean_absolute_error: 0.0387\n",
      "Epoch 44/80\n",
      "14769/14769 [==============================] - 2s 104us/step - loss: 21.4492 - mean_squared_error: 0.0030 - mean_absolute_error: 0.0452 - val_loss: 20.3687 - val_mean_squared_error: 0.0031 - val_mean_absolute_error: 0.0476\n",
      "Epoch 45/80\n",
      "14769/14769 [==============================] - 2s 107us/step - loss: 20.3746 - mean_squared_error: 0.0041 - mean_absolute_error: 0.0535 - val_loss: 19.3387 - val_mean_squared_error: 0.0038 - val_mean_absolute_error: 0.0532\n",
      "Epoch 46/80\n",
      "14769/14769 [==============================] - 2s 112us/step - loss: 19.3440 - mean_squared_error: 0.0048 - mean_absolute_error: 0.0585 - val_loss: 18.3576 - val_mean_squared_error: 0.0040 - val_mean_absolute_error: 0.0546\n",
      "Epoch 47/80\n",
      "14769/14769 [==============================] - 2s 110us/step - loss: 18.3630 - mean_squared_error: 0.0050 - mean_absolute_error: 0.0601 - val_loss: 17.3876 - val_mean_squared_error: 0.0036 - val_mean_absolute_error: 0.0518\n",
      "Epoch 48/80\n",
      "14769/14769 [==============================] - 2s 104us/step - loss: 17.3930 - mean_squared_error: 0.0046 - mean_absolute_error: 0.0571 - val_loss: 16.4490 - val_mean_squared_error: 0.0028 - val_mean_absolute_error: 0.0458\n",
      "Epoch 49/80\n",
      "14769/14769 [==============================] - 2s 102us/step - loss: 16.4553 - mean_squared_error: 0.0038 - mean_absolute_error: 0.0521 - val_loss: 15.5702 - val_mean_squared_error: 0.0019 - val_mean_absolute_error: 0.0380\n",
      "Epoch 50/80\n",
      "14769/14769 [==============================] - 1s 96us/step - loss: 15.5773 - mean_squared_error: 0.0029 - mean_absolute_error: 0.0451 - val_loss: 14.7686 - val_mean_squared_error: 0.0012 - val_mean_absolute_error: 0.0299\n",
      "Epoch 51/80\n",
      "14769/14769 [==============================] - 2s 105us/step - loss: 14.7769 - mean_squared_error: 0.0022 - mean_absolute_error: 0.0382 - val_loss: 14.0131 - val_mean_squared_error: 8.3896e-04 - val_mean_absolute_error: 0.0229\n",
      "Epoch 52/80\n",
      "14769/14769 [==============================] - 1s 98us/step - loss: 14.0215 - mean_squared_error: 0.0017 - mean_absolute_error: 0.0313 - val_loss: 13.2705 - val_mean_squared_error: 8.3575e-04 - val_mean_absolute_error: 0.0182\n",
      "Epoch 53/80\n",
      "14769/14769 [==============================] - 2s 108us/step - loss: 13.2804 - mean_squared_error: 0.0018 - mean_absolute_error: 0.0281 - val_loss: 12.5617 - val_mean_squared_error: 0.0012 - val_mean_absolute_error: 0.0180\n",
      "Epoch 54/80\n",
      "14769/14769 [==============================] - 2s 105us/step - loss: 12.5720 - mean_squared_error: 0.0020 - mean_absolute_error: 0.0282 - val_loss: 11.8867 - val_mean_squared_error: 0.0016 - val_mean_absolute_error: 0.0223\n",
      "Epoch 55/80\n",
      "14769/14769 [==============================] - 1s 101us/step - loss: 11.8958 - mean_squared_error: 0.0024 - mean_absolute_error: 0.0314 - val_loss: 11.2299 - val_mean_squared_error: 0.0020 - val_mean_absolute_error: 0.0227\n",
      "Epoch 56/80\n",
      "14769/14769 [==============================] - 2s 116us/step - loss: 11.2412 - mean_squared_error: 0.0027 - mean_absolute_error: 0.0341 - val_loss: 10.6184 - val_mean_squared_error: 0.0022 - val_mean_absolute_error: 0.0247\n",
      "Epoch 57/80\n",
      "14769/14769 [==============================] - 2s 105us/step - loss: 10.6288 - mean_squared_error: 0.0030 - mean_absolute_error: 0.0351 - val_loss: 10.0477 - val_mean_squared_error: 0.0023 - val_mean_absolute_error: 0.0267\n",
      "Epoch 58/80\n",
      "14769/14769 [==============================] - 2s 105us/step - loss: 10.0568 - mean_squared_error: 0.0031 - mean_absolute_error: 0.0358 - val_loss: 9.5142 - val_mean_squared_error: 0.0020 - val_mean_absolute_error: 0.0257\n",
      "Epoch 59/80\n",
      "14769/14769 [==============================] - 1s 94us/step - loss: 9.5223 - mean_squared_error: 0.0027 - mean_absolute_error: 0.0338 - val_loss: 9.0006 - val_mean_squared_error: 0.0014 - val_mean_absolute_error: 0.0214\n",
      "Epoch 60/80\n",
      "14769/14769 [==============================] - 1s 96us/step - loss: 9.0099 - mean_squared_error: 0.0022 - mean_absolute_error: 0.0307 - val_loss: 8.5007 - val_mean_squared_error: 8.0312e-04 - val_mean_absolute_error: 0.0145\n",
      "Epoch 61/80\n",
      "14769/14769 [==============================] - 1s 94us/step - loss: 8.5128 - mean_squared_error: 0.0016 - mean_absolute_error: 0.0265 - val_loss: 8.0121 - val_mean_squared_error: 3.1450e-04 - val_mean_absolute_error: 0.0093\n",
      "Epoch 62/80\n",
      "14769/14769 [==============================] - 1s 100us/step - loss: 8.0256 - mean_squared_error: 0.0012 - mean_absolute_error: 0.0228 - val_loss: 7.5592 - val_mean_squared_error: 1.3871e-04 - val_mean_absolute_error: 0.0086\n",
      "Epoch 63/80\n",
      "14769/14769 [==============================] - 1s 99us/step - loss: 7.5729 - mean_squared_error: 0.0011 - mean_absolute_error: 0.0223 - val_loss: 7.1452 - val_mean_squared_error: 2.1018e-04 - val_mean_absolute_error: 0.0118\n",
      "Epoch 64/80\n",
      "14769/14769 [==============================] - 2s 107us/step - loss: 7.1579 - mean_squared_error: 0.0012 - mean_absolute_error: 0.0245 - val_loss: 6.7553 - val_mean_squared_error: 3.2889e-04 - val_mean_absolute_error: 0.0146\n"
     ]
    },
    {
     "name": "stdout",
     "output_type": "stream",
     "text": [
      "Epoch 65/80\n",
      "14769/14769 [==============================] - 1s 99us/step - loss: 6.7668 - mean_squared_error: 0.0013 - mean_absolute_error: 0.0262 - val_loss: 6.3807 - val_mean_squared_error: 3.8032e-04 - val_mean_absolute_error: 0.0151\n",
      "Epoch 66/80\n",
      "14769/14769 [==============================] - 2s 103us/step - loss: 6.3925 - mean_squared_error: 0.0013 - mean_absolute_error: 0.0268 - val_loss: 6.0259 - val_mean_squared_error: 3.4396e-04 - val_mean_absolute_error: 0.0139\n",
      "Epoch 67/80\n",
      "14769/14769 [==============================] - 2s 109us/step - loss: 6.0385 - mean_squared_error: 0.0012 - mean_absolute_error: 0.0265 - val_loss: 5.6830 - val_mean_squared_error: 2.3962e-04 - val_mean_absolute_error: 0.0119\n",
      "Epoch 68/80\n",
      "14769/14769 [==============================] - 2s 102us/step - loss: 5.6960 - mean_squared_error: 0.0012 - mean_absolute_error: 0.0249 - val_loss: 5.3631 - val_mean_squared_error: 1.2103e-04 - val_mean_absolute_error: 0.0086\n",
      "Epoch 69/80\n",
      "14769/14769 [==============================] - 1s 96us/step - loss: 5.3773 - mean_squared_error: 0.0010 - mean_absolute_error: 0.0228 - val_loss: 5.0607 - val_mean_squared_error: 5.4925e-05 - val_mean_absolute_error: 0.0046\n",
      "Epoch 70/80\n",
      "14769/14769 [==============================] - 1s 93us/step - loss: 5.0773 - mean_squared_error: 9.4551e-04 - mean_absolute_error: 0.0212 - val_loss: 4.7882 - val_mean_squared_error: 8.3967e-05 - val_mean_absolute_error: 0.0068\n",
      "Epoch 71/80\n",
      "14769/14769 [==============================] - 1s 94us/step - loss: 4.8030 - mean_squared_error: 9.6802e-04 - mean_absolute_error: 0.0216 - val_loss: 4.5278 - val_mean_squared_error: 1.7030e-04 - val_mean_absolute_error: 0.0102\n",
      "Epoch 72/80\n",
      "14769/14769 [==============================] - 1s 93us/step - loss: 4.5404 - mean_squared_error: 0.0010 - mean_absolute_error: 0.0229 - val_loss: 4.2768 - val_mean_squared_error: 2.4788e-04 - val_mean_absolute_error: 0.0123\n",
      "Epoch 73/80\n",
      "14769/14769 [==============================] - 1s 93us/step - loss: 4.2884 - mean_squared_error: 0.0011 - mean_absolute_error: 0.0239 - val_loss: 4.0374 - val_mean_squared_error: 2.7375e-04 - val_mean_absolute_error: 0.0128\n",
      "Epoch 74/80\n",
      "14769/14769 [==============================] - 1s 93us/step - loss: 4.0486 - mean_squared_error: 0.0011 - mean_absolute_error: 0.0240 - val_loss: 3.8130 - val_mean_squared_error: 2.4272e-04 - val_mean_absolute_error: 0.0119\n",
      "Epoch 75/80\n",
      "14769/14769 [==============================] - 1s 94us/step - loss: 3.8244 - mean_squared_error: 0.0011 - mean_absolute_error: 0.0232 - val_loss: 3.5987 - val_mean_squared_error: 1.6862e-04 - val_mean_absolute_error: 0.0095\n",
      "Epoch 76/80\n",
      "14769/14769 [==============================] - 1s 94us/step - loss: 3.6115 - mean_squared_error: 0.0010 - mean_absolute_error: 0.0223 - val_loss: 3.3969 - val_mean_squared_error: 1.0217e-04 - val_mean_absolute_error: 0.0063\n",
      "Epoch 77/80\n",
      "14769/14769 [==============================] - 1s 94us/step - loss: 3.4117 - mean_squared_error: 9.4596e-04 - mean_absolute_error: 0.0211 - val_loss: 3.2209 - val_mean_squared_error: 9.8666e-05 - val_mean_absolute_error: 0.0065\n",
      "Epoch 78/80\n",
      "14769/14769 [==============================] - 1s 95us/step - loss: 3.2358 - mean_squared_error: 9.9281e-04 - mean_absolute_error: 0.0214 - val_loss: 3.0647 - val_mean_squared_error: 1.4527e-04 - val_mean_absolute_error: 0.0077\n",
      "Epoch 79/80\n",
      "14769/14769 [==============================] - 1s 96us/step - loss: 3.0794 - mean_squared_error: 0.0011 - mean_absolute_error: 0.0223 - val_loss: 2.9061 - val_mean_squared_error: 1.8415e-04 - val_mean_absolute_error: 0.0085\n",
      "Epoch 80/80\n",
      "14769/14769 [==============================] - 1s 93us/step - loss: 2.9201 - mean_squared_error: 0.0011 - mean_absolute_error: 0.0224 - val_loss: 2.7389 - val_mean_squared_error: 1.7249e-04 - val_mean_absolute_error: 0.0083\n"
     ]
    },
    {
     "name": "stderr",
     "output_type": "stream",
     "text": [
      "2018-03-24 21:19:00,276 root         INFO     Test set of 5275 items !\n",
      "2018-03-24 21:19:24,655 root         INFO     Done !\n"
     ]
    }
   ],
   "source": [
    "%matplotlib inline\n",
    "%load_ext autoreload\n",
    "%autoreload 2\n",
    "\n",
    "import matplotlib.pyplot as plt\n",
    "from bitcoin.validation import test_model\n",
    "import numpy as np\n",
    "\n",
    "(df, regul), history = test_model()"
   ]
  },
  {
   "cell_type": "code",
   "execution_count": 7,
   "metadata": {},
   "outputs": [
    {
     "name": "stdout",
     "output_type": "stream",
     "text": [
      "evs: 0.999190\n",
      "mae: 14.468246\n",
      "msr: 523.825032\n",
      "mdae: 6.060000\n",
      "evs: 0.999190\n",
      "mae: 14.089708\n",
      "msr: 466.760601\n",
      "mdae: 6.450000\n"
     ]
    }
   ],
   "source": [
    "from sklearn.metrics import explained_variance_score, mean_absolute_error, mean_squared_error, median_absolute_error\n",
    "\n",
    "print(\"evs: %f\" % explained_variance_score(df['real'], df['predicted']))\n",
    "print(\"mae: %f\" % mean_absolute_error(df['real'], df['predicted']))\n",
    "print(\"msr: %f\" % mean_squared_error(df['real'], df['predicted']))\n",
    "print(\"mdae: %f\" % median_absolute_error(df['real'], df['predicted']))\n",
    "\n",
    "print(\"evs: %f\" % explained_variance_score(df['real'], df['predicted_regul']))\n",
    "print(\"mae: %f\" % mean_absolute_error(df['real'], df['predicted_regul']))\n",
    "print(\"msr: %f\" % mean_squared_error(df['real'], df['predicted_regul']))\n",
    "print(\"mdae: %f\" % median_absolute_error(df['real'], df['predicted_regul']))"
   ]
  },
  {
   "cell_type": "code",
   "execution_count": 8,
   "metadata": {},
   "outputs": [
    {
     "data": {
      "text/plain": [
       "[<matplotlib.lines.Line2D at 0x10e7fdd68>]"
      ]
     },
     "execution_count": 8,
     "metadata": {},
     "output_type": "execute_result"
    },
    {
     "data": {
      "image/png": "[encoded data removed]",
      "text/plain": [
       "<matplotlib.figure.Figure at 0x10e7fd320>"
      ]
     },
     "metadata": {},
     "output_type": "display_data"
    }
   ],
   "source": [
    "plt.plot(history.history['mean_absolute_error'], 'r'),\n",
    "plt.plot(history.history['mean_squared_error'], 'g')"
   ]
  },
  {
   "cell_type": "code",
   "execution_count": 13,
   "metadata": {},
   "outputs": [
    {
     "data": {
      "text/plain": [
       "[<matplotlib.lines.Line2D at 0x134442a58>]"
      ]
     },
     "execution_count": 13,
     "metadata": {},
     "output_type": "execute_result"
    },
    {
     "data": {
      "image/png": "[encoded data removed]",
      "text/plain": [
       "<matplotlib.figure.Figure at 0x1343c2278>"
      ]
     },
     "metadata": {},
     "output_type": "display_data"
    }
   ],
   "source": [
    "plt.plot(df['real'], color='g')\n",
    "plt.plot(df['predicted'], 'r')\n",
    "plt.plot(df['predicted_regul'], 'b')"
   ]
  },
  {
   "cell_type": "code",
   "execution_count": 14,
   "metadata": {},
   "outputs": [
    {
     "data": {
      "text/html": [
       "<div>\n",
       "<style scoped>\n",
       "    .dataframe tbody tr th:only-of-type {\n",
       "        vertical-align: middle;\n",
       "    }\n",
       "\n",
       "    .dataframe tbody tr th {\n",
       "        vertical-align: top;\n",
       "    }\n",
       "\n",
       "    .dataframe thead th {\n",
       "        text-align: right;\n",
       "    }\n",
       "</style>\n",
       "<table border=\"1\" class=\"dataframe\">\n",
       "  <thead>\n",
       "    <tr style=\"text-align: right;\">\n",
       "      <th></th>\n",
       "      <th>real</th>\n",
       "      <th>predicted</th>\n",
       "      <th>diff</th>\n",
       "      <th>predicted_regul</th>\n",
       "      <th>diff_regul</th>\n",
       "    </tr>\n",
       "  </thead>\n",
       "  <tbody>\n",
       "    <tr>\n",
       "      <th>count</th>\n",
       "      <td>5275.000000</td>\n",
       "      <td>5275.000000</td>\n",
       "      <td>5275.000000</td>\n",
       "      <td>5275.000000</td>\n",
       "      <td>5275.000000</td>\n",
       "    </tr>\n",
       "    <tr>\n",
       "      <th>mean</th>\n",
       "      <td>7331.069909</td>\n",
       "      <td>7341.609177</td>\n",
       "      <td>-10.539268</td>\n",
       "      <td>7338.419177</td>\n",
       "      <td>-7.349268</td>\n",
       "    </tr>\n",
       "    <tr>\n",
       "      <th>std</th>\n",
       "      <td>713.694347</td>\n",
       "      <td>728.149284</td>\n",
       "      <td>20.318148</td>\n",
       "      <td>728.149284</td>\n",
       "      <td>20.318148</td>\n",
       "    </tr>\n",
       "    <tr>\n",
       "      <th>min</th>\n",
       "      <td>5982.000000</td>\n",
       "      <td>6020.040000</td>\n",
       "      <td>-101.720000</td>\n",
       "      <td>6016.850000</td>\n",
       "      <td>-98.530000</td>\n",
       "    </tr>\n",
       "    <tr>\n",
       "      <th>25%</th>\n",
       "      <td>6841.330000</td>\n",
       "      <td>6838.345000</td>\n",
       "      <td>-17.125000</td>\n",
       "      <td>6835.155000</td>\n",
       "      <td>-13.935000</td>\n",
       "    </tr>\n",
       "    <tr>\n",
       "      <th>50%</th>\n",
       "      <td>7225.000000</td>\n",
       "      <td>7224.280000</td>\n",
       "      <td>-3.190000</td>\n",
       "      <td>7221.090000</td>\n",
       "      <td>0.000000</td>\n",
       "    </tr>\n",
       "    <tr>\n",
       "      <th>75%</th>\n",
       "      <td>7619.405000</td>\n",
       "      <td>7629.530000</td>\n",
       "      <td>2.155000</td>\n",
       "      <td>7626.340000</td>\n",
       "      <td>5.345000</td>\n",
       "    </tr>\n",
       "    <tr>\n",
       "      <th>max</th>\n",
       "      <td>9399.000000</td>\n",
       "      <td>9456.420000</td>\n",
       "      <td>80.530000</td>\n",
       "      <td>9453.230000</td>\n",
       "      <td>83.720000</td>\n",
       "    </tr>\n",
       "  </tbody>\n",
       "</table>\n",
       "</div>"
      ],
      "text/plain": [
       "              real    predicted         diff  predicted_regul   diff_regul\n",
       "count  5275.000000  5275.000000  5275.000000      5275.000000  5275.000000\n",
       "mean   7331.069909  7341.609177   -10.539268      7338.419177    -7.349268\n",
       "std     713.694347   728.149284    20.318148       728.149284    20.318148\n",
       "min    5982.000000  6020.040000  -101.720000      6016.850000   -98.530000\n",
       "25%    6841.330000  6838.345000   -17.125000      6835.155000   -13.935000\n",
       "50%    7225.000000  7224.280000    -3.190000      7221.090000     0.000000\n",
       "75%    7619.405000  7629.530000     2.155000      7626.340000     5.345000\n",
       "max    9399.000000  9456.420000    80.530000      9453.230000    83.720000"
      ]
     },
     "execution_count": 14,
     "metadata": {},
     "output_type": "execute_result"
    }
   ],
   "source": [
    "df.describe()"
   ]
  },
  {
   "cell_type": "code",
   "execution_count": null,
   "metadata": {
    "collapsed": true
   },
   "outputs": [],
   "source": []
  }
 ],
 "metadata": {
  "kernelspec": {
   "display_name": "Python 3",
   "language": "python",
   "name": "python3"
  },
  "language_info": {
   "codemirror_mode": {
    "name": "ipython",
    "version": 3
   },
   "file_extension": ".py",
   "mimetype": "text/x-python",
   "name": "python",
   "nbconvert_exporter": "python",
   "pygments_lexer": "ipython3",
   "version": "3.6.2"
  }
 },
 "nbformat": 4,
 "nbformat_minor": 2
}
