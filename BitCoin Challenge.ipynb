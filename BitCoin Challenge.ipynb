{
 "cells": [
  {
   "cell_type": "code",
   "execution_count": 1,
   "metadata": {
    "scrolled": true
   },
   "outputs": [
    {
     "data": {
      "text/html": [
       "<div>\n",
       "<style scoped>\n",
       "    .dataframe tbody tr th:only-of-type {\n",
       "        vertical-align: middle;\n",
       "    }\n",
       "\n",
       "    .dataframe tbody tr th {\n",
       "        vertical-align: top;\n",
       "    }\n",
       "\n",
       "    .dataframe thead th {\n",
       "        text-align: right;\n",
       "    }\n",
       "</style>\n",
       "<table border=\"1\" class=\"dataframe\">\n",
       "  <thead>\n",
       "    <tr style=\"text-align: right;\">\n",
       "      <th></th>\n",
       "      <th>time</th>\n",
       "      <th>low</th>\n",
       "      <th>high</th>\n",
       "      <th>open</th>\n",
       "      <th>close</th>\n",
       "      <th>volume</th>\n",
       "      <th>tw_sentiment</th>\n",
       "      <th>tw_followers</th>\n",
       "      <th>reddit_sentiment</th>\n",
       "      <th>google_sentiment</th>\n",
       "    </tr>\n",
       "  </thead>\n",
       "  <tbody>\n",
       "    <tr>\n",
       "      <th>0</th>\n",
       "      <td>1520272320</td>\n",
       "      <td>9322.00</td>\n",
       "      <td>9322.01</td>\n",
       "      <td>9322.01</td>\n",
       "      <td>9322.00</td>\n",
       "      <td>0.273876</td>\n",
       "      <td>0.104927</td>\n",
       "      <td>1063075.0</td>\n",
       "      <td>0.034975</td>\n",
       "      <td>0.170432</td>\n",
       "    </tr>\n",
       "    <tr>\n",
       "      <th>1</th>\n",
       "      <td>1520272380</td>\n",
       "      <td>9322.00</td>\n",
       "      <td>9322.01</td>\n",
       "      <td>9322.01</td>\n",
       "      <td>9322.00</td>\n",
       "      <td>0.145773</td>\n",
       "      <td>0.104928</td>\n",
       "      <td>1063083.0</td>\n",
       "      <td>0.034975</td>\n",
       "      <td>0.170432</td>\n",
       "    </tr>\n",
       "    <tr>\n",
       "      <th>2</th>\n",
       "      <td>1520272440</td>\n",
       "      <td>9320.00</td>\n",
       "      <td>9320.01</td>\n",
       "      <td>9320.00</td>\n",
       "      <td>9320.00</td>\n",
       "      <td>0.066710</td>\n",
       "      <td>0.104928</td>\n",
       "      <td>1063089.0</td>\n",
       "      <td>0.034975</td>\n",
       "      <td>0.170432</td>\n",
       "    </tr>\n",
       "    <tr>\n",
       "      <th>3</th>\n",
       "      <td>1520272500</td>\n",
       "      <td>9320.01</td>\n",
       "      <td>9320.01</td>\n",
       "      <td>9320.01</td>\n",
       "      <td>9320.01</td>\n",
       "      <td>0.013989</td>\n",
       "      <td>0.104928</td>\n",
       "      <td>1063091.0</td>\n",
       "      <td>0.034975</td>\n",
       "      <td>0.170432</td>\n",
       "    </tr>\n",
       "    <tr>\n",
       "      <th>4</th>\n",
       "      <td>1520272560</td>\n",
       "      <td>9320.01</td>\n",
       "      <td>9320.01</td>\n",
       "      <td>9320.01</td>\n",
       "      <td>9320.01</td>\n",
       "      <td>0.706339</td>\n",
       "      <td>0.104928</td>\n",
       "      <td>1063095.0</td>\n",
       "      <td>0.038833</td>\n",
       "      <td>0.170432</td>\n",
       "    </tr>\n",
       "  </tbody>\n",
       "</table>\n",
       "</div>"
      ],
      "text/plain": [
       "         time      low     high     open    close    volume  tw_sentiment  \\\n",
       "0  1520272320  9322.00  9322.01  9322.01  9322.00  0.273876      0.104927   \n",
       "1  1520272380  9322.00  9322.01  9322.01  9322.00  0.145773      0.104928   \n",
       "2  1520272440  9320.00  9320.01  9320.00  9320.00  0.066710      0.104928   \n",
       "3  1520272500  9320.01  9320.01  9320.01  9320.01  0.013989      0.104928   \n",
       "4  1520272560  9320.01  9320.01  9320.01  9320.01  0.706339      0.104928   \n",
       "\n",
       "   tw_followers  reddit_sentiment  google_sentiment  \n",
       "0     1063075.0          0.034975          0.170432  \n",
       "1     1063083.0          0.034975          0.170432  \n",
       "2     1063089.0          0.034975          0.170432  \n",
       "3     1063091.0          0.034975          0.170432  \n",
       "4     1063095.0          0.038833          0.170432  "
      ]
     },
     "execution_count": 1,
     "metadata": {},
     "output_type": "execute_result"
    }
   ],
   "source": [
    "%matplotlib inline\n",
    "import matplotlib.pyplot as plt\n",
    "\n",
    "from bitcoin import engine\n",
    "df = engine.load_data('BTC-EUR')\n",
    "df.head()"
   ]
  },
  {
   "cell_type": "code",
   "execution_count": 2,
   "metadata": {},
   "outputs": [
    {
     "data": {
      "text/html": [
       "<div>\n",
       "<style scoped>\n",
       "    .dataframe tbody tr th:only-of-type {\n",
       "        vertical-align: middle;\n",
       "    }\n",
       "\n",
       "    .dataframe tbody tr th {\n",
       "        vertical-align: top;\n",
       "    }\n",
       "\n",
       "    .dataframe thead th {\n",
       "        text-align: right;\n",
       "    }\n",
       "</style>\n",
       "<table border=\"1\" class=\"dataframe\">\n",
       "  <thead>\n",
       "    <tr style=\"text-align: right;\">\n",
       "      <th></th>\n",
       "      <th>time</th>\n",
       "      <th>low</th>\n",
       "      <th>high</th>\n",
       "      <th>open</th>\n",
       "      <th>close</th>\n",
       "      <th>volume</th>\n",
       "      <th>tw_sentiment</th>\n",
       "      <th>tw_followers</th>\n",
       "      <th>reddit_sentiment</th>\n",
       "      <th>google_sentiment</th>\n",
       "    </tr>\n",
       "  </thead>\n",
       "  <tbody>\n",
       "    <tr>\n",
       "      <th>count</th>\n",
       "      <td>1.598000e+03</td>\n",
       "      <td>1598.000000</td>\n",
       "      <td>1598.000000</td>\n",
       "      <td>1598.000000</td>\n",
       "      <td>1598.000000</td>\n",
       "      <td>1598.000000</td>\n",
       "      <td>1598.000000</td>\n",
       "      <td>1.598000e+03</td>\n",
       "      <td>1598.000000</td>\n",
       "      <td>1598.000000</td>\n",
       "    </tr>\n",
       "    <tr>\n",
       "      <th>mean</th>\n",
       "      <td>1.520320e+09</td>\n",
       "      <td>9062.179149</td>\n",
       "      <td>9065.810169</td>\n",
       "      <td>9064.236615</td>\n",
       "      <td>9064.006640</td>\n",
       "      <td>1.323994</td>\n",
       "      <td>0.059329</td>\n",
       "      <td>8.727612e+05</td>\n",
       "      <td>0.056474</td>\n",
       "      <td>0.106435</td>\n",
       "    </tr>\n",
       "    <tr>\n",
       "      <th>std</th>\n",
       "      <td>2.783565e+04</td>\n",
       "      <td>243.694478</td>\n",
       "      <td>241.364395</td>\n",
       "      <td>242.383411</td>\n",
       "      <td>242.412212</td>\n",
       "      <td>3.628104</td>\n",
       "      <td>0.029050</td>\n",
       "      <td>2.694822e+05</td>\n",
       "      <td>0.032102</td>\n",
       "      <td>0.040376</td>\n",
       "    </tr>\n",
       "    <tr>\n",
       "      <th>min</th>\n",
       "      <td>1.520272e+09</td>\n",
       "      <td>8545.000000</td>\n",
       "      <td>8552.010000</td>\n",
       "      <td>8552.010000</td>\n",
       "      <td>8549.510000</td>\n",
       "      <td>0.001000</td>\n",
       "      <td>-0.015150</td>\n",
       "      <td>3.329640e+05</td>\n",
       "      <td>-0.010816</td>\n",
       "      <td>0.025257</td>\n",
       "    </tr>\n",
       "    <tr>\n",
       "      <th>25%</th>\n",
       "      <td>1.520296e+09</td>\n",
       "      <td>8831.000000</td>\n",
       "      <td>8835.020000</td>\n",
       "      <td>8832.252500</td>\n",
       "      <td>8832.000000</td>\n",
       "      <td>0.122372</td>\n",
       "      <td>0.043455</td>\n",
       "      <td>6.511260e+05</td>\n",
       "      <td>0.032393</td>\n",
       "      <td>0.075896</td>\n",
       "    </tr>\n",
       "    <tr>\n",
       "      <th>50%</th>\n",
       "      <td>1.520320e+09</td>\n",
       "      <td>9130.000000</td>\n",
       "      <td>9132.445000</td>\n",
       "      <td>9131.210000</td>\n",
       "      <td>9130.395000</td>\n",
       "      <td>0.376645</td>\n",
       "      <td>0.063361</td>\n",
       "      <td>8.378460e+05</td>\n",
       "      <td>0.061548</td>\n",
       "      <td>0.112896</td>\n",
       "    </tr>\n",
       "    <tr>\n",
       "      <th>75%</th>\n",
       "      <td>1.520344e+09</td>\n",
       "      <td>9215.007500</td>\n",
       "      <td>9215.510000</td>\n",
       "      <td>9215.510000</td>\n",
       "      <td>9215.500000</td>\n",
       "      <td>1.221317</td>\n",
       "      <td>0.082567</td>\n",
       "      <td>1.121273e+06</td>\n",
       "      <td>0.086548</td>\n",
       "      <td>0.134075</td>\n",
       "    </tr>\n",
       "    <tr>\n",
       "      <th>max</th>\n",
       "      <td>1.520369e+09</td>\n",
       "      <td>9399.000000</td>\n",
       "      <td>9399.000000</td>\n",
       "      <td>9399.000000</td>\n",
       "      <td>9399.000000</td>\n",
       "      <td>90.488639</td>\n",
       "      <td>0.118355</td>\n",
       "      <td>1.365095e+06</td>\n",
       "      <td>0.102910</td>\n",
       "      <td>0.174146</td>\n",
       "    </tr>\n",
       "  </tbody>\n",
       "</table>\n",
       "</div>"
      ],
      "text/plain": [
       "               time          low         high         open        close  \\\n",
       "count  1.598000e+03  1598.000000  1598.000000  1598.000000  1598.000000   \n",
       "mean   1.520320e+09  9062.179149  9065.810169  9064.236615  9064.006640   \n",
       "std    2.783565e+04   243.694478   241.364395   242.383411   242.412212   \n",
       "min    1.520272e+09  8545.000000  8552.010000  8552.010000  8549.510000   \n",
       "25%    1.520296e+09  8831.000000  8835.020000  8832.252500  8832.000000   \n",
       "50%    1.520320e+09  9130.000000  9132.445000  9131.210000  9130.395000   \n",
       "75%    1.520344e+09  9215.007500  9215.510000  9215.510000  9215.500000   \n",
       "max    1.520369e+09  9399.000000  9399.000000  9399.000000  9399.000000   \n",
       "\n",
       "            volume  tw_sentiment  tw_followers  reddit_sentiment  \\\n",
       "count  1598.000000   1598.000000  1.598000e+03       1598.000000   \n",
       "mean      1.323994      0.059329  8.727612e+05          0.056474   \n",
       "std       3.628104      0.029050  2.694822e+05          0.032102   \n",
       "min       0.001000     -0.015150  3.329640e+05         -0.010816   \n",
       "25%       0.122372      0.043455  6.511260e+05          0.032393   \n",
       "50%       0.376645      0.063361  8.378460e+05          0.061548   \n",
       "75%       1.221317      0.082567  1.121273e+06          0.086548   \n",
       "max      90.488639      0.118355  1.365095e+06          0.102910   \n",
       "\n",
       "       google_sentiment  \n",
       "count       1598.000000  \n",
       "mean           0.106435  \n",
       "std            0.040376  \n",
       "min            0.025257  \n",
       "25%            0.075896  \n",
       "50%            0.112896  \n",
       "75%            0.134075  \n",
       "max            0.174146  "
      ]
     },
     "execution_count": 2,
     "metadata": {},
     "output_type": "execute_result"
    }
   ],
   "source": [
    "df.describe()"
   ]
  },
  {
   "cell_type": "code",
   "execution_count": 3,
   "metadata": {
    "scrolled": false
   },
   "outputs": [
    {
     "data": {
      "text/html": [
       "<div>\n",
       "<style scoped>\n",
       "    .dataframe tbody tr th:only-of-type {\n",
       "        vertical-align: middle;\n",
       "    }\n",
       "\n",
       "    .dataframe tbody tr th {\n",
       "        vertical-align: top;\n",
       "    }\n",
       "\n",
       "    .dataframe thead th {\n",
       "        text-align: right;\n",
       "    }\n",
       "</style>\n",
       "<table border=\"1\" class=\"dataframe\">\n",
       "  <thead>\n",
       "    <tr style=\"text-align: right;\">\n",
       "      <th></th>\n",
       "      <th>time</th>\n",
       "      <th>low</th>\n",
       "      <th>high</th>\n",
       "      <th>open</th>\n",
       "      <th>close</th>\n",
       "      <th>volume</th>\n",
       "      <th>tw_sentiment</th>\n",
       "      <th>tw_followers</th>\n",
       "      <th>reddit_sentiment</th>\n",
       "      <th>google_sentiment</th>\n",
       "    </tr>\n",
       "  </thead>\n",
       "  <tbody>\n",
       "    <tr>\n",
       "      <th>time</th>\n",
       "      <td>1.000000</td>\n",
       "      <td>-0.932714</td>\n",
       "      <td>-0.933285</td>\n",
       "      <td>-0.933158</td>\n",
       "      <td>-0.933096</td>\n",
       "      <td>0.188374</td>\n",
       "      <td>-0.474035</td>\n",
       "      <td>-0.846710</td>\n",
       "      <td>-0.634567</td>\n",
       "      <td>-0.205440</td>\n",
       "    </tr>\n",
       "    <tr>\n",
       "      <th>low</th>\n",
       "      <td>-0.932714</td>\n",
       "      <td>1.000000</td>\n",
       "      <td>0.999338</td>\n",
       "      <td>0.999522</td>\n",
       "      <td>0.999724</td>\n",
       "      <td>-0.217343</td>\n",
       "      <td>0.416574</td>\n",
       "      <td>0.740383</td>\n",
       "      <td>0.668833</td>\n",
       "      <td>0.096185</td>\n",
       "    </tr>\n",
       "    <tr>\n",
       "      <th>high</th>\n",
       "      <td>-0.933285</td>\n",
       "      <td>0.999338</td>\n",
       "      <td>1.000000</td>\n",
       "      <td>0.999774</td>\n",
       "      <td>0.999698</td>\n",
       "      <td>-0.193213</td>\n",
       "      <td>0.416654</td>\n",
       "      <td>0.742736</td>\n",
       "      <td>0.670178</td>\n",
       "      <td>0.098031</td>\n",
       "    </tr>\n",
       "    <tr>\n",
       "      <th>open</th>\n",
       "      <td>-0.933158</td>\n",
       "      <td>0.999522</td>\n",
       "      <td>0.999774</td>\n",
       "      <td>1.000000</td>\n",
       "      <td>0.999522</td>\n",
       "      <td>-0.197327</td>\n",
       "      <td>0.416091</td>\n",
       "      <td>0.741954</td>\n",
       "      <td>0.669929</td>\n",
       "      <td>0.097347</td>\n",
       "    </tr>\n",
       "    <tr>\n",
       "      <th>close</th>\n",
       "      <td>-0.933096</td>\n",
       "      <td>0.999724</td>\n",
       "      <td>0.999698</td>\n",
       "      <td>0.999522</td>\n",
       "      <td>1.000000</td>\n",
       "      <td>-0.205100</td>\n",
       "      <td>0.417266</td>\n",
       "      <td>0.741576</td>\n",
       "      <td>0.669666</td>\n",
       "      <td>0.097338</td>\n",
       "    </tr>\n",
       "    <tr>\n",
       "      <th>volume</th>\n",
       "      <td>0.188374</td>\n",
       "      <td>-0.217343</td>\n",
       "      <td>-0.193213</td>\n",
       "      <td>-0.197327</td>\n",
       "      <td>-0.205100</td>\n",
       "      <td>1.000000</td>\n",
       "      <td>-0.008478</td>\n",
       "      <td>-0.163661</td>\n",
       "      <td>-0.093278</td>\n",
       "      <td>-0.008477</td>\n",
       "    </tr>\n",
       "    <tr>\n",
       "      <th>tw_sentiment</th>\n",
       "      <td>-0.474035</td>\n",
       "      <td>0.416574</td>\n",
       "      <td>0.416654</td>\n",
       "      <td>0.416091</td>\n",
       "      <td>0.417266</td>\n",
       "      <td>-0.008478</td>\n",
       "      <td>1.000000</td>\n",
       "      <td>0.222797</td>\n",
       "      <td>0.268070</td>\n",
       "      <td>0.237351</td>\n",
       "    </tr>\n",
       "    <tr>\n",
       "      <th>tw_followers</th>\n",
       "      <td>-0.846710</td>\n",
       "      <td>0.740383</td>\n",
       "      <td>0.742736</td>\n",
       "      <td>0.741954</td>\n",
       "      <td>0.741576</td>\n",
       "      <td>-0.163661</td>\n",
       "      <td>0.222797</td>\n",
       "      <td>1.000000</td>\n",
       "      <td>0.673609</td>\n",
       "      <td>0.078302</td>\n",
       "    </tr>\n",
       "    <tr>\n",
       "      <th>reddit_sentiment</th>\n",
       "      <td>-0.634567</td>\n",
       "      <td>0.668833</td>\n",
       "      <td>0.670178</td>\n",
       "      <td>0.669929</td>\n",
       "      <td>0.669666</td>\n",
       "      <td>-0.093278</td>\n",
       "      <td>0.268070</td>\n",
       "      <td>0.673609</td>\n",
       "      <td>1.000000</td>\n",
       "      <td>-0.408538</td>\n",
       "    </tr>\n",
       "    <tr>\n",
       "      <th>google_sentiment</th>\n",
       "      <td>-0.205440</td>\n",
       "      <td>0.096185</td>\n",
       "      <td>0.098031</td>\n",
       "      <td>0.097347</td>\n",
       "      <td>0.097338</td>\n",
       "      <td>-0.008477</td>\n",
       "      <td>0.237351</td>\n",
       "      <td>0.078302</td>\n",
       "      <td>-0.408538</td>\n",
       "      <td>1.000000</td>\n",
       "    </tr>\n",
       "  </tbody>\n",
       "</table>\n",
       "</div>"
      ],
      "text/plain": [
       "                      time       low      high      open     close    volume  \\\n",
       "time              1.000000 -0.932714 -0.933285 -0.933158 -0.933096  0.188374   \n",
       "low              -0.932714  1.000000  0.999338  0.999522  0.999724 -0.217343   \n",
       "high             -0.933285  0.999338  1.000000  0.999774  0.999698 -0.193213   \n",
       "open             -0.933158  0.999522  0.999774  1.000000  0.999522 -0.197327   \n",
       "close            -0.933096  0.999724  0.999698  0.999522  1.000000 -0.205100   \n",
       "volume            0.188374 -0.217343 -0.193213 -0.197327 -0.205100  1.000000   \n",
       "tw_sentiment     -0.474035  0.416574  0.416654  0.416091  0.417266 -0.008478   \n",
       "tw_followers     -0.846710  0.740383  0.742736  0.741954  0.741576 -0.163661   \n",
       "reddit_sentiment -0.634567  0.668833  0.670178  0.669929  0.669666 -0.093278   \n",
       "google_sentiment -0.205440  0.096185  0.098031  0.097347  0.097338 -0.008477   \n",
       "\n",
       "                  tw_sentiment  tw_followers  reddit_sentiment  \\\n",
       "time                 -0.474035     -0.846710         -0.634567   \n",
       "low                   0.416574      0.740383          0.668833   \n",
       "high                  0.416654      0.742736          0.670178   \n",
       "open                  0.416091      0.741954          0.669929   \n",
       "close                 0.417266      0.741576          0.669666   \n",
       "volume               -0.008478     -0.163661         -0.093278   \n",
       "tw_sentiment          1.000000      0.222797          0.268070   \n",
       "tw_followers          0.222797      1.000000          0.673609   \n",
       "reddit_sentiment      0.268070      0.673609          1.000000   \n",
       "google_sentiment      0.237351      0.078302         -0.408538   \n",
       "\n",
       "                  google_sentiment  \n",
       "time                     -0.205440  \n",
       "low                       0.096185  \n",
       "high                      0.098031  \n",
       "open                      0.097347  \n",
       "close                     0.097338  \n",
       "volume                   -0.008477  \n",
       "tw_sentiment              0.237351  \n",
       "tw_followers              0.078302  \n",
       "reddit_sentiment         -0.408538  \n",
       "google_sentiment          1.000000  "
      ]
     },
     "execution_count": 3,
     "metadata": {},
     "output_type": "execute_result"
    }
   ],
   "source": [
    "df.corr()"
   ]
  },
  {
   "cell_type": "code",
   "execution_count": 4,
   "metadata": {},
   "outputs": [
    {
     "data": {
      "text/plain": [
       "[<matplotlib.lines.Line2D at 0x105e130b8>]"
      ]
     },
     "execution_count": 4,
     "metadata": {},
     "output_type": "execute_result"
    },
    {
     "data": {
      "image/png": "[encoded data removed]",
      "text/plain": [
       "<matplotlib.figure.Figure at 0x10b84e6d8>"
      ]
     },
     "metadata": {},
     "output_type": "display_data"
    }
   ],
   "source": [
    "plt.plot(df['close'], 'b')"
   ]
  },
  {
   "cell_type": "code",
   "execution_count": 12,
   "metadata": {},
   "outputs": [
    {
     "data": {
      "text/plain": [
       "array([[<matplotlib.axes._subplots.AxesSubplot object at 0x11fc0f0f0>,\n",
       "        <matplotlib.axes._subplots.AxesSubplot object at 0x11ea98588>,\n",
       "        <matplotlib.axes._subplots.AxesSubplot object at 0x11eb516d8>],\n",
       "       [<matplotlib.axes._subplots.AxesSubplot object at 0x11eb896d8>,\n",
       "        <matplotlib.axes._subplots.AxesSubplot object at 0x11ec00668>,\n",
       "        <matplotlib.axes._subplots.AxesSubplot object at 0x11ec006a0>],\n",
       "       [<matplotlib.axes._subplots.AxesSubplot object at 0x11eda8208>,\n",
       "        <matplotlib.axes._subplots.AxesSubplot object at 0x11ee22208>,\n",
       "        <matplotlib.axes._subplots.AxesSubplot object at 0x11ee59208>],\n",
       "       [<matplotlib.axes._subplots.AxesSubplot object at 0x11ee2eb00>,\n",
       "        <matplotlib.axes._subplots.AxesSubplot object at 0x11eeb8cf8>,\n",
       "        <matplotlib.axes._subplots.AxesSubplot object at 0x11ef39c88>]],\n",
       "      dtype=object)"
      ]
     },
     "execution_count": 12,
     "metadata": {},
     "output_type": "execute_result"
    },
    {
     "data": {
      "image/png": "[encoded data removed]",
      "text/plain": [
       "<matplotlib.figure.Figure at 0x11fc22828>"
      ]
     },
     "metadata": {},
     "output_type": "display_data"
    }
   ],
   "source": [
    "df.hist()"
   ]
  },
  {
   "cell_type": "code",
   "execution_count": 6,
   "metadata": {
    "collapsed": true
   },
   "outputs": [],
   "source": [
    "X_train, X_test, y_train, y_test, scaler_x, scaler_y = engine.prepare(df)"
   ]
  },
  {
   "cell_type": "code",
   "execution_count": 7,
   "metadata": {},
   "outputs": [
    {
     "name": "stderr",
     "output_type": "stream",
     "text": [
      "/anaconda3/lib/python3.6/site-packages/h5py/__init__.py:34: FutureWarning: Conversion of the second argument of issubdtype from `float` to `np.floating` is deprecated. In future, it will be treated as `np.float64 == np.dtype(float).type`.\n",
      "  from ._conv import register_converters as _register_converters\n",
      "Using TensorFlow backend.\n"
     ]
    },
    {
     "name": "stdout",
     "output_type": "stream",
     "text": [
      "_________________________________________________________________\n",
      "Layer (type)                 Output Shape              Param #   \n",
      "=================================================================\n",
      "lstm_1 (LSTM)                (None, 1, 200)            164800    \n",
      "_________________________________________________________________\n",
      "dropout_1 (Dropout)          (None, 1, 200)            0         \n",
      "_________________________________________________________________\n",
      "lstm_2 (LSTM)                (None, 1, 200)            320800    \n",
      "_________________________________________________________________\n",
      "dropout_2 (Dropout)          (None, 1, 200)            0         \n",
      "_________________________________________________________________\n",
      "lstm_3 (LSTM)                (None, 200)               320800    \n",
      "_________________________________________________________________\n",
      "dropout_3 (Dropout)          (None, 200)               0         \n",
      "_________________________________________________________________\n",
      "dense_1 (Dense)              (None, 1)                 201       \n",
      "_________________________________________________________________\n",
      "activation_1 (Activation)    (None, 1)                 0         \n",
      "=================================================================\n",
      "Total params: 806,601\n",
      "Trainable params: 806,601\n",
      "Non-trainable params: 0\n",
      "_________________________________________________________________\n"
     ]
    }
   ],
   "source": [
    "model, history = engine.train(X_train, X_test, y_train, y_test)"
   ]
  },
  {
   "cell_type": "code",
   "execution_count": 8,
   "metadata": {},
   "outputs": [
    {
     "data": {
      "text/plain": [
       "([<matplotlib.lines.Line2D at 0x11fc22e48>], 'g')"
      ]
     },
     "execution_count": 8,
     "metadata": {},
     "output_type": "execute_result"
    },
    {
     "data": {
      "image/png": "[encoded data removed]",
      "text/plain": [
       "<matplotlib.figure.Figure at 0x11fc22e80>"
      ]
     },
     "metadata": {},
     "output_type": "display_data"
    }
   ],
   "source": [
    "plt.plot(history.history['mean_absolute_error'], 'r')\n",
    "plt.plot(history.history['mean_squared_error']), 'g'"
   ]
  },
  {
   "cell_type": "code",
   "execution_count": 9,
   "metadata": {},
   "outputs": [
    {
     "data": {
      "text/plain": [
       "[<matplotlib.lines.Line2D at 0x105bbf748>]"
      ]
     },
     "execution_count": 9,
     "metadata": {},
     "output_type": "execute_result"
    },
    {
     "data": {
      "image/png": "[encoded data removed]",
      "text/plain": [
       "<matplotlib.figure.Figure at 0x10e421898>"
      ]
     },
     "metadata": {},
     "output_type": "display_data"
    }
   ],
   "source": [
    "import numpy as np\n",
    "\n",
    "X_train = np.reshape(X_train, (X_train.shape[0], 1, X_train.shape[1]))\n",
    "X_test = np.reshape(X_test, (X_test.shape[0], 1, X_test.shape[1]))\n",
    "\n",
    "y_predict_train = model.predict(X_train)\n",
    "y_predict_train = scaler_y.inverse_transform(y_predict_train)\n",
    "\n",
    "y_predict_test = model.predict(X_test)\n",
    "y_predict_test = scaler_y.inverse_transform(y_predict_test)\n",
    "\n",
    "X = np.concatenate((X_train, X_test), axis=0)\n",
    "y = np.concatenate((y_predict_train, y_predict_test), axis=0)\n",
    "\n",
    "plt.plot(y, 'r')\n",
    "plt.plot(y_predict_train, 'g')"
   ]
  },
  {
   "cell_type": "code",
   "execution_count": 10,
   "metadata": {},
   "outputs": [
    {
     "name": "stdout",
     "output_type": "stream",
     "text": [
      "Error Order percentage: 21.00%\n"
     ]
    }
   ],
   "source": [
    "engine.test_order_percent(df, model, scaler_x, scaler_y)"
   ]
  },
  {
   "cell_type": "code",
   "execution_count": 11,
   "metadata": {},
   "outputs": [
    {
     "data": {
      "text/plain": [
       "0.9478235055411481"
      ]
     },
     "execution_count": 11,
     "metadata": {},
     "output_type": "execute_result"
    },
    {
     "data": {
      "image/png": "[encoded data removed]",
      "text/plain": [
       "<matplotlib.figure.Figure at 0x11fc43a20>"
      ]
     },
     "metadata": {},
     "output_type": "display_data"
    }
   ],
   "source": [
    "from sklearn.neighbors import KernelDensity\n",
    "import numpy as np\n",
    "\n",
    "X = df['volume'].values.reshape(-1, 1)\n",
    "\n",
    "kde = KernelDensity(kernel='gaussian', bandwidth=0.01).fit(X)\n",
    "log_dens = kde.score_samples(X)\n",
    "plt.fill(X, np.exp(log_dens), alpha=0.7)\n",
    "\n",
    "kde.score(0.01)"
   ]
  },
  {
   "cell_type": "code",
   "execution_count": null,
   "metadata": {
    "collapsed": true
   },
   "outputs": [],
   "source": []
  }
 ],
 "metadata": {
  "kernelspec": {
   "display_name": "Python 3",
   "language": "python",
   "name": "python3"
  },
  "language_info": {
   "codemirror_mode": {
    "name": "ipython",
    "version": 3
   },
   "file_extension": ".py",
   "mimetype": "text/x-python",
   "name": "python",
   "nbconvert_exporter": "python",
   "pygments_lexer": "ipython3",
   "version": "3.6.2"
  }
 },
 "nbformat": 4,
 "nbformat_minor": 2
}
