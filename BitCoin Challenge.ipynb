{
 "cells": [
  {
   "cell_type": "code",
   "execution_count": 1,
   "metadata": {
    "scrolled": true
   },
   "outputs": [
    {
     "name": "stderr",
     "output_type": "stream",
     "text": [
      "2018-03-16 16:01:41,172 root         INFO     ENV => test\n",
      "2018-03-16 16:01:41,173 root         INFO     Load data from SQL.\n"
     ]
    },
    {
     "data": {
      "text/plain": [
       "time                  int64\n",
       "low                 float64\n",
       "high                float64\n",
       "open                float64\n",
       "close               float64\n",
       "volume              float64\n",
       "tw_sentiment        float64\n",
       "tw_followers        float64\n",
       "reddit_sentiment    float64\n",
       "google_sentiment    float64\n",
       "predicted_price     float64\n",
       "dtype: object"
      ]
     },
     "execution_count": 1,
     "metadata": {},
     "output_type": "execute_result"
    }
   ],
   "source": [
    "%matplotlib inline\n",
    "import matplotlib.pyplot as plt\n",
    "from bitcoin import core\n",
    "\n",
    "core = core.Core()\n",
    "df = core.load_sql_data()\n",
    "df.dtypes"
   ]
  },
  {
   "cell_type": "code",
   "execution_count": 6,
   "metadata": {},
   "outputs": [
    {
     "data": {
      "text/html": [
       "<div>\n",
       "<style scoped>\n",
       "    .dataframe tbody tr th:only-of-type {\n",
       "        vertical-align: middle;\n",
       "    }\n",
       "\n",
       "    .dataframe tbody tr th {\n",
       "        vertical-align: top;\n",
       "    }\n",
       "\n",
       "    .dataframe thead th {\n",
       "        text-align: right;\n",
       "    }\n",
       "</style>\n",
       "<table border=\"1\" class=\"dataframe\">\n",
       "  <thead>\n",
       "    <tr style=\"text-align: right;\">\n",
       "      <th></th>\n",
       "      <th>time</th>\n",
       "      <th>low</th>\n",
       "      <th>high</th>\n",
       "      <th>open</th>\n",
       "      <th>close</th>\n",
       "      <th>volume</th>\n",
       "      <th>tw_sentiment</th>\n",
       "      <th>tw_followers</th>\n",
       "      <th>reddit_sentiment</th>\n",
       "      <th>google_sentiment</th>\n",
       "      <th>predicted_price</th>\n",
       "    </tr>\n",
       "  </thead>\n",
       "  <tbody>\n",
       "  </tbody>\n",
       "</table>\n",
       "</div>"
      ],
      "text/plain": [
       "Empty DataFrame\n",
       "Columns: [time, low, high, open, close, volume, tw_sentiment, tw_followers, reddit_sentiment, google_sentiment, predicted_price]\n",
       "Index: []"
      ]
     },
     "execution_count": 6,
     "metadata": {},
     "output_type": "execute_result"
    }
   ],
   "source": [
    "df[df.isnull().any(axis=1)]"
   ]
  },
  {
   "cell_type": "code",
   "execution_count": 7,
   "metadata": {},
   "outputs": [
    {
     "data": {
      "text/html": [
       "<div>\n",
       "<style scoped>\n",
       "    .dataframe tbody tr th:only-of-type {\n",
       "        vertical-align: middle;\n",
       "    }\n",
       "\n",
       "    .dataframe tbody tr th {\n",
       "        vertical-align: top;\n",
       "    }\n",
       "\n",
       "    .dataframe thead th {\n",
       "        text-align: right;\n",
       "    }\n",
       "</style>\n",
       "<table border=\"1\" class=\"dataframe\">\n",
       "  <thead>\n",
       "    <tr style=\"text-align: right;\">\n",
       "      <th></th>\n",
       "      <th>time</th>\n",
       "      <th>volume</th>\n",
       "      <th>tw_sentiment</th>\n",
       "      <th>tw_followers</th>\n",
       "      <th>reddit_sentiment</th>\n",
       "      <th>google_sentiment</th>\n",
       "      <th>predicted_price</th>\n",
       "    </tr>\n",
       "  </thead>\n",
       "  <tbody>\n",
       "    <tr>\n",
       "      <th>count</th>\n",
       "      <td>1.533400e+04</td>\n",
       "      <td>15334.000000</td>\n",
       "      <td>15334.000000</td>\n",
       "      <td>1.533400e+04</td>\n",
       "      <td>15334.000000</td>\n",
       "      <td>15334.000000</td>\n",
       "      <td>15334.0</td>\n",
       "    </tr>\n",
       "    <tr>\n",
       "      <th>mean</th>\n",
       "      <td>1.520736e+09</td>\n",
       "      <td>1.820444</td>\n",
       "      <td>0.065645</td>\n",
       "      <td>4.457051e+05</td>\n",
       "      <td>0.066102</td>\n",
       "      <td>0.035188</td>\n",
       "      <td>0.0</td>\n",
       "    </tr>\n",
       "    <tr>\n",
       "      <th>std</th>\n",
       "      <td>2.699205e+05</td>\n",
       "      <td>3.939317</td>\n",
       "      <td>0.082608</td>\n",
       "      <td>3.143615e+05</td>\n",
       "      <td>0.034651</td>\n",
       "      <td>0.063812</td>\n",
       "      <td>0.0</td>\n",
       "    </tr>\n",
       "    <tr>\n",
       "      <th>min</th>\n",
       "      <td>1.520272e+09</td>\n",
       "      <td>0.000673</td>\n",
       "      <td>-0.084993</td>\n",
       "      <td>3.705000e+04</td>\n",
       "      <td>-0.028105</td>\n",
       "      <td>-0.100305</td>\n",
       "      <td>0.0</td>\n",
       "    </tr>\n",
       "    <tr>\n",
       "      <th>25%</th>\n",
       "      <td>1.520503e+09</td>\n",
       "      <td>0.150000</td>\n",
       "      <td>0.021526</td>\n",
       "      <td>2.127692e+05</td>\n",
       "      <td>0.042802</td>\n",
       "      <td>-0.008443</td>\n",
       "      <td>0.0</td>\n",
       "    </tr>\n",
       "    <tr>\n",
       "      <th>50%</th>\n",
       "      <td>1.520733e+09</td>\n",
       "      <td>0.570060</td>\n",
       "      <td>0.046469</td>\n",
       "      <td>3.719840e+05</td>\n",
       "      <td>0.066204</td>\n",
       "      <td>0.030363</td>\n",
       "      <td>0.0</td>\n",
       "    </tr>\n",
       "    <tr>\n",
       "      <th>75%</th>\n",
       "      <td>1.520974e+09</td>\n",
       "      <td>1.841904</td>\n",
       "      <td>0.082921</td>\n",
       "      <td>5.527498e+05</td>\n",
       "      <td>0.085800</td>\n",
       "      <td>0.066000</td>\n",
       "      <td>0.0</td>\n",
       "    </tr>\n",
       "    <tr>\n",
       "      <th>max</th>\n",
       "      <td>1.521210e+09</td>\n",
       "      <td>90.488639</td>\n",
       "      <td>0.612404</td>\n",
       "      <td>1.987974e+06</td>\n",
       "      <td>0.173389</td>\n",
       "      <td>0.211511</td>\n",
       "      <td>0.0</td>\n",
       "    </tr>\n",
       "  </tbody>\n",
       "</table>\n",
       "</div>"
      ],
      "text/plain": [
       "               time        volume  tw_sentiment  tw_followers  \\\n",
       "count  1.533400e+04  15334.000000  15334.000000  1.533400e+04   \n",
       "mean   1.520736e+09      1.820444      0.065645  4.457051e+05   \n",
       "std    2.699205e+05      3.939317      0.082608  3.143615e+05   \n",
       "min    1.520272e+09      0.000673     -0.084993  3.705000e+04   \n",
       "25%    1.520503e+09      0.150000      0.021526  2.127692e+05   \n",
       "50%    1.520733e+09      0.570060      0.046469  3.719840e+05   \n",
       "75%    1.520974e+09      1.841904      0.082921  5.527498e+05   \n",
       "max    1.521210e+09     90.488639      0.612404  1.987974e+06   \n",
       "\n",
       "       reddit_sentiment  google_sentiment  predicted_price  \n",
       "count      15334.000000      15334.000000          15334.0  \n",
       "mean           0.066102          0.035188              0.0  \n",
       "std            0.034651          0.063812              0.0  \n",
       "min           -0.028105         -0.100305              0.0  \n",
       "25%            0.042802         -0.008443              0.0  \n",
       "50%            0.066204          0.030363              0.0  \n",
       "75%            0.085800          0.066000              0.0  \n",
       "max            0.173389          0.211511              0.0  "
      ]
     },
     "execution_count": 7,
     "metadata": {},
     "output_type": "execute_result"
    }
   ],
   "source": [
    "df.describe()"
   ]
  },
  {
   "cell_type": "code",
   "execution_count": 4,
   "metadata": {
    "scrolled": false
   },
   "outputs": [
    {
     "data": {
      "text/html": [
       "<div>\n",
       "<style scoped>\n",
       "    .dataframe tbody tr th:only-of-type {\n",
       "        vertical-align: middle;\n",
       "    }\n",
       "\n",
       "    .dataframe tbody tr th {\n",
       "        vertical-align: top;\n",
       "    }\n",
       "\n",
       "    .dataframe thead th {\n",
       "        text-align: right;\n",
       "    }\n",
       "</style>\n",
       "<table border=\"1\" class=\"dataframe\">\n",
       "  <thead>\n",
       "    <tr style=\"text-align: right;\">\n",
       "      <th></th>\n",
       "      <th>time</th>\n",
       "      <th>low</th>\n",
       "      <th>high</th>\n",
       "      <th>open</th>\n",
       "      <th>close</th>\n",
       "      <th>volume</th>\n",
       "      <th>tw_sentiment</th>\n",
       "      <th>tw_followers</th>\n",
       "      <th>reddit_sentiment</th>\n",
       "      <th>google_sentiment</th>\n",
       "    </tr>\n",
       "  </thead>\n",
       "  <tbody>\n",
       "    <tr>\n",
       "      <th>time</th>\n",
       "      <td>1.000000</td>\n",
       "      <td>-0.757897</td>\n",
       "      <td>-0.759274</td>\n",
       "      <td>-0.758703</td>\n",
       "      <td>-0.758658</td>\n",
       "      <td>-0.017105</td>\n",
       "      <td>-0.199872</td>\n",
       "      <td>-0.637260</td>\n",
       "      <td>0.339032</td>\n",
       "      <td>-0.479087</td>\n",
       "    </tr>\n",
       "    <tr>\n",
       "      <th>low</th>\n",
       "      <td>-0.757897</td>\n",
       "      <td>1.000000</td>\n",
       "      <td>0.999814</td>\n",
       "      <td>0.999881</td>\n",
       "      <td>0.999916</td>\n",
       "      <td>-0.082617</td>\n",
       "      <td>0.059467</td>\n",
       "      <td>0.676433</td>\n",
       "      <td>-0.314056</td>\n",
       "      <td>0.661320</td>\n",
       "    </tr>\n",
       "    <tr>\n",
       "      <th>high</th>\n",
       "      <td>-0.759274</td>\n",
       "      <td>0.999814</td>\n",
       "      <td>1.000000</td>\n",
       "      <td>0.999916</td>\n",
       "      <td>0.999910</td>\n",
       "      <td>-0.068984</td>\n",
       "      <td>0.062432</td>\n",
       "      <td>0.677175</td>\n",
       "      <td>-0.314920</td>\n",
       "      <td>0.662374</td>\n",
       "    </tr>\n",
       "    <tr>\n",
       "      <th>open</th>\n",
       "      <td>-0.758703</td>\n",
       "      <td>0.999881</td>\n",
       "      <td>0.999916</td>\n",
       "      <td>1.000000</td>\n",
       "      <td>0.999841</td>\n",
       "      <td>-0.074009</td>\n",
       "      <td>0.060940</td>\n",
       "      <td>0.676820</td>\n",
       "      <td>-0.314758</td>\n",
       "      <td>0.661915</td>\n",
       "    </tr>\n",
       "    <tr>\n",
       "      <th>close</th>\n",
       "      <td>-0.758658</td>\n",
       "      <td>0.999916</td>\n",
       "      <td>0.999910</td>\n",
       "      <td>0.999841</td>\n",
       "      <td>1.000000</td>\n",
       "      <td>-0.076146</td>\n",
       "      <td>0.060634</td>\n",
       "      <td>0.676807</td>\n",
       "      <td>-0.314330</td>\n",
       "      <td>0.661719</td>\n",
       "    </tr>\n",
       "    <tr>\n",
       "      <th>volume</th>\n",
       "      <td>-0.017105</td>\n",
       "      <td>-0.082617</td>\n",
       "      <td>-0.068984</td>\n",
       "      <td>-0.074009</td>\n",
       "      <td>-0.076146</td>\n",
       "      <td>1.000000</td>\n",
       "      <td>0.158856</td>\n",
       "      <td>-0.040873</td>\n",
       "      <td>-0.014842</td>\n",
       "      <td>-0.018831</td>\n",
       "    </tr>\n",
       "    <tr>\n",
       "      <th>tw_sentiment</th>\n",
       "      <td>-0.199872</td>\n",
       "      <td>0.059467</td>\n",
       "      <td>0.062432</td>\n",
       "      <td>0.060940</td>\n",
       "      <td>0.060634</td>\n",
       "      <td>0.158856</td>\n",
       "      <td>1.000000</td>\n",
       "      <td>0.014115</td>\n",
       "      <td>-0.261894</td>\n",
       "      <td>0.167151</td>\n",
       "    </tr>\n",
       "    <tr>\n",
       "      <th>tw_followers</th>\n",
       "      <td>-0.637260</td>\n",
       "      <td>0.676433</td>\n",
       "      <td>0.677175</td>\n",
       "      <td>0.676820</td>\n",
       "      <td>0.676807</td>\n",
       "      <td>-0.040873</td>\n",
       "      <td>0.014115</td>\n",
       "      <td>1.000000</td>\n",
       "      <td>-0.302121</td>\n",
       "      <td>0.480259</td>\n",
       "    </tr>\n",
       "    <tr>\n",
       "      <th>reddit_sentiment</th>\n",
       "      <td>0.339032</td>\n",
       "      <td>-0.314056</td>\n",
       "      <td>-0.314920</td>\n",
       "      <td>-0.314758</td>\n",
       "      <td>-0.314330</td>\n",
       "      <td>-0.014842</td>\n",
       "      <td>-0.261894</td>\n",
       "      <td>-0.302121</td>\n",
       "      <td>1.000000</td>\n",
       "      <td>-0.491859</td>\n",
       "    </tr>\n",
       "    <tr>\n",
       "      <th>google_sentiment</th>\n",
       "      <td>-0.479087</td>\n",
       "      <td>0.661320</td>\n",
       "      <td>0.662374</td>\n",
       "      <td>0.661915</td>\n",
       "      <td>0.661719</td>\n",
       "      <td>-0.018831</td>\n",
       "      <td>0.167151</td>\n",
       "      <td>0.480259</td>\n",
       "      <td>-0.491859</td>\n",
       "      <td>1.000000</td>\n",
       "    </tr>\n",
       "  </tbody>\n",
       "</table>\n",
       "</div>"
      ],
      "text/plain": [
       "                      time       low      high      open     close    volume  \\\n",
       "time              1.000000 -0.757897 -0.759274 -0.758703 -0.758658 -0.017105   \n",
       "low              -0.757897  1.000000  0.999814  0.999881  0.999916 -0.082617   \n",
       "high             -0.759274  0.999814  1.000000  0.999916  0.999910 -0.068984   \n",
       "open             -0.758703  0.999881  0.999916  1.000000  0.999841 -0.074009   \n",
       "close            -0.758658  0.999916  0.999910  0.999841  1.000000 -0.076146   \n",
       "volume           -0.017105 -0.082617 -0.068984 -0.074009 -0.076146  1.000000   \n",
       "tw_sentiment     -0.199872  0.059467  0.062432  0.060940  0.060634  0.158856   \n",
       "tw_followers     -0.637260  0.676433  0.677175  0.676820  0.676807 -0.040873   \n",
       "reddit_sentiment  0.339032 -0.314056 -0.314920 -0.314758 -0.314330 -0.014842   \n",
       "google_sentiment -0.479087  0.661320  0.662374  0.661915  0.661719 -0.018831   \n",
       "\n",
       "                  tw_sentiment  tw_followers  reddit_sentiment  \\\n",
       "time                 -0.199872     -0.637260          0.339032   \n",
       "low                   0.059467      0.676433         -0.314056   \n",
       "high                  0.062432      0.677175         -0.314920   \n",
       "open                  0.060940      0.676820         -0.314758   \n",
       "close                 0.060634      0.676807         -0.314330   \n",
       "volume                0.158856     -0.040873         -0.014842   \n",
       "tw_sentiment          1.000000      0.014115         -0.261894   \n",
       "tw_followers          0.014115      1.000000         -0.302121   \n",
       "reddit_sentiment     -0.261894     -0.302121          1.000000   \n",
       "google_sentiment      0.167151      0.480259         -0.491859   \n",
       "\n",
       "                  google_sentiment  \n",
       "time                     -0.479087  \n",
       "low                       0.661320  \n",
       "high                      0.662374  \n",
       "open                      0.661915  \n",
       "close                     0.661719  \n",
       "volume                   -0.018831  \n",
       "tw_sentiment              0.167151  \n",
       "tw_followers              0.480259  \n",
       "reddit_sentiment         -0.491859  \n",
       "google_sentiment          1.000000  "
      ]
     },
     "execution_count": 4,
     "metadata": {},
     "output_type": "execute_result"
    }
   ],
   "source": [
    "df.corr()"
   ]
  },
  {
   "cell_type": "code",
   "execution_count": 5,
   "metadata": {},
   "outputs": [
    {
     "data": {
      "text/plain": [
       "[<matplotlib.lines.Line2D at 0x10e712ac8>]"
      ]
     },
     "execution_count": 5,
     "metadata": {},
     "output_type": "execute_result"
    },
    {
     "data": {
      "image/png": "[encoded data removed]",
      "text/plain": [
       "<matplotlib.figure.Figure at 0x118b2c860>"
      ]
     },
     "metadata": {},
     "output_type": "display_data"
    }
   ],
   "source": [
    "plt.plot(df['close'], 'b')"
   ]
  },
  {
   "cell_type": "code",
   "execution_count": 3,
   "metadata": {},
   "outputs": [
    {
     "data": {
      "text/plain": [
       "[<matplotlib.lines.Line2D at 0x1090109e8>]"
      ]
     },
     "execution_count": 3,
     "metadata": {},
     "output_type": "execute_result"
    },
    {
     "data": {
      "image/png": "[encoded data removed]",
      "text/plain": [
       "<matplotlib.figure.Figure at 0x11364d240>"
      ]
     },
     "metadata": {},
     "output_type": "display_data"
    }
   ],
   "source": [
    "max = df['close'].count()\n",
    "limit = int(0.1 * max)\n",
    "plt.plot(df['close'][0:max - limit], 'g')\n",
    "plt.plot(df['close'][-limit:], 'r')"
   ]
  },
  {
   "cell_type": "code",
   "execution_count": 7,
   "metadata": {},
   "outputs": [
    {
     "data": {
      "text/plain": [
       "array([[<matplotlib.axes._subplots.AxesSubplot object at 0x10f12b828>,\n",
       "        <matplotlib.axes._subplots.AxesSubplot object at 0x1191bc5c0>,\n",
       "        <matplotlib.axes._subplots.AxesSubplot object at 0x11957f278>],\n",
       "       [<matplotlib.axes._subplots.AxesSubplot object at 0x1195b1ef0>,\n",
       "        <matplotlib.axes._subplots.AxesSubplot object at 0x1195eda90>,\n",
       "        <matplotlib.axes._subplots.AxesSubplot object at 0x1195edac8>],\n",
       "       [<matplotlib.axes._subplots.AxesSubplot object at 0x119652e80>,\n",
       "        <matplotlib.axes._subplots.AxesSubplot object at 0x11968f940>,\n",
       "        <matplotlib.axes._subplots.AxesSubplot object at 0x1196cba20>],\n",
       "       [<matplotlib.axes._subplots.AxesSubplot object at 0x1196e1780>,\n",
       "        <matplotlib.axes._subplots.AxesSubplot object at 0x1197314e0>,\n",
       "        <matplotlib.axes._subplots.AxesSubplot object at 0x1197482b0>]],\n",
       "      dtype=object)"
      ]
     },
     "execution_count": 7,
     "metadata": {},
     "output_type": "execute_result"
    },
    {
     "data": {
      "image/png": "[encoded data removed]",
      "text/plain": [
       "<matplotlib.figure.Figure at 0x10e6ebcf8>"
      ]
     },
     "metadata": {},
     "output_type": "display_data"
    }
   ],
   "source": [
    "df.hist(figsize=(10,10))"
   ]
  },
  {
   "cell_type": "code",
   "execution_count": 8,
   "metadata": {
    "collapsed": true
   },
   "outputs": [],
   "source": [
    "X_train, X_test, y_train, y_test, scaler_x, scaler_y = core.prepare_inputs_outputs(df)"
   ]
  },
  {
   "cell_type": "code",
   "execution_count": 9,
   "metadata": {},
   "outputs": [
    {
     "name": "stderr",
     "output_type": "stream",
     "text": [
      "/anaconda3/lib/python3.6/site-packages/h5py/__init__.py:34: FutureWarning: Conversion of the second argument of issubdtype from `float` to `np.floating` is deprecated. In future, it will be treated as `np.float64 == np.dtype(float).type`.\n",
      "  from ._conv import register_converters as _register_converters\n",
      "Using TensorFlow backend.\n"
     ]
    },
    {
     "name": "stdout",
     "output_type": "stream",
     "text": [
      "_________________________________________________________________\n",
      "Layer (type)                 Output Shape              Param #   \n",
      "=================================================================\n",
      "lstm_1 (LSTM)                (None, 1, 200)            164800    \n",
      "_________________________________________________________________\n",
      "dropout_1 (Dropout)          (None, 1, 200)            0         \n",
      "_________________________________________________________________\n",
      "lstm_2 (LSTM)                (None, 1, 200)            320800    \n",
      "_________________________________________________________________\n",
      "dropout_2 (Dropout)          (None, 1, 200)            0         \n",
      "_________________________________________________________________\n",
      "lstm_3 (LSTM)                (None, 200)               320800    \n",
      "_________________________________________________________________\n",
      "dropout_3 (Dropout)          (None, 200)               0         \n",
      "_________________________________________________________________\n",
      "dense_1 (Dense)              (None, 1)                 201       \n",
      "_________________________________________________________________\n",
      "activation_1 (Activation)    (None, 1)                 0         \n",
      "=================================================================\n",
      "Total params: 806,601\n",
      "Trainable params: 806,601\n",
      "Non-trainable params: 0\n",
      "_________________________________________________________________\n"
     ]
    }
   ],
   "source": [
    "history = core.train()"
   ]
  },
  {
   "cell_type": "code",
   "execution_count": 10,
   "metadata": {},
   "outputs": [
    {
     "data": {
      "text/plain": [
       "[<matplotlib.lines.Line2D at 0x12a39ae10>]"
      ]
     },
     "execution_count": 10,
     "metadata": {},
     "output_type": "execute_result"
    },
    {
     "data": {
      "image/png": "[encoded data removed]",
      "text/plain": [
       "<matplotlib.figure.Figure at 0x12a39add8>"
      ]
     },
     "metadata": {},
     "output_type": "display_data"
    }
   ],
   "source": [
    "plt.plot(history.history['mean_absolute_error'], 'r')\n",
    "plt.plot(history.history['mean_squared_error'], 'g')"
   ]
  },
  {
   "cell_type": "code",
   "execution_count": 13,
   "metadata": {},
   "outputs": [
    {
     "name": "stdout",
     "output_type": "stream",
     "text": [
      "Error Order percentage: 14.04%\n",
      "TEST From 2018-03-11 02:49:00 to 2018-03-13 12:36:00\n",
      "Number of api calls: 0.20 / min\n",
      "Number of anomalies: 166\n",
      "With prediction 1447.13 euros => 44.71% => 22.36% / day\n",
      "Without prediction 1041.21 euros => 4.12% => 2.06% / day\n"
     ]
    }
   ],
   "source": [
    "core.test_order_percent()"
   ]
  }
 ],
 "metadata": {
  "kernelspec": {
   "display_name": "Python 3",
   "language": "python",
   "name": "python3"
  },
  "language_info": {
   "codemirror_mode": {
    "name": "ipython",
    "version": 3
   },
   "file_extension": ".py",
   "mimetype": "text/x-python",
   "name": "python",
   "nbconvert_exporter": "python",
   "pygments_lexer": "ipython3",
   "version": "3.6.2"
  }
 },
 "nbformat": 4,
 "nbformat_minor": 2
}
