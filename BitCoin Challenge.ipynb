{
 "cells": [
  {
   "cell_type": "code",
   "execution_count": 1,
   "metadata": {
    "scrolled": true
   },
   "outputs": [
    {
     "name": "stderr",
     "output_type": "stream",
     "text": [
      "2018-03-24 21:52:33,725 root         INFO     Load data from SQL.\n",
      "2018-03-24 21:52:34,022 root         INFO     Train Scaler Model\n",
      "2018-03-24 21:52:34,314 root         INFO     Train Model\n",
      "/anaconda3/lib/python3.6/site-packages/h5py/__init__.py:34: FutureWarning: Conversion of the second argument of issubdtype from `float` to `np.floating` is deprecated. In future, it will be treated as `np.float64 == np.dtype(float).type`.\n",
      "  from ._conv import register_converters as _register_converters\n",
      "Using TensorFlow backend.\n"
     ]
    },
    {
     "name": "stdout",
     "output_type": "stream",
     "text": [
      "_________________________________________________________________\n",
      "Layer (type)                 Output Shape              Param #   \n",
      "=================================================================\n",
      "lstm_1 (LSTM)                (None, 1, 200)            161600    \n",
      "_________________________________________________________________\n",
      "dropout_1 (Dropout)          (None, 1, 200)            0         \n",
      "_________________________________________________________________\n",
      "lstm_2 (LSTM)                (None, 1, 200)            320800    \n",
      "_________________________________________________________________\n",
      "dropout_2 (Dropout)          (None, 1, 200)            0         \n",
      "_________________________________________________________________\n",
      "lstm_3 (LSTM)                (None, 200)               320800    \n",
      "_________________________________________________________________\n",
      "dropout_3 (Dropout)          (None, 200)               0         \n",
      "_________________________________________________________________\n",
      "dense_1 (Dense)              (None, 1)                 201       \n",
      "_________________________________________________________________\n",
      "activation_1 (Activation)    (None, 1)                 0         \n",
      "=================================================================\n",
      "Total params: 803,401\n",
      "Trainable params: 803,401\n",
      "Non-trainable params: 0\n",
      "_________________________________________________________________\n",
      "Train on 18461 samples, validate on 7913 samples\n",
      "Epoch 1/80\n",
      "18461/18461 [==============================] - 4s 204us/step - loss: 135.9175 - mean_squared_error: 0.2439 - mean_absolute_error: 0.4045 - val_loss: 131.1609 - val_mean_squared_error: 0.1297 - val_mean_absolute_error: 0.3404\n",
      "Epoch 2/80\n",
      "18461/18461 [==============================] - 2s 83us/step - loss: 131.2219 - mean_squared_error: 0.2410 - mean_absolute_error: 0.4014 - val_loss: 126.5644 - val_mean_squared_error: 0.1249 - val_mean_absolute_error: 0.3334\n",
      "Epoch 3/80\n",
      "18461/18461 [==============================] - 2s 82us/step - loss: 126.6292 - mean_squared_error: 0.2381 - mean_absolute_error: 0.3982 - val_loss: 122.4805 - val_mean_squared_error: 0.1204 - val_mean_absolute_error: 0.3267\n",
      "Epoch 4/80\n",
      "18461/18461 [==============================] - 2s 83us/step - loss: 122.5490 - mean_squared_error: 0.2353 - mean_absolute_error: 0.3951 - val_loss: 118.1231 - val_mean_squared_error: 0.1152 - val_mean_absolute_error: 0.3187\n",
      "Epoch 5/80\n",
      "18461/18461 [==============================] - 2s 83us/step - loss: 118.1959 - mean_squared_error: 0.2320 - mean_absolute_error: 0.3915 - val_loss: 113.8810 - val_mean_squared_error: 0.1096 - val_mean_absolute_error: 0.3100\n",
      "Epoch 6/80\n",
      "18461/18461 [==============================] - 2s 90us/step - loss: 113.9586 - mean_squared_error: 0.2283 - mean_absolute_error: 0.3876 - val_loss: 109.7540 - val_mean_squared_error: 0.1035 - val_mean_absolute_error: 0.3003\n",
      "Epoch 7/80\n",
      "18461/18461 [==============================] - 2s 93us/step - loss: 109.8371 - mean_squared_error: 0.2243 - mean_absolute_error: 0.3833 - val_loss: 105.7457 - val_mean_squared_error: 0.0970 - val_mean_absolute_error: 0.2895\n",
      "Epoch 8/80\n",
      "18461/18461 [==============================] - 2s 87us/step - loss: 105.8347 - mean_squared_error: 0.2198 - mean_absolute_error: 0.3785 - val_loss: 101.8465 - val_mean_squared_error: 0.0900 - val_mean_absolute_error: 0.2775\n",
      "Epoch 9/80\n",
      "18461/18461 [==============================] - 2s 90us/step - loss: 101.9423 - mean_squared_error: 0.2147 - mean_absolute_error: 0.3733 - val_loss: 98.0685 - val_mean_squared_error: 0.0825 - val_mean_absolute_error: 0.2641\n",
      "Epoch 10/80\n",
      "18461/18461 [==============================] - 2s 90us/step - loss: 98.1719 - mean_squared_error: 0.2092 - mean_absolute_error: 0.3675 - val_loss: 94.3982 - val_mean_squared_error: 0.0746 - val_mean_absolute_error: 0.2491\n",
      "Epoch 11/80\n",
      "18461/18461 [==============================] - 2s 91us/step - loss: 94.5101 - mean_squared_error: 0.2032 - mean_absolute_error: 0.3611 - val_loss: 90.8194 - val_mean_squared_error: 0.0662 - val_mean_absolute_error: 0.2323\n",
      "Epoch 12/80\n",
      "18461/18461 [==============================] - 2s 89us/step - loss: 90.9410 - mean_squared_error: 0.1967 - mean_absolute_error: 0.3539 - val_loss: 87.3318 - val_mean_squared_error: 0.0574 - val_mean_absolute_error: 0.2135\n",
      "Epoch 13/80\n",
      "18461/18461 [==============================] - 2s 94us/step - loss: 87.4644 - mean_squared_error: 0.1896 - mean_absolute_error: 0.3460 - val_loss: 83.9627 - val_mean_squared_error: 0.0484 - val_mean_absolute_error: 0.1926\n",
      "Epoch 14/80\n",
      "18461/18461 [==============================] - 2s 92us/step - loss: 84.1079 - mean_squared_error: 0.1822 - mean_absolute_error: 0.3378 - val_loss: 80.6927 - val_mean_squared_error: 0.0395 - val_mean_absolute_error: 0.1706\n",
      "Epoch 15/80\n",
      "18461/18461 [==============================] - 2s 91us/step - loss: 80.8517 - mean_squared_error: 0.1747 - mean_absolute_error: 0.3296 - val_loss: 77.5183 - val_mean_squared_error: 0.0309 - val_mean_absolute_error: 0.1478\n",
      "Epoch 16/80\n",
      "18461/18461 [==============================] - 2s 91us/step - loss: 77.6921 - mean_squared_error: 0.1671 - mean_absolute_error: 0.3216 - val_loss: 74.4249 - val_mean_squared_error: 0.0232 - val_mean_absolute_error: 0.1251\n",
      "Epoch 17/80\n",
      "18461/18461 [==============================] - 2s 91us/step - loss: 74.6137 - mean_squared_error: 0.1594 - mean_absolute_error: 0.3139 - val_loss: 71.4071 - val_mean_squared_error: 0.0169 - val_mean_absolute_error: 0.1058\n",
      "Epoch 18/80\n",
      "18461/18461 [==============================] - 2s 92us/step - loss: 71.6076 - mean_squared_error: 0.1518 - mean_absolute_error: 0.3063 - val_loss: 68.5296 - val_mean_squared_error: 0.0122 - val_mean_absolute_error: 0.0903\n",
      "Epoch 19/80\n",
      "18461/18461 [==============================] - 2s 92us/step - loss: 68.7369 - mean_squared_error: 0.1438 - mean_absolute_error: 0.2976 - val_loss: 65.7393 - val_mean_squared_error: 0.0090 - val_mean_absolute_error: 0.0808\n",
      "Epoch 20/80\n",
      "18461/18461 [==============================] - 2s 92us/step - loss: 65.9468 - mean_squared_error: 0.1359 - mean_absolute_error: 0.2884 - val_loss: 63.0420 - val_mean_squared_error: 0.0070 - val_mean_absolute_error: 0.0736\n",
      "Epoch 21/80\n",
      "18461/18461 [==============================] - 2s 94us/step - loss: 63.2465 - mean_squared_error: 0.1269 - mean_absolute_error: 0.2781 - val_loss: 60.4462 - val_mean_squared_error: 0.0061 - val_mean_absolute_error: 0.0679\n",
      "Epoch 22/80\n",
      "18461/18461 [==============================] - 2s 93us/step - loss: 60.6448 - mean_squared_error: 0.1172 - mean_absolute_error: 0.2665 - val_loss: 57.9087 - val_mean_squared_error: 0.0060 - val_mean_absolute_error: 0.0646\n",
      "Epoch 23/80\n",
      "18461/18461 [==============================] - 2s 93us/step - loss: 58.0977 - mean_squared_error: 0.1068 - mean_absolute_error: 0.2536 - val_loss: 55.4763 - val_mean_squared_error: 0.0066 - val_mean_absolute_error: 0.0656\n",
      "Epoch 24/80\n",
      "18461/18461 [==============================] - 2s 94us/step - loss: 55.6500 - mean_squared_error: 0.0959 - mean_absolute_error: 0.2393 - val_loss: 53.0971 - val_mean_squared_error: 0.0076 - val_mean_absolute_error: 0.0707\n",
      "Epoch 25/80\n",
      "18461/18461 [==============================] - 2s 94us/step - loss: 53.2490 - mean_squared_error: 0.0842 - mean_absolute_error: 0.2227 - val_loss: 50.8293 - val_mean_squared_error: 0.0089 - val_mean_absolute_error: 0.0809\n",
      "Epoch 26/80\n",
      "18461/18461 [==============================] - 2s 94us/step - loss: 50.9533 - mean_squared_error: 0.0720 - mean_absolute_error: 0.2049 - val_loss: 48.6511 - val_mean_squared_error: 0.0101 - val_mean_absolute_error: 0.0918\n",
      "Epoch 27/80\n",
      "18461/18461 [==============================] - 2s 94us/step - loss: 48.7478 - mean_squared_error: 0.0602 - mean_absolute_error: 0.1885 - val_loss: 46.5141 - val_mean_squared_error: 0.0104 - val_mean_absolute_error: 0.0967\n",
      "Epoch 28/80\n",
      "18461/18461 [==============================] - 2s 95us/step - loss: 46.5901 - mean_squared_error: 0.0487 - mean_absolute_error: 0.1727 - val_loss: 44.4580 - val_mean_squared_error: 0.0091 - val_mean_absolute_error: 0.0915\n",
      "Epoch 29/80\n",
      "18461/18461 [==============================] - 2s 95us/step - loss: 44.5215 - mean_squared_error: 0.0382 - mean_absolute_error: 0.1551 - val_loss: 42.4676 - val_mean_squared_error: 0.0063 - val_mean_absolute_error: 0.0766\n"
     ]
    },
    {
     "name": "stdout",
     "output_type": "stream",
     "text": [
      "Epoch 30/80\n",
      "18461/18461 [==============================] - 2s 95us/step - loss: 42.5245 - mean_squared_error: 0.0285 - mean_absolute_error: 0.1334 - val_loss: 40.5422 - val_mean_squared_error: 0.0033 - val_mean_absolute_error: 0.0540\n",
      "Epoch 31/80\n",
      "18461/18461 [==============================] - 2s 95us/step - loss: 40.5975 - mean_squared_error: 0.0203 - mean_absolute_error: 0.1093 - val_loss: 38.6716 - val_mean_squared_error: 0.0010 - val_mean_absolute_error: 0.0279\n",
      "Epoch 32/80\n",
      "18461/18461 [==============================] - 2s 95us/step - loss: 38.7293 - mean_squared_error: 0.0136 - mean_absolute_error: 0.0856 - val_loss: 36.8938 - val_mean_squared_error: 2.0261e-04 - val_mean_absolute_error: 0.0121\n",
      "Epoch 33/80\n",
      "18461/18461 [==============================] - 2s 96us/step - loss: 36.9460 - mean_squared_error: 0.0086 - mean_absolute_error: 0.0643 - val_loss: 35.2032 - val_mean_squared_error: 4.7454e-04 - val_mean_absolute_error: 0.0195\n",
      "Epoch 34/80\n",
      "18461/18461 [==============================] - 2s 96us/step - loss: 35.2304 - mean_squared_error: 0.0050 - mean_absolute_error: 0.0467 - val_loss: 33.5752 - val_mean_squared_error: 0.0012 - val_mean_absolute_error: 0.0337\n",
      "Epoch 35/80\n",
      "18461/18461 [==============================] - 2s 97us/step - loss: 33.5811 - mean_squared_error: 0.0028 - mean_absolute_error: 0.0396 - val_loss: 32.0044 - val_mean_squared_error: 0.0014 - val_mean_absolute_error: 0.0370\n",
      "Epoch 36/80\n",
      "18461/18461 [==============================] - 2s 94us/step - loss: 32.0094 - mean_squared_error: 0.0023 - mean_absolute_error: 0.0420 - val_loss: 30.5027 - val_mean_squared_error: 0.0012 - val_mean_absolute_error: 0.0317\n",
      "Epoch 37/80\n",
      "18461/18461 [==============================] - 2s 99us/step - loss: 30.5250 - mean_squared_error: 0.0039 - mean_absolute_error: 0.0539 - val_loss: 29.0488 - val_mean_squared_error: 0.0011 - val_mean_absolute_error: 0.0269\n",
      "Epoch 38/80\n",
      "18461/18461 [==============================] - 2s 97us/step - loss: 29.0889 - mean_squared_error: 0.0062 - mean_absolute_error: 0.0670 - val_loss: 27.6417 - val_mean_squared_error: 0.0010 - val_mean_absolute_error: 0.0260\n",
      "Epoch 39/80\n",
      "18461/18461 [==============================] - 2s 96us/step - loss: 27.6899 - mean_squared_error: 0.0077 - mean_absolute_error: 0.0742 - val_loss: 26.2921 - val_mean_squared_error: 9.4567e-04 - val_mean_absolute_error: 0.0253\n",
      "Epoch 40/80\n",
      "18461/18461 [==============================] - 2s 100us/step - loss: 26.3402 - mean_squared_error: 0.0075 - mean_absolute_error: 0.0733 - val_loss: 25.0220 - val_mean_squared_error: 8.5680e-04 - val_mean_absolute_error: 0.0239\n",
      "Epoch 41/80\n",
      "18461/18461 [==============================] - 2s 96us/step - loss: 25.0633 - mean_squared_error: 0.0059 - mean_absolute_error: 0.0653 - val_loss: 23.8045 - val_mean_squared_error: 7.7196e-04 - val_mean_absolute_error: 0.0230\n",
      "Epoch 42/80\n",
      "18461/18461 [==============================] - 2s 94us/step - loss: 23.8357 - mean_squared_error: 0.0041 - mean_absolute_error: 0.0543 - val_loss: 22.6325 - val_mean_squared_error: 7.1030e-04 - val_mean_absolute_error: 0.0238\n",
      "Epoch 43/80\n",
      "18461/18461 [==============================] - 2s 99us/step - loss: 22.6511 - mean_squared_error: 0.0025 - mean_absolute_error: 0.0424 - val_loss: 21.5005 - val_mean_squared_error: 6.2197e-04 - val_mean_absolute_error: 0.0239\n",
      "Epoch 44/80\n",
      "18461/18461 [==============================] - 2s 94us/step - loss: 21.5116 - mean_squared_error: 0.0018 - mean_absolute_error: 0.0350 - val_loss: 20.4082 - val_mean_squared_error: 4.1547e-04 - val_mean_absolute_error: 0.0199\n",
      "Epoch 45/80\n",
      "18461/18461 [==============================] - 2s 94us/step - loss: 20.4201 - mean_squared_error: 0.0019 - mean_absolute_error: 0.0318 - val_loss: 19.3601 - val_mean_squared_error: 1.4360e-04 - val_mean_absolute_error: 0.0112\n",
      "Epoch 46/80\n",
      "18461/18461 [==============================] - 2s 96us/step - loss: 19.3810 - mean_squared_error: 0.0025 - mean_absolute_error: 0.0321 - val_loss: 18.3604 - val_mean_squared_error: 2.8800e-05 - val_mean_absolute_error: 0.0038\n",
      "Epoch 47/80\n",
      "18461/18461 [==============================] - 2s 96us/step - loss: 18.3935 - mean_squared_error: 0.0031 - mean_absolute_error: 0.0368 - val_loss: 17.3998 - val_mean_squared_error: 1.1674e-04 - val_mean_absolute_error: 0.0097\n",
      "Epoch 48/80\n",
      "18461/18461 [==============================] - 2s 94us/step - loss: 17.4322 - mean_squared_error: 0.0036 - mean_absolute_error: 0.0421 - val_loss: 16.4690 - val_mean_squared_error: 2.2517e-04 - val_mean_absolute_error: 0.0141\n",
      "Epoch 49/80\n",
      "18461/18461 [==============================] - 2s 94us/step - loss: 16.4992 - mean_squared_error: 0.0038 - mean_absolute_error: 0.0443 - val_loss: 15.5899 - val_mean_squared_error: 2.3698e-04 - val_mean_absolute_error: 0.0145\n",
      "Epoch 50/80\n",
      "18461/18461 [==============================] - 2s 95us/step - loss: 15.6188 - mean_squared_error: 0.0036 - mean_absolute_error: 0.0435 - val_loss: 14.7898 - val_mean_squared_error: 1.5090e-04 - val_mean_absolute_error: 0.0113\n",
      "Epoch 51/80\n",
      "18461/18461 [==============================] - 2s 95us/step - loss: 14.8185 - mean_squared_error: 0.0031 - mean_absolute_error: 0.0399 - val_loss: 14.0329 - val_mean_squared_error: 5.2908e-05 - val_mean_absolute_error: 0.0058\n",
      "Epoch 52/80\n",
      "18461/18461 [==============================] - 2s 94us/step - loss: 14.0614 - mean_squared_error: 0.0024 - mean_absolute_error: 0.0344 - val_loss: 13.2903 - val_mean_squared_error: 2.6636e-05 - val_mean_absolute_error: 0.0034\n",
      "Epoch 53/80\n",
      "18461/18461 [==============================] - 2s 95us/step - loss: 13.3147 - mean_squared_error: 0.0017 - mean_absolute_error: 0.0278 - val_loss: 12.5879 - val_mean_squared_error: 7.5722e-05 - val_mean_absolute_error: 0.0079\n",
      "Epoch 54/80\n",
      "18461/18461 [==============================] - 2s 95us/step - loss: 12.6048 - mean_squared_error: 0.0014 - mean_absolute_error: 0.0248 - val_loss: 11.9050 - val_mean_squared_error: 1.1369e-04 - val_mean_absolute_error: 0.0097\n",
      "Epoch 55/80\n",
      "18461/18461 [==============================] - 2s 94us/step - loss: 11.9213 - mean_squared_error: 0.0012 - mean_absolute_error: 0.0260 - val_loss: 11.2390 - val_mean_squared_error: 1.0492e-04 - val_mean_absolute_error: 0.0085\n",
      "Epoch 56/80\n",
      "18461/18461 [==============================] - 2s 93us/step - loss: 11.2594 - mean_squared_error: 0.0014 - mean_absolute_error: 0.0288 - val_loss: 10.6250 - val_mean_squared_error: 8.6170e-05 - val_mean_absolute_error: 0.0073\n",
      "Epoch 57/80\n",
      "18461/18461 [==============================] - 2s 94us/step - loss: 10.6490 - mean_squared_error: 0.0017 - mean_absolute_error: 0.0314 - val_loss: 10.0523 - val_mean_squared_error: 7.4394e-05 - val_mean_absolute_error: 0.0070\n",
      "Epoch 58/80\n",
      "18461/18461 [==============================] - 2s 93us/step - loss: 10.0771 - mean_squared_error: 0.0018 - mean_absolute_error: 0.0319 - val_loss: 9.5179 - val_mean_squared_error: 6.1179e-05 - val_mean_absolute_error: 0.0064\n",
      "Epoch 59/80\n",
      "18461/18461 [==============================] - 2s 94us/step - loss: 9.5416 - mean_squared_error: 0.0017 - mean_absolute_error: 0.0301 - val_loss: 9.0072 - val_mean_squared_error: 4.0979e-05 - val_mean_absolute_error: 0.0049\n",
      "Epoch 60/80\n",
      "18461/18461 [==============================] - 2s 94us/step - loss: 9.0285 - mean_squared_error: 0.0014 - mean_absolute_error: 0.0262 - val_loss: 8.5077 - val_mean_squared_error: 2.4414e-05 - val_mean_absolute_error: 0.0031\n",
      "Epoch 61/80\n",
      "18461/18461 [==============================] - 2s 93us/step - loss: 8.5277 - mean_squared_error: 0.0011 - mean_absolute_error: 0.0231 - val_loss: 8.0240 - val_mean_squared_error: 2.3301e-05 - val_mean_absolute_error: 0.0031\n",
      "Epoch 62/80\n",
      "18461/18461 [==============================] - 2s 95us/step - loss: 8.0439 - mean_squared_error: 0.0011 - mean_absolute_error: 0.0229 - val_loss: 7.5708 - val_mean_squared_error: 3.3562e-05 - val_mean_absolute_error: 0.0043\n",
      "Epoch 63/80\n",
      "18461/18461 [==============================] - 2s 96us/step - loss: 7.5917 - mean_squared_error: 0.0013 - mean_absolute_error: 0.0252 - val_loss: 7.1499 - val_mean_squared_error: 4.4531e-05 - val_mean_absolute_error: 0.0052\n",
      "Epoch 64/80\n",
      "18461/18461 [==============================] - 2s 94us/step - loss: 7.1716 - mean_squared_error: 0.0015 - mean_absolute_error: 0.0270 - val_loss: 6.7568 - val_mean_squared_error: 4.7419e-05 - val_mean_absolute_error: 0.0055\n"
     ]
    },
    {
     "name": "stdout",
     "output_type": "stream",
     "text": [
      "Epoch 65/80\n",
      "18461/18461 [==============================] - 2s 93us/step - loss: 6.7787 - mean_squared_error: 0.0015 - mean_absolute_error: 0.0274 - val_loss: 6.3833 - val_mean_squared_error: 4.1627e-05 - val_mean_absolute_error: 0.0050\n",
      "Epoch 66/80\n",
      "18461/18461 [==============================] - 2s 92us/step - loss: 6.4043 - mean_squared_error: 0.0014 - mean_absolute_error: 0.0260 - val_loss: 6.0307 - val_mean_squared_error: 3.3598e-05 - val_mean_absolute_error: 0.0043\n",
      "Epoch 67/80\n",
      "18461/18461 [==============================] - 2s 94us/step - loss: 6.0502 - mean_squared_error: 0.0012 - mean_absolute_error: 0.0238 - val_loss: 5.6896 - val_mean_squared_error: 2.8293e-05 - val_mean_absolute_error: 0.0039\n",
      "Epoch 68/80\n",
      "18461/18461 [==============================] - 2s 94us/step - loss: 5.7084 - mean_squared_error: 0.0011 - mean_absolute_error: 0.0226 - val_loss: 5.3725 - val_mean_squared_error: 2.5587e-05 - val_mean_absolute_error: 0.0035\n",
      "Epoch 69/80\n",
      "18461/18461 [==============================] - 2s 93us/step - loss: 5.3923 - mean_squared_error: 0.0012 - mean_absolute_error: 0.0233 - val_loss: 5.0709 - val_mean_squared_error: 2.5112e-05 - val_mean_absolute_error: 0.0033\n",
      "Epoch 70/80\n",
      "18461/18461 [==============================] - 2s 91us/step - loss: 5.0924 - mean_squared_error: 0.0013 - mean_absolute_error: 0.0249 - val_loss: 4.7920 - val_mean_squared_error: 2.3874e-05 - val_mean_absolute_error: 0.0031\n",
      "Epoch 71/80\n",
      "18461/18461 [==============================] - 2s 94us/step - loss: 4.8145 - mean_squared_error: 0.0014 - mean_absolute_error: 0.0256 - val_loss: 4.5272 - val_mean_squared_error: 2.1477e-05 - val_mean_absolute_error: 0.0026\n",
      "Epoch 72/80\n",
      "18461/18461 [==============================] - 2s 93us/step - loss: 4.5493 - mean_squared_error: 0.0013 - mean_absolute_error: 0.0247 - val_loss: 4.2740 - val_mean_squared_error: 2.0101e-05 - val_mean_absolute_error: 0.0021\n",
      "Epoch 73/80\n",
      "18461/18461 [==============================] - 2s 93us/step - loss: 4.2951 - mean_squared_error: 0.0012 - mean_absolute_error: 0.0233 - val_loss: 4.0362 - val_mean_squared_error: 2.0977e-05 - val_mean_absolute_error: 0.0025\n",
      "Epoch 74/80\n",
      "18461/18461 [==============================] - 2s 95us/step - loss: 4.0563 - mean_squared_error: 0.0011 - mean_absolute_error: 0.0226 - val_loss: 3.8141 - val_mean_squared_error: 2.5151e-05 - val_mean_absolute_error: 0.0033\n",
      "Epoch 75/80\n",
      "18461/18461 [==============================] - 2s 94us/step - loss: 3.8336 - mean_squared_error: 0.0011 - mean_absolute_error: 0.0229 - val_loss: 3.6014 - val_mean_squared_error: 3.0270e-05 - val_mean_absolute_error: 0.0040\n",
      "Epoch 76/80\n",
      "18461/18461 [==============================] - 2s 93us/step - loss: 3.6210 - mean_squared_error: 0.0012 - mean_absolute_error: 0.0236 - val_loss: 3.4027 - val_mean_squared_error: 3.2377e-05 - val_mean_absolute_error: 0.0042\n",
      "Epoch 77/80\n",
      "18461/18461 [==============================] - 2s 93us/step - loss: 3.4223 - mean_squared_error: 0.0012 - mean_absolute_error: 0.0238 - val_loss: 3.2274 - val_mean_squared_error: 2.9923e-05 - val_mean_absolute_error: 0.0039\n",
      "Epoch 78/80\n",
      "18461/18461 [==============================] - 2s 96us/step - loss: 3.2469 - mean_squared_error: 0.0011 - mean_absolute_error: 0.0234 - val_loss: 3.0667 - val_mean_squared_error: 2.4761e-05 - val_mean_absolute_error: 0.0033\n",
      "Epoch 79/80\n",
      "18461/18461 [==============================] - 2s 95us/step - loss: 3.0863 - mean_squared_error: 0.0011 - mean_absolute_error: 0.0229 - val_loss: 2.9045 - val_mean_squared_error: 2.0572e-05 - val_mean_absolute_error: 0.0025\n",
      "Epoch 80/80\n",
      "18461/18461 [==============================] - 2s 92us/step - loss: 2.9242 - mean_squared_error: 0.0011 - mean_absolute_error: 0.0222 - val_loss: 2.7374 - val_mean_squared_error: 1.9886e-05 - val_mean_absolute_error: 0.0021\n"
     ]
    },
    {
     "name": "stderr",
     "output_type": "stream",
     "text": [
      "2018-03-24 21:54:59,436 root         INFO     Load data from SQL.\n",
      "2018-03-24 21:54:59,626 root         INFO     Test set of 7912 items !\n",
      "2018-03-24 21:55:28,568 root         INFO     Done !\n"
     ]
    }
   ],
   "source": [
    "%matplotlib inline\n",
    "%load_ext autoreload\n",
    "%autoreload 2\n",
    "\n",
    "import matplotlib.pyplot as plt\n",
    "from bitcoin.validation import test_model\n",
    "import numpy as np\n",
    "\n",
    "(df, regul), history = test_model()"
   ]
  },
  {
   "cell_type": "code",
   "execution_count": 2,
   "metadata": {},
   "outputs": [
    {
     "name": "stdout",
     "output_type": "stream",
     "text": [
      "evs: 0.998566\n",
      "mae: 3.675161\n",
      "msr: 58.959011\n",
      "mdae: 1.140000\n",
      "evs: 0.998566\n",
      "mae: 3.582678\n",
      "msr: 58.915565\n",
      "mdae: 0.800000\n"
     ]
    }
   ],
   "source": [
    "from sklearn.metrics import explained_variance_score, mean_absolute_error, mean_squared_error, median_absolute_error\n",
    "\n",
    "print(\"evs: %f\" % explained_variance_score(df['real'], df['predicted']))\n",
    "print(\"mae: %f\" % mean_absolute_error(df['real'], df['predicted']))\n",
    "print(\"msr: %f\" % mean_squared_error(df['real'], df['predicted']))\n",
    "print(\"mdae: %f\" % median_absolute_error(df['real'], df['predicted']))\n",
    "\n",
    "print(\"evs: %f\" % explained_variance_score(df['real'], df['predicted_regul']))\n",
    "print(\"mae: %f\" % mean_absolute_error(df['real'], df['predicted_regul']))\n",
    "print(\"msr: %f\" % mean_squared_error(df['real'], df['predicted_regul']))\n",
    "print(\"mdae: %f\" % median_absolute_error(df['real'], df['predicted_regul']))"
   ]
  },
  {
   "cell_type": "code",
   "execution_count": 3,
   "metadata": {},
   "outputs": [
    {
     "data": {
      "text/plain": [
       "[<matplotlib.lines.Line2D at 0x12e3a0c18>]"
      ]
     },
     "execution_count": 3,
     "metadata": {},
     "output_type": "execute_result"
    },
    {
     "data": {
      "image/png": "[encoded data removed]",
      "text/plain": [
       "<matplotlib.figure.Figure at 0x12e3a0cc0>"
      ]
     },
     "metadata": {},
     "output_type": "display_data"
    }
   ],
   "source": [
    "plt.plot(history.history['mean_absolute_error'], 'r'),\n",
    "plt.plot(history.history['mean_squared_error'], 'g')"
   ]
  },
  {
   "cell_type": "code",
   "execution_count": 8,
   "metadata": {},
   "outputs": [
    {
     "data": {
      "text/plain": [
       "[<matplotlib.lines.Line2D at 0x12e2e92e8>]"
      ]
     },
     "execution_count": 8,
     "metadata": {},
     "output_type": "execute_result"
    },
    {
     "data": {
      "image/png": "[encoded data removed]",
      "text/plain": [
       "<matplotlib.figure.Figure at 0x12e856c88>"
      ]
     },
     "metadata": {},
     "output_type": "display_data"
    }
   ],
   "source": [
    "plt.plot(df['real'], 'g')\n",
    "plt.plot(df['predicted'], 'r')\n",
    "plt.plot(df['predicted_regul'], 'b')"
   ]
  },
  {
   "cell_type": "code",
   "execution_count": 5,
   "metadata": {},
   "outputs": [
    {
     "data": {
      "text/html": [
       "<div>\n",
       "<style scoped>\n",
       "    .dataframe tbody tr th:only-of-type {\n",
       "        vertical-align: middle;\n",
       "    }\n",
       "\n",
       "    .dataframe tbody tr th {\n",
       "        vertical-align: top;\n",
       "    }\n",
       "\n",
       "    .dataframe thead th {\n",
       "        text-align: right;\n",
       "    }\n",
       "</style>\n",
       "<table border=\"1\" class=\"dataframe\">\n",
       "  <thead>\n",
       "    <tr style=\"text-align: right;\">\n",
       "      <th></th>\n",
       "      <th>real</th>\n",
       "      <th>predicted</th>\n",
       "      <th>diff</th>\n",
       "      <th>predicted_regul</th>\n",
       "      <th>diff_regul</th>\n",
       "    </tr>\n",
       "  </thead>\n",
       "  <tbody>\n",
       "    <tr>\n",
       "      <th>count</th>\n",
       "      <td>7912.000000</td>\n",
       "      <td>7912.000000</td>\n",
       "      <td>7912.000000</td>\n",
       "      <td>7912.000000</td>\n",
       "      <td>7912.000000</td>\n",
       "    </tr>\n",
       "    <tr>\n",
       "      <th>mean</th>\n",
       "      <td>7079.864082</td>\n",
       "      <td>7079.540972</td>\n",
       "      <td>0.323110</td>\n",
       "      <td>7080.110972</td>\n",
       "      <td>-0.246890</td>\n",
       "    </tr>\n",
       "    <tr>\n",
       "      <th>std</th>\n",
       "      <td>202.612229</td>\n",
       "      <td>203.194610</td>\n",
       "      <td>7.672161</td>\n",
       "      <td>203.194610</td>\n",
       "      <td>7.672161</td>\n",
       "    </tr>\n",
       "    <tr>\n",
       "      <th>min</th>\n",
       "      <td>6600.990000</td>\n",
       "      <td>6603.190000</td>\n",
       "      <td>-71.820000</td>\n",
       "      <td>6603.760000</td>\n",
       "      <td>-72.390000</td>\n",
       "    </tr>\n",
       "    <tr>\n",
       "      <th>25%</th>\n",
       "      <td>6905.905000</td>\n",
       "      <td>6904.405000</td>\n",
       "      <td>-0.720000</td>\n",
       "      <td>6904.975000</td>\n",
       "      <td>-1.290000</td>\n",
       "    </tr>\n",
       "    <tr>\n",
       "      <th>50%</th>\n",
       "      <td>7064.575000</td>\n",
       "      <td>7063.475000</td>\n",
       "      <td>0.570000</td>\n",
       "      <td>7064.045000</td>\n",
       "      <td>0.000000</td>\n",
       "    </tr>\n",
       "    <tr>\n",
       "      <th>75%</th>\n",
       "      <td>7241.047500</td>\n",
       "      <td>7240.990000</td>\n",
       "      <td>1.190000</td>\n",
       "      <td>7241.560000</td>\n",
       "      <td>0.620000</td>\n",
       "    </tr>\n",
       "    <tr>\n",
       "      <th>max</th>\n",
       "      <td>7477.500000</td>\n",
       "      <td>7479.870000</td>\n",
       "      <td>85.810000</td>\n",
       "      <td>7480.440000</td>\n",
       "      <td>85.240000</td>\n",
       "    </tr>\n",
       "  </tbody>\n",
       "</table>\n",
       "</div>"
      ],
      "text/plain": [
       "              real    predicted         diff  predicted_regul   diff_regul\n",
       "count  7912.000000  7912.000000  7912.000000      7912.000000  7912.000000\n",
       "mean   7079.864082  7079.540972     0.323110      7080.110972    -0.246890\n",
       "std     202.612229   203.194610     7.672161       203.194610     7.672161\n",
       "min    6600.990000  6603.190000   -71.820000      6603.760000   -72.390000\n",
       "25%    6905.905000  6904.405000    -0.720000      6904.975000    -1.290000\n",
       "50%    7064.575000  7063.475000     0.570000      7064.045000     0.000000\n",
       "75%    7241.047500  7240.990000     1.190000      7241.560000     0.620000\n",
       "max    7477.500000  7479.870000    85.810000      7480.440000    85.240000"
      ]
     },
     "execution_count": 5,
     "metadata": {},
     "output_type": "execute_result"
    }
   ],
   "source": [
    "df.describe()"
   ]
  },
  {
   "cell_type": "code",
   "execution_count": 6,
   "metadata": {},
   "outputs": [
    {
     "data": {
      "text/plain": [
       "0.569999999999709"
      ]
     },
     "execution_count": 6,
     "metadata": {},
     "output_type": "execute_result"
    }
   ],
   "source": [
    "regul"
   ]
  },
  {
   "cell_type": "code",
   "execution_count": null,
   "metadata": {
    "collapsed": true
   },
   "outputs": [],
   "source": []
  }
 ],
 "metadata": {
  "kernelspec": {
   "display_name": "Python 3",
   "language": "python",
   "name": "python3"
  },
  "language_info": {
   "codemirror_mode": {
    "name": "ipython",
    "version": 3
   },
   "file_extension": ".py",
   "mimetype": "text/x-python",
   "name": "python",
   "nbconvert_exporter": "python",
   "pygments_lexer": "ipython3",
   "version": "3.6.2"
  }
 },
 "nbformat": 4,
 "nbformat_minor": 2
}
