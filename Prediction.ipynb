{
 "cells": [
  {
   "cell_type": "code",
   "execution_count": 2,
   "metadata": {},
   "outputs": [
    {
     "name": "stderr",
     "output_type": "stream",
     "text": [
      "2018-03-29 18:08:39,370 root         INFO     Load data from SQL.\n"
     ]
    },
    {
     "name": "stdout",
     "output_type": "stream",
     "text": [
      "The autoreload extension is already loaded. To reload it, use:\n",
      "  %reload_ext autoreload\n"
     ]
    },
    {
     "data": {
      "text/html": [
       "<div>\n",
       "<style scoped>\n",
       "    .dataframe tbody tr th:only-of-type {\n",
       "        vertical-align: middle;\n",
       "    }\n",
       "\n",
       "    .dataframe tbody tr th {\n",
       "        vertical-align: top;\n",
       "    }\n",
       "\n",
       "    .dataframe thead th {\n",
       "        text-align: right;\n",
       "    }\n",
       "</style>\n",
       "<table border=\"1\" class=\"dataframe\">\n",
       "  <thead>\n",
       "    <tr style=\"text-align: right;\">\n",
       "      <th></th>\n",
       "      <th>time</th>\n",
       "      <th>low</th>\n",
       "      <th>high</th>\n",
       "      <th>open</th>\n",
       "      <th>close</th>\n",
       "      <th>volume</th>\n",
       "      <th>tw_sentiment</th>\n",
       "      <th>tw_followers</th>\n",
       "      <th>reddit_sentiment</th>\n",
       "      <th>google_sentiment</th>\n",
       "      <th>predicted_price</th>\n",
       "      <th>order_book_bids_price</th>\n",
       "      <th>order_book_bids_size</th>\n",
       "      <th>order_book_bids_num</th>\n",
       "      <th>order_book_asks_price</th>\n",
       "      <th>order_book_asks_size</th>\n",
       "      <th>order_book_asks_num</th>\n",
       "      <th>up</th>\n",
       "    </tr>\n",
       "  </thead>\n",
       "  <tbody>\n",
       "    <tr>\n",
       "      <th>count</th>\n",
       "      <td>3.331100e+04</td>\n",
       "      <td>33311.000000</td>\n",
       "      <td>33311.000000</td>\n",
       "      <td>33311.000000</td>\n",
       "      <td>33311.000000</td>\n",
       "      <td>33311.000000</td>\n",
       "      <td>33311.000000</td>\n",
       "      <td>3.331100e+04</td>\n",
       "      <td>33311.000000</td>\n",
       "      <td>33311.000000</td>\n",
       "      <td>33311.000000</td>\n",
       "      <td>33311.000000</td>\n",
       "      <td>33311.000000</td>\n",
       "      <td>33311.000000</td>\n",
       "      <td>33311.000000</td>\n",
       "      <td>33311.000000</td>\n",
       "      <td>33311.000000</td>\n",
       "      <td>33311.000000</td>\n",
       "    </tr>\n",
       "    <tr>\n",
       "      <th>mean</th>\n",
       "      <td>1.521308e+09</td>\n",
       "      <td>7156.658918</td>\n",
       "      <td>7161.845322</td>\n",
       "      <td>7159.452000</td>\n",
       "      <td>7159.332958</td>\n",
       "      <td>1.586933</td>\n",
       "      <td>0.049847</td>\n",
       "      <td>6.441994e+05</td>\n",
       "      <td>0.058294</td>\n",
       "      <td>0.025289</td>\n",
       "      <td>3064.868084</td>\n",
       "      <td>2093.465911</td>\n",
       "      <td>0.695698</td>\n",
       "      <td>1.834049</td>\n",
       "      <td>2093.556035</td>\n",
       "      <td>0.687464</td>\n",
       "      <td>1.575636</td>\n",
       "      <td>0.318363</td>\n",
       "    </tr>\n",
       "    <tr>\n",
       "      <th>std</th>\n",
       "      <td>6.050218e+05</td>\n",
       "      <td>706.761499</td>\n",
       "      <td>706.905791</td>\n",
       "      <td>706.798242</td>\n",
       "      <td>706.806095</td>\n",
       "      <td>3.632604</td>\n",
       "      <td>0.068952</td>\n",
       "      <td>4.428754e+05</td>\n",
       "      <td>0.033599</td>\n",
       "      <td>0.057916</td>\n",
       "      <td>3428.965091</td>\n",
       "      <td>3119.029040</td>\n",
       "      <td>2.198621</td>\n",
       "      <td>4.028831</td>\n",
       "      <td>3119.159895</td>\n",
       "      <td>2.126943</td>\n",
       "      <td>3.414879</td>\n",
       "      <td>0.465848</td>\n",
       "    </tr>\n",
       "    <tr>\n",
       "      <th>min</th>\n",
       "      <td>1.520272e+09</td>\n",
       "      <td>5930.000000</td>\n",
       "      <td>5952.500000</td>\n",
       "      <td>5952.500000</td>\n",
       "      <td>5952.490000</td>\n",
       "      <td>0.000673</td>\n",
       "      <td>-0.165348</td>\n",
       "      <td>9.075000e+03</td>\n",
       "      <td>-0.028105</td>\n",
       "      <td>-0.108224</td>\n",
       "      <td>0.000000</td>\n",
       "      <td>0.000000</td>\n",
       "      <td>0.000000</td>\n",
       "      <td>0.000000</td>\n",
       "      <td>0.000000</td>\n",
       "      <td>0.000000</td>\n",
       "      <td>0.000000</td>\n",
       "      <td>0.000000</td>\n",
       "    </tr>\n",
       "    <tr>\n",
       "      <th>25%</th>\n",
       "      <td>1.520773e+09</td>\n",
       "      <td>6662.180000</td>\n",
       "      <td>6669.530000</td>\n",
       "      <td>6667.000000</td>\n",
       "      <td>6666.050000</td>\n",
       "      <td>0.124252</td>\n",
       "      <td>0.010916</td>\n",
       "      <td>3.065060e+05</td>\n",
       "      <td>0.033076</td>\n",
       "      <td>-0.013591</td>\n",
       "      <td>0.000000</td>\n",
       "      <td>0.000000</td>\n",
       "      <td>0.000000</td>\n",
       "      <td>0.000000</td>\n",
       "      <td>0.000000</td>\n",
       "      <td>0.000000</td>\n",
       "      <td>0.000000</td>\n",
       "      <td>0.000000</td>\n",
       "    </tr>\n",
       "    <tr>\n",
       "      <th>50%</th>\n",
       "      <td>1.521332e+09</td>\n",
       "      <td>7035.960000</td>\n",
       "      <td>7042.010000</td>\n",
       "      <td>7040.000000</td>\n",
       "      <td>7039.870000</td>\n",
       "      <td>0.467657</td>\n",
       "      <td>0.039061</td>\n",
       "      <td>5.184130e+05</td>\n",
       "      <td>0.058695</td>\n",
       "      <td>0.021777</td>\n",
       "      <td>0.000000</td>\n",
       "      <td>0.000000</td>\n",
       "      <td>0.000000</td>\n",
       "      <td>0.000000</td>\n",
       "      <td>0.000000</td>\n",
       "      <td>0.000000</td>\n",
       "      <td>0.000000</td>\n",
       "      <td>0.000000</td>\n",
       "    </tr>\n",
       "    <tr>\n",
       "      <th>75%</th>\n",
       "      <td>1.521836e+09</td>\n",
       "      <td>7447.580000</td>\n",
       "      <td>7453.415000</td>\n",
       "      <td>7450.000000</td>\n",
       "      <td>7450.000000</td>\n",
       "      <td>1.524193</td>\n",
       "      <td>0.075258</td>\n",
       "      <td>8.898605e+05</td>\n",
       "      <td>0.082879</td>\n",
       "      <td>0.061401</td>\n",
       "      <td>6879.835000</td>\n",
       "      <td>6397.230000</td>\n",
       "      <td>0.112808</td>\n",
       "      <td>1.000000</td>\n",
       "      <td>6398.010000</td>\n",
       "      <td>0.240259</td>\n",
       "      <td>1.000000</td>\n",
       "      <td>1.000000</td>\n",
       "    </tr>\n",
       "    <tr>\n",
       "      <th>max</th>\n",
       "      <td>1.522340e+09</td>\n",
       "      <td>9399.000000</td>\n",
       "      <td>9399.000000</td>\n",
       "      <td>9399.000000</td>\n",
       "      <td>9399.000000</td>\n",
       "      <td>151.743171</td>\n",
       "      <td>0.612404</td>\n",
       "      <td>2.502159e+06</td>\n",
       "      <td>0.173389</td>\n",
       "      <td>0.211511</td>\n",
       "      <td>9689.110000</td>\n",
       "      <td>7266.540000</td>\n",
       "      <td>45.201705</td>\n",
       "      <td>58.000000</td>\n",
       "      <td>7266.550000</td>\n",
       "      <td>44.306710</td>\n",
       "      <td>40.000000</td>\n",
       "      <td>1.000000</td>\n",
       "    </tr>\n",
       "  </tbody>\n",
       "</table>\n",
       "</div>"
      ],
      "text/plain": [
       "               time           low          high          open         close  \\\n",
       "count  3.331100e+04  33311.000000  33311.000000  33311.000000  33311.000000   \n",
       "mean   1.521308e+09   7156.658918   7161.845322   7159.452000   7159.332958   \n",
       "std    6.050218e+05    706.761499    706.905791    706.798242    706.806095   \n",
       "min    1.520272e+09   5930.000000   5952.500000   5952.500000   5952.490000   \n",
       "25%    1.520773e+09   6662.180000   6669.530000   6667.000000   6666.050000   \n",
       "50%    1.521332e+09   7035.960000   7042.010000   7040.000000   7039.870000   \n",
       "75%    1.521836e+09   7447.580000   7453.415000   7450.000000   7450.000000   \n",
       "max    1.522340e+09   9399.000000   9399.000000   9399.000000   9399.000000   \n",
       "\n",
       "             volume  tw_sentiment  tw_followers  reddit_sentiment  \\\n",
       "count  33311.000000  33311.000000  3.331100e+04      33311.000000   \n",
       "mean       1.586933      0.049847  6.441994e+05          0.058294   \n",
       "std        3.632604      0.068952  4.428754e+05          0.033599   \n",
       "min        0.000673     -0.165348  9.075000e+03         -0.028105   \n",
       "25%        0.124252      0.010916  3.065060e+05          0.033076   \n",
       "50%        0.467657      0.039061  5.184130e+05          0.058695   \n",
       "75%        1.524193      0.075258  8.898605e+05          0.082879   \n",
       "max      151.743171      0.612404  2.502159e+06          0.173389   \n",
       "\n",
       "       google_sentiment  predicted_price  order_book_bids_price  \\\n",
       "count      33311.000000     33311.000000           33311.000000   \n",
       "mean           0.025289      3064.868084            2093.465911   \n",
       "std            0.057916      3428.965091            3119.029040   \n",
       "min           -0.108224         0.000000               0.000000   \n",
       "25%           -0.013591         0.000000               0.000000   \n",
       "50%            0.021777         0.000000               0.000000   \n",
       "75%            0.061401      6879.835000            6397.230000   \n",
       "max            0.211511      9689.110000            7266.540000   \n",
       "\n",
       "       order_book_bids_size  order_book_bids_num  order_book_asks_price  \\\n",
       "count          33311.000000         33311.000000           33311.000000   \n",
       "mean               0.695698             1.834049            2093.556035   \n",
       "std                2.198621             4.028831            3119.159895   \n",
       "min                0.000000             0.000000               0.000000   \n",
       "25%                0.000000             0.000000               0.000000   \n",
       "50%                0.000000             0.000000               0.000000   \n",
       "75%                0.112808             1.000000            6398.010000   \n",
       "max               45.201705            58.000000            7266.550000   \n",
       "\n",
       "       order_book_asks_size  order_book_asks_num            up  \n",
       "count          33311.000000         33311.000000  33311.000000  \n",
       "mean               0.687464             1.575636      0.318363  \n",
       "std                2.126943             3.414879      0.465848  \n",
       "min                0.000000             0.000000      0.000000  \n",
       "25%                0.000000             0.000000      0.000000  \n",
       "50%                0.000000             0.000000      0.000000  \n",
       "75%                0.240259             1.000000      1.000000  \n",
       "max               44.306710            40.000000      1.000000  "
      ]
     },
     "execution_count": 2,
     "metadata": {},
     "output_type": "execute_result"
    }
   ],
   "source": [
    "%matplotlib inline\n",
    "%load_ext autoreload\n",
    "%autoreload 2\n",
    "\n",
    "import matplotlib.pyplot as plt\n",
    "\n",
    "import bitcoin.db as db\n",
    "df = db.get_all_data()\n",
    "df.describe()"
   ]
  },
  {
   "cell_type": "code",
   "execution_count": 5,
   "metadata": {},
   "outputs": [
    {
     "name": "stderr",
     "output_type": "stream",
     "text": [
      "2018-03-29 18:13:41,068 root         INFO     Train Model\n"
     ]
    },
    {
     "name": "stdout",
     "output_type": "stream",
     "text": [
      "_________________________________________________________________\n",
      "Layer (type)                 Output Shape              Param #   \n",
      "=================================================================\n",
      "lstm_4 (LSTM)                (None, 1, 200)            162400    \n",
      "_________________________________________________________________\n",
      "dropout_4 (Dropout)          (None, 1, 200)            0         \n",
      "_________________________________________________________________\n",
      "lstm_5 (LSTM)                (None, 1, 200)            320800    \n",
      "_________________________________________________________________\n",
      "dropout_5 (Dropout)          (None, 1, 200)            0         \n",
      "_________________________________________________________________\n",
      "lstm_6 (LSTM)                (None, 200)               320800    \n",
      "_________________________________________________________________\n",
      "dropout_6 (Dropout)          (None, 200)               0         \n",
      "_________________________________________________________________\n",
      "dense_2 (Dense)              (None, 1)                 201       \n",
      "_________________________________________________________________\n",
      "activation_2 (Activation)    (None, 1)                 0         \n",
      "=================================================================\n",
      "Total params: 804,201\n",
      "Trainable params: 804,201\n",
      "Non-trainable params: 0\n",
      "_________________________________________________________________\n",
      "Train on 23317 samples, validate on 9994 samples\n",
      "Epoch 1/60\n",
      "23317/23317 [==============================] - 5s 216us/step - loss: 135.9084 - mean_squared_error: 0.2252 - mean_absolute_error: 0.3954 - val_loss: 131.3725 - val_mean_squared_error: 0.3420 - val_mean_absolute_error: 0.5520\n",
      "Epoch 2/60\n",
      "23317/23317 [==============================] - 2s 90us/step - loss: 131.2065 - mean_squared_error: 0.2180 - mean_absolute_error: 0.3860 - val_loss: 126.7630 - val_mean_squared_error: 0.3204 - val_mean_absolute_error: 0.5320\n",
      "Epoch 3/60\n",
      "23317/23317 [==============================] - 2s 90us/step - loss: 126.6074 - mean_squared_error: 0.2111 - mean_absolute_error: 0.3764 - val_loss: 122.2703 - val_mean_squared_error: 0.2972 - val_mean_absolute_error: 0.5098\n",
      "Epoch 4/60\n",
      "23317/23317 [==============================] - 2s 95us/step - loss: 122.1272 - mean_squared_error: 0.2044 - mean_absolute_error: 0.3667 - val_loss: 117.9110 - val_mean_squared_error: 0.2716 - val_mean_absolute_error: 0.4841\n",
      "Epoch 5/60\n",
      "23317/23317 [==============================] - 2s 93us/step - loss: 117.7834 - mean_squared_error: 0.1977 - mean_absolute_error: 0.3565 - val_loss: 113.6544 - val_mean_squared_error: 0.2431 - val_mean_absolute_error: 0.4538\n",
      "Epoch 6/60\n",
      "23317/23317 [==============================] - 3s 116us/step - loss: 113.5460 - mean_squared_error: 0.1915 - mean_absolute_error: 0.3454 - val_loss: 109.5087 - val_mean_squared_error: 0.2117 - val_mean_absolute_error: 0.4179\n",
      "Epoch 7/60\n",
      "23317/23317 [==============================] - 3s 114us/step - loss: 109.4250 - mean_squared_error: 0.1864 - mean_absolute_error: 0.3343 - val_loss: 105.5580 - val_mean_squared_error: 0.1787 - val_mean_absolute_error: 0.3766\n",
      "Epoch 8/60\n",
      "23317/23317 [==============================] - 3s 116us/step - loss: 105.5076 - mean_squared_error: 0.1836 - mean_absolute_error: 0.3262 - val_loss: 101.6242 - val_mean_squared_error: 0.1449 - val_mean_absolute_error: 0.3289\n",
      "Epoch 9/60\n",
      "23317/23317 [==============================] - 2s 101us/step - loss: 101.6188 - mean_squared_error: 0.1843 - mean_absolute_error: 0.3235 - val_loss: 97.8156 - val_mean_squared_error: 0.1162 - val_mean_absolute_error: 0.2840\n",
      "Epoch 10/60\n",
      "23317/23317 [==============================] - 2s 103us/step - loss: 97.8572 - mean_squared_error: 0.1885 - mean_absolute_error: 0.3256 - val_loss: 94.1268 - val_mean_squared_error: 0.0970 - val_mean_absolute_error: 0.2548\n",
      "Epoch 11/60\n",
      "23317/23317 [==============================] - 2s 105us/step - loss: 94.2014 - mean_squared_error: 0.1939 - mean_absolute_error: 0.3294 - val_loss: 90.5564 - val_mean_squared_error: 0.0879 - val_mean_absolute_error: 0.2402\n",
      "Epoch 12/60\n",
      "23317/23317 [==============================] - 3s 109us/step - loss: 90.6476 - mean_squared_error: 0.1969 - mean_absolute_error: 0.3314 - val_loss: 87.0943 - val_mean_squared_error: 0.0867 - val_mean_absolute_error: 0.2383\n",
      "Epoch 13/60\n",
      "23317/23317 [==============================] - 2s 107us/step - loss: 87.1860 - mean_squared_error: 0.1954 - mean_absolute_error: 0.3301 - val_loss: 83.7617 - val_mean_squared_error: 0.0912 - val_mean_absolute_error: 0.2461\n",
      "Epoch 14/60\n",
      "23317/23317 [==============================] - 2s 103us/step - loss: 83.8427 - mean_squared_error: 0.1915 - mean_absolute_error: 0.3272 - val_loss: 80.5341 - val_mean_squared_error: 0.0999 - val_mean_absolute_error: 0.2600\n",
      "Epoch 15/60\n",
      "23317/23317 [==============================] - 3s 108us/step - loss: 80.5968 - mean_squared_error: 0.1860 - mean_absolute_error: 0.3227 - val_loss: 77.4096 - val_mean_squared_error: 0.1113 - val_mean_absolute_error: 0.2779\n",
      "Epoch 16/60\n",
      "23317/23317 [==============================] - 3s 108us/step - loss: 77.4508 - mean_squared_error: 0.1811 - mean_absolute_error: 0.3191 - val_loss: 74.3883 - val_mean_squared_error: 0.1243 - val_mean_absolute_error: 0.2991\n",
      "Epoch 17/60\n",
      "23317/23317 [==============================] - 3s 118us/step - loss: 74.4055 - mean_squared_error: 0.1772 - mean_absolute_error: 0.3162 - val_loss: 71.4364 - val_mean_squared_error: 0.1373 - val_mean_absolute_error: 0.3202\n",
      "Epoch 18/60\n",
      "23317/23317 [==============================] - 2s 102us/step - loss: 71.4311 - mean_squared_error: 0.1746 - mean_absolute_error: 0.3149 - val_loss: 68.5725 - val_mean_squared_error: 0.1491 - val_mean_absolute_error: 0.3383\n",
      "Epoch 19/60\n",
      "23317/23317 [==============================] - 3s 115us/step - loss: 68.5485 - mean_squared_error: 0.1730 - mean_absolute_error: 0.3144 - val_loss: 65.8124 - val_mean_squared_error: 0.1581 - val_mean_absolute_error: 0.3515\n",
      "Epoch 20/60\n",
      "23317/23317 [==============================] - 2s 104us/step - loss: 65.7751 - mean_squared_error: 0.1717 - mean_absolute_error: 0.3143 - val_loss: 63.1364 - val_mean_squared_error: 0.1630 - val_mean_absolute_error: 0.3588\n",
      "Epoch 21/60\n",
      "23317/23317 [==============================] - 3s 111us/step - loss: 63.0918 - mean_squared_error: 0.1707 - mean_absolute_error: 0.3142 - val_loss: 60.5546 - val_mean_squared_error: 0.1635 - val_mean_absolute_error: 0.3599\n",
      "Epoch 22/60\n",
      "23317/23317 [==============================] - 2s 106us/step - loss: 60.5078 - mean_squared_error: 0.1694 - mean_absolute_error: 0.3131 - val_loss: 57.9964 - val_mean_squared_error: 0.1598 - val_mean_absolute_error: 0.3552\n",
      "Epoch 23/60\n",
      "23317/23317 [==============================] - 2s 97us/step - loss: 57.9524 - mean_squared_error: 0.1677 - mean_absolute_error: 0.3113 - val_loss: 55.5624 - val_mean_squared_error: 0.1526 - val_mean_absolute_error: 0.3455\n",
      "Epoch 24/60\n",
      "23317/23317 [==============================] - 2s 95us/step - loss: 55.5257 - mean_squared_error: 0.1657 - mean_absolute_error: 0.3087 - val_loss: 53.1955 - val_mean_squared_error: 0.1426 - val_mean_absolute_error: 0.3314\n",
      "Epoch 25/60\n",
      "23317/23317 [==============================] - 2s 94us/step - loss: 53.1700 - mean_squared_error: 0.1636 - mean_absolute_error: 0.3059 - val_loss: 50.9025 - val_mean_squared_error: 0.1310 - val_mean_absolute_error: 0.3144\n",
      "Epoch 26/60\n",
      "23317/23317 [==============================] - 2s 98us/step - loss: 50.8911 - mean_squared_error: 0.1614 - mean_absolute_error: 0.3029 - val_loss: 48.6763 - val_mean_squared_error: 0.1189 - val_mean_absolute_error: 0.2957\n",
      "Epoch 27/60\n",
      "23317/23317 [==============================] - 2s 106us/step - loss: 48.6811 - mean_squared_error: 0.1596 - mean_absolute_error: 0.3005 - val_loss: 46.5475 - val_mean_squared_error: 0.1078 - val_mean_absolute_error: 0.2776\n",
      "Epoch 28/60\n",
      "23317/23317 [==============================] - 2s 101us/step - loss: 46.5680 - mean_squared_error: 0.1576 - mean_absolute_error: 0.2981 - val_loss: 44.4858 - val_mean_squared_error: 0.0981 - val_mean_absolute_error: 0.2619\n",
      "Epoch 29/60\n",
      "23317/23317 [==============================] - 2s 101us/step - loss: 44.5197 - mean_squared_error: 0.1556 - mean_absolute_error: 0.2958 - val_loss: 42.5027 - val_mean_squared_error: 0.0907 - val_mean_absolute_error: 0.2502\n"
     ]
    },
    {
     "name": "stdout",
     "output_type": "stream",
     "text": [
      "Epoch 30/60\n",
      "23317/23317 [==============================] - 2s 96us/step - loss: 42.5457 - mean_squared_error: 0.1533 - mean_absolute_error: 0.2932 - val_loss: 40.5954 - val_mean_squared_error: 0.0859 - val_mean_absolute_error: 0.2428\n",
      "Epoch 31/60\n",
      "23317/23317 [==============================] - 2s 100us/step - loss: 40.6422 - mean_squared_error: 0.1498 - mean_absolute_error: 0.2896 - val_loss: 38.7516 - val_mean_squared_error: 0.0837 - val_mean_absolute_error: 0.2397\n",
      "Epoch 32/60\n",
      "23317/23317 [==============================] - 2s 98us/step - loss: 38.7972 - mean_squared_error: 0.1454 - mean_absolute_error: 0.2854 - val_loss: 36.9954 - val_mean_squared_error: 0.0837 - val_mean_absolute_error: 0.2406\n",
      "Epoch 33/60\n",
      "23317/23317 [==============================] - 2s 98us/step - loss: 37.0349 - mean_squared_error: 0.1402 - mean_absolute_error: 0.2800 - val_loss: 35.2891 - val_mean_squared_error: 0.0856 - val_mean_absolute_error: 0.2454\n",
      "Epoch 34/60\n",
      "23317/23317 [==============================] - 2s 97us/step - loss: 35.3179 - mean_squared_error: 0.1340 - mean_absolute_error: 0.2743 - val_loss: 33.6631 - val_mean_squared_error: 0.0886 - val_mean_absolute_error: 0.2534\n",
      "Epoch 35/60\n",
      "23317/23317 [==============================] - 2s 107us/step - loss: 33.6772 - mean_squared_error: 0.1273 - mean_absolute_error: 0.2675 - val_loss: 32.0887 - val_mean_squared_error: 0.0916 - val_mean_absolute_error: 0.2615\n",
      "Epoch 36/60\n",
      "23317/23317 [==============================] - 3s 118us/step - loss: 32.0880 - mean_squared_error: 0.1205 - mean_absolute_error: 0.2609 - val_loss: 30.6060 - val_mean_squared_error: 0.0927 - val_mean_absolute_error: 0.2662\n",
      "Epoch 37/60\n",
      "23317/23317 [==============================] - 3s 111us/step - loss: 30.5935 - mean_squared_error: 0.1135 - mean_absolute_error: 0.2537 - val_loss: 29.1606 - val_mean_squared_error: 0.0888 - val_mean_absolute_error: 0.2621\n",
      "Epoch 38/60\n",
      "23317/23317 [==============================] - 3s 110us/step - loss: 29.1434 - mean_squared_error: 0.1055 - mean_absolute_error: 0.2448 - val_loss: 27.7427 - val_mean_squared_error: 0.0781 - val_mean_absolute_error: 0.2449\n",
      "Epoch 39/60\n",
      "23317/23317 [==============================] - 2s 101us/step - loss: 27.7318 - mean_squared_error: 0.0968 - mean_absolute_error: 0.2340 - val_loss: 26.3812 - val_mean_squared_error: 0.0620 - val_mean_absolute_error: 0.2149\n",
      "Epoch 40/60\n",
      "23317/23317 [==============================] - 2s 104us/step - loss: 26.3871 - mean_squared_error: 0.0873 - mean_absolute_error: 0.2208 - val_loss: 25.0632 - val_mean_squared_error: 0.0447 - val_mean_absolute_error: 0.1775\n",
      "Epoch 41/60\n",
      "23317/23317 [==============================] - 2s 103us/step - loss: 25.0923 - mean_squared_error: 0.0778 - mean_absolute_error: 0.2066 - val_loss: 23.8209 - val_mean_squared_error: 0.0316 - val_mean_absolute_error: 0.1469\n",
      "Epoch 42/60\n",
      "23317/23317 [==============================] - 2s 105us/step - loss: 23.8656 - mean_squared_error: 0.0680 - mean_absolute_error: 0.1916 - val_loss: 22.6369 - val_mean_squared_error: 0.0240 - val_mean_absolute_error: 0.1282\n",
      "Epoch 43/60\n",
      "23317/23317 [==============================] - 3s 109us/step - loss: 22.6813 - mean_squared_error: 0.0560 - mean_absolute_error: 0.1726 - val_loss: 21.5037 - val_mean_squared_error: 0.0208 - val_mean_absolute_error: 0.1222\n",
      "Epoch 44/60\n",
      "23317/23317 [==============================] - 3s 112us/step - loss: 21.5328 - mean_squared_error: 0.0431 - mean_absolute_error: 0.1513 - val_loss: 20.4192 - val_mean_squared_error: 0.0183 - val_mean_absolute_error: 0.1209\n",
      "Epoch 45/60\n",
      "23317/23317 [==============================] - 2s 99us/step - loss: 20.4277 - mean_squared_error: 0.0313 - mean_absolute_error: 0.1294 - val_loss: 19.3412 - val_mean_squared_error: 0.0079 - val_mean_absolute_error: 0.0789\n",
      "Epoch 46/60\n",
      "23317/23317 [==============================] - 2s 104us/step - loss: 19.3660 - mean_squared_error: 0.0212 - mean_absolute_error: 0.1037 - val_loss: 18.2936 - val_mean_squared_error: 6.2117e-04 - val_mean_absolute_error: 0.0211\n",
      "Epoch 47/60\n",
      "23317/23317 [==============================] - 2s 95us/step - loss: 18.3573 - mean_squared_error: 0.0142 - mean_absolute_error: 0.0848 - val_loss: 17.3323 - val_mean_squared_error: 6.8797e-04 - val_mean_absolute_error: 0.0251\n",
      "Epoch 48/60\n",
      "23317/23317 [==============================] - 2s 94us/step - loss: 17.3748 - mean_squared_error: 0.0080 - mean_absolute_error: 0.0676 - val_loss: 16.4024 - val_mean_squared_error: 9.7299e-04 - val_mean_absolute_error: 0.0280\n",
      "Epoch 49/60\n",
      "23317/23317 [==============================] - 2s 93us/step - loss: 16.4408 - mean_squared_error: 0.0070 - mean_absolute_error: 0.0665 - val_loss: 15.5921 - val_mean_squared_error: 0.0113 - val_mean_absolute_error: 0.0892\n",
      "Epoch 50/60\n",
      "23317/23317 [==============================] - 2s 93us/step - loss: 15.5809 - mean_squared_error: 0.0109 - mean_absolute_error: 0.0781 - val_loss: 14.8006 - val_mean_squared_error: 0.0130 - val_mean_absolute_error: 0.0902\n",
      "Epoch 51/60\n",
      "23317/23317 [==============================] - 2s 102us/step - loss: 14.8004 - mean_squared_error: 0.0135 - mean_absolute_error: 0.0900 - val_loss: 14.0438 - val_mean_squared_error: 0.0109 - val_mean_absolute_error: 0.0790\n",
      "Epoch 52/60\n",
      "23317/23317 [==============================] - 3s 108us/step - loss: 14.0662 - mean_squared_error: 0.0159 - mean_absolute_error: 0.1014 - val_loss: 13.3288 - val_mean_squared_error: 0.0156 - val_mean_absolute_error: 0.0986\n",
      "Epoch 53/60\n",
      "23317/23317 [==============================] - 2s 102us/step - loss: 13.3285 - mean_squared_error: 0.0160 - mean_absolute_error: 0.0983 - val_loss: 12.6424 - val_mean_squared_error: 0.0193 - val_mean_absolute_error: 0.1160\n",
      "Epoch 54/60\n",
      "23317/23317 [==============================] - 2s 100us/step - loss: 12.6191 - mean_squared_error: 0.0153 - mean_absolute_error: 0.0928 - val_loss: 11.9283 - val_mean_squared_error: 0.0109 - val_mean_absolute_error: 0.0830\n",
      "Epoch 55/60\n",
      "23317/23317 [==============================] - 2s 100us/step - loss: 11.9252 - mean_squared_error: 0.0109 - mean_absolute_error: 0.0798 - val_loss: 11.2345 - val_mean_squared_error: 0.0035 - val_mean_absolute_error: 0.0453\n",
      "Epoch 56/60\n",
      "23317/23317 [==============================] - 3s 113us/step - loss: 11.2589 - mean_squared_error: 0.0078 - mean_absolute_error: 0.0698 - val_loss: 10.6087 - val_mean_squared_error: 0.0017 - val_mean_absolute_error: 0.0320\n",
      "Epoch 57/60\n",
      "23317/23317 [==============================] - 2s 102us/step - loss: 10.6378 - mean_squared_error: 0.0061 - mean_absolute_error: 0.0610 - val_loss: 10.0298 - val_mean_squared_error: 0.0011 - val_mean_absolute_error: 0.0248\n",
      "Epoch 58/60\n",
      "23317/23317 [==============================] - 2s 97us/step - loss: 10.0633 - mean_squared_error: 0.0059 - mean_absolute_error: 0.0583 - val_loss: 9.4836 - val_mean_squared_error: 1.7580e-04 - val_mean_absolute_error: 0.0114\n",
      "Epoch 59/60\n",
      "23317/23317 [==============================] - 2s 102us/step - loss: 9.5301 - mean_squared_error: 0.0060 - mean_absolute_error: 0.0580 - val_loss: 8.9962 - val_mean_squared_error: 0.0011 - val_mean_absolute_error: 0.0324\n",
      "Epoch 60/60\n",
      "23317/23317 [==============================] - 2s 104us/step - loss: 9.0253 - mean_squared_error: 0.0069 - mean_absolute_error: 0.0615 - val_loss: 8.5011 - val_mean_squared_error: 0.0010 - val_mean_absolute_error: 0.0312\n"
     ]
    }
   ],
   "source": [
    "from bitcoin.train import train\n",
    "columns = ['open', 'google_sentiment']\n",
    "history = train(df[columns].values, df[['close']].values)"
   ]
  },
  {
   "cell_type": "code",
   "execution_count": 6,
   "metadata": {},
   "outputs": [
    {
     "data": {
      "text/plain": [
       "[<matplotlib.lines.Line2D at 0x12552b978>]"
      ]
     },
     "execution_count": 6,
     "metadata": {},
     "output_type": "execute_result"
    },
    {
     "data": {
      "image/png": "[encoded data removed]",
      "text/plain": [
       "<matplotlib.figure.Figure at 0x12552ba20>"
      ]
     },
     "metadata": {},
     "output_type": "display_data"
    }
   ],
   "source": [
    "plt.plot(history.history['mean_absolute_error'], 'r')\n",
    "plt.plot(history.history['mean_squared_error'], 'g')"
   ]
  },
  {
   "cell_type": "code",
   "execution_count": 43,
   "metadata": {},
   "outputs": [
    {
     "data": {
      "text/plain": [
       "[<matplotlib.lines.Line2D at 0x13a9e1c50>]"
      ]
     },
     "execution_count": 43,
     "metadata": {},
     "output_type": "execute_result"
    },
    {
     "data": {
      "image/png": "[encoded data removed]",
      "text/plain": [
       "<matplotlib.figure.Figure at 0x12e5d5e48>"
      ]
     },
     "metadata": {},
     "output_type": "display_data"
    }
   ],
   "source": [
    "from keras.models import load_model\n",
    "from sklearn.externals import joblib\n",
    "import numpy as np\n",
    "\n",
    "model = load_model('./model-BTC-EUR.h5')\n",
    "scaler_x = joblib.load('model-scaler-x-BTC-EUR.pkl')\n",
    "scaler_y = joblib.load('model-scaler-y-BTC-EUR.pkl')\n",
    "\n",
    "X = np.array(df[['open', 'google_sentiment']])\n",
    "X = scaler_x.transform(X)\n",
    "X = np.reshape(X, (X.shape[0], 1, X.shape[1]))\n",
    "\n",
    "yp = model.predict(X)\n",
    "yp = scaler_y.inverse_transform(yp)\n",
    "\n",
    "plt.plot(df['close'], 'r')\n",
    "plt.plot(yp, 'g')"
   ]
  },
  {
   "cell_type": "code",
   "execution_count": 48,
   "metadata": {},
   "outputs": [
    {
     "data": {
      "text/html": [
       "<div>\n",
       "<style scoped>\n",
       "    .dataframe tbody tr th:only-of-type {\n",
       "        vertical-align: middle;\n",
       "    }\n",
       "\n",
       "    .dataframe tbody tr th {\n",
       "        vertical-align: top;\n",
       "    }\n",
       "\n",
       "    .dataframe thead th {\n",
       "        text-align: right;\n",
       "    }\n",
       "</style>\n",
       "<table border=\"1\" class=\"dataframe\">\n",
       "  <thead>\n",
       "    <tr style=\"text-align: right;\">\n",
       "      <th></th>\n",
       "      <th>real</th>\n",
       "      <th>predicted</th>\n",
       "      <th>diff</th>\n",
       "      <th>open</th>\n",
       "      <th>google_sentiment</th>\n",
       "      <th>computed</th>\n",
       "    </tr>\n",
       "  </thead>\n",
       "  <tbody>\n",
       "    <tr>\n",
       "      <th>count</th>\n",
       "      <td>33311.000000</td>\n",
       "      <td>33311.000000</td>\n",
       "      <td>33311.000000</td>\n",
       "      <td>33311.000000</td>\n",
       "      <td>33311.000000</td>\n",
       "      <td>33311.000000</td>\n",
       "    </tr>\n",
       "    <tr>\n",
       "      <th>mean</th>\n",
       "      <td>7159.332958</td>\n",
       "      <td>7163.510742</td>\n",
       "      <td>-4.148921</td>\n",
       "      <td>7159.452000</td>\n",
       "      <td>0.025289</td>\n",
       "      <td>7168.915219</td>\n",
       "    </tr>\n",
       "    <tr>\n",
       "      <th>std</th>\n",
       "      <td>706.806095</td>\n",
       "      <td>615.421570</td>\n",
       "      <td>103.838733</td>\n",
       "      <td>706.798242</td>\n",
       "      <td>0.057916</td>\n",
       "      <td>608.943290</td>\n",
       "    </tr>\n",
       "    <tr>\n",
       "      <th>min</th>\n",
       "      <td>5952.490000</td>\n",
       "      <td>6002.102051</td>\n",
       "      <td>-135.078125</td>\n",
       "      <td>5952.500000</td>\n",
       "      <td>-0.108224</td>\n",
       "      <td>6012.102051</td>\n",
       "    </tr>\n",
       "    <tr>\n",
       "      <th>25%</th>\n",
       "      <td>6666.050000</td>\n",
       "      <td>6727.383789</td>\n",
       "      <td>-58.612539</td>\n",
       "      <td>6667.000000</td>\n",
       "      <td>-0.013591</td>\n",
       "      <td>6737.383789</td>\n",
       "    </tr>\n",
       "    <tr>\n",
       "      <th>50%</th>\n",
       "      <td>7039.870000</td>\n",
       "      <td>7084.571289</td>\n",
       "      <td>-43.434180</td>\n",
       "      <td>7040.000000</td>\n",
       "      <td>0.021777</td>\n",
       "      <td>7094.571289</td>\n",
       "    </tr>\n",
       "    <tr>\n",
       "      <th>75%</th>\n",
       "      <td>7450.000000</td>\n",
       "      <td>7457.594971</td>\n",
       "      <td>-6.412910</td>\n",
       "      <td>7450.000000</td>\n",
       "      <td>0.061401</td>\n",
       "      <td>7466.359375</td>\n",
       "    </tr>\n",
       "    <tr>\n",
       "      <th>max</th>\n",
       "      <td>9399.000000</td>\n",
       "      <td>8917.829102</td>\n",
       "      <td>482.698008</td>\n",
       "      <td>9399.000000</td>\n",
       "      <td>0.211511</td>\n",
       "      <td>8907.829102</td>\n",
       "    </tr>\n",
       "  </tbody>\n",
       "</table>\n",
       "</div>"
      ],
      "text/plain": [
       "               real     predicted          diff          open  \\\n",
       "count  33311.000000  33311.000000  33311.000000  33311.000000   \n",
       "mean    7159.332958   7163.510742     -4.148921   7159.452000   \n",
       "std      706.806095    615.421570    103.838733    706.798242   \n",
       "min     5952.490000   6002.102051   -135.078125   5952.500000   \n",
       "25%     6666.050000   6727.383789    -58.612539   6667.000000   \n",
       "50%     7039.870000   7084.571289    -43.434180   7040.000000   \n",
       "75%     7450.000000   7457.594971     -6.412910   7450.000000   \n",
       "max     9399.000000   8917.829102    482.698008   9399.000000   \n",
       "\n",
       "       google_sentiment      computed  \n",
       "count      33311.000000  33311.000000  \n",
       "mean           0.025289   7168.915219  \n",
       "std            0.057916    608.943290  \n",
       "min           -0.108224   6012.102051  \n",
       "25%           -0.013591   6737.383789  \n",
       "50%            0.021777   7094.571289  \n",
       "75%            0.061401   7466.359375  \n",
       "max            0.211511   8907.829102  "
      ]
     },
     "execution_count": 48,
     "metadata": {},
     "output_type": "execute_result"
    }
   ],
   "source": [
    "import pandas as pd\n",
    "\n",
    "df_computed = pd.DataFrame(columns=['real', 'predicted', 'diff'])\n",
    "df_computed['open'] = df['open']\n",
    "df_computed['real'] = df['close']\n",
    "df_computed['google_sentiment'] = df['google_sentiment']\n",
    "df_computed['predicted'] = yp\n",
    "df_computed['diff'] = df['close'] - df_computed['predicted']\n",
    "df_computed['computed'] = df_computed.apply(lambda x: x['predicted'] + 10 if x['diff'] < 0 else x['predicted'] -10, axis=1)\n",
    "df_computed.describe()"
   ]
  },
  {
   "cell_type": "code",
   "execution_count": 49,
   "metadata": {
    "scrolled": false
   },
   "outputs": [
    {
     "data": {
      "text/plain": [
       "[<matplotlib.lines.Line2D at 0x13ae29588>]"
      ]
     },
     "execution_count": 49,
     "metadata": {},
     "output_type": "execute_result"
    },
    {
     "data": {
      "image/png": "[encoded data removed]",
      "text/plain": [
       "<matplotlib.figure.Figure at 0x13ae29080>"
      ]
     },
     "metadata": {},
     "output_type": "display_data"
    }
   ],
   "source": [
    "plt.plot(df['close'], 'r')\n",
    "plt.plot(df_computed['computed'], 'g')"
   ]
  },
  {
   "cell_type": "code",
   "execution_count": 50,
   "metadata": {
    "scrolled": true
   },
   "outputs": [
    {
     "data": {
      "text/plain": [
       "[<matplotlib.lines.Line2D at 0x13aed4d30>]"
      ]
     },
     "execution_count": 50,
     "metadata": {},
     "output_type": "execute_result"
    },
    {
     "data": {
      "image/png": "[encoded data removed]",
      "text/plain": [
       "<matplotlib.figure.Figure at 0x13aed4a58>"
      ]
     },
     "metadata": {},
     "output_type": "display_data"
    }
   ],
   "source": [
    "plt.plot(df[-100:]['close'], 'r')\n",
    "plt.plot(df_computed[-100:]['predicted'], 'g')"
   ]
  },
  {
   "cell_type": "code",
   "execution_count": 119,
   "metadata": {},
   "outputs": [
    {
     "data": {
      "text/plain": [
       "[<matplotlib.lines.Line2D at 0x13e0ad588>]"
      ]
     },
     "execution_count": 119,
     "metadata": {},
     "output_type": "execute_result"
    },
    {
     "data": {
      "image/png": "[encoded data removed]",
      "text/plain": [
       "<matplotlib.figure.Figure at 0x13e29f550>"
      ]
     },
     "metadata": {},
     "output_type": "display_data"
    }
   ],
   "source": [
    "X = np.array(df_computed[-20:][['predicted', 'google_sentiment']])\n",
    "X = scaler_x.transform(X)\n",
    "X = np.reshape(X, (X.shape[0], 1, X.shape[1]))\n",
    "\n",
    "yp = model.predict(X)\n",
    "yp = scaler_y.inverse_transform(yp)\n",
    "\n",
    "close = df[-20:]['close'].reset_index()\n",
    "plt.plot(close['close'], 'r')\n",
    "plt.plot(yp, 'g')"
   ]
  },
  {
   "cell_type": "code",
   "execution_count": 125,
   "metadata": {},
   "outputs": [
    {
     "name": "stdout",
     "output_type": "stream",
     "text": [
      "[88.18]\n",
      "[65.70800781]\n"
     ]
    },
    {
     "data": {
      "image/png": "[encoded data removed]",
      "text/plain": [
       "<matplotlib.figure.Figure at 0x13b86eb70>"
      ]
     },
     "metadata": {},
     "output_type": "display_data"
    }
   ],
   "source": [
    "def in_X_min(X, google_sentiment, num=20):\n",
    "    df = pd.DataFrame(columns=['pred'])\n",
    "    last_predict = None\n",
    "    for i in range(num):\n",
    "        if last_predict is None:\n",
    "            p = X\n",
    "        else:\n",
    "            p = last_predict\n",
    "        X = np.array([p, google_sentiment]).reshape(1, -1)\n",
    "        X = scaler_x.transform(X)\n",
    "        X = np.reshape(X, (X.shape[0], 1, X.shape[1]))\n",
    "\n",
    "        syp = model.predict(X)\n",
    "        syp = scaler_y.inverse_transform(syp)\n",
    "        last_predict = syp - 51\n",
    "\n",
    "        df = df.append({\n",
    "            'pred': float(last_predict)\n",
    "        }, ignore_index=True)\n",
    "    return df\n",
    "\n",
    "bg_open = float(df[-20:-19]['open'].values)\n",
    "bg_google = float(df[-20:-19]['google_sentiment'].values)\n",
    "df_pred_single = in_X_min(bg_open, bg_google, num=num)\n",
    "plt.plot(close['close'], 'r')\n",
    "plt.plot(df_pred_single['pred'], 'g')\n",
    "\n",
    "print(df[-1:]['close'].values - df[-20:-19]['close'].values)\n",
    "print(df_pred_single[-1:]['pred'].values - df_pred_single[0:1]['pred'].values)"
   ]
  },
  {
   "cell_type": "code",
   "execution_count": null,
   "metadata": {
    "collapsed": true
   },
   "outputs": [],
   "source": []
  }
 ],
 "metadata": {
  "kernelspec": {
   "display_name": "Python 3",
   "language": "python",
   "name": "python3"
  },
  "language_info": {
   "codemirror_mode": {
    "name": "ipython",
    "version": 3
   },
   "file_extension": ".py",
   "mimetype": "text/x-python",
   "name": "python",
   "nbconvert_exporter": "python",
   "pygments_lexer": "ipython3",
   "version": "3.6.2"
  }
 },
 "nbformat": 4,
 "nbformat_minor": 2
}
